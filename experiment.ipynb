{
 "cells": [
  {
   "cell_type": "code",
   "execution_count": 1,
   "metadata": {},
   "outputs": [],
   "source": [
    "from model import FFNet, tv_model\n",
    "from learning import Learn, Selector\n",
    "from dataset import SKDS, TVDS\n",
    "\n",
    "from torch.optim import Adam\n",
    "from torch.nn import MSELoss, CrossEntropyLoss\n",
    "from torch.optim.lr_scheduler import ReduceLROnPlateau\n",
    "from torchvision import transforms\n"
   ]
  },
  {
   "cell_type": "code",
   "execution_count": null,
   "metadata": {},
   "outputs": [],
   "source": [
    "model_params = {'D_in': 28*28, \n",
    "                'H': 1024, \n",
    "                'D_out': 1, \n",
    "                'model_name': 'funnel'}\n",
    "\n",
    "ds_params = {'make': 'make_regression',\n",
    "             'sk_params': {'n_samples': 10000,\n",
    "                           'n_features': 128,\n",
    "                           'transform': transforms.Compose(\n",
    "                                               [transforms.Resize(224),\n",
    "                                                transforms.ToTensor()])}}\n",
    "\n",
    "opt_params = {'lr': 0.01}\n",
    "crit_params = {'reduction': 'sum'}\n",
    "sample_params = {'set_seed': 88,\n",
    "                 'splits': (.1,.8)}\n",
    "sched_params = {'factor': .1,\n",
    "                'patience': 2}\n",
    "\n",
    "\n",
    "l = Learn(SKDS, FFNet, Selector, Optimizer=Adam, Scheduler=ReduceLROnPlateau, Criterion=MSELoss,\n",
    "          model_params=model_params, ds_params=ds_params, sample_params=sample_params,\n",
    "          opt_params=opt_params, sched_params=sched_params, crit_params=crit_params,\n",
    "          adapt=False, load_model=False, load_embed=False, save_model=False,\n",
    "          batch_size=256, epochs=10)"
   ]
  },
  {
   "cell_type": "code",
   "execution_count": 2,
   "metadata": {},
   "outputs": [
    {
     "name": "stdout",
     "output_type": "stream",
     "text": [
      "epoch: 0 of 10, train loss: 0.22555417594488245, val loss: 0.0846959320801155, lr: 0.01\n",
      "epoch: 1 of 10, train loss: 0.0699126495302371, val loss: 0.09944039534034285, lr: 0.01\n",
      "epoch: 2 of 10, train loss: 0.04974422464209298, val loss: 0.040416648366646164, lr: 0.01\n",
      "epoch: 3 of 10, train loss: 0.03763270061493586, val loss: 0.032153085069702984, lr: 0.01\n",
      "epoch: 4 of 10, train loss: 0.030995828253475945, val loss: 0.05533652503968187, lr: 0.01\n",
      "epoch: 5 of 10, train loss: 0.025090533565972274, val loss: 0.04975179227119285, lr: 0.005\n",
      "epoch: 6 of 10, train loss: 0.011343250545918636, val loss: 0.03395420837612695, lr: 0.005\n",
      "epoch: 7 of 10, train loss: 0.008924363845942451, val loss: 0.033066488833388176, lr: 0.0025\n",
      "epoch: 8 of 10, train loss: 0.004033695848327069, val loss: 0.03013436991136042, lr: 0.0025\n",
      "epoch: 9 of 10, train loss: 0.002188250261670776, val loss: 0.028100352082392362, lr: 0.0025\n",
      "test loss: 0.02140070253451179\n",
      "y_pred:\n",
      "tensor([[-12.0309,  12.9050,  -9.6601, -18.4565,  -4.5492, -15.3193, -10.4416,\n",
      "          -3.3031,  -8.9698,  -9.3596],\n",
      "        [-14.7815, -15.2415,  10.4954, -12.9684, -22.5590, -14.5640, -10.0400,\n",
      "          -6.7695,  -7.5276, -17.2835],\n",
      "        [-29.7112, -11.3708, -18.7441,  12.9209, -19.8763, -10.6396, -28.8615,\n",
      "         -18.1877, -11.0642,  -8.0534],\n",
      "        [-25.1865, -19.7228, -23.4584, -27.9267,  22.6511, -15.6425, -28.7423,\n",
      "         -19.6440, -18.5507, -12.3870],\n",
      "        [-20.5359, -25.9722, -33.7617,  -4.6212, -22.6653,  16.5991, -19.6992,\n",
      "         -26.0530,  -5.2901,  -8.2551],\n",
      "        [-15.1334, -19.2592, -14.6075, -19.6610, -19.1198,  -9.1469,  18.2731,\n",
      "         -29.1106, -10.1056, -21.2093],\n",
      "        [-24.9189,  -5.2508, -15.0127, -17.8899,  -1.3704, -19.0535, -23.2742,\n",
      "          12.0795, -13.8022,  -0.2567],\n",
      "        [-22.5163, -33.2668, -21.0382, -17.9015, -25.8987, -21.0704, -19.0212,\n",
      "         -28.0242,  20.1392,  -9.9060],\n",
      "        [-21.5573, -15.8442, -17.5681, -17.3260,  -3.0940, -20.0065, -24.2252,\n",
      "         -13.8242, -16.1994,  13.1694],\n",
      "        [  8.8925, -19.3419,  -8.6347, -14.1432, -16.0564,  -9.6096,  -6.6812,\n",
      "         -19.9100,  -4.5052,  -5.3035]], device='cuda:0')\n",
      " y:\n",
      "tensor([1, 2, 3, 4, 5, 6, 7, 8, 9, 0], device='cuda:0')\n"
     ]
    },
    {
     "data": {
      "image/png": "[encoded data removed]",
      "text/plain": [
       "<Figure size 432x288 with 1 Axes>"
      ]
     },
     "metadata": {
      "needs_background": "light"
     },
     "output_type": "display_data"
    },
    {
     "name": "stdout",
     "output_type": "stream",
     "text": [
      "learning time: 0:23:12.067633\n"
     ]
    }
   ],
   "source": [
    "model_params = {'model_name': 'resnet18',\n",
    "                'in_channels': 1,\n",
    "                'tv_params': {'num_classes': 10}}\n",
    "\n",
    "ds_params={'embed': None,\n",
    "           'train_params': {'dataset': 'MNIST',\n",
    "                         'tv_params': {'root': './data/',\n",
    "                                       'train': True,\n",
    "                                       'download': True,\n",
    "                                       'transform': transforms.Compose([\n",
    "                                           transforms.Resize(224),\n",
    "                                           transforms.ToTensor()]),\n",
    "                                       'target_transform': None}},\n",
    "           'test_params': {'dataset': 'MNIST',\n",
    "                         'tv_params': {'root': './data/',\n",
    "                                       'train': False,\n",
    "                                       'download': True,\n",
    "                                       'transform': transforms.Compose([\n",
    "                                           transforms.Resize(224),\n",
    "                                           transforms.ToTensor()]),\n",
    "                                       'target_transform': None}}}\n",
    "        \n",
    "opt_params = {'lr': 0.01}\n",
    "crit_params = {'reduction': 'sum'}\n",
    "sample_params = {'set_seed': 88,\n",
    "                 'splits': (.8,.2)}\n",
    "sched_params = {'factor': .5,\n",
    "                'patience': 1}\n",
    "\n",
    "l = Learn([TVDS,TVDS], tv_model, Selector, \n",
    "          Optimizer=Adam, Scheduler=ReduceLROnPlateau, Criterion=CrossEntropyLoss, \n",
    "          model_params=model_params, ds_params=ds_params, sample_params=sample_params,\n",
    "          opt_params=opt_params, sched_params=sched_params, crit_params=crit_params,\n",
    "          adapt=False, load_model=False, load_embed=False, save_model=False,\n",
    "          batch_size=16, epochs=10)"
   ]
  },
  {
   "cell_type": "code",
   "execution_count": null,
   "metadata": {},
   "outputs": [],
   "source": [
    "model_params = {'D_in': 28*28, \n",
    "                'H': 1024, \n",
    "                'D_out': 10, \n",
    "                'model_name': 'funnel'}\n",
    "\n",
    "ds_params={'embed': None,\n",
    "           'ds_params': {'dataset': 'MNIST',\n",
    "                         'tv_params': {'root': './data/',\n",
    "                                       'train': True,\n",
    "                                       'download': True,\n",
    "                                       'transform': transforms.Compose([\n",
    "                                           transforms.ToTensor(),\n",
    "                                           transforms.Normalize((0.1307,),(0.3081,))]),\n",
    "                                       'target_transform': None}}}\n",
    "                         \n",
    "opt_params = {'lr': 0.01}\n",
    "crit_params = {'reduction': 'sum'}\n",
    "sample_params = {'set_seed': 88,\n",
    "                 'splits': (.7,.15)}\n",
    "sched_params = {'factor': .1,\n",
    "                'patience': 1}\n",
    "\n",
    "l = Learn([TVDS], FFNet, Selector, \n",
    "          Optimizer=Adam, Scheduler=ReduceLROnPlateau, Criterion=CrossEntropyLoss, \n",
    "          model_params=model_params, ds_params=ds_params, sample_params=sample_params,\n",
    "          opt_params=opt_params, sched_params=sched_params, crit_params=crit_params,\n",
    "          adapt=False, load_model=False, load_embed=False, save_model=False,\n",
    "          batch_size=128, epochs=10)"
   ]
  },
  {
   "cell_type": "code",
   "execution_count": null,
   "metadata": {},
   "outputs": [],
   "source": [
    "model_params = {'model_name': 'resnet18',\n",
    "                'in_channels': 1,\n",
    "                'tv_params': {'num_classes': 10}}\n",
    "\n",
    "model_params = {'D_in': 28*28, \n",
    "                'H': 1024, \n",
    "                'D_out': 1, \n",
    "                'model_name': 'funnel'}\n",
    "\n",
    "ds_params = {'make': 'make_regression',\n",
    "             'sk_params': {'n_samples': 10000,\n",
    "                           'n_features': 128,\n",
    "                           'transform': transforms.Compose(\n",
    "                                               [transforms.Resize(224),\n",
    "                                                transforms.ToTensor()])}}\n",
    "ds_params={'embed': None,\n",
    "           'train_params': {'dataset': 'MNIST',\n",
    "                         'tv_params': {'root': './data/',\n",
    "                                       'train': True,\n",
    "                                       'download': True,\n",
    "                                       'transform': transforms.Compose([\n",
    "                                           transforms.ToTensor(),\n",
    "                                           transforms.Normalize((0.1307,),(0.3081,))]),\n",
    "                                       'target_transform': None}},\n",
    "           'test_params': {'dataset': 'MNIST',\n",
    "                         'tv_params': {'root': './data/',\n",
    "                                       'train': False,\n",
    "                                       'download': True,\n",
    "                                       'transform': transforms.Compose([\n",
    "                                           transforms.ToTensor(),\n",
    "                                           transforms.Normalize((0.1307,),(0.3081,))]),\n",
    "                                       'target_transform': None}}}"
   ]
  }
 ],
 "metadata": {
  "kernelspec": {
   "display_name": "Python 3",
   "language": "python",
   "name": "python3"
  },
  "language_info": {
   "codemirror_mode": {
    "name": "ipython",
    "version": 3
   },
   "file_extension": ".py",
   "mimetype": "text/x-python",
   "name": "python",
   "nbconvert_exporter": "python",
   "pygments_lexer": "ipython3",
   "version": "3.7.9"
  }
 },
 "nbformat": 4,
 "nbformat_minor": 4
}
