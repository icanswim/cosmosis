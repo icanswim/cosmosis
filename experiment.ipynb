{
 "cells": [
  {
   "cell_type": "code",
   "execution_count": 1,
   "metadata": {},
   "outputs": [],
   "source": [
    "## This is a series of examples using the icanswim/cosmosis data science and machine learning repo"
   ]
  },
  {
   "cell_type": "code",
   "execution_count": 1,
   "metadata": {},
   "outputs": [],
   "source": [
    "from model import FFNet, tv_model, ResBam\n",
    "from learning import Learn, Selector, Metrics\n",
    "from dataset import SKDS, TVDS, CDataset, ImageDatasetStats, AsTensor, Squeeze, DType\n",
    "\n",
    "from torch.optim import Adam\n",
    "from torch.nn import MSELoss, CrossEntropyLoss\n",
    "from torch.optim.lr_scheduler import ReduceLROnPlateau\n",
    "from torchvision import transforms"
   ]
  },
  {
   "cell_type": "code",
   "execution_count": 3,
   "metadata": {},
   "outputs": [
    {
     "name": "stdout",
     "output_type": "stream",
     "text": [
      "bang\n",
      "CDataset created...\n"
     ]
    },
    {
     "data": {
      "text/plain": [
       "(array([0.203, 0.32 , 0.2  , 0.2  , 0.2  ]),\n",
       " [array([1, 2, 4]), array([4, 0, 0, 0])],\n",
       " array([0.01]))"
      ]
     },
     "execution_count": 3,
     "metadata": {},
     "output_type": "execute_result"
    }
   ],
   "source": [
    "## Example of generic/custom dataset and transforms\n",
    "import numpy as np\n",
    "\n",
    "class DummyDataset(CDataset):\n",
    "\n",
    "    def load_data(self, boom='bust'):\n",
    "        \n",
    "        datadic = {1: {'feature_1': np.asarray([.04]),\n",
    "                       'feature_2': np.asarray([.02]),\n",
    "                       'feature_3': np.asarray(['c']),\n",
    "                       'feature_4': np.asarray(['b','a']),\n",
    "                       'feature_5': np.asarray([1.1])},\n",
    "                   2: {'feature_1': np.asarray([.03]),\n",
    "                       'feature_2': np.asarray([.01]),\n",
    "                       'feature_3': np.asarray(['a','b','d']),\n",
    "                       'feature_4': np.asarray(['d']),\n",
    "                       'feature_5': np.asarray([1.2])}}\n",
    "        \n",
    "        print(boom)\n",
    "        return datadic\n",
    "    \n",
    "class DummyTransform():\n",
    "    def __call__(self, arr):\n",
    "        return np.add(arr, 2)\n",
    "    \n",
    "class DummyTransformTwo():\n",
    "    def __call__(self, arr):\n",
    "        return np.multiply(arr, .1)\n",
    "    \n",
    "ds_params = {'train_params': {'features': ['feature_1','feature_5'],\n",
    "                              'embeds': ['feature_3','feature_4'],\n",
    "                              'targets': ['feature_2'],\n",
    "                              'embed_lookup': {'a': 1, 'b': 2, 'c': 3, 'd': 4, '0': 0},\n",
    "                              'transform': [DummyTransform(), DummyTransformTwo()],\n",
    "                              'target_transform': [],\n",
    "                              'pad': 4,\n",
    "                              'do_not_pad': ['feature_1','feature_2','feature_3'],\n",
    "                              'boom': 'bang'}}\n",
    "    \n",
    "d = DummyDataset(**ds_params['train_params'])\n",
    "d[2]"
   ]
  },
  {
   "cell_type": "code",
   "execution_count": 4,
   "metadata": {},
   "outputs": [
    {
     "name": "stdout",
     "output_type": "stream",
     "text": [
      "CDataset created...\n",
      "SKDS make_regression created...\n"
     ]
    },
    {
     "data": {
      "text/plain": [
       "(array([ 0.11740898, -1.5081471 , -0.19726104, -0.83461297,  0.46581295],\n",
       "       dtype=float32),\n",
       " [],\n",
       " array([-132.78094], dtype=float32))"
      ]
     },
     "execution_count": 4,
     "metadata": {},
     "output_type": "execute_result"
    }
   ],
   "source": [
    "## Example of sklearn regression dataset wrapper\n",
    "ds_params = {'train_params': {'features': ['X'],\n",
    "                              'targets': ['y'],\n",
    "                              'make': 'make_regression',\n",
    "                              'sk_params': {'n_samples': 100,\n",
    "                                            'n_features': 5},\n",
    "                              'features_dtype': 'float32',\n",
    "                              'targets_dtype': 'float32'}}\n",
    "\n",
    "sk = SKDS(**ds_params['train_params'])\n",
    "\n",
    "sk[1]"
   ]
  },
  {
   "cell_type": "code",
   "execution_count": 5,
   "metadata": {},
   "outputs": [
    {
     "name": "stdout",
     "output_type": "stream",
     "text": [
      "CDataset created...\n",
      "SKDS make_classification created...\n"
     ]
    },
    {
     "data": {
      "text/plain": [
       "(array([ 2.938037  ,  0.8895144 ,  3.184168  ,  3.6238668 , -0.11906572,\n",
       "        -0.69702244, -1.5829041 , -1.7054816 , -2.0266538 ,  0.46292216],\n",
       "       dtype=float32),\n",
       " [],\n",
       " array([3]))"
      ]
     },
     "execution_count": 5,
     "metadata": {},
     "output_type": "execute_result"
    }
   ],
   "source": [
    "## Example of sklearn classification dataset wrapper\n",
    "ds_params = {'train_params': {'features': ['X'],\n",
    "                              'targets': ['y'],\n",
    "                              'make': 'make_classification',\n",
    "                              'features_dtype': 'float32',\n",
    "                              'targets_dtype': 'int64',\n",
    "                              'sk_params': {'n_samples': 100,\n",
    "                                            'n_features': 10,\n",
    "                                            'n_informative': 8,\n",
    "                                            'n_clusters_per_class': 2,\n",
    "                                            'flip_y': 0.05,\n",
    "                                            'class_sep': 0.01,\n",
    "                                            'n_classes': 4}}}\n",
    "\n",
    "sk = SKDS(**ds_params['train_params'])\n",
    "\n",
    "sk[1]"
   ]
  },
  {
   "cell_type": "code",
   "execution_count": 6,
   "metadata": {},
   "outputs": [
    {
     "name": "stdout",
     "output_type": "stream",
     "text": [
      "CDataset created...\n",
      "TVDS created...\n"
     ]
    },
    {
     "data": {
      "text/plain": [
       "(<PIL.Image.Image image mode=L size=224x224 at 0x7F5AAEA21EE0>, [], 0)"
      ]
     },
     "execution_count": 6,
     "metadata": {},
     "output_type": "execute_result"
    }
   ],
   "source": [
    "## Example of torchvision wrapper\n",
    "ds_params={'dataset': 'MNIST',\n",
    "           'tv_params': {'root': './data/',\n",
    "                         'train': True,\n",
    "                         'download': True,\n",
    "                         'transform': transforms.Compose([\n",
    "                                           transforms.Resize(224)]),\n",
    "                         'target_transform': None}}\n",
    "\n",
    "tvds = TVDS(**ds_params)\n",
    "tvds[1]"
   ]
  },
  {
   "cell_type": "code",
   "execution_count": 7,
   "metadata": {},
   "outputs": [
    {
     "name": "stdout",
     "output_type": "stream",
     "text": [
      "CDataset created...\n",
      "TVDS created...\n",
      "images to process: 60000\n",
      "images processed: 10000\n",
      "images processed: 20000\n",
      "images processed: 30000\n",
      "images processed: 40000\n",
      "images processed: 50000\n",
      "images processed: 60000\n",
      "mean: [33.33091590401786], stddev: [73.70246726596685]\n",
      "mean:  [33.33091590401786]\n",
      "stddev:  [73.70246726596685]\n"
     ]
    }
   ],
   "source": [
    "## Example of torchvision dataset wrapper with PIL transform\n",
    "ds_params={'dataset': 'MNIST',\n",
    "           'tv_params': {'root': './data/',\n",
    "                         'train': True,\n",
    "                         'download': True,\n",
    "                         'transform': transforms.Compose([\n",
    "                                           transforms.Resize(224)]),\n",
    "                         'target_transform': None}}\n",
    "\n",
    "tvds = TVDS(**ds_params)\n",
    "ids = ImageDatasetStats(tvds)\n",
    "\n",
    "print('mean: ', ids.stats.mean)\n",
    "print('stddev: ', ids.stats.stddev)\n",
    "\n",
    "#mean: 33.3/255 = .13\n",
    "#stddev: 73.7/255 = .29"
   ]
  },
  {
   "cell_type": "code",
   "execution_count": 8,
   "metadata": {},
   "outputs": [
    {
     "name": "stdout",
     "output_type": "stream",
     "text": [
      "CDataset created...\n",
      "SKDS make_regression created...\n",
      "CModel loaded...\n",
      "FFNet model loaded...\n",
      "learning time: 0:00:02.625415\n",
      "epoch: 0, lr: 0.01\n",
      "train loss: 595002.4791666666, val loss: 579609.6\n",
      "sklearn train metric: 0, sklearn validation metric: 0\n",
      "test loss: 12431.8322265625\n",
      "learning time: 0:00:09.956162\n",
      "sklearn test metric: \n",
      "0 \n",
      "\n"
     ]
    },
    {
     "data": {
      "image/png": "[encoded data removed]",
      "text/plain": [
       "<Figure size 432x288 with 1 Axes>"
      ]
     },
     "metadata": {
      "needs_background": "light"
     },
     "output_type": "display_data"
    }
   ],
   "source": [
    "## Example sklearn regression dataset wrapper with custom model\n",
    "model_params = {'D_in': 256, \n",
    "                'H': 512, \n",
    "                'D_out': 1, \n",
    "                'model_name': 'funnel',\n",
    "                'embed_params': []}\n",
    "\n",
    "ds_params = {'train_params': {'features': ['X'],\n",
    "                              'targets': ['y'],\n",
    "                              'features_dtype': 'float32',\n",
    "                              'targets_dtype': 'float32',\n",
    "                              'make': 'make_regression',\n",
    "                              'transform': [],\n",
    "                              'sk_params': {'n_samples': 10000,\n",
    "                                            'n_features': 256,\n",
    "                                            'n_informative': 200}}}\n",
    "             \n",
    "metrics_params = {'report_interval': 10}                         \n",
    "             \n",
    "opt_params = {'lr': 0.01}\n",
    "\n",
    "crit_params = {'reduction': 'sum'}\n",
    "\n",
    "sample_params = {'set_seed': 88,\n",
    "                 'splits': (.7,.15)}\n",
    "\n",
    "sched_params = {'factor': .5,\n",
    "                'patience': 2,\n",
    "                'cooldown': 2}\n",
    "\n",
    "l = Learn([SKDS], \n",
    "          FFNet,\n",
    "          Metrics=Metrics,\n",
    "          Sampler=Selector, \n",
    "          Optimizer=Adam, \n",
    "          Scheduler=ReduceLROnPlateau, \n",
    "          Criterion=MSELoss,\n",
    "          model_params=model_params, ds_params=ds_params, sample_params=sample_params,\n",
    "          opt_params=opt_params, sched_params=sched_params, crit_params=crit_params,\n",
    "          metrics_params=metrics_params,\n",
    "          adapt=False, load_model=False, load_embed=False, save_model=False,\n",
    "          batch_size=256, epochs=10)"
   ]
  },
  {
   "cell_type": "code",
   "execution_count": 9,
   "metadata": {},
   "outputs": [
    {
     "name": "stdout",
     "output_type": "stream",
     "text": [
      "CDataset created...\n",
      "SKDS make_classification created...\n",
      "CModel loaded...\n",
      "FFNet model loaded...\n",
      "learning time: 0:00:00.999136\n",
      "epoch: 0, lr: 0.01\n",
      "train loss: 1.4224889565397192, val loss: 1.3973634134639392\n",
      "sklearn train metric: 0.5064362562968382, sklearn validation metric: 0.49721198957793966\n",
      "test loss: 1.131247265772386\n",
      "learning time: 0:00:10.394242\n",
      "sklearn test metric: \n",
      "0.8828677395352644 \n",
      "\n"
     ]
    },
    {
     "data": {
      "image/png": "[encoded data removed]",
      "text/plain": [
       "<Figure size 432x288 with 1 Axes>"
      ]
     },
     "metadata": {
      "needs_background": "light"
     },
     "output_type": "display_data"
    }
   ],
   "source": [
    "## Example sklearn classification dataset and metrics wrapper with custom model\n",
    "model_params = {'D_in': 256, \n",
    "                'H': 192, \n",
    "                'D_out': 4, \n",
    "                'model_name': 'funnel'}\n",
    "\n",
    "ds_params = {'train_params': {'features': 'X',\n",
    "                              'targets': 'y',\n",
    "                              'features_dtype': 'float32',\n",
    "                              'targets_dtype': 'int64',\n",
    "                              'make': 'make_classification',\n",
    "                              'sk_params': {'n_samples': 10000,\n",
    "                                            'n_features': 256,\n",
    "                                            'n_informative': 200,\n",
    "                                            'n_clusters_per_class': 3,\n",
    "                                            'flip_y': 0.05,\n",
    "                                            'class_sep': 0.1,\n",
    "                                            'n_classes': 4}}}\n",
    "                                     \n",
    "metrics_params = {'report_interval': 10, \n",
    "                  'sk_metric_name': 'roc_auc_score', \n",
    "                  'sk_params': {'average': 'macro',\n",
    "                                'multi_class': 'ovr'}}\n",
    "\n",
    "opt_params = {'lr': 0.01}\n",
    "\n",
    "crit_params = {'reduction': 'sum'}\n",
    "\n",
    "sample_params = {'set_seed': 88,\n",
    "                 'splits': (.7,.15)}\n",
    "\n",
    "sched_params = {'factor': .5,\n",
    "                'patience': 5,\n",
    "                'cooldown': 5}\n",
    "\n",
    "l = Learn([SKDS], \n",
    "          FFNet, \n",
    "          Sampler=Selector,\n",
    "          Metrics=Metrics,\n",
    "          Optimizer=Adam, \n",
    "          Scheduler=ReduceLROnPlateau, \n",
    "          Criterion=CrossEntropyLoss,\n",
    "          model_params=model_params, ds_params=ds_params, \n",
    "          sample_params=sample_params, opt_params=opt_params, \n",
    "          sched_params=sched_params, crit_params=crit_params,\n",
    "          metrics_params=metrics_params,\n",
    "          adapt=False, load_model=False, load_embed=False, save_model=False,\n",
    "          batch_size=128, epochs=10, squeeze_y=True)"
   ]
  },
  {
   "cell_type": "code",
   "execution_count": 10,
   "metadata": {},
   "outputs": [
    {
     "name": "stdout",
     "output_type": "stream",
     "text": [
      "Files already downloaded and verified\n",
      "CDataset created...\n",
      "TVDS created...\n",
      "Files already downloaded and verified\n",
      "CDataset created...\n",
      "TVDS created...\n",
      "TorchVision model resnet18 loaded...\n",
      "learning time: 0:00:12.766300\n",
      "epoch: 0, lr: 0.01\n",
      "train loss: 2.350050781726837, val loss: 2.061542647500192\n",
      "sklearn train metric: 0.6246958623241589, sklearn validation metric: 0.7082536102748613\n",
      "learning time: 0:00:25.006073\n",
      "epoch: 1, lr: 0.01\n",
      "train loss: 2.0448885731697084, val loss: 2.02150031059019\n",
      "sklearn train metric: 0.7135475532780466, sklearn validation metric: 0.763574224305523\n",
      "learning time: 0:00:37.219640\n",
      "epoch: 2, lr: 0.01\n",
      "train loss: 1.9264592418670654, val loss: 1.9110499947301802\n",
      "sklearn train metric: 0.7598983212672379, sklearn validation metric: 0.7822236028370051\n",
      "learning time: 0:00:49.435955\n",
      "epoch: 3, lr: 0.01\n",
      "train loss: 1.833668773651123, val loss: 1.7923830439967494\n",
      "sklearn train metric: 0.7853819017471476, sklearn validation metric: 0.808349592160526\n",
      "learning time: 0:01:01.903289\n",
      "epoch: 4, lr: 0.01\n",
      "train loss: 1.7368001537323, val loss: 1.6299977821688498\n",
      "sklearn train metric: 0.8115967034852589, sklearn validation metric: 0.8389823113874199\n",
      "learning time: 0:01:14.279910\n",
      "epoch: 5, lr: 0.01\n",
      "train loss: 1.6664789509773255, val loss: 1.6476632433552896\n",
      "sklearn train metric: 0.8291381346662027, sklearn validation metric: 0.8468267958466319\n",
      "learning time: 0:01:27.023605\n",
      "epoch: 6, lr: 0.01\n",
      "train loss: 1.5887702300548554, val loss: 1.5541672639308437\n",
      "sklearn train metric: 0.8459164175583345, sklearn validation metric: 0.8615568652605494\n",
      "learning time: 0:01:39.363368\n",
      "epoch: 7, lr: 0.01\n",
      "train loss: 1.5308993606567383, val loss: 1.5350549413311867\n",
      "sklearn train metric: 0.8584610350953048, sklearn validation metric: 0.8662935399601137\n",
      "learning time: 0:01:51.703203\n",
      "epoch: 8, lr: 0.01\n",
      "train loss: 1.467034418106079, val loss: 1.4832284960054583\n",
      "sklearn train metric: 0.870315718868604, sklearn validation metric: 0.8740803245722486\n",
      "learning time: 0:02:03.984371\n",
      "epoch: 9, lr: 0.01\n",
      "train loss: 1.3925746576786042, val loss: 1.4638875376793645\n",
      "sklearn train metric: 0.8827677907559426, sklearn validation metric: 0.8829057749301121\n",
      "test loss: 1.4733784906387328\n",
      "learning time: 0:02:12.737210\n",
      "sklearn test metric: \n",
      "0.8803194111111111 \n",
      "\n"
     ]
    },
    {
     "data": {
      "image/png": "[encoded data removed]",
      "text/plain": [
       "<Figure size 432x288 with 1 Axes>"
      ]
     },
     "metadata": {
      "needs_background": "light"
     },
     "output_type": "display_data"
    }
   ],
   "source": [
    "## Example torchvision dataset, transforms and model wrapper\n",
    "model_params = {'model_name': 'resnet18',\n",
    "                'in_channels': 3,\n",
    "                'tv_params': {'num_classes': 10}}\n",
    "\n",
    "ds_params={'train_params': {'dataset': 'CIFAR10',\n",
    "                            'tv_params': {'root': './data/',\n",
    "                                          'train': True,\n",
    "                                          'download': True,\n",
    "                                          'transform': transforms.Compose([\n",
    "                                                           transforms.RandomRotation(10),\n",
    "                                                           transforms.Resize(224),\n",
    "                                                           transforms.ToTensor()]),\n",
    "                                          'target_transform': None,\n",
    "                                          'download': True}},\n",
    "           'test_params': {'dataset': 'CIFAR10',\n",
    "                           'tv_params': {'root': './data/',\n",
    "                                         'train': False,\n",
    "                                         'download': True,\n",
    "                                         'transform': transforms.Compose([\n",
    "                                                         transforms.Resize(224),\n",
    "                                                         transforms.ToTensor()]),\n",
    "                                         'target_transform': None,\n",
    "                                         'download': True}}}\n",
    "\n",
    "metrics_params = {'report_interval': 10, \n",
    "                  'sk_metric_name': 'roc_auc_score', \n",
    "                  'sk_params': {'average': 'macro',\n",
    "                                'multi_class': 'ovr'}}\n",
    "\n",
    "opt_params = {'lr': 0.01}\n",
    "\n",
    "crit_params = {'reduction': 'sum'}\n",
    "\n",
    "sample_params = {'set_seed': 88,\n",
    "                 'splits': (.8,),\n",
    "                 'subset': .1}\n",
    "\n",
    "sched_params = {'factor': .5,\n",
    "                'patience': 1,\n",
    "                'cooldown': 1}\n",
    "\n",
    "l = Learn([TVDS,TVDS], \n",
    "          tv_model, \n",
    "          Selector, \n",
    "          Optimizer=Adam, \n",
    "          Scheduler=ReduceLROnPlateau, \n",
    "          Criterion=CrossEntropyLoss, \n",
    "          model_params=model_params, ds_params=ds_params, \n",
    "          sample_params=sample_params, opt_params=opt_params, \n",
    "          sched_params=sched_params, crit_params=crit_params,\n",
    "          metrics_params=metrics_params,\n",
    "          adapt=False, load_model=False, load_embed=False, save_model=False,\n",
    "          batch_size=16, epochs=10)"
   ]
  },
  {
   "cell_type": "code",
   "execution_count": 11,
   "metadata": {},
   "outputs": [
    {
     "name": "stdout",
     "output_type": "stream",
     "text": [
      "CDataset created...\n",
      "TVDS created...\n",
      "CDataset created...\n",
      "TVDS created...\n",
      "CModel loaded...\n",
      "ResBam model loaded...\n",
      "learning time: 0:00:26.063456\n",
      "epoch: 0, lr: 0.005\n",
      "train loss: 1.9770894975662232, val loss: 1.8603164880506453\n",
      "sklearn train metric: 0.7430353217070538, sklearn validation metric: 0.7847721910307964\n",
      "learning time: 0:00:52.340247\n",
      "epoch: 1, lr: 0.005\n",
      "train loss: 1.821748423576355, val loss: 1.7782507481113556\n",
      "sklearn train metric: 0.7934062836435054, sklearn validation metric: 0.8030849546610777\n",
      "learning time: 0:01:18.263208\n",
      "epoch: 2, lr: 0.005\n",
      "train loss: 1.7283291082382202, val loss: 1.703515079713637\n",
      "sklearn train metric: 0.8181364659611203, sklearn validation metric: 0.8243283061210569\n",
      "learning time: 0:01:44.379856\n",
      "epoch: 3, lr: 0.005\n",
      "train loss: 1.6502257661819457, val loss: 1.6904362824655348\n",
      "sklearn train metric: 0.8360184905800494, sklearn validation metric: 0.8245105519542891\n",
      "learning time: 0:02:10.343532\n",
      "epoch: 4, lr: 0.005\n",
      "train loss: 1.5918678531646728, val loss: 1.610717115863677\n",
      "sklearn train metric: 0.849123066345296, sklearn validation metric: 0.8435370874833048\n",
      "learning time: 0:02:36.496877\n",
      "epoch: 5, lr: 0.005\n",
      "train loss: 1.5498267612457275, val loss: 1.596586411999118\n",
      "sklearn train metric: 0.8577641357534833, sklearn validation metric: 0.845597695548116\n",
      "learning time: 0:03:02.560199\n",
      "epoch: 6, lr: 0.005\n",
      "train loss: 1.4840027770996094, val loss: 1.5800032423388573\n",
      "sklearn train metric: 0.8713302631647684, sklearn validation metric: 0.8528743425112628\n",
      "learning time: 0:03:28.789867\n",
      "epoch: 7, lr: 0.005\n",
      "train loss: 1.404327751159668, val loss: 1.5905992638680242\n",
      "sklearn train metric: 0.8851999080143708, sklearn validation metric: 0.8480099499216374\n",
      "learning time: 0:03:54.949447\n",
      "epoch: 8, lr: 0.005\n",
      "train loss: 1.3603588237762452, val loss: 1.5142000452164681\n",
      "sklearn train metric: 0.8916417067301061, sklearn validation metric: 0.8628583661196197\n",
      "learning time: 0:04:21.045734\n",
      "epoch: 9, lr: 0.005\n",
      "train loss: 1.3000328240394592, val loss: 1.522816873365833\n",
      "sklearn train metric: 0.9011874057179676, sklearn validation metric: 0.8610909482415442\n",
      "test loss: 1.5171330456550305\n",
      "learning time: 0:04:37.752283\n",
      "sklearn test metric: \n",
      "0.8632330217543348 \n",
      "\n"
     ]
    },
    {
     "data": {
      "image/png": "[encoded data removed]",
      "text/plain": [
       "<Figure size 432x288 with 1 Axes>"
      ]
     },
     "metadata": {
      "needs_background": "light"
     },
     "output_type": "display_data"
    }
   ],
   "source": [
    "## Example torchvision dataset wrapper with custom model\n",
    "model_params = {'n_classes': 10,\n",
    "                'residual': True,\n",
    "                'in_channels': 3,\n",
    "                'groups': 4,\n",
    "                'bam': True,\n",
    "                'dropout': [.1,.2,.3,.2,.1],\n",
    "                #'act': None\n",
    "               }\n",
    "\n",
    "\n",
    "ds_params={'train_params': {'dataset': 'CIFAR10',\n",
    "                            'tv_params': {'root': './data/',\n",
    "                                          'train': True,\n",
    "                                          'transform': transforms.Compose([\n",
    "                                                       transforms.RandomRotation(10),\n",
    "                                                       transforms.Resize(256),\n",
    "                                                       transforms.ToTensor(),\n",
    "                                                       transforms.Normalize(.13,.29)]),\n",
    "                                          'target_transform': None}},\n",
    "           'test_params': {'dataset': 'CIFAR10',\n",
    "                           'tv_params': {'root': './data/',\n",
    "                                         'train': False,\n",
    "                                         'transform': transforms.Compose([\n",
    "                                                      transforms.Resize(256),\n",
    "                                                      transforms.ToTensor(),\n",
    "                                                      transforms.Normalize(.13,.29)]),\n",
    "                                         'target_transform': None}}}\n",
    "\n",
    "metrics_params = {'report_interval': 10, \n",
    "                  'sk_metric_name': 'roc_auc_score', \n",
    "                  'sk_params': {'average': 'macro',\n",
    "                                'multi_class': 'ovr'}}\n",
    "\n",
    "opt_params = {'lr': 0.005}\n",
    "\n",
    "crit_params = {'reduction': 'sum'}\n",
    "\n",
    "sample_params = {'set_seed': 88,\n",
    "                 'splits': (.8,),\n",
    "                 'subset': .1}\n",
    "\n",
    "sched_params = {'factor': .5,\n",
    "                'patience': 2,\n",
    "                'cooldown': 1}\n",
    "\n",
    "l = Learn([TVDS,TVDS], \n",
    "          ResBam, \n",
    "          Selector, \n",
    "          Optimizer=Adam, \n",
    "          Scheduler=ReduceLROnPlateau, \n",
    "          Criterion=CrossEntropyLoss, \n",
    "          model_params=model_params, ds_params=ds_params, \n",
    "          sample_params=sample_params, opt_params=opt_params, \n",
    "          sched_params=sched_params, crit_params=crit_params,\n",
    "          metrics_params=metrics_params,\n",
    "          adapt=False, load_model=False, load_embed=False, save_model=False,\n",
    "          batch_size=32, epochs=10)"
   ]
  },
  {
   "cell_type": "code",
   "execution_count": 2,
   "metadata": {},
   "outputs": [
    {
     "name": "stdout",
     "output_type": "stream",
     "text": [
      "CDataset created...\n",
      "TVDS created...\n",
      "CDataset created...\n",
      "TVDS created...\n",
      "TorchVision model resnext50_32x4d loaded...\n",
      "learning time: 0:01:03.383569\n",
      "epoch: 0, lr: 0.01\n",
      "train loss: 2.742031105041504, val loss: 2.08907651324426\n",
      "sklearn train metric: 0.579993349589464, sklearn validation metric: 0.6961315761137996\n",
      "learning time: 0:02:04.102469\n",
      "epoch: 1, lr: 0.01\n",
      "train loss: 2.077585282802582, val loss: 2.0735954680750446\n",
      "sklearn train metric: 0.6959127173751064, sklearn validation metric: 0.7194488562937522\n",
      "learning time: 0:03:04.853559\n",
      "epoch: 2, lr: 0.01\n",
      "train loss: 1.9990341329574586, val loss: 1.9476736976254372\n",
      "sklearn train metric: 0.7325392623588727, sklearn validation metric: 0.758919840416415\n",
      "learning time: 0:04:05.730872\n",
      "epoch: 3, lr: 0.01\n",
      "train loss: 1.9248782362937926, val loss: 1.9142184718962638\n",
      "sklearn train metric: 0.7585841874061883, sklearn validation metric: 0.7784187148143584\n",
      "learning time: 0:05:06.628094\n",
      "epoch: 4, lr: 0.01\n",
      "train loss: 1.8662745118141175, val loss: 1.7784000442874046\n",
      "sklearn train metric: 0.7761701315913104, sklearn validation metric: 0.8117760251491613\n",
      "learning time: 0:06:07.539761\n",
      "epoch: 5, lr: 0.01\n",
      "train loss: 1.8214223217964172, val loss: 1.8130975807866743\n",
      "sklearn train metric: 0.7910378739707296, sklearn validation metric: 0.8072978483122446\n",
      "learning time: 0:07:08.446894\n",
      "epoch: 6, lr: 0.01\n",
      "train loss: 1.769007281780243, val loss: 1.746537245089008\n",
      "sklearn train metric: 0.8033999474070572, sklearn validation metric: 0.8239238799872798\n",
      "learning time: 0:08:09.411744\n",
      "epoch: 7, lr: 0.01\n",
      "train loss: 1.7353250880241393, val loss: 1.6489037179177808\n",
      "sklearn train metric: 0.8135264585884739, sklearn validation metric: 0.8405144282670131\n",
      "learning time: 0:09:10.373070\n",
      "epoch: 8, lr: 0.01\n",
      "train loss: 1.6799693949222565, val loss: 1.666000787288912\n",
      "sklearn train metric: 0.8258493745080487, sklearn validation metric: 0.8362269237293527\n",
      "learning time: 0:10:11.307297\n",
      "epoch: 9, lr: 0.01\n",
      "train loss: 1.6337207584381104, val loss: 1.611500536241839\n",
      "sklearn train metric: 0.8366919424367436, sklearn validation metric: 0.8502393171741938\n",
      "test loss: 1.5960383144378663\n",
      "learning time: 0:10:53.800465\n",
      "sklearn test metric: \n",
      "0.8498167555555554 \n",
      "\n"
     ]
    },
    {
     "data": {
      "image/png": "[encoded data removed]",
      "text/plain": [
       "<Figure size 432x288 with 1 Axes>"
      ]
     },
     "metadata": {
      "needs_background": "light"
     },
     "output_type": "display_data"
    }
   ],
   "source": [
    "## Example torchvision dataset and model wrapper\n",
    "model_params = {'model_name': 'resnext50_32x4d',\n",
    "                'in_channels': 3,\n",
    "                'tv_params': {'num_classes': 10}}\n",
    "\n",
    "ds_params={'train_params': {'dataset': 'CIFAR10',\n",
    "                            'tv_params': {'root': './data/',\n",
    "                                          'train': True,\n",
    "                                          'transform': transforms.Compose([\n",
    "                                                       transforms.RandomRotation(10),\n",
    "                                                       transforms.Resize(256),\n",
    "                                                       transforms.ToTensor()]),\n",
    "                                          'target_transform': None}},\n",
    "           'test_params': {'dataset': 'CIFAR10',\n",
    "                           'tv_params': {'root': './data/',\n",
    "                                         'train': False,\n",
    "                                         'transform': transforms.Compose([\n",
    "                                                      transforms.Resize(256),\n",
    "                                                      transforms.ToTensor()]),\n",
    "                                         'target_transform': None}}}\n",
    "\n",
    "metrics_params = {'report_interval': 10, \n",
    "                  'sk_metric_name': 'roc_auc_score', \n",
    "                  'sk_params': {'average': 'macro',\n",
    "                                'multi_class': 'ovr'}}\n",
    "\n",
    "opt_params = {'lr': 0.01}\n",
    "\n",
    "crit_params = {'reduction': 'sum'}\n",
    "\n",
    "sample_params = {'set_seed': 88,\n",
    "                 'splits': (.8,),\n",
    "                 'subset': .1}\n",
    "\n",
    "sched_params = {'factor': .5,\n",
    "                'patience': 2,\n",
    "                'cooldown': 2}\n",
    "\n",
    "l = Learn([TVDS,TVDS], \n",
    "          tv_model, \n",
    "          Selector, \n",
    "          Optimizer=Adam, \n",
    "          Scheduler=ReduceLROnPlateau, \n",
    "          Criterion=CrossEntropyLoss, \n",
    "          model_params=model_params, ds_params=ds_params, \n",
    "          sample_params=sample_params, opt_params=opt_params, \n",
    "          sched_params=sched_params, crit_params=crit_params,\n",
    "          metrics_params=metrics_params,\n",
    "          adapt=False, load_model=False, load_embed=False, save_model=False,\n",
    "          batch_size=16, epochs=10)"
   ]
  },
  {
   "cell_type": "code",
   "execution_count": null,
   "metadata": {},
   "outputs": [],
   "source": []
  }
 ],
 "metadata": {
  "kernelspec": {
   "display_name": "Python 3",
   "language": "python",
   "name": "python3"
  },
  "language_info": {
   "codemirror_mode": {
    "name": "ipython",
    "version": 3
   },
   "file_extension": ".py",
   "mimetype": "text/x-python",
   "name": "python",
   "nbconvert_exporter": "python",
   "pygments_lexer": "ipython3",
   "version": "3.8.12"
  }
 },
 "nbformat": 4,
 "nbformat_minor": 4
}
