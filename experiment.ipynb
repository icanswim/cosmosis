{
 "cells": [
  {
   "cell_type": "code",
   "execution_count": 1,
   "metadata": {},
   "outputs": [],
   "source": [
    "from model import FFNet\n",
    "from learning import Learn, Selector\n",
    "from dataset import Dummy\n",
    "\n",
    "from torch.optim import Adam\n",
    "from torch.nn import MSELoss"
   ]
  },
  {
   "cell_type": "code",
   "execution_count": 2,
   "metadata": {},
   "outputs": [
    {
     "name": "stdout",
     "output_type": "stream",
     "text": [
      "<class 'dataset.Dummy'> dataset created...\n",
      "epoch: 0 of 10, train loss: 13739.095545614919, val loss: 7657.702473958333\n",
      "epoch: 1 of 10, train loss: 2653.569889191658, val loss: 624.1168212890625\n",
      "epoch: 2 of 10, train loss: 554.6340863627772, val loss: 383.5277506510417\n",
      "epoch: 3 of 10, train loss: 401.3227952526462, val loss: 445.09751383463544\n",
      "epoch: 4 of 10, train loss: 410.4022940358808, val loss: 319.0664571126302\n",
      "epoch: 5 of 10, train loss: 401.49373995873236, val loss: 352.8838195800781\n",
      "epoch: 6 of 10, train loss: 394.5989291283392, val loss: 293.8287760416667\n",
      "epoch: 7 of 10, train loss: 330.3633368707472, val loss: 350.0858154296875\n",
      "epoch: 8 of 10, train loss: 323.2930947580645, val loss: 283.71331787109375\n",
      "epoch: 9 of 10, train loss: 332.1980285644531, val loss: 314.88134765625\n",
      "test loss: 558.9445495605469\n",
      "y_pred:\n",
      "tensor([[383.5356],\n",
      "        [ 25.9779],\n",
      "        [ 58.2178],\n",
      "        [198.0343],\n",
      "        [132.9610],\n",
      "        [ 38.2747],\n",
      "        [ 54.2395],\n",
      "        [159.2910],\n",
      "        [ 50.5241],\n",
      "        [ 37.4150]], device='cuda:0')\n",
      " y:\n",
      "tensor([[501.3057],\n",
      "        [ 39.4035],\n",
      "        [ 59.0776],\n",
      "        [239.9561],\n",
      "        [123.3965],\n",
      "        [ 49.0466],\n",
      "        [ 57.2453],\n",
      "        [203.1795],\n",
      "        [ 48.2863],\n",
      "        [ 48.2287]], device='cuda:0')\n"
     ]
    },
    {
     "data": {
      "image/png": "[encoded data removed]",
      "text/plain": [
       "<Figure size 432x288 with 1 Axes>"
      ]
     },
     "metadata": {
      "needs_background": "light"
     },
     "output_type": "display_data"
    },
    {
     "name": "stdout",
     "output_type": "stream",
     "text": [
      "learning time: 0:00:09.693166\n"
     ]
    },
    {
     "data": {
      "text/plain": [
       "<learning.Learn at 0x7f9be99b3050>"
      ]
     },
     "execution_count": 2,
     "metadata": {},
     "output_type": "execute_result"
    }
   ],
   "source": [
    "opt_params = {'lr': 0.001}\n",
    "model_params = {'D_in': 128, \n",
    "                'H': 512, \n",
    "                'D_out': 1, \n",
    "                'model_name': 'funnel'}\n",
    "ds_params = {'make': 'make_regression',\n",
    "             'make_params': {'n_samples': 10000,\n",
    "                             'n_features': 128}}\n",
    "crit_params = {'reduction': 'sum'}\n",
    "sample_params = {'set_seed': 88}\n",
    "\n",
    "Learn(Dummy, FFNet, Selector, Optimizer=Adam, Criterion=MSELoss, \n",
    "      model_params=model_params, ds_params=ds_params, opt_params=opt_params,\n",
    "      crit_params=crit_params, sample_params=sample_params,\n",
    "      save_model=False, load_model=False, load_embed=False, adapt=False,\n",
    "      batch_size=256, epochs=10)"
   ]
  },
  {
   "cell_type": "code",
   "execution_count": null,
   "metadata": {},
   "outputs": [],
   "source": []
  }
 ],
 "metadata": {
  "kernelspec": {
   "display_name": "Python 3",
   "language": "python",
   "name": "python3"
  },
  "language_info": {
   "codemirror_mode": {
    "name": "ipython",
    "version": 3
   },
   "file_extension": ".py",
   "mimetype": "text/x-python",
   "name": "python",
   "nbconvert_exporter": "python",
   "pygments_lexer": "ipython3",
   "version": "3.7.9"
  }
 },
 "nbformat": 4,
 "nbformat_minor": 4
}
