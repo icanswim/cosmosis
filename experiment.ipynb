{
 "cells": [
  {
   "cell_type": "code",
   "execution_count": 1,
   "metadata": {},
   "outputs": [],
   "source": [
    "from model import FFNet, tv_model\n",
    "from learning import Learn, Selector\n",
    "from dataset import SKDS, TVDS, CDataset\n",
    "\n",
    "from torch.optim import Adam\n",
    "from torch.nn import MSELoss, CrossEntropyLoss\n",
    "from torch.optim.lr_scheduler import ReduceLROnPlateau\n",
    "from torchvision import transforms\n"
   ]
  },
  {
   "cell_type": "code",
   "execution_count": null,
   "metadata": {},
   "outputs": [],
   "source": [
    "import numpy as np\n",
    "\n",
    "class Dummy(CDataset):\n",
    "    \n",
    "    def load_data(self, boom='bust'):\n",
    "        data = {1: (np.asarray([1,2,3,4]), np.asarray(100), ['apple','dog']),\n",
    "                2: (np.asarray([5,6,7,8]), np.asarray(200), ['orange','cat'])}\n",
    "        print(boom)\n",
    "        return data\n",
    "    \n",
    "ds_params = {'train_params': {'embed': [('fruit',2,8,False,False),\n",
    "                                        ('pet',2,8,False,False)],\n",
    "                              'embed_lookup': {'fruit': {'apple': 1,\n",
    "                                                         'orange': 2},\n",
    "                                               'pet': {'dog': 1,\n",
    "                                                       'cat': 2}},\n",
    "             'boom': 'bang'}}\n",
    "    \n",
    "d = Dummy(**ds_params['train_params'])\n",
    "d[1]           "
   ]
  },
  {
   "cell_type": "code",
   "execution_count": 2,
   "metadata": {},
   "outputs": [
    {
     "name": "stdout",
     "output_type": "stream",
     "text": [
      "SKDS created...\n",
      "splits:  (0.7, 0.15)\n",
      "CModel loaded...\n",
      "FFNet model loaded...\n",
      "epoch: 0 of 10, train loss: 10231.988254123264, val loss: 1260.6125, lr: 0.01\n",
      "epoch: 1 of 10, train loss: 1280.186093930845, val loss: 1118.3141479492188, lr: 0.01\n",
      "epoch: 2 of 10, train loss: 887.8908781828703, val loss: 731.3146606445313, lr: 0.01\n",
      "epoch: 3 of 10, train loss: 824.2763151945891, val loss: 707.0494873046875, lr: 0.01\n",
      "epoch: 4 of 10, train loss: 793.2885041413484, val loss: 690.19443359375, lr: 0.01\n",
      "epoch: 5 of 10, train loss: 906.4373937536169, val loss: 928.6276489257813, lr: 0.01\n",
      "epoch: 6 of 10, train loss: 840.6229756673177, val loss: 736.7093505859375, lr: 0.01\n",
      "epoch: 7 of 10, train loss: 834.778795030382, val loss: 782.426708984375, lr: 0.01\n",
      "epoch: 8 of 10, train loss: 874.2097891348379, val loss: 909.1131469726563, lr: 0.01\n",
      "epoch: 9 of 10, train loss: 761.2953016493055, val loss: 598.5902648925781, lr: 0.01\n",
      "test loss: 704.4905751546224\n",
      "y_pred:\n",
      "tensor([[-322.9699],\n",
      "        [   2.3887],\n",
      "        [ -24.0053],\n",
      "        [ 216.0816],\n",
      "        [  99.0331],\n",
      "        [  76.1772],\n",
      "        [ 134.2503],\n",
      "        [ 122.5270],\n",
      "        [ -34.6264],\n",
      "        [ 246.4432]], device='cuda:0')\n",
      " y:\n",
      "tensor([[-337.5227],\n",
      "        [  21.4133],\n",
      "        [ -21.3949],\n",
      "        [ 281.9257],\n",
      "        [ 140.3880],\n",
      "        [  69.1107],\n",
      "        [ 154.5759],\n",
      "        [ 150.7981],\n",
      "        [ -14.9754],\n",
      "        [ 302.5364]], device='cuda:0')\n"
     ]
    },
    {
     "data": {
      "image/png": "[encoded data removed]",
      "text/plain": [
       "<Figure size 432x288 with 1 Axes>"
      ]
     },
     "metadata": {
      "needs_background": "light"
     },
     "output_type": "display_data"
    },
    {
     "name": "stdout",
     "output_type": "stream",
     "text": [
      "learning time: 0:00:07.784367\n"
     ]
    }
   ],
   "source": [
    "model_params = {'D_in': 128, \n",
    "                'H': 512, \n",
    "                'D_out': 1, \n",
    "                'model_name': 'funnel'}\n",
    "\n",
    "ds_params = {'train_params': {'embed': [],\n",
    "                              'make': 'make_regression',\n",
    "                              'transform': None,\n",
    "                              'target_transform': None,\n",
    "                              'sk_params': {'n_samples': 10000,\n",
    "                                            'n_features': 128}}}\n",
    "             \n",
    "                           \n",
    "             \n",
    "opt_params = {'lr': 0.01}\n",
    "crit_params = {'reduction': 'sum'}\n",
    "sample_params = {'set_seed': 88,\n",
    "                 'splits': (.7,.15)}\n",
    "sched_params = {'factor': .5,\n",
    "                'patience': 5,\n",
    "                'cooldown': 5}\n",
    "\n",
    "\n",
    "l = Learn([SKDS], FFNet, Selector, Optimizer=Adam, Scheduler=ReduceLROnPlateau, Criterion=MSELoss,\n",
    "          model_params=model_params, ds_params=ds_params, sample_params=sample_params,\n",
    "          opt_params=opt_params, sched_params=sched_params, crit_params=crit_params,\n",
    "          adapt=False, load_model=False, load_embed=False, save_model=False,\n",
    "          batch_size=256, epochs=10)"
   ]
  },
  {
   "cell_type": "code",
   "execution_count": 4,
   "metadata": {},
   "outputs": [
    {
     "name": "stdout",
     "output_type": "stream",
     "text": [
      "TVDS created...\n",
      "TVDS created...\n",
      "splits:  (0.8,)\n",
      "TorchVision model resnet18 loaded...\n",
      "epoch: 0 of 2, train loss: 0.2801192058020582, val loss: 0.07544719376775591, lr: 0.01\n",
      "epoch: 1 of 2, train loss: 0.06518800460112592, val loss: 0.0484572744185608, lr: 0.01\n",
      "test loss: 0.03378179720358235\n",
      "y_pred:\n",
      "tensor([[ 1.4660e+00,  1.1557e+01, -6.4028e-01, -5.3195e+00,  1.0744e+00,\n",
      "         -2.6726e+00,  2.4110e-01,  1.3367e+00, -3.2121e-01, -2.3171e+00],\n",
      "        [-1.2705e+00,  1.5302e+00,  9.1800e+00,  8.1807e-01, -1.5763e+00,\n",
      "         -4.2784e+00, -6.6550e+00,  6.2404e+00,  2.4505e-01, -1.9811e+00],\n",
      "        [-6.2735e+00,  9.7608e-01,  8.3680e-01,  1.0586e+01, -2.1671e+00,\n",
      "         -1.4148e-01, -8.1790e+00,  2.6525e+00,  1.7758e+00,  9.3155e-01],\n",
      "        [-3.8148e+00, -5.2848e+00, -3.4976e+00, -4.3870e+00,  1.2835e+01,\n",
      "         -2.0019e+00, -4.2722e+00,  1.2478e+00, -2.5456e+00,  2.6046e+00],\n",
      "        [-1.5182e+00, -6.9154e+00, -5.1636e+00,  6.5975e+00, -5.9566e+00,\n",
      "          1.8256e+01, -6.4398e-01, -2.7613e+00,  3.1910e+00,  2.0448e+00],\n",
      "        [ 4.9792e+00, -1.2288e+01,  6.4381e-02, -4.7750e+00, -1.7838e+00,\n",
      "          4.4739e+00,  1.9815e+01, -1.3966e+01,  3.2287e+00,  1.9232e+00],\n",
      "        [-2.3879e+00,  1.0212e+00,  6.9621e-01,  8.5285e-01,  1.7340e+00,\n",
      "         -3.8827e+00, -1.5236e+01,  1.6613e+01, -1.1134e+00,  2.4168e+00],\n",
      "        [ 1.8312e+00, -7.6432e+00, -3.0871e+00,  8.9634e-01, -3.1182e+00,\n",
      "          4.6631e-01,  1.3526e-01, -1.6717e+00,  1.4478e+01,  9.0231e-01],\n",
      "        [-2.1183e+00, -9.8552e+00, -1.3568e+00, -1.2814e+00,  4.6164e+00,\n",
      "         -6.2555e-01, -8.0489e+00,  2.2210e+00, -1.1150e+00,  1.2220e+01],\n",
      "        [ 1.3231e+01, -6.4528e+00, -1.7946e-01, -3.3927e+00, -3.2075e+00,\n",
      "          5.5004e-03, -1.1358e+00, -6.1882e-01,  3.7124e+00,  1.4504e+00]],\n",
      "       device='cuda:0')\n",
      " y:\n",
      "tensor([1, 2, 3, 4, 5, 6, 7, 8, 9, 0], device='cuda:0')\n"
     ]
    },
    {
     "data": {
      "image/png": "[encoded data removed]",
      "text/plain": [
       "<Figure size 432x288 with 1 Axes>"
      ]
     },
     "metadata": {
      "needs_background": "light"
     },
     "output_type": "display_data"
    },
    {
     "name": "stdout",
     "output_type": "stream",
     "text": [
      "learning time: 0:04:03.377312\n"
     ]
    }
   ],
   "source": [
    "model_params = {'model_name': 'resnet18',\n",
    "                'in_channels': 1,\n",
    "                'tv_params': {'num_classes': 10}}\n",
    "\n",
    "ds_params={'train_params': {'embed': [],\n",
    "                            'dataset': 'MNIST',\n",
    "                            'tv_params': {'root': './data/',\n",
    "                                          'train': True,\n",
    "                                          'download': True,\n",
    "                                          'transform': transforms.Compose([\n",
    "                                                           transforms.Resize(224),\n",
    "                                                           transforms.ToTensor()]),\n",
    "                                          'target_transform': None}},\n",
    "           'test_params': {'embed': [],\n",
    "                           'dataset': 'MNIST',\n",
    "                           'tv_params': {'root': './data/',\n",
    "                                         'train': False,\n",
    "                                         'download': True,\n",
    "                                         'transform': transforms.Compose([\n",
    "                                                         transforms.Resize(224),\n",
    "                                                         transforms.ToTensor()]),\n",
    "                                         'target_transform': None}}}\n",
    "        \n",
    "opt_params = {'lr': 0.01}\n",
    "crit_params = {'reduction': 'sum'}\n",
    "sample_params = {'set_seed': 88,\n",
    "                 'splits': (.8,)}\n",
    "sched_params = {'factor': .5,\n",
    "                'patience': 1,\n",
    "                'cooldown': 1}\n",
    "\n",
    "l = Learn([TVDS,TVDS], tv_model, Selector, \n",
    "          Optimizer=Adam, Scheduler=ReduceLROnPlateau, Criterion=CrossEntropyLoss, \n",
    "          model_params=model_params, ds_params=ds_params, sample_params=sample_params,\n",
    "          opt_params=opt_params, sched_params=sched_params, crit_params=crit_params,\n",
    "          adapt=False, load_model=False, load_embed=False, save_model=False,\n",
    "          batch_size=64, epochs=2)"
   ]
  },
  {
   "cell_type": "code",
   "execution_count": null,
   "metadata": {},
   "outputs": [],
   "source": []
  }
 ],
 "metadata": {
  "kernelspec": {
   "display_name": "Python 3",
   "language": "python",
   "name": "python3"
  },
  "language_info": {
   "codemirror_mode": {
    "name": "ipython",
    "version": 3
   },
   "file_extension": ".py",
   "mimetype": "text/x-python",
   "name": "python",
   "nbconvert_exporter": "python",
   "pygments_lexer": "ipython3",
   "version": "3.7.9"
  }
 },
 "nbformat": 4,
 "nbformat_minor": 4
}
