{
 "cells": [
  {
   "cell_type": "code",
   "execution_count": 1,
   "metadata": {},
   "outputs": [],
   "source": [
    "from model import FFNet, tv_model\n",
    "from learning import Learn, Selector\n",
    "from dataset import SKDS, TVDS, CDataset\n",
    "\n",
    "from torch.optim import Adam\n",
    "from torch.nn import MSELoss, CrossEntropyLoss\n",
    "from torch.optim.lr_scheduler import ReduceLROnPlateau\n",
    "from torchvision import transforms\n"
   ]
  },
  {
   "cell_type": "code",
   "execution_count": 2,
   "metadata": {},
   "outputs": [
    {
     "name": "stdout",
     "output_type": "stream",
     "text": [
      "bang\n",
      "CDataset created...\n"
     ]
    },
    {
     "data": {
      "text/plain": [
       "(tensor([1., 2., 3., 4.]),\n",
       " tensor(100., dtype=torch.float64),\n",
       " [tensor(1), tensor(1)])"
      ]
     },
     "execution_count": 2,
     "metadata": {},
     "output_type": "execute_result"
    }
   ],
   "source": [
    "import numpy as np\n",
    "\n",
    "class Dummy(CDataset):\n",
    "    \n",
    "    def load_data(self, boom='bust'):\n",
    "        data = {1: (np.asarray([1,2,3,4]), np.asarray(100), ['apple','dog']),\n",
    "                2: (np.asarray([5,6,7,8]), np.asarray(200), ['orange','cat'])}\n",
    "        print(boom)\n",
    "        return data\n",
    "    \n",
    "ds_params = {'train_params': {'embed': [('fruit',2,8,False,False),\n",
    "                                        ('pet',2,8,False,False)],\n",
    "                              'embed_lookup': {'fruit': {'apple': 1,\n",
    "                                                         'orange': 2},\n",
    "                                               'pet': {'dog': 1,\n",
    "                                                       'cat': 2}},\n",
    "             'boom': 'bang'}}\n",
    "    \n",
    "d = Dummy(**ds_params['train_params'])\n",
    "d[1]           "
   ]
  },
  {
   "cell_type": "code",
   "execution_count": 3,
   "metadata": {},
   "outputs": [
    {
     "name": "stdout",
     "output_type": "stream",
     "text": [
      "SKDS created...\n",
      "epoch: 0 of 100, train loss: 6507.238717538339, val loss: 1357.4035278320312, lr: 0.01\n",
      "epoch: 10 of 100, train loss: 479.44840438277635, val loss: 481.3867553710937, lr: 0.01\n",
      "epoch: 20 of 100, train loss: 406.11473592122394, val loss: 363.0885375976562, lr: 0.005\n",
      "epoch: 30 of 100, train loss: 398.69597880045575, val loss: 325.9255065917969, lr: 0.005\n",
      "epoch: 40 of 100, train loss: 379.68878060800057, val loss: 380.88654174804685, lr: 0.0025\n",
      "epoch: 50 of 100, train loss: 364.4590889259621, val loss: 445.1833160400391, lr: 0.00125\n",
      "epoch: 60 of 100, train loss: 359.59627617730035, val loss: 366.9523681640625, lr: 0.000625\n",
      "epoch: 70 of 100, train loss: 357.6495649549696, val loss: 413.36528930664065, lr: 0.0003125\n",
      "epoch: 80 of 100, train loss: 323.80602462203416, val loss: 286.6304016113281, lr: 0.00015625\n",
      "epoch: 90 of 100, train loss: 408.26786239058885, val loss: 305.8154663085937, lr: 0.00015625\n",
      "test loss: 276.187494913737\n",
      "y_pred:\n",
      "tensor([[-163.1417],\n",
      "        [  -1.7230],\n",
      "        [ 122.3590],\n",
      "        [  37.0398],\n",
      "        [-244.8841],\n",
      "        [ 118.5990],\n",
      "        [ -59.0689],\n",
      "        [-169.7613],\n",
      "        [ 138.2414],\n",
      "        [-172.8495]], device='cuda:0')\n",
      " y:\n",
      "tensor([[-166.1677],\n",
      "        [   2.9230],\n",
      "        [ 115.8473],\n",
      "        [  27.8910],\n",
      "        [-248.0102],\n",
      "        [ 114.5255],\n",
      "        [ -50.7859],\n",
      "        [-165.9370],\n",
      "        [ 129.6896],\n",
      "        [-182.6441]], device='cuda:0')\n"
     ]
    },
    {
     "data": {
      "image/png": "[encoded data removed]",
      "text/plain": [
       "<Figure size 432x288 with 1 Axes>"
      ]
     },
     "metadata": {
      "needs_background": "light"
     },
     "output_type": "display_data"
    },
    {
     "name": "stdout",
     "output_type": "stream",
     "text": [
      "learning time: 0:00:55.124401\n"
     ]
    }
   ],
   "source": [
    "model_params = {'D_in': 128, \n",
    "                'H': 512, \n",
    "                'D_out': 1, \n",
    "                'model_name': 'funnel'}\n",
    "\n",
    "ds_params = {'train_params': {'embed': [],\n",
    "                              'make': 'make_regression',\n",
    "                              'transform': None,\n",
    "                              'target_transform': None,\n",
    "                              'sk_params': {'n_samples': 10000,\n",
    "                                            'n_features': 128}}}\n",
    "             \n",
    "                           \n",
    "             \n",
    "opt_params = {'lr': 0.01}\n",
    "crit_params = {'reduction': 'sum'}\n",
    "sample_params = {'set_seed': 88,\n",
    "                 'splits': (.7,.15)}\n",
    "sched_params = {'factor': .5,\n",
    "                'patience': 5,\n",
    "                'cooldown': 5}\n",
    "\n",
    "\n",
    "l = Learn([SKDS], FFNet, Selector, Optimizer=Adam, Scheduler=ReduceLROnPlateau, Criterion=MSELoss,\n",
    "          model_params=model_params, ds_params=ds_params, sample_params=sample_params,\n",
    "          opt_params=opt_params, sched_params=sched_params, crit_params=crit_params,\n",
    "          adapt=False, load_model=False, load_embed=False, save_model=False,\n",
    "          batch_size=256, epochs=100)"
   ]
  },
  {
   "cell_type": "code",
   "execution_count": 4,
   "metadata": {},
   "outputs": [
    {
     "name": "stdout",
     "output_type": "stream",
     "text": [
      "TVDS created...\n",
      "TVDS created...\n",
      "epoch: 0 of 2, train loss: 0.2980682936726759, val loss: 0.055606227422900056, lr: 0.01\n",
      "epoch: 1 of 2, train loss: 0.06183050608014067, val loss: 0.04848414618661378, lr: 0.01\n",
      "test loss: 0.03248376444982777\n",
      "y_pred:\n",
      "tensor([[-3.1822e+00,  1.1249e+01, -1.0455e+00, -4.5416e+00,  2.3559e+00,\n",
      "         -4.7361e+00, -2.2952e+00,  3.5110e+00, -9.6372e-01, -1.1973e+00],\n",
      "        [-2.1462e+00, -2.5566e+00,  8.9515e+00,  4.7284e-01, -2.1628e+00,\n",
      "         -2.9643e+00, -3.8087e+00,  3.8668e+00,  4.7313e-01, -1.7498e+00],\n",
      "        [-9.2835e+00, -1.9474e+00, -4.5984e-01,  1.1728e+01, -3.7824e+00,\n",
      "          4.5517e-01, -7.0206e+00, -8.8633e-01,  3.1484e+00,  7.7841e-02],\n",
      "        [-8.7332e+00, -8.0295e-01, -3.9971e+00, -1.8151e+00,  1.2517e+01,\n",
      "         -4.0822e+00, -4.0677e+00,  3.1170e+00, -1.6842e+00,  3.7175e+00],\n",
      "        [-2.5002e+00, -7.5262e+00, -4.1446e+00,  4.5828e+00, -7.2022e+00,\n",
      "          1.6080e+01, -2.4318e+00, -5.6387e+00,  1.6599e+00,  1.7998e+00],\n",
      "        [ 5.6037e+00, -1.1470e+01,  1.1323e+00, -8.2460e+00, -1.2000e+00,\n",
      "          2.6285e+00,  1.6808e+01, -1.4988e+01,  8.3081e-01,  8.8313e-01],\n",
      "        [-1.8230e+00,  1.4024e+00,  9.4654e-01,  5.7093e-01,  6.3685e-02,\n",
      "         -6.0719e+00, -9.3329e+00,  1.3792e+01, -7.7874e-01, -1.3718e-02],\n",
      "        [-1.1243e+00, -8.5531e+00,  5.1173e-01,  5.6634e-01, -5.7376e+00,\n",
      "         -1.0741e-01, -8.9575e-01, -4.5416e+00,  1.3827e+01,  8.1579e-01],\n",
      "        [-2.8352e+00, -7.5064e+00, -3.6050e+00, -1.9281e+00,  5.6314e+00,\n",
      "         -2.3682e+00, -7.9433e+00,  3.2269e+00, -1.4693e+00,  1.2205e+01],\n",
      "        [ 1.4439e+01, -4.7836e+00, -2.3281e+00, -4.6532e+00, -5.0849e+00,\n",
      "         -4.6895e-01, -1.4250e+00, -9.1465e-01,  3.4850e+00,  1.5557e-01]],\n",
      "       device='cuda:0')\n",
      " y:\n",
      "tensor([1, 2, 3, 4, 5, 6, 7, 8, 9, 0], device='cuda:0')\n"
     ]
    },
    {
     "data": {
      "image/png": "[encoded data removed]",
      "text/plain": [
       "<Figure size 432x288 with 1 Axes>"
      ]
     },
     "metadata": {
      "needs_background": "light"
     },
     "output_type": "display_data"
    },
    {
     "name": "stdout",
     "output_type": "stream",
     "text": [
      "learning time: 0:04:04.251463\n"
     ]
    }
   ],
   "source": [
    "model_params = {'model_name': 'resnet18',\n",
    "                'in_channels': 1,\n",
    "                'tv_params': {'num_classes': 10}}\n",
    "\n",
    "ds_params={'train_params': {'embed': [],\n",
    "                            'dataset': 'MNIST',\n",
    "                            'tv_params': {'root': './data/',\n",
    "                                          'train': True,\n",
    "                                          'download': True,\n",
    "                                          'transform': transforms.Compose([\n",
    "                                                           transforms.Resize(224),\n",
    "                                                           transforms.ToTensor()]),\n",
    "                                          'target_transform': None}},\n",
    "           'test_params': {'embed': [],\n",
    "                           'dataset': 'MNIST',\n",
    "                           'tv_params': {'root': './data/',\n",
    "                                         'train': False,\n",
    "                                         'download': True,\n",
    "                                         'transform': transforms.Compose([\n",
    "                                                         transforms.Resize(224),\n",
    "                                                         transforms.ToTensor()]),\n",
    "                                         'target_transform': None}}}\n",
    "        \n",
    "opt_params = {'lr': 0.01}\n",
    "crit_params = {'reduction': 'sum'}\n",
    "sample_params = {'set_seed': 88,\n",
    "                 'splits': (.8,.2)}\n",
    "sched_params = {'factor': .5,\n",
    "                'patience': 1,\n",
    "                'cooldown': 1}\n",
    "\n",
    "l = Learn([TVDS,TVDS], tv_model, Selector, \n",
    "          Optimizer=Adam, Scheduler=ReduceLROnPlateau, Criterion=CrossEntropyLoss, \n",
    "          model_params=model_params, ds_params=ds_params, sample_params=sample_params,\n",
    "          opt_params=opt_params, sched_params=sched_params, crit_params=crit_params,\n",
    "          adapt=False, load_model=False, load_embed=False, save_model=False,\n",
    "          batch_size=64, epochs=2)"
   ]
  },
  {
   "cell_type": "code",
   "execution_count": null,
   "metadata": {},
   "outputs": [],
   "source": [
    " "
   ]
  }
 ],
 "metadata": {
  "kernelspec": {
   "display_name": "Python 3",
   "language": "python",
   "name": "python3"
  },
  "language_info": {
   "codemirror_mode": {
    "name": "ipython",
    "version": 3
   },
   "file_extension": ".py",
   "mimetype": "text/x-python",
   "name": "python",
   "nbconvert_exporter": "python",
   "pygments_lexer": "ipython3",
   "version": "3.7.9"
  }
 },
 "nbformat": 4,
 "nbformat_minor": 4
}
