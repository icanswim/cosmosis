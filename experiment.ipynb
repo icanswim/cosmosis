{
 "cells": [
  {
   "cell_type": "code",
   "execution_count": 1,
   "metadata": {},
   "outputs": [],
   "source": [
    "from model import FFNet, tv_model, ResBam\n",
    "from learning import Learn, Selector, Metrics\n",
    "from dataset import SKDS, TVDS, CDataset, ImageDatasetStats, AsTensor, Squeeze, DType\n",
    "\n",
    "from torch.optim import Adam\n",
    "from torch.nn import MSELoss, CrossEntropyLoss\n",
    "from torch.optim.lr_scheduler import ReduceLROnPlateau\n",
    "from torchvision import transforms\n"
   ]
  },
  {
   "cell_type": "code",
   "execution_count": 2,
   "metadata": {},
   "outputs": [
    {
     "name": "stdout",
     "output_type": "stream",
     "text": [
      "bang\n",
      "CDataset created...\n"
     ]
    },
    {
     "data": {
      "text/plain": [
       "(array([110.03, 111.2 ]), [array([1, 2, 4]), array([4])], array([0.01]))"
      ]
     },
     "execution_count": 2,
     "metadata": {},
     "output_type": "execute_result"
    }
   ],
   "source": [
    "import numpy as np\n",
    "\n",
    "class DummyDataset(CDataset):\n",
    "\n",
    "    def load_data(self, boom='bust'):\n",
    "        \n",
    "        datadic = {1: {'feature_1': np.asarray([.04]),\n",
    "                       'feature_2': np.asarray([.02]),\n",
    "                       'feature_3': ['c'],\n",
    "                       'feature_4': ['b','a'],\n",
    "                       'feature_5': np.asarray([1.1])},\n",
    "                   2: {'feature_1': np.asarray([.03]),\n",
    "                       'feature_2': np.asarray([.01]),\n",
    "                       'feature_3': ['a','b','d'],\n",
    "                       'feature_4': ['d'],\n",
    "                       'feature_5': np.asarray([1.2])}}\n",
    "        \n",
    "        print(boom)\n",
    "        return datadic\n",
    "    \n",
    "class DummyTransform():\n",
    "    def __call__(self, arr):\n",
    "        return np.add(arr, 10)\n",
    "    \n",
    "class DummyTransformTwo():\n",
    "    def __call__(self, arr):\n",
    "        return np.add(arr, 100)\n",
    "    \n",
    "ds_params = {'train_params': {'features': ['feature_1','feature_5'],\n",
    "                              'embeds': ['feature_3','feature_4'],\n",
    "                              'targets': ['feature_2'],\n",
    "                              'embed_lookup': {'a': 1, 'b': 2, 'c': 3, 'd': 4},\n",
    "                              'transform': [DummyTransform(), DummyTransformTwo()],\n",
    "                              'target_transform': [],\n",
    "                              'boom': 'bang'}}\n",
    "    \n",
    "d = DummyDataset(**ds_params['train_params'])\n",
    "d[2]"
   ]
  },
  {
   "cell_type": "code",
   "execution_count": 3,
   "metadata": {},
   "outputs": [
    {
     "name": "stdout",
     "output_type": "stream",
     "text": [
      "CDataset created...\n",
      "SKDS make_regression created...\n"
     ]
    },
    {
     "data": {
      "text/plain": [
       "(array([ 1.7310504 ,  0.20146626,  0.18843596, -0.18115863, -0.20984267],\n",
       "       dtype=float32),\n",
       " [],\n",
       " array([76.787506], dtype=float32))"
      ]
     },
     "execution_count": 3,
     "metadata": {},
     "output_type": "execute_result"
    }
   ],
   "source": [
    "ds_params = {'train_params': {'features': ['X'],\n",
    "                              'targets': ['y'],\n",
    "                              'make': 'make_regression',\n",
    "                              'sk_params': {'n_samples': 100,\n",
    "                                            'n_features': 5},\n",
    "                              'features_dtype': 'float32',\n",
    "                              'targets_dtype': 'float32'}}\n",
    "\n",
    "sk = SKDS(**ds_params['train_params'])\n",
    "\n",
    "sk[1]"
   ]
  },
  {
   "cell_type": "code",
   "execution_count": 4,
   "metadata": {},
   "outputs": [
    {
     "name": "stdout",
     "output_type": "stream",
     "text": [
      "CDataset created...\n",
      "SKDS make_classification created...\n"
     ]
    },
    {
     "data": {
      "text/plain": [
       "(array([-1.4399344 ,  0.8144105 ,  3.6175082 , -3.0002465 ,  0.44012558,\n",
       "        -0.61137974, -1.5018485 ,  1.8727549 , -2.4804902 , -2.0137222 ],\n",
       "       dtype=float32),\n",
       " [],\n",
       " array([3]))"
      ]
     },
     "execution_count": 4,
     "metadata": {},
     "output_type": "execute_result"
    }
   ],
   "source": [
    "ds_params = {'train_params': {'features': ['X'],\n",
    "                              'targets': ['y'],\n",
    "                              'make': 'make_classification',\n",
    "                              'features_dtype': 'float32',\n",
    "                              'targets_dtype': 'int64',\n",
    "                              'sk_params': {'n_samples': 100,\n",
    "                                            'n_features': 10,\n",
    "                                            'n_informative': 8,\n",
    "                                            'n_clusters_per_class': 2,\n",
    "                                            'flip_y': 0.05,\n",
    "                                            'class_sep': 0.01,\n",
    "                                            'n_classes': 4}}}\n",
    "\n",
    "sk = SKDS(**ds_params['train_params'])\n",
    "\n",
    "sk[1]"
   ]
  },
  {
   "cell_type": "code",
   "execution_count": 5,
   "metadata": {},
   "outputs": [
    {
     "name": "stderr",
     "output_type": "stream",
     "text": [
      "4.5%"
     ]
    },
    {
     "name": "stdout",
     "output_type": "stream",
     "text": [
      "Downloading http://yann.lecun.com/exdb/mnist/train-images-idx3-ubyte.gz to ./data/MNIST/raw/train-images-idx3-ubyte.gz\n"
     ]
    },
    {
     "name": "stderr",
     "output_type": "stream",
     "text": [
      "100.1%"
     ]
    },
    {
     "name": "stdout",
     "output_type": "stream",
     "text": [
      "Extracting ./data/MNIST/raw/train-images-idx3-ubyte.gz to ./data/MNIST/raw\n"
     ]
    },
    {
     "name": "stderr",
     "output_type": "stream",
     "text": [
      "29.8%%"
     ]
    },
    {
     "name": "stdout",
     "output_type": "stream",
     "text": [
      "Downloading http://yann.lecun.com/exdb/mnist/train-labels-idx1-ubyte.gz to ./data/MNIST/raw/train-labels-idx1-ubyte.gz\n",
      "Extracting ./data/MNIST/raw/train-labels-idx1-ubyte.gz to ./data/MNIST/raw\n",
      "Downloading http://yann.lecun.com/exdb/mnist/t10k-images-idx3-ubyte.gz to ./data/MNIST/raw/t10k-images-idx3-ubyte.gz\n"
     ]
    },
    {
     "name": "stderr",
     "output_type": "stream",
     "text": [
      "180.4%/home/fltr/miniconda3/envs/cosmosis/lib/python3.7/site-packages/torchvision/datasets/mnist.py:469: UserWarning: The given NumPy array is not writeable, and PyTorch does not support non-writeable tensors. This means you can write to the underlying (supposedly non-writeable) NumPy array using the tensor. You may want to copy the array to protect its data or make it writeable before converting it to a tensor. This type of warning will be suppressed for the rest of this program. (Triggered internally at  /opt/conda/conda-bld/pytorch_1595629403081/work/torch/csrc/utils/tensor_numpy.cpp:141.)\n",
      "  return torch.from_numpy(parsed.astype(m[2], copy=False)).view(*s)\n"
     ]
    },
    {
     "name": "stdout",
     "output_type": "stream",
     "text": [
      "Extracting ./data/MNIST/raw/t10k-images-idx3-ubyte.gz to ./data/MNIST/raw\n",
      "Downloading http://yann.lecun.com/exdb/mnist/t10k-labels-idx1-ubyte.gz to ./data/MNIST/raw/t10k-labels-idx1-ubyte.gz\n",
      "Extracting ./data/MNIST/raw/t10k-labels-idx1-ubyte.gz to ./data/MNIST/raw\n",
      "Processing...\n",
      "Done!\n",
      "CDataset created...\n",
      "TVDS created...\n"
     ]
    },
    {
     "data": {
      "text/plain": [
       "(<PIL.Image.Image image mode=L size=224x224 at 0x7F893BE5CE10>, [], 0)"
      ]
     },
     "execution_count": 5,
     "metadata": {},
     "output_type": "execute_result"
    }
   ],
   "source": [
    "ds_params={'dataset': 'MNIST',\n",
    "           'tv_params': {'root': './data/',\n",
    "                         'train': True,\n",
    "                         'download': True,\n",
    "                         'transform': transforms.Compose([\n",
    "                                           transforms.Resize(224)]),\n",
    "                         'target_transform': None}}\n",
    "\n",
    "tvds = TVDS(**ds_params)\n",
    "tvds[1]"
   ]
  },
  {
   "cell_type": "code",
   "execution_count": 6,
   "metadata": {},
   "outputs": [
    {
     "name": "stdout",
     "output_type": "stream",
     "text": [
      "CDataset created...\n",
      "TVDS created...\n",
      "images to process: 60000\n",
      "images processed: 10000\n",
      "images processed: 20000\n",
      "images processed: 30000\n",
      "images processed: 40000\n",
      "images processed: 50000\n",
      "images processed: 60000\n",
      "mean: [33.33091590401786], stddev: [73.70246726596685]\n",
      "mean:  [33.33091590401786]\n",
      "stddev:  [73.70246726596685]\n"
     ]
    }
   ],
   "source": [
    "ds_params={'dataset': 'MNIST',\n",
    "           'tv_params': {'root': './data/',\n",
    "                         'train': True,\n",
    "                         'download': True,\n",
    "                         'transform': transforms.Compose([\n",
    "                                           transforms.Resize(224)]),\n",
    "                         'target_transform': None}}\n",
    "\n",
    "tvds = TVDS(**ds_params)\n",
    "ids = ImageDatasetStats(tvds)\n",
    "\n",
    "print('mean: ', ids.stats.mean)\n",
    "print('stddev: ', ids.stats.stddev)\n",
    "\n",
    "#mean: 33.3/255 = .13\n",
    "#stddev: 73.7/255 = .29"
   ]
  },
  {
   "cell_type": "code",
   "execution_count": 7,
   "metadata": {},
   "outputs": [
    {
     "name": "stdout",
     "output_type": "stream",
     "text": [
      "CDataset created...\n",
      "SKDS make_regression created...\n",
      "CModel loaded...\n",
      "FFNet model loaded...\n",
      "learning time: 0:00:02.040646\n",
      "epoch: 0, lr: 0.01\n",
      "train loss: 637576.4166666666, val loss: 604674.2375\n",
      "sklearn train metric: 0, sklearn validation metric: 0\n",
      "test loss: 14186.9330078125\n",
      "learning time: 0:00:06.523192\n",
      "sklearn test metric: \n",
      "0 \n",
      "\n"
     ]
    },
    {
     "data": {
      "image/png": "[encoded data removed]",
      "text/plain": [
       "<Figure size 432x288 with 1 Axes>"
      ]
     },
     "metadata": {
      "needs_background": "light"
     },
     "output_type": "display_data"
    }
   ],
   "source": [
    "model_params = {'D_in': 256, \n",
    "                'H': 512, \n",
    "                'D_out': 1, \n",
    "                'model_name': 'funnel',\n",
    "                'embed_params': []}\n",
    "\n",
    "ds_params = {'train_params': {'features': ['X'],\n",
    "                              'targets': ['y'],\n",
    "                              'features_dtype': 'float32',\n",
    "                              'targets_dtype': 'float32',\n",
    "                              'make': 'make_regression',\n",
    "                              'transform': [],\n",
    "                              'sk_params': {'n_samples': 10000,\n",
    "                                            'n_features': 256,\n",
    "                                            'n_informative': 200}}}\n",
    "             \n",
    "metrics_params = {'report_interval': 10}                         \n",
    "             \n",
    "opt_params = {'lr': 0.01}\n",
    "\n",
    "crit_params = {'reduction': 'sum'}\n",
    "\n",
    "sample_params = {'set_seed': 88,\n",
    "                 'splits': (.7,.15)}\n",
    "\n",
    "sched_params = {'factor': .5,\n",
    "                'patience': 2,\n",
    "                'cooldown': 2}\n",
    "\n",
    "l = Learn([SKDS], \n",
    "          FFNet,\n",
    "          Metrics=Metrics,\n",
    "          Sampler=Selector, \n",
    "          Optimizer=Adam, \n",
    "          Scheduler=ReduceLROnPlateau, \n",
    "          Criterion=MSELoss,\n",
    "          model_params=model_params, ds_params=ds_params, sample_params=sample_params,\n",
    "          opt_params=opt_params, sched_params=sched_params, crit_params=crit_params,\n",
    "          metrics_params=metrics_params,\n",
    "          adapt=False, load_model=False, load_embed=False, save_model=False,\n",
    "          batch_size=256, epochs=10)"
   ]
  },
  {
   "cell_type": "code",
   "execution_count": 7,
   "metadata": {},
   "outputs": [
    {
     "name": "stdout",
     "output_type": "stream",
     "text": [
      "CDataset created...\n",
      "SKDS make_classification created...\n",
      "CModel loaded...\n",
      "FFNet model loaded...\n",
      "learning time: 0:00:02.612806\n",
      "epoch: 0, lr: 0.01\n",
      "train loss: 1.4203428537757308, val loss: 1.4029410860755227\n",
      "sklearn train metric: 0.5050213143364908, sklearn validation metric: 0.5230691217740622\n",
      "test loss: 1.11047823862596\n",
      "learning time: 0:00:10.466587\n",
      "sklearn test metric: \n",
      "0.8870363194519357 \n",
      "\n"
     ]
    },
    {
     "data": {
      "image/png": "[encoded data removed]",
      "text/plain": [
       "<Figure size 432x288 with 1 Axes>"
      ]
     },
     "metadata": {
      "needs_background": "light"
     },
     "output_type": "display_data"
    }
   ],
   "source": [
    "model_params = {'D_in': 256, \n",
    "                'H': 192, \n",
    "                'D_out': 4, \n",
    "                'model_name': 'funnel'}\n",
    "\n",
    "ds_params = {'train_params': {'features': 'X',\n",
    "                              'targets': 'y',\n",
    "                              'features_dtype': 'float32',\n",
    "                              'targets_dtype': 'int64',\n",
    "                              'make': 'make_classification',\n",
    "                              'sk_params': {'n_samples': 10000,\n",
    "                                            'n_features': 256,\n",
    "                                            'n_informative': 200,\n",
    "                                            'n_clusters_per_class': 3,\n",
    "                                            'flip_y': 0.05,\n",
    "                                            'class_sep': 0.1,\n",
    "                                            'n_classes': 4}}}\n",
    "                                     \n",
    "metrics_params = {'report_interval': 10, \n",
    "                  'sk_metric_name': 'roc_auc_score', \n",
    "                  'sk_params': {'average': 'macro',\n",
    "                                'multi_class': 'ovr'}}\n",
    "\n",
    "opt_params = {'lr': 0.01}\n",
    "\n",
    "crit_params = {'reduction': 'sum'}\n",
    "\n",
    "sample_params = {'set_seed': 88,\n",
    "                 'splits': (.7,.15)}\n",
    "\n",
    "sched_params = {'factor': .5,\n",
    "                'patience': 5,\n",
    "                'cooldown': 5}\n",
    "\n",
    "l = Learn([SKDS], \n",
    "          FFNet, \n",
    "          Sampler=Selector,\n",
    "          Metrics=Metrics,\n",
    "          Optimizer=Adam, \n",
    "          Scheduler=ReduceLROnPlateau, \n",
    "          Criterion=CrossEntropyLoss,\n",
    "          model_params=model_params, ds_params=ds_params, \n",
    "          sample_params=sample_params, opt_params=opt_params, \n",
    "          sched_params=sched_params, crit_params=crit_params,\n",
    "          metrics_params=metrics_params,\n",
    "          adapt=False, load_model=False, load_embed=False, save_model=False,\n",
    "          batch_size=128, epochs=10, squeeze_y=True)"
   ]
  },
  {
   "cell_type": "code",
   "execution_count": 8,
   "metadata": {},
   "outputs": [
    {
     "name": "stdout",
     "output_type": "stream",
     "text": [
      "Downloading https://www.cs.toronto.edu/~kriz/cifar-10-python.tar.gz to ./data/cifar-10-python.tar.gz\n"
     ]
    },
    {
     "name": "stderr",
     "output_type": "stream",
     "text": [
      "100.0%"
     ]
    },
    {
     "name": "stdout",
     "output_type": "stream",
     "text": [
      "Extracting ./data/cifar-10-python.tar.gz to ./data/\n",
      "CDataset created...\n",
      "TVDS created...\n",
      "Files already downloaded and verified\n",
      "CDataset created...\n",
      "TVDS created...\n",
      "TorchVision model resnet18 loaded...\n",
      "learning time: 0:00:12.724544\n",
      "epoch: 0, lr: 0.01\n",
      "train loss: 2.3462375202178953, val loss: 2.0666490158727093\n",
      "sklearn train metric: 0.621370395868493, sklearn validation metric: 0.7129291374776259\n",
      "learning time: 0:00:25.194680\n",
      "epoch: 1, lr: 0.01\n",
      "train loss: 2.0324696083068847, val loss: 2.042077891288265\n",
      "sklearn train metric: 0.7187810191941044, sklearn validation metric: 0.7532938341872641\n",
      "learning time: 0:00:37.463953\n",
      "epoch: 2, lr: 0.01\n",
      "train loss: 1.9134481511116028, val loss: 1.887541640189386\n",
      "sklearn train metric: 0.7652418905954504, sklearn validation metric: 0.7881424687866152\n",
      "learning time: 0:00:50.345388\n",
      "epoch: 3, lr: 0.01\n",
      "train loss: 1.8274489059448242, val loss: 1.7721708647666439\n",
      "sklearn train metric: 0.7892491764191393, sklearn validation metric: 0.8151801944123435\n",
      "learning time: 0:01:03.164348\n",
      "epoch: 4, lr: 0.01\n",
      "train loss: 1.728697009086609, val loss: 1.6604196698434892\n",
      "sklearn train metric: 0.8138621414861691, sklearn validation metric: 0.8325609888057359\n",
      "learning time: 0:01:15.918526\n",
      "epoch: 5, lr: 0.01\n",
      "train loss: 1.6671612296104432, val loss: 1.6454467946483242\n",
      "sklearn train metric: 0.8299852683052522, sklearn validation metric: 0.8449327986034325\n",
      "learning time: 0:01:28.710249\n",
      "epoch: 6, lr: 0.01\n",
      "train loss: 1.5864256949424744, val loss: 1.5861674354922386\n",
      "sklearn train metric: 0.8459085145729196, sklearn validation metric: 0.8550640719453924\n",
      "learning time: 0:01:41.518781\n",
      "epoch: 7, lr: 0.01\n",
      "train loss: 1.5218751697540283, val loss: 1.5607613286664408\n",
      "sklearn train metric: 0.8606185689086535, sklearn validation metric: 0.8631343357567773\n",
      "learning time: 0:01:54.467868\n",
      "epoch: 8, lr: 0.01\n",
      "train loss: 1.4441508383750916, val loss: 1.5096042396560791\n",
      "sklearn train metric: 0.8750006404172446, sklearn validation metric: 0.8704831136328496\n",
      "learning time: 0:02:07.431349\n",
      "epoch: 9, lr: 0.01\n",
      "train loss: 1.3832913756370544, val loss: 1.4646454299649885\n",
      "sklearn train metric: 0.8856854992081015, sklearn validation metric: 0.8848363194783513\n",
      "test loss: 1.4665008880615233\n",
      "learning time: 0:02:16.530948\n",
      "sklearn test metric: \n",
      "0.881602488888889 \n",
      "\n"
     ]
    },
    {
     "data": {
      "image/png": "[encoded data removed]",
      "text/plain": [
       "<Figure size 432x288 with 1 Axes>"
      ]
     },
     "metadata": {
      "needs_background": "light"
     },
     "output_type": "display_data"
    }
   ],
   "source": [
    "model_params = {'model_name': 'resnet18',\n",
    "                'in_channels': 3,\n",
    "                'tv_params': {'num_classes': 10}}\n",
    "\n",
    "ds_params={'train_params': {'dataset': 'CIFAR10',\n",
    "                            'tv_params': {'root': './data/',\n",
    "                                          'train': True,\n",
    "                                          'download': True,\n",
    "                                          'transform': transforms.Compose([\n",
    "                                                           transforms.RandomRotation(10),\n",
    "                                                           transforms.Resize(224),\n",
    "                                                           transforms.ToTensor()]),\n",
    "                                          'target_transform': None,\n",
    "                                          'download': True}},\n",
    "           'test_params': {'dataset': 'CIFAR10',\n",
    "                           'tv_params': {'root': './data/',\n",
    "                                         'train': False,\n",
    "                                         'download': True,\n",
    "                                         'transform': transforms.Compose([\n",
    "                                                         transforms.Resize(224),\n",
    "                                                         transforms.ToTensor()]),\n",
    "                                         'target_transform': None,\n",
    "                                         'download': True}}}\n",
    "\n",
    "metrics_params = {'report_interval': 10, \n",
    "                  'sk_metric_name': 'roc_auc_score', \n",
    "                  'sk_params': {'average': 'macro',\n",
    "                                'multi_class': 'ovr'}}\n",
    "\n",
    "opt_params = {'lr': 0.01}\n",
    "\n",
    "crit_params = {'reduction': 'sum'}\n",
    "\n",
    "sample_params = {'set_seed': 88,\n",
    "                 'splits': (.8,),\n",
    "                 'subset': .1}\n",
    "\n",
    "sched_params = {'factor': .5,\n",
    "                'patience': 1,\n",
    "                'cooldown': 1}\n",
    "\n",
    "l = Learn([TVDS,TVDS], \n",
    "          tv_model, \n",
    "          Selector, \n",
    "          Optimizer=Adam, \n",
    "          Scheduler=ReduceLROnPlateau, \n",
    "          Criterion=CrossEntropyLoss, \n",
    "          model_params=model_params, ds_params=ds_params, \n",
    "          sample_params=sample_params, opt_params=opt_params, \n",
    "          sched_params=sched_params, crit_params=crit_params,\n",
    "          metrics_params=metrics_params,\n",
    "          adapt=False, load_model=False, load_embed=False, save_model=False,\n",
    "          batch_size=16, epochs=10)"
   ]
  },
  {
   "cell_type": "code",
   "execution_count": 9,
   "metadata": {},
   "outputs": [
    {
     "name": "stdout",
     "output_type": "stream",
     "text": [
      "CDataset created...\n",
      "TVDS created...\n",
      "CDataset created...\n",
      "TVDS created...\n",
      "CModel loaded...\n",
      "ResBam model loaded...\n",
      "learning time: 0:00:27.112560\n",
      "epoch: 0, lr: 0.005\n",
      "train loss: 1.9870741319656373, val loss: 1.881836429719002\n",
      "sklearn train metric: 0.7392245434567396, sklearn validation metric: 0.7766837783700898\n",
      "learning time: 0:00:54.155686\n",
      "epoch: 1, lr: 0.005\n",
      "train loss: 1.8361111364364624, val loss: 1.7902239138080227\n",
      "sklearn train metric: 0.7895239849386668, sklearn validation metric: 0.8009135893386243\n",
      "learning time: 0:01:21.151342\n",
      "epoch: 2, lr: 0.005\n",
      "train loss: 1.7524900798797607, val loss: 1.7144402150184876\n",
      "sklearn train metric: 0.8111528109688075, sklearn validation metric: 0.818614953803135\n",
      "learning time: 0:01:48.141367\n",
      "epoch: 3, lr: 0.005\n",
      "train loss: 1.6963090324401855, val loss: 1.6812451039591143\n",
      "sklearn train metric: 0.8248772625912792, sklearn validation metric: 0.8265173605324192\n",
      "learning time: 0:02:14.864506\n",
      "epoch: 4, lr: 0.005\n",
      "train loss: 1.614186043739319, val loss: 1.601040990121903\n",
      "sklearn train metric: 0.845852121816179, sklearn validation metric: 0.844102269794529\n",
      "learning time: 0:02:41.801455\n",
      "epoch: 5, lr: 0.005\n",
      "train loss: 1.5722899465560913, val loss: 1.5831099171792307\n",
      "sklearn train metric: 0.8525859767288366, sklearn validation metric: 0.8509304340884203\n",
      "learning time: 0:03:08.804716\n",
      "epoch: 6, lr: 0.005\n",
      "train loss: 1.511511245727539, val loss: 1.6248902466989332\n",
      "sklearn train metric: 0.866259155231571, sklearn validation metric: 0.8429364304254694\n",
      "learning time: 0:03:35.629828\n",
      "epoch: 7, lr: 0.005\n",
      "train loss: 1.4557228946685792, val loss: 1.569650907670298\n",
      "sklearn train metric: 0.8755509082958406, sklearn validation metric: 0.8539705086436454\n",
      "learning time: 0:04:02.173368\n",
      "epoch: 8, lr: 0.005\n",
      "train loss: 1.37720480966568, val loss: 1.5018670943475538\n",
      "sklearn train metric: 0.8892244665603757, sklearn validation metric: 0.8640229126581893\n",
      "learning time: 0:04:29.131041\n",
      "epoch: 9, lr: 0.005\n",
      "train loss: 1.3393124084472656, val loss: 1.5225548282746346\n",
      "sklearn train metric: 0.8948464603250328, sklearn validation metric: 0.8603575677788549\n",
      "test loss: 1.5344724244414232\n",
      "learning time: 0:04:46.659419\n",
      "sklearn test metric: \n",
      "0.8598310680612755 \n",
      "\n"
     ]
    },
    {
     "data": {
      "image/png": "[encoded data removed]",
      "text/plain": [
       "<Figure size 432x288 with 1 Axes>"
      ]
     },
     "metadata": {
      "needs_background": "light"
     },
     "output_type": "display_data"
    }
   ],
   "source": [
    "model_params = {'n_classes': 10,\n",
    "                'residual': True,\n",
    "                'in_channels': 3,\n",
    "                'groups': 4,\n",
    "                'bam': True,\n",
    "                'dropout': [.1,.2,.3,.2,.1],\n",
    "                #'act': None\n",
    "               }\n",
    "\n",
    "\n",
    "ds_params={'train_params': {'dataset': 'CIFAR10',\n",
    "                            'tv_params': {'root': './data/',\n",
    "                                          'train': True,\n",
    "                                          'transform': transforms.Compose([\n",
    "                                                       transforms.RandomRotation(10),\n",
    "                                                       transforms.Resize(256),\n",
    "                                                       transforms.ToTensor(),\n",
    "                                                       transforms.Normalize(.13,.29)]),\n",
    "                                          'target_transform': None}},\n",
    "           'test_params': {'dataset': 'CIFAR10',\n",
    "                           'tv_params': {'root': './data/',\n",
    "                                         'train': False,\n",
    "                                         'transform': transforms.Compose([\n",
    "                                                      transforms.Resize(256),\n",
    "                                                      transforms.ToTensor(),\n",
    "                                                      transforms.Normalize(.13,.29)]),\n",
    "                                         'target_transform': None}}}\n",
    "\n",
    "metrics_params = {'report_interval': 10, \n",
    "                  'sk_metric_name': 'roc_auc_score', \n",
    "                  'sk_params': {'average': 'macro',\n",
    "                                'multi_class': 'ovr'}}\n",
    "\n",
    "opt_params = {'lr': 0.005}\n",
    "\n",
    "crit_params = {'reduction': 'sum'}\n",
    "\n",
    "sample_params = {'set_seed': 88,\n",
    "                 'splits': (.8,),\n",
    "                 'subset': .1}\n",
    "\n",
    "sched_params = {'factor': .5,\n",
    "                'patience': 2,\n",
    "                'cooldown': 1}\n",
    "\n",
    "l = Learn([TVDS,TVDS], \n",
    "          ResBam, \n",
    "          Selector, \n",
    "          Optimizer=Adam, \n",
    "          Scheduler=ReduceLROnPlateau, \n",
    "          Criterion=CrossEntropyLoss, \n",
    "          model_params=model_params, ds_params=ds_params, \n",
    "          sample_params=sample_params, opt_params=opt_params, \n",
    "          sched_params=sched_params, crit_params=crit_params,\n",
    "          metrics_params=metrics_params,\n",
    "          adapt=False, load_model=False, load_embed=False, save_model=False,\n",
    "          batch_size=32, epochs=10)"
   ]
  },
  {
   "cell_type": "code",
   "execution_count": 10,
   "metadata": {},
   "outputs": [
    {
     "name": "stdout",
     "output_type": "stream",
     "text": [
      "CDataset created...\n",
      "TVDS created...\n",
      "CDataset created...\n",
      "TVDS created...\n",
      "TorchVision model resnext50_32x4d loaded...\n",
      "learning time: 0:01:03.140383\n",
      "epoch: 0, lr: 0.01\n",
      "train loss: 2.5800770540237425, val loss: 2.08068391776854\n",
      "sklearn train metric: 0.5893008132335449, sklearn validation metric: 0.6975222548953048\n",
      "learning time: 0:02:07.129738\n",
      "epoch: 1, lr: 0.01\n",
      "train loss: 2.066440390586853, val loss: 2.1075882277181073\n",
      "sklearn train metric: 0.7009898729640831, sklearn validation metric: 0.7133885149515736\n",
      "learning time: 0:03:11.437264\n",
      "epoch: 2, lr: 0.01\n",
      "train loss: 2.0363947715759276, val loss: 2.0420392059510752\n",
      "sklearn train metric: 0.7161440245978878, sklearn validation metric: 0.7268260244009264\n",
      "learning time: 0:04:15.012295\n",
      "epoch: 3, lr: 0.01\n",
      "train loss: 2.006294436454773, val loss: 2.0136399942059673\n",
      "sklearn train metric: 0.7288395500962747, sklearn validation metric: 0.7383623908120038\n",
      "learning time: 0:05:18.070216\n",
      "epoch: 4, lr: 0.01\n",
      "train loss: 1.9629684896469117, val loss: 1.865649927046991\n",
      "sklearn train metric: 0.7437249619591005, sklearn validation metric: 0.7849309564876835\n",
      "learning time: 0:06:22.413975\n",
      "epoch: 5, lr: 0.01\n",
      "train loss: 1.9102405734062196, val loss: 1.9249761258402178\n",
      "sklearn train metric: 0.7609941130635468, sklearn validation metric: 0.7704624899258887\n",
      "learning time: 0:07:26.679743\n",
      "epoch: 6, lr: 0.01\n",
      "train loss: 1.8314540519714355, val loss: 1.8289872311776685\n",
      "sklearn train metric: 0.7862837855945589, sklearn validation metric: 0.8038140591560703\n",
      "learning time: 0:08:31.033703\n",
      "epoch: 7, lr: 0.01\n",
      "train loss: 1.7908355894088746, val loss: 1.7256253188656223\n",
      "sklearn train metric: 0.7988298767577039, sklearn validation metric: 0.8230779475293069\n",
      "learning time: 0:09:35.369262\n",
      "epoch: 8, lr: 0.01\n",
      "train loss: 1.7268745045661926, val loss: 1.7285237120043846\n",
      "sklearn train metric: 0.8143063523001327, sklearn validation metric: 0.819695719083921\n",
      "learning time: 0:10:39.665671\n",
      "epoch: 9, lr: 0.01\n",
      "train loss: 1.6805737836360932, val loss: 1.6422611301945103\n",
      "sklearn train metric: 0.8260226368197167, sklearn validation metric: 0.8444192013273837\n",
      "test loss: 1.657465859413147\n",
      "learning time: 0:11:24.602907\n",
      "sklearn test metric: \n",
      "0.837653588888889 \n",
      "\n"
     ]
    },
    {
     "data": {
      "image/png": "[encoded data removed]",
      "text/plain": [
       "<Figure size 432x288 with 1 Axes>"
      ]
     },
     "metadata": {
      "needs_background": "light"
     },
     "output_type": "display_data"
    }
   ],
   "source": [
    "model_params = {'model_name': 'resnext50_32x4d',\n",
    "                'in_channels': 3,\n",
    "                'tv_params': {'num_classes': 10}}\n",
    "\n",
    "ds_params={'train_params': {'dataset': 'CIFAR10',\n",
    "                            'tv_params': {'root': './data/',\n",
    "                                          'train': True,\n",
    "                                          'transform': transforms.Compose([\n",
    "                                                       transforms.RandomRotation(10),\n",
    "                                                       transforms.Resize(256),\n",
    "                                                       transforms.ToTensor()]),\n",
    "                                          'target_transform': None}},\n",
    "           'test_params': {'dataset': 'CIFAR10',\n",
    "                           'tv_params': {'root': './data/',\n",
    "                                         'train': False,\n",
    "                                         'transform': transforms.Compose([\n",
    "                                                      transforms.Resize(256),\n",
    "                                                      transforms.ToTensor()]),\n",
    "                                         'target_transform': None}}}\n",
    "\n",
    "metrics_params = {'report_interval': 10, \n",
    "                  'sk_metric_name': 'roc_auc_score', \n",
    "                  'sk_params': {'average': 'macro',\n",
    "                                'multi_class': 'ovr'}}\n",
    "\n",
    "opt_params = {'lr': 0.01}\n",
    "\n",
    "crit_params = {'reduction': 'sum'}\n",
    "\n",
    "sample_params = {'set_seed': 88,\n",
    "                 'splits': (.8,),\n",
    "                 'subset': .1}\n",
    "\n",
    "sched_params = {'factor': .5,\n",
    "                'patience': 2,\n",
    "                'cooldown': 2}\n",
    "\n",
    "l = Learn([TVDS,TVDS], \n",
    "          tv_model, \n",
    "          Selector, \n",
    "          Optimizer=Adam, \n",
    "          Scheduler=ReduceLROnPlateau, \n",
    "          Criterion=CrossEntropyLoss, \n",
    "          model_params=model_params, ds_params=ds_params, \n",
    "          sample_params=sample_params, opt_params=opt_params, \n",
    "          sched_params=sched_params, crit_params=crit_params,\n",
    "          metrics_params=metrics_params,\n",
    "          adapt=False, load_model=False, load_embed=False, save_model=False,\n",
    "          batch_size=16, epochs=10)"
   ]
  },
  {
   "cell_type": "code",
   "execution_count": null,
   "metadata": {},
   "outputs": [],
   "source": []
  }
 ],
 "metadata": {
  "kernelspec": {
   "display_name": "Python 3",
   "language": "python",
   "name": "python3"
  },
  "language_info": {
   "codemirror_mode": {
    "name": "ipython",
    "version": 3
   },
   "file_extension": ".py",
   "mimetype": "text/x-python",
   "name": "python",
   "nbconvert_exporter": "python",
   "pygments_lexer": "ipython3",
   "version": "3.7.9"
  }
 },
 "nbformat": 4,
 "nbformat_minor": 4
}
