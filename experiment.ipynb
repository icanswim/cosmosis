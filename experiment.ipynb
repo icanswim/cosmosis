{
 "cells": [
  {
   "cell_type": "code",
   "execution_count": null,
   "metadata": {},
   "outputs": [],
   "source": [
    "## This is a series of examples using the icanswim/cosmosis data science and machine learning repo"
   ]
  },
  {
   "cell_type": "code",
   "execution_count": 1,
   "metadata": {},
   "outputs": [],
   "source": [
    "from model import FFNet, tv_model\n",
    "from learning import Learn, Selector, Metrics\n",
    "from dataset import CDataset, SKDS, TVDS\n",
    "from dataset import ImageDatasetStats, AsTensor, Squeeze, DType\n",
    "\n",
    "from torch.optim import Adam\n",
    "from torch.nn import MSELoss, CrossEntropyLoss\n",
    "from torch.optim.lr_scheduler import ReduceLROnPlateau\n",
    "from torchvision import transforms"
   ]
  },
  {
   "cell_type": "code",
   "execution_count": 2,
   "metadata": {
    "tags": []
   },
   "outputs": [
    {
     "name": "stdout",
     "output_type": "stream",
     "text": [
      "bang\n",
      "CDataset created...\n"
     ]
    },
    {
     "data": {
      "text/plain": [
       "{'model_input': {'X1': tensor([0.2030, 0.3200, 0.2000, 0.2000, 0.2000, 0.2000], dtype=torch.float64),\n",
       "  'X2': tensor([0.3200, 0.2000, 0.2000, 0.2000, 0.2000], dtype=torch.float64),\n",
       "  'embed': [array([3, 1, 2])]},\n",
       " 'criterion_input': {'target': tensor([2.0100], dtype=torch.float64),\n",
       "  'embed': [array([4, 1, 4, 0, 0])]}}"
      ]
     },
     "execution_count": 2,
     "metadata": {},
     "output_type": "execute_result"
    }
   ],
   "source": [
    "#example cosmosis dataset (CDataset)\n",
    "import numpy as np\n",
    "\n",
    "class ExampleDataset(CDataset):\n",
    "\n",
    "    def load_data(self, boom='bust'):\n",
    "        \n",
    "        datadic = {1: {'feature_1': np.asarray([.04]),\n",
    "                       'feature_2': np.asarray([.02]),\n",
    "                       'feature_3': np.asarray(['z1']),\n",
    "                       'feature_4': np.asarray(['c','c','d']),\n",
    "                       'feature_5': np.asarray([1.1])},\n",
    "                   2: {'feature_1': np.asarray([.03]),\n",
    "                       'feature_2': np.asarray([.01]),\n",
    "                       'feature_3': np.asarray(['x1','z1','y1']),\n",
    "                       'feature_4': np.asarray(['d','a','d']),\n",
    "                       'feature_5': np.asarray([1.2])}}\n",
    "        \n",
    "        self.embed_lookup = {'feature_4': {'a': 1,'b': 2,'c': 3,'d': 4, '0': 0},\n",
    "                             'feature_3': {'z1': 1, 'y1': 2, 'x1': 3, '0': 0}}\n",
    "        \n",
    "        print(boom)\n",
    "        return datadic\n",
    "    \n",
    "class ExampleTransform():\n",
    "    def __call__(self, arr):\n",
    "        return np.add(arr, 2)\n",
    "    \n",
    "class ExampleTransformTwo():\n",
    "    def __call__(self, arr):\n",
    "        return np.multiply(arr, .1)\n",
    "    \n",
    "ds_params = {'train_params': {'input_dict': {'model_input': {'X1': ['feature_1','feature_5'],\n",
    "                                                             'X2': ['feature_5'],\n",
    "                                                             'embed': ['feature_3']},\n",
    "                                             'criterion_input': {'target': ['feature_2'],\n",
    "                                                                 'embed': ['feature_4']}},\n",
    "                              'transform': [ExampleTransform(), ExampleTransformTwo()],\n",
    "                              'target_transform': [ExampleTransform()],\n",
    "                              'pad': (5,),\n",
    "                              'pad_feats': ['feature_5','feature_4'],\n",
    "                              'boom': 'bang'}}\n",
    "    \n",
    "d = ExampleDataset(**ds_params['train_params'])\n",
    "d[2]"
   ]
  },
  {
   "cell_type": "code",
   "execution_count": 3,
   "metadata": {
    "tags": []
   },
   "outputs": [
    {
     "name": "stdout",
     "output_type": "stream",
     "text": [
      "creating scikit learn make_regression dataset...\n",
      "CDataset created...\n"
     ]
    },
    {
     "data": {
      "text/plain": [
       "{'model_input': {'features': tensor([ 2.0094,  0.7538,  0.9067, -0.4909, -0.9501])},\n",
       " 'criterion_input': {'target': tensor([196.9251])}}"
      ]
     },
     "execution_count": 3,
     "metadata": {},
     "output_type": "execute_result"
    }
   ],
   "source": [
    "#example cosmosis sklearn regression dataset wrapper SKDS\n",
    "ds_params = {'train_params': {'input_dict': {'model_input': {'features': ['X']},\n",
    "                                             'criterion_input': {'target': ['y']}},\n",
    "                              'dataset': 'make_regression',\n",
    "                              'sk_params': {'n_samples': 100,\n",
    "                                            'n_features': 5},\n",
    "                              'features_dtype': 'float32',\n",
    "                              'targets_dtype': 'float32'}}\n",
    "\n",
    "sk = SKDS(**ds_params['train_params'])\n",
    "\n",
    "sk[1]"
   ]
  },
  {
   "cell_type": "code",
   "execution_count": 4,
   "metadata": {
    "tags": []
   },
   "outputs": [
    {
     "name": "stdout",
     "output_type": "stream",
     "text": [
      "creating scikit learn make_classification dataset...\n",
      "CDataset created...\n"
     ]
    },
    {
     "data": {
      "text/plain": [
       "{'model_input': {'features': tensor([ 1.3976, -1.7824,  0.8156, -1.6553,  0.9686, -2.5961, -2.4737,  0.0388,\n",
       "           0.4580,  2.0529])},\n",
       " 'criterion_input': {'target': tensor([0])}}"
      ]
     },
     "execution_count": 4,
     "metadata": {},
     "output_type": "execute_result"
    }
   ],
   "source": [
    "#example cosmosis sklearn classification dataset wrapper (SKDS)\n",
    "ds_params = {'train_params': {'input_dict': {'model_input': {'features': ['X']},\n",
    "                                             'criterion_input': {'target': ['y']}},\n",
    "                              'dataset': 'make_classification',\n",
    "                              'features_dtype': 'float32',\n",
    "                              'targets_dtype': 'int64',\n",
    "                              'sk_params': {'n_samples': 100,\n",
    "                                            'n_features': 10,\n",
    "                                            'n_informative': 8,\n",
    "                                            'n_clusters_per_class': 2,\n",
    "                                            'flip_y': 0.05,\n",
    "                                            'class_sep': 0.01,\n",
    "                                            'n_classes': 4}}}\n",
    "\n",
    "sk = SKDS(**ds_params['train_params'])\n",
    "\n",
    "sk[1]"
   ]
  },
  {
   "cell_type": "code",
   "execution_count": 5,
   "metadata": {
    "tags": []
   },
   "outputs": [
    {
     "name": "stdout",
     "output_type": "stream",
     "text": [
      "creating torch vision MNIST dataset...\n",
      "CDataset created...\n"
     ]
    },
    {
     "data": {
      "text/plain": [
       "{'model_input': {'image': <PIL.Image.Image image mode=L size=224x224 at 0x7F3169873BB0>},\n",
       " 'criterion_input': {'target': 0}}"
      ]
     },
     "execution_count": 5,
     "metadata": {},
     "output_type": "execute_result"
    }
   ],
   "source": [
    "#example cosmosis torchvision image dataset wrapper (TVDS)\n",
    "ds_params={'dataset': 'MNIST',\n",
    "           'input_dict': {'model_input': {'features': ['images'],},\n",
    "                          'criterion_input': {'target': ['labels']}},\n",
    "           'tv_params': {'root': './data/',\n",
    "                         'train': True,\n",
    "                         'download': True,\n",
    "                         'transform': transforms.Compose([\n",
    "                                           transforms.Resize(224)]),\n",
    "                         'target_transform': None}}\n",
    "\n",
    "tvds = TVDS(**ds_params)\n",
    "tvds[1]"
   ]
  },
  {
   "cell_type": "code",
   "execution_count": 6,
   "metadata": {
    "tags": []
   },
   "outputs": [
    {
     "name": "stdout",
     "output_type": "stream",
     "text": [
      "creating torch vision MNIST dataset...\n",
      "CDataset created...\n",
      "images to process: 60000\n",
      "images processed: 10000\n",
      "images processed: 20000\n",
      "images processed: 30000\n",
      "images processed: 40000\n",
      "images processed: 50000\n",
      "images processed: 60000\n",
      "mean: [33.33091590401786], stddev: [73.70246726596685]\n",
      "mean:  [33.33091590401786]\n",
      "stddev:  [73.70246726596685]\n"
     ]
    }
   ],
   "source": [
    "#example cosmosis torchvision image dataset wrapper (TVDS) with transforms and PIL stats\n",
    "ds_params={'dataset': 'MNIST',\n",
    "           'tv_params': {'root': './data/',\n",
    "                         'train': True,\n",
    "                         'download': True,\n",
    "                         'transform': transforms.Compose([\n",
    "                                           transforms.Resize(224)]),\n",
    "                         'target_transform': None}}\n",
    "\n",
    "tvds = TVDS(**ds_params)\n",
    "ids = ImageDatasetStats(tvds)\n",
    "\n",
    "print('mean: ', ids.stats.mean)\n",
    "print('stddev: ', ids.stats.stddev)\n",
    "\n",
    "#mean: 33.3/255 = .13\n",
    "#stddev: 73.7/255 = .29"
   ]
  },
  {
   "cell_type": "code",
   "execution_count": 7,
   "metadata": {
    "tags": []
   },
   "outputs": [
    {
     "name": "stdout",
     "output_type": "stream",
     "text": [
      "creating scikit learn make_regression dataset...\n",
      "CDataset created...\n",
      "FFNet model loaded...\n",
      "CModel loaded...\n",
      "running model on gpu...\n",
      "learning time: 0:00:04.290147\n",
      "epoch: 0, lr: 0.01\n",
      "train loss: 543610.925925926, val loss: 380216.95170454547\n",
      "learning time: 0:00:13.146376\n",
      "epoch: 10, lr: 0.005\n",
      "train loss: 11753.380787037036, val loss: 10524.868829900568\n",
      "test loss: 7458.592595880682\n",
      "learning time: 0:00:21.558907\n"
     ]
    },
    {
     "data": {
      "image/png": "[encoded data removed]",
      "text/plain": [
       "<Figure size 432x288 with 1 Axes>"
      ]
     },
     "metadata": {
      "needs_background": "light"
     },
     "output_type": "display_data"
    }
   ],
   "source": [
    "#example cosmosis sklearn regression dataset wrapper (SKDS) with sklearn metrics (Metrics) and \n",
    "#custom model (FFNet)\n",
    "model_params = {'in_channels': 256, \n",
    "                'hidden': 512, \n",
    "                'out_channels': 1, \n",
    "                'model_name': 'funnel'}\n",
    "\n",
    "ds_params = {'train_params': {'input_dict': {'model_input': {'X': ['X']},\n",
    "                                             'criterion_input': {'target': ['y']}},\n",
    "                              'features_dtype': 'float32',\n",
    "                              'targets_dtype': 'float32',\n",
    "                              'dataset': 'make_regression',\n",
    "                              'as_tensor': True,\n",
    "                              'transform': [],\n",
    "                              'sk_params': {'n_samples':20000,\n",
    "                                            'n_features': 256,\n",
    "                                            'n_informative': 200}}}\n",
    "             \n",
    "metrics_params = {'report_interval': 10,\n",
    "                  'log_plot': True}                         \n",
    "             \n",
    "opt_params = {'lr': 0.01}\n",
    "\n",
    "crit_params = {'reduction': 'sum'}\n",
    "\n",
    "sample_params = {'set_seed': 88,\n",
    "                 'splits': (.7,.15)}\n",
    "\n",
    "sched_params = {'factor': .5,\n",
    "                'patience': 2,\n",
    "                'cooldown': 2}\n",
    "\n",
    "l = Learn([SKDS], \n",
    "          FFNet,\n",
    "          Metrics=Metrics,\n",
    "          Sampler=Selector, \n",
    "          Optimizer=Adam, \n",
    "          Scheduler=ReduceLROnPlateau, \n",
    "          Criterion=MSELoss,\n",
    "          model_params=model_params, ds_params=ds_params, sample_params=sample_params,\n",
    "          opt_params=opt_params, sched_params=sched_params, crit_params=crit_params,\n",
    "          metrics_params=metrics_params, \n",
    "          batch_size=256, epochs=20, gpu=True)"
   ]
  },
  {
   "cell_type": "code",
   "execution_count": 8,
   "metadata": {
    "tags": []
   },
   "outputs": [
    {
     "name": "stdout",
     "output_type": "stream",
     "text": [
      "creating scikit learn make_classification dataset...\n",
      "CDataset created...\n",
      "FFNet model loaded...\n",
      "CModel loaded...\n",
      "running model on gpu...\n",
      "learning time: 0:00:04.790621\n",
      "epoch: 0, lr: 0.01\n",
      "train loss: 0.01057477577354063, val loss: 0.009952455177966855\n",
      "sklearn train metric: 0.587022363336675, sklearn validation metric: 0.6645318930706913\n",
      "learning time: 0:00:19.175992\n",
      "epoch: 3, lr: 0.01\n",
      "train loss: 0.006750446215490282, val loss: 0.00652018472011018\n",
      "sklearn train metric: 0.8557977404822346, sklearn validation metric: 0.8683720552363906\n",
      "learning time: 0:00:33.563801\n",
      "epoch: 6, lr: 0.01\n",
      "train loss: 0.004193985247523985, val loss: 0.004313438949692581\n",
      "sklearn train metric: 0.946613443127134, sklearn validation metric: 0.9437413609822886\n",
      "learning time: 0:00:47.865806\n",
      "epoch: 9, lr: 0.01\n",
      "train loss: 0.0033880400807415937, val loss: 0.0038897354577660053\n",
      "sklearn train metric: 0.961709633614418, sklearn validation metric: 0.9518226193622897\n",
      "test loss: 0.003745454622225629\n",
      "learning time: 0:00:48.554822\n",
      "sklearn test metric: \n",
      "0.9553306112483434 \n",
      "\n"
     ]
    },
    {
     "data": {
      "image/png": "[encoded data removed]",
      "text/plain": [
       "<Figure size 432x288 with 1 Axes>"
      ]
     },
     "metadata": {
      "needs_background": "light"
     },
     "output_type": "display_data"
    }
   ],
   "source": [
    "#example cosmosis sklearn classification dataset wrapper (SKDS) with sklearn metrics (Metrics) and \n",
    "#custom model (FFNet)\n",
    "model_params = {'in_channels': 256, \n",
    "                'hidden': 128, \n",
    "                'out_channels': 4, \n",
    "                'model_name': 'funnel'}\n",
    "\n",
    "ds_params = {'train_params': {'input_dict': {'model_input': {'X': ['X']},\n",
    "                                             'criterion_input': {'target': ['y']}},\n",
    "                              'features_dtype': 'float32',\n",
    "                              'targets_dtype': 'int64',\n",
    "                              'dataset': 'make_classification',\n",
    "                              'sk_params': {'n_samples': 100000,\n",
    "                                            'n_features': 300,\n",
    "                                            'n_informative': 200,\n",
    "                                            'n_clusters_per_class': 3,\n",
    "                                            'flip_y': 0.05,\n",
    "                                            'class_sep': 0.1,\n",
    "                                            'n_classes': 4}}}\n",
    "                                     \n",
    "metrics_params = {'report_interval': 10,\n",
    "                  'log_plot': True,\n",
    "                  'sk_metric_name': 'roc_auc_score',\n",
    "                  'sk_params': {'average': 'macro',\n",
    "                                'multi_class': 'ovr'}}\n",
    "\n",
    "opt_params = {'lr': 0.01}\n",
    "\n",
    "crit_params = {}\n",
    "\n",
    "sample_params = {'set_seed': 88,\n",
    "                 'splits': (.7,.15)}\n",
    "\n",
    "sched_params = {'factor': .5,\n",
    "                'patience': 5,\n",
    "                'cooldown': 5}\n",
    "\n",
    "l = Learn([SKDS], \n",
    "          FFNet, \n",
    "          Sampler=Selector,\n",
    "          Metrics=Metrics,\n",
    "          Optimizer=Adam, \n",
    "          Scheduler=ReduceLROnPlateau, \n",
    "          Criterion=CrossEntropyLoss,\n",
    "          model_params=model_params, ds_params=ds_params, \n",
    "          sample_params=sample_params, opt_params=opt_params, \n",
    "          sched_params=sched_params, crit_params=crit_params,\n",
    "          metrics_params=metrics_params,\n",
    "          adapt=(300,256,.2), batch_size=128, epochs=10, squeeze_y=True, save_model=True)"
   ]
  },
  {
   "cell_type": "code",
   "execution_count": 9,
   "metadata": {
    "tags": []
   },
   "outputs": [
    {
     "name": "stdout",
     "output_type": "stream",
     "text": [
      "creating scikit learn make_classification dataset...\n",
      "CDataset created...\n",
      "FFNet model loaded...\n",
      "CModel loaded...\n",
      "model loaded from pickle...\n",
      "running model on gpu...\n",
      "inference 2023-06-21 14:31:09.212957 complete and saved to csv...\n"
     ]
    }
   ],
   "source": [
    "#example inference with cosmosis sklearn classification dataset wrapper (SKDS) and custom model (FFNet)\n",
    "model_params = {'in_channels': 256, \n",
    "                'hidden': 128, \n",
    "                'out_channels': 4, \n",
    "                'model_name': 'funnel'}\n",
    "\n",
    "ds_params = {'train_params': {'input_dict': {'model_input': {'X': ['X']},\n",
    "                                             'criterion_input': {'target': ['y']}},\n",
    "                              'features_dtype': 'float32',\n",
    "                              'targets_dtype': 'int64',\n",
    "                              'dataset': 'make_classification',\n",
    "                              'sk_params': {'n_samples': 10000,\n",
    "                                            'n_features': 300,\n",
    "                                            'n_informative': 200,\n",
    "                                            'n_clusters_per_class': 3,\n",
    "                                            'flip_y': 0.05,\n",
    "                                            'class_sep': 0.1,\n",
    "                                            'n_classes': 4}}}\n",
    "                                     \n",
    "metrics_params = {'report_interval': 10, \n",
    "                  'sk_metric_name': 'roc_auc_score',\n",
    "                  'sk_params': {'average': 'macro',\n",
    "                                'multi_class': 'ovr'}}\n",
    "\n",
    "opt_params = {'lr': 0.01}\n",
    "\n",
    "sample_params = {'set_seed': 88,\n",
    "                 'splits': (.7,.15)}\n",
    "\n",
    "sched_params = {'factor': .5,\n",
    "                'patience': 5,\n",
    "                'cooldown': 5}\n",
    "\n",
    "l = Learn([SKDS], \n",
    "          FFNet, \n",
    "          Sampler=Selector,\n",
    "          Metrics=Metrics,\n",
    "          Optimizer=Adam, \n",
    "          Scheduler=ReduceLROnPlateau, \n",
    "          Criterion=None,\n",
    "          model_params=model_params, ds_params=ds_params, \n",
    "          sample_params=sample_params, opt_params=opt_params, \n",
    "          sched_params=sched_params, crit_params=crit_params,\n",
    "          metrics_params=metrics_params,\n",
    "          batch_size=128, epochs=1, squeeze_y=True, load_model='20221025_1522.pth')"
   ]
  },
  {
   "cell_type": "code",
   "execution_count": 10,
   "metadata": {
    "tags": []
   },
   "outputs": [
    {
     "name": "stdout",
     "output_type": "stream",
     "text": [
      "creating torch vision CIFAR10 dataset...\n",
      "Files already downloaded and verified\n",
      "CDataset created...\n",
      "creating torch vision CIFAR10 dataset...\n",
      "Files already downloaded and verified\n",
      "CDataset created...\n",
      "torchvision model resnet18 loaded...\n",
      "running model on gpu...\n",
      "learning time: 0:00:04.984827\n",
      "epoch: 0, lr: 0.01\n",
      "train loss: 2.3450133905410766, val loss: 2.0055745455526535\n",
      "sklearn train metric: 0.6419085766727729, sklearn validation metric: 0.7404225890908853\n",
      "learning time: 0:00:19.420145\n",
      "epoch: 3, lr: 0.01\n",
      "train loss: 1.691453667640686, val loss: 1.734626470073577\n",
      "sklearn train metric: 0.824172408530325, sklearn validation metric: 0.8263242463589788\n",
      "test loss: 1.7211327427864074\n",
      "learning time: 0:00:23.048207\n",
      "sklearn test metric: \n",
      "0.8282643444444444 \n",
      "\n"
     ]
    },
    {
     "data": {
      "image/png": "[encoded data removed]",
      "text/plain": [
       "<Figure size 432x288 with 1 Axes>"
      ]
     },
     "metadata": {
      "needs_background": "light"
     },
     "output_type": "display_data"
    }
   ],
   "source": [
    "#example cosmosis torchvision image dataset wrapper(TVDS),transforms (transforms) and \n",
    "#torchvision model wrapper (tv_model)\n",
    "model_params = {'model_name': 'resnet18',\n",
    "                'in_channels': 3,\n",
    "                'tv_params': {'num_classes': 10}}\n",
    "\n",
    "ds_params={'train_params': {'dataset': 'CIFAR10',\n",
    "                            'tv_params': {'root': './data/',\n",
    "                                          'train': True,\n",
    "                                          'download': True,\n",
    "                                          'transform': transforms.Compose([\n",
    "                                                           transforms.RandomRotation(10),\n",
    "                                                           transforms.Resize(64),\n",
    "                                                           transforms.ToTensor()]),\n",
    "                                          'target_transform': None,\n",
    "                                          'download': True}},\n",
    "           'test_params': {'dataset': 'CIFAR10',\n",
    "                           'tv_params': {'root': './data/',\n",
    "                                         'train': False,\n",
    "                                         'download': True,\n",
    "                                         'transform': transforms.Compose([\n",
    "                                                         transforms.Resize(64),\n",
    "                                                         transforms.ToTensor()]),\n",
    "                                         'target_transform': None,\n",
    "                                         'download': True}}}\n",
    "\n",
    "metrics_params = {'report_interval': 10, \n",
    "                  'sk_metric_name': 'roc_auc_score', \n",
    "                  'sk_params': {'average': 'macro',\n",
    "                                'multi_class': 'ovr'}}\n",
    "\n",
    "opt_params = {'lr': 0.01}\n",
    "\n",
    "crit_params = {'reduction': 'sum'}\n",
    "\n",
    "sample_params = {'set_seed': 88,\n",
    "                 'splits': (.8,),\n",
    "                 'subset': .1}\n",
    "\n",
    "sched_params = {'factor': .5,\n",
    "                'patience': 1,\n",
    "                'cooldown': 1}\n",
    "\n",
    "l = Learn([TVDS,TVDS], \n",
    "          tv_model, \n",
    "          Selector, \n",
    "          Optimizer=Adam, Scheduler=ReduceLROnPlateau, Criterion=CrossEntropyLoss, \n",
    "          model_params=model_params, ds_params=ds_params, sample_params=sample_params, \n",
    "          opt_params=opt_params, sched_params=sched_params, crit_params=crit_params,\n",
    "          metrics_params=metrics_params, \n",
    "          batch_size=16, epochs=4)"
   ]
  },
  {
   "cell_type": "code",
   "execution_count": 11,
   "metadata": {
    "tags": []
   },
   "outputs": [
    {
     "name": "stdout",
     "output_type": "stream",
     "text": [
      "creating torch vision CIFAR10 dataset...\n",
      "CDataset created...\n",
      "creating torch vision CIFAR10 dataset...\n",
      "CDataset created...\n",
      "torchvision model resnext50_32x4d loaded...\n",
      "running model on gpu...\n",
      "learning time: 0:01:01.230114\n",
      "epoch: 0, lr: 0.01\n",
      "train loss: 2.6067330861091613, val loss: 2.0985205346538174\n",
      "sklearn train metric: 0.6043791391682767, sklearn validation metric: 0.6986131649629346\n",
      "learning time: 0:02:02.075234\n",
      "epoch: 1, lr: 0.01\n",
      "train loss: 2.087089835643768, val loss: 2.0121621777934413\n",
      "sklearn train metric: 0.6909001916102684, sklearn validation metric: 0.740825751660646\n",
      "learning time: 0:03:03.218707\n",
      "epoch: 2, lr: 0.01\n",
      "train loss: 2.0441771759986875, val loss: 1.9955853839074411\n",
      "sklearn train metric: 0.7137009067181914, sklearn validation metric: 0.7416448333559156\n",
      "learning time: 0:04:04.572886\n",
      "epoch: 3, lr: 0.01\n",
      "train loss: 1.9637930002212525, val loss: 1.929841774125253\n",
      "sklearn train metric: 0.7437155063770995, sklearn validation metric: 0.7672657331533334\n",
      "test loss: 1.9240572338104247\n",
      "learning time: 0:04:47.297989\n",
      "sklearn test metric: \n",
      "0.7691118333333333 \n",
      "\n"
     ]
    },
    {
     "data": {
      "image/png": "[encoded data removed]",
      "text/plain": [
       "<Figure size 432x288 with 1 Axes>"
      ]
     },
     "metadata": {
      "needs_background": "light"
     },
     "output_type": "display_data"
    }
   ],
   "source": [
    "#example cosmosis torchvision dataset wrapper (TVDS) and torchvision model wrapper (tv_model)\n",
    "model_params = {'model_name': 'resnext50_32x4d',\n",
    "                'in_channels': 3,\n",
    "                'tv_params': {'num_classes': 10}}\n",
    "\n",
    "ds_params={'train_params': {'dataset': 'CIFAR10',\n",
    "                            'tv_params': {'root': './data/',\n",
    "                                          'train': True,\n",
    "                                          'transform': transforms.Compose([\n",
    "                                                       transforms.RandomRotation(10),\n",
    "                                                       transforms.Resize(256),\n",
    "                                                       transforms.ToTensor()]),\n",
    "                                          'target_transform': None}},\n",
    "           'test_params': {'dataset': 'CIFAR10',\n",
    "                           'tv_params': {'root': './data/',\n",
    "                                         'train': False,\n",
    "                                         'transform': transforms.Compose([\n",
    "                                                      transforms.Resize(256),\n",
    "                                                      transforms.ToTensor()]),\n",
    "                                         'target_transform': None}}}\n",
    "\n",
    "metrics_params = {'report_interval': 10, \n",
    "                  'sk_metric_name': 'roc_auc_score', \n",
    "                  'sk_params': {'average': 'macro',\n",
    "                                'multi_class': 'ovr'}}\n",
    "\n",
    "opt_params = {'lr': 0.01}\n",
    "\n",
    "crit_params = {'reduction': 'sum'}\n",
    "\n",
    "sample_params = {'set_seed': 88,\n",
    "                 'splits': (.8,),\n",
    "                 'subset': .1}\n",
    "\n",
    "sched_params = {'factor': .5,\n",
    "                'patience': 2,\n",
    "                'cooldown': 2}\n",
    "\n",
    "l = Learn([TVDS,TVDS], \n",
    "          tv_model, \n",
    "          Selector, \n",
    "          Optimizer=Adam, \n",
    "          Scheduler=ReduceLROnPlateau, \n",
    "          Criterion=CrossEntropyLoss, \n",
    "          model_params=model_params, ds_params=ds_params, \n",
    "          sample_params=sample_params, opt_params=opt_params, \n",
    "          sched_params=sched_params, crit_params=crit_params,\n",
    "          metrics_params=metrics_params,\n",
    "          batch_size=16, epochs=4)"
   ]
  },
  {
   "cell_type": "code",
   "execution_count": null,
   "metadata": {},
   "outputs": [],
   "source": []
  }
 ],
 "metadata": {
  "kernelspec": {
   "display_name": "Python 3",
   "language": "python",
   "name": "python3"
  },
  "language_info": {
   "codemirror_mode": {
    "name": "ipython",
    "version": 3
   },
   "file_extension": ".py",
   "mimetype": "text/x-python",
   "name": "python",
   "nbconvert_exporter": "python",
   "pygments_lexer": "ipython3",
   "version": "3.8.12"
  }
 },
 "nbformat": 4,
 "nbformat_minor": 4
}
