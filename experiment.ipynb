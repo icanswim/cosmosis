{
 "cells": [
  {
   "cell_type": "code",
   "execution_count": null,
   "metadata": {},
   "outputs": [],
   "source": [
    "## This is a series of examples demonstrating the use of the icanswim/cosmosis repo \n",
    "## for data science and machine learning projects.\n",
    "## This repo is intended to be used as the boiler plate for data science and machine learning projects.\n",
    "## See the icanswim/qchem repo for a demonstration of the use of this (icanswim/cosmosis) repo."
   ]
  },
  {
   "cell_type": "code",
   "execution_count": 1,
   "metadata": {},
   "outputs": [],
   "source": [
    "from model import FFNet, tv_model, IdentityModel, GPT\n",
    "from learning import Learn, Selector, Metrics\n",
    "from dataset import CDataset, SKDS, TVDS, ExampleDataset\n",
    "from dataset import ImageDatasetStats, AsTensor, SqueezeN, DType, Pad1d, EmbedLookup, Reshape\n",
    "\n",
    "from torch.optim import Adam\n",
    "from torch.nn import MSELoss, CrossEntropyLoss\n",
    "from torch.optim.lr_scheduler import ReduceLROnPlateau\n",
    "from torchvision import transforms\n",
    "\n",
    "import numpy as np\n"
   ]
  },
  {
   "cell_type": "code",
   "execution_count": null,
   "metadata": {
    "jupyter": {
     "source_hidden": true
    },
    "scrolled": true
   },
   "outputs": [],
   "source": [
    "#Cosmosis blank parameters\n",
    "\n",
    "lookup_feature_3 = ExampleDataset.embed_lookup['feature_3']\n",
    "ds_param = {'train_param': {'input_dict': {'X': ['feature_1','feature_2'],\n",
    "                                           'feature_3': ['feature_3']},\n",
    "                            'transforms': {'feature_1': [ExampleTransform(10), AsTensor()],\n",
    "                                           'feature_2': [Reshape(-1), AsTensor()],\n",
    "                                           'feature_3': [Pad1d(5), EmbedLookup(lookup_feature_3), AsTensor()]},\n",
    "                            'boom': 'bang'}}\n",
    "\n",
    "model_param = {'some_param': 128,\n",
    "               'X': None,\n",
    "               'y': 'y',\n",
    "               'embed_param': {'feature_3': (voc,vec,padding_idx,trainable),\n",
    "                               'some_param': True,\n",
    "                               'flatten': True}} \n",
    "                                       \n",
    "metrics_param = {'report_interval': 10,\n",
    "                 'log_plot': True,\n",
    "                 'min_lr': .005} #break if learning rate falls below                        \n",
    "             \n",
    "opt_param = {'lr': 0.01}\n",
    "\n",
    "crit_param = {}\n",
    "\n",
    "sample_param = {'set_seed': 88,\n",
    "                'splits': (.7,.15)}\n",
    "\n",
    "sched_param = {'factor': .5, \n",
    "               'patience': 2,\n",
    "               'cooldown': 2}\n",
    "\n",
    "learn = Learn([DS], \n",
    "              Model,\n",
    "              Metrics=Metrics,\n",
    "              Sampler=Selector, \n",
    "              Optimizer=Optimizer, \n",
    "              Scheduler=ReduceLROnPlateau, \n",
    "              Criterion=LossFunction,\n",
    "              model_param=model_param, ds_param=ds_param, sample_param=sample_param,\n",
    "              opt_param=opt_param, sched_param=sched_param, crit_param=crit_param,\n",
    "              metrics_param=metrics_param, \n",
    "              batch_size=12, epochs=1, gpu=True)\n"
   ]
  },
  {
   "cell_type": "code",
   "execution_count": 2,
   "metadata": {
    "collapsed": true,
    "jupyter": {
     "outputs_hidden": true,
     "source_hidden": true
    },
    "tags": []
   },
   "outputs": [
    {
     "name": "stdout",
     "output_type": "stream",
     "text": [
      "bang\n",
      "CDataset created...\n",
      "ed[1]:  {'X2': tensor([10.0400,  0.0200,  0.0300,  0.0400,  0.0500], dtype=torch.float64), 'X3': tensor([0.0200, 0.0300, 0.0400, 0.0500], dtype=torch.float64), 'embed_3': tensor([1, 0, 0, 0, 0]), 'embed_4': tensor([3, 3, 4, 0, 0]), 'target': tensor([1.1000], dtype=torch.float64)}\n",
      "default weight initialization...\n",
      "IdentityModel model loaded...\n",
      "IdentityModel(\n",
      "  (layers): ModuleList(\n",
      "    (0): Identity()\n",
      "  )\n",
      ")\n",
      "embedding_layer:  {'embed_3': Embedding(4, 8, padding_idx=0), 'embed_4': Embedding(5, 8, padding_idx=0)}\n",
      "out:  tensor([10.0400,  0.0200,  0.0300,  0.0400,  0.0500,  0.0200,  0.0300,  0.0400,\n",
      "         0.0500,  0.6195,  0.3683, -0.9590, -0.0136, -0.4120,  1.1516, -0.1930,\n",
      "        -1.9058,  0.0000,  0.0000,  0.0000,  0.0000,  0.0000,  0.0000,  0.0000,\n",
      "         0.0000,  0.0000,  0.0000,  0.0000,  0.0000,  0.0000,  0.0000,  0.0000,\n",
      "         0.0000,  0.0000,  0.0000,  0.0000,  0.0000,  0.0000,  0.0000,  0.0000,\n",
      "         0.0000,  0.0000,  0.0000,  0.0000,  0.0000,  0.0000,  0.0000,  0.0000,\n",
      "         0.0000,  0.8161, -1.0267,  1.8515,  0.6187,  0.8885, -1.5783,  0.0590,\n",
      "        -0.9668,  0.8161, -1.0267,  1.8515,  0.6187,  0.8885, -1.5783,  0.0590,\n",
      "        -0.9668,  1.1422, -1.5596, -0.3878,  1.6069, -0.1920, -0.4693, -1.0542,\n",
      "         0.2670,  0.0000,  0.0000,  0.0000,  0.0000,  0.0000,  0.0000,  0.0000,\n",
      "         0.0000,  0.0000,  0.0000,  0.0000,  0.0000,  0.0000,  0.0000,  0.0000,\n",
      "         0.0000], dtype=torch.float64)\n",
      "out.shape:  torch.Size([89])\n"
     ]
    }
   ],
   "source": [
    "#example cosmosis dataset (CDataset)\n",
    "\n",
    "class ExampleTransform():\n",
    "    def __init__(self, num):\n",
    "        self.num = num\n",
    "        \n",
    "    def __call__(self, arr):\n",
    "        return np.add(arr, self.num)\n",
    "\n",
    "\n",
    "class ExampleDataset(CDataset):\n",
    "    #zero is the lookup for the padding index \n",
    "    embed_lookup = {'feature_4': {'a': 1,'b': 2,'c': 3,'d': 4, '0': 0},\n",
    "                    'feature_3': {'z1': 1, 'y1': 2, 'x1': 3, '0': 0},\n",
    "                    'feature_6': {'e': 1, 'f': 2, 'g': 3, '0': 0}}\n",
    "    \n",
    "    def load_data(self, boom='bust'):\n",
    "        \n",
    "        datadic = {1: {'feature_1': np.asarray([.04]),\n",
    "                       'feature_2': np.asarray([[.02,.03],[.04,.05]]),\n",
    "                       'feature_3': np.asarray(['z1']),\n",
    "                       'feature_4': np.asarray(['c','c','d']),\n",
    "                       'feature_5': np.asarray([1.1]),\n",
    "                       'feature_6': np.asarray(['e','f','g'])},\n",
    "                   2: {'feature_1': np.asarray([.03]),\n",
    "                       'feature_2': np.asarray([[.1,.2],[.3,.4]]),\n",
    "                       'feature_3': np.asarray(['x1','z1','y1']),\n",
    "                       'feature_4': np.asarray(['d','a','d']),\n",
    "                       'feature_5': np.asarray([1.2]),\n",
    "                       'feature_6': np.asarray(['f','f','g'])}}\n",
    "        \n",
    "        print(boom)\n",
    "        return datadic\n",
    "    \n",
    "lookup_feature_3 = ExampleDataset.embed_lookup['feature_3']\n",
    "lookup_feature_4 = ExampleDataset.embed_lookup['feature_4']\n",
    "lookup_feature_6 = ExampleDataset.embed_lookup['feature_6']\n",
    "ds_param = {'train_param': {'input_dict': {\n",
    "                                           'X2': ['feature_1','feature_2'], \n",
    "                                           'X3': ['feature_2'],\n",
    "                                           'embed_3': ['feature_3'],\n",
    "                                           'embed_4': ['feature_4'],\n",
    "                                           'target': ['feature_5'],\n",
    "                                            },\n",
    "                            'transforms': {'feature_1': [ExampleTransform(10), Reshape((-1)), AsTensor()],\n",
    "                                           'feature_2': [Reshape((-1)), AsTensor()],\n",
    "                                           'feature_3': [Pad1d(5), EmbedLookup(lookup_feature_3), AsTensor()],\n",
    "                                           'feature_4': [Pad1d(5), EmbedLookup(lookup_feature_4), AsTensor()],\n",
    "                                           'feature_5': [AsTensor()],\n",
    "                                           'feature_6': [Pad1d(5), EmbedLookup(lookup_feature_6), AsTensor()]},\n",
    "                            'boom': 'bang'}}\n",
    "    \n",
    "ed = ExampleDataset(**ds_param['train_param'])\n",
    "print('ed[1]: ', ed[1])\n",
    "\n",
    "model_param = {'device': 'cpu',\n",
    "               'X': ['X2', 'X3'],\n",
    "               'y': 'target',\n",
    "               'embed_param': {'embed_3': (4,8,0,False),\n",
    "                               'embed_4': (5,8,0,False),\n",
    "                               'flatten': True}\n",
    "              }\n",
    "\n",
    "im = IdentityModel(model_param)\n",
    "print(im)\n",
    "print('embedding_layer: ', im.embedding_layer)\n",
    "\n",
    "out = im(ed[1])\n",
    "print('out: ', out)\n",
    "print('out.shape: ', out.shape) # (1+4+4+5*8+5*8) = 89\n"
   ]
  },
  {
   "cell_type": "code",
   "execution_count": 3,
   "metadata": {
    "collapsed": true,
    "jupyter": {
     "outputs_hidden": true,
     "source_hidden": true
    },
    "tags": []
   },
   "outputs": [
    {
     "name": "stdout",
     "output_type": "stream",
     "text": [
      "creating scikit learn make_regression dataset...\n",
      "CDataset created...\n"
     ]
    },
    {
     "data": {
      "text/plain": [
       "{'model_input': array([ 0.8079025 , -1.1590883 ,  0.28677833,  0.3941077 , -0.2330085 ],\n",
       "       dtype=float32),\n",
       " 'y': array([52.318882], dtype=float32)}"
      ]
     },
     "execution_count": 3,
     "metadata": {},
     "output_type": "execute_result"
    }
   ],
   "source": [
    "#example cosmosis sklearn regression dataset wrapper (SKDS)\n",
    "                            \n",
    "ds_param = {'train_param': {'input_dict': {'model_input': ['X'],\n",
    "                                           'y': ['y']},\n",
    "                            'dataset': 'make_regression',\n",
    "                            'sk_param': {'n_samples': 100,\n",
    "                                         'n_features': 5},\n",
    "                            'features_dtype': 'float32',\n",
    "                            'targets_dtype': 'float32'}}\n",
    "\n",
    "sk = SKDS(**ds_param['train_param'])\n",
    "\n",
    "sk[1]\n"
   ]
  },
  {
   "cell_type": "code",
   "execution_count": 4,
   "metadata": {
    "collapsed": true,
    "jupyter": {
     "outputs_hidden": true,
     "source_hidden": true
    },
    "scrolled": true,
    "tags": []
   },
   "outputs": [
    {
     "name": "stdout",
     "output_type": "stream",
     "text": [
      "creating scikit learn make_classification dataset...\n",
      "CDataset created...\n",
      "{'X': tensor([ 0.2125,  0.9577,  0.8292,  1.4587, -2.9232,  1.5133, -2.9606, -1.7480,\n",
      "        -6.6397,  9.2826, -0.9913,  0.1391, -5.8553, -1.4701, -0.5925, -3.7152,\n",
      "        -0.6961,  1.8623, -0.8232,  0.9121,  0.9071, -2.8342, -1.4038, -0.5846,\n",
      "        -0.8562,  2.1699, -1.6000, -1.2357, -2.7278,  4.0419]), 'y': tensor([0])}\n"
     ]
    }
   ],
   "source": [
    "#example cosmosis sklearn classification dataset wrapper (SKDS)\n",
    "ds_param = {'train_param': {'input_dict': {'X': ['X'],\n",
    "                                           'y': ['y']},\n",
    "                            'features_dtype': 'float32',\n",
    "                            'targets_dtype': 'int64',\n",
    "                            'transforms': {'y': [AsTensor()],\n",
    "                                           'X': [AsTensor()]},\n",
    "                            'dataset': 'make_classification',\n",
    "                            'sk_param': {'n_samples': 1000,\n",
    "                                         'n_features': 30,\n",
    "                                         'n_informative': 20,\n",
    "                                         'n_clusters_per_class': 3,\n",
    "                                         'flip_y': 0.05,\n",
    "                                         'class_sep': 0.1,\n",
    "                                         'n_classes': 4}}}\n",
    "\n",
    "sk = SKDS(**ds_param['train_param'])\n",
    "\n",
    "print(sk[1])\n"
   ]
  },
  {
   "cell_type": "code",
   "execution_count": 5,
   "metadata": {
    "collapsed": true,
    "jupyter": {
     "outputs_hidden": true,
     "source_hidden": true
    },
    "tags": []
   },
   "outputs": [
    {
     "name": "stdout",
     "output_type": "stream",
     "text": [
      "creating torch vision MNIST dataset...\n",
      "CDataset created...\n"
     ]
    },
    {
     "data": {
      "text/plain": [
       "{'image': <PIL.Image.Image image mode=L size=224x224>, 'y': 0}"
      ]
     },
     "execution_count": 5,
     "metadata": {},
     "output_type": "execute_result"
    }
   ],
   "source": [
    "#example cosmosis torchvision image dataset wrapper (TVDS)\n",
    "ds_param = {'train_param': {'input_dict': {'features': ['images'],\n",
    "                                           'y': ['labels']},\n",
    "                            'dataset': 'MNIST',\n",
    "                            'tv_param': {'root': './data/',\n",
    "                                         'train': True,\n",
    "                                         'download': True,\n",
    "                                         'transform': transforms.Compose([transforms.Resize(224)]),\n",
    "                                         'target_transform': None}}}\n",
    "\n",
    "tvds = TVDS(**ds_param['train_param'])\n",
    "tvds[1]\n"
   ]
  },
  {
   "cell_type": "code",
   "execution_count": 6,
   "metadata": {
    "collapsed": true,
    "jupyter": {
     "outputs_hidden": true,
     "source_hidden": true
    },
    "tags": []
   },
   "outputs": [
    {
     "name": "stdout",
     "output_type": "stream",
     "text": [
      "creating torch vision MNIST dataset...\n",
      "CDataset created...\n",
      "images to process: 60000\n",
      "images processed: 10000\n",
      "images processed: 20000\n",
      "images processed: 30000\n",
      "images processed: 40000\n",
      "images processed: 50000\n",
      "images processed: 60000\n",
      "mean: [33.33091590401786], stddev: [73.70246726596685]\n",
      "mean:  [33.33091590401786]\n",
      "stddev:  [73.70246726596685]\n"
     ]
    }
   ],
   "source": [
    "#example cosmosis torchvision image dataset wrapper (TVDS) with transforms and PIL stats\n",
    "ds_param={'dataset': 'MNIST',\n",
    "          'tv_param': {'root': './data/',\n",
    "                       'train': True,\n",
    "                       'download': True,\n",
    "                       'transform': transforms.Compose([transforms.Resize(224)]),\n",
    "                       'target_transform': None}}\n",
    "\n",
    "tvds = TVDS(**ds_param)\n",
    "ids = ImageDatasetStats(tvds)\n",
    "\n",
    "print('mean: ', ids.stats.mean)\n",
    "print('stddev: ', ids.stats.stddev)\n",
    "\n",
    "#mean: 33.3/255 = .13\n",
    "#stddev: 73.7/255 = .29"
   ]
  },
  {
   "cell_type": "code",
   "execution_count": 2,
   "metadata": {
    "collapsed": true,
    "jupyter": {
     "outputs_hidden": true,
     "source_hidden": true
    },
    "scrolled": true,
    "tags": []
   },
   "outputs": [
    {
     "name": "stdout",
     "output_type": "stream",
     "text": [
      "creating scikit learn make_regression dataset...\n",
      "CDataset created...\n",
      "FFNet model loaded...\n",
      "applying _init_weights...\n",
      "FFNet model loaded...\n",
      "running model on cpu...\n",
      "\n",
      ".....................\n",
      "\n",
      "total elapsed time: 0:00:10.591079\n",
      "epoch: 8\n",
      "y_pred:  tensor([-765.3620])\n",
      "y:  tensor([-718.4207])\n",
      "train loss: 17433.07650336869, val loss: 18510.233419667118\n",
      "lr: 0.01\n",
      "\n",
      ".....................\n",
      "\n",
      "total elapsed time: 0:00:21.120148\n",
      "epoch: 17\n",
      "y_pred:  tensor([306.8396])\n",
      "y:  tensor([349.1372])\n",
      "train loss: 14391.144903060493, val loss: 16172.335152004076\n",
      "lr: 0.0025\n",
      "early stopping!  learning rate is below the set minimum...\n",
      "\n",
      "........final........\n",
      "\n",
      "total learning time: 0:00:29.671436\n",
      "test loss: 13527.588272758152\n"
     ]
    },
    {
     "data": {
      "image/png": "[encoded data removed]",
      "text/plain": [
       "<Figure size 640x480 with 1 Axes>"
      ]
     },
     "metadata": {},
     "output_type": "display_data"
    }
   ],
   "source": [
    "#example cosmosis sklearn regression dataset wrapper (SKDS) with sklearn metrics (Metrics) and \n",
    "#custom model (FFNet) \n",
    "\n",
    "model_param = {'in_channels': 256, \n",
    "                'hidden': 512, \n",
    "                'out_channels': 1, \n",
    "                'model_name': 'funnel'}\n",
    "\n",
    "ds_param = {'train_param': {'input_dict': {'X': ['X'],\n",
    "                                           'y': ['y']},\n",
    "                            'features_dtype': 'float32',\n",
    "                            'targets_dtype': 'float32',\n",
    "                            'dataset': 'make_regression',\n",
    "                            'sk_param': {'n_samples':20000,\n",
    "                                         'n_features': 256,\n",
    "                                         'n_informative': 200}}}\n",
    "             \n",
    "metrics_param = {'report_interval': 10,\n",
    "                 'log_plot': True,\n",
    "                 'min_lr': .00125} #break if learning rate falls below                        \n",
    "             \n",
    "opt_param = {'lr': 0.01}\n",
    "\n",
    "crit_param = {'reduction': 'sum'}\n",
    "\n",
    "sample_param = {'set_seed': 88,\n",
    "                'splits': (.7,.15)}\n",
    "\n",
    "sched_param = {'factor': .5, \n",
    "               'patience': 3,\n",
    "               'cooldown': 3}\n",
    "\n",
    "learn = Learn([SKDS], \n",
    "              FFNet,\n",
    "              Metrics=Metrics,\n",
    "              Sampler=Selector, \n",
    "              Optimizer=Adam, \n",
    "              Scheduler=ReduceLROnPlateau, \n",
    "              Criterion=MSELoss,\n",
    "              model_param=model_param, ds_param=ds_param, sample_param=sample_param,\n",
    "              opt_param=opt_param, sched_param=sched_param, crit_param=crit_param,\n",
    "              metrics_param=metrics_param, \n",
    "              batch_size=128, epochs=50, gpu=False)\n"
   ]
  },
  {
   "cell_type": "code",
   "execution_count": 2,
   "metadata": {
    "collapsed": true,
    "jupyter": {
     "outputs_hidden": true,
     "source_hidden": true
    },
    "tags": []
   },
   "outputs": [
    {
     "name": "stdout",
     "output_type": "stream",
     "text": [
      "creating scikit learn make_classification dataset...\n",
      "CDataset created...\n",
      "FFNet model loaded...\n",
      "applying _init_weights...\n",
      "FFNet model loaded...\n",
      "running model on gpu...\n",
      "\n",
      ".....................\n",
      "\n",
      "total elapsed time: 0:00:11.711482\n",
      "epoch: 3\n",
      "y_pred:  tensor([-0.3412, -0.1380, -0.4496, -0.4499], device='cuda:0')\n",
      "y:  tensor(0, device='cuda:0')\n",
      "train loss: 0.00784943408704612, val loss: 0.006904581195523596\n",
      "lr: 0.01\n",
      "accuracy_score train score: 0.5842490842490843, validation score: 0.6547809829059829\n",
      "\n",
      ".....................\n",
      "\n",
      "total elapsed time: 0:00:23.878214\n",
      "epoch: 7\n",
      "y_pred:  tensor([-1.8338, -1.8122, -0.4839,  0.9197], device='cuda:0')\n",
      "y:  tensor(3, device='cuda:0')\n",
      "train loss: 0.004244512995200116, val loss: 0.004974014595405668\n",
      "lr: 0.01\n",
      "accuracy_score train score: 0.8128434065934066, validation score: 0.7787793803418803\n",
      "\n",
      ".....................\n",
      "\n",
      "total elapsed time: 0:00:35.692272\n",
      "epoch: 11\n",
      "y_pred:  tensor([-0.2232, -1.3598,  2.2122, -1.6429], device='cuda:0')\n",
      "y:  tensor(2, device='cuda:0')\n",
      "train loss: 0.0036796412902761373, val loss: 0.004634530733251928\n",
      "lr: 0.01\n",
      "accuracy_score train score: 0.8443080357142857, validation score: 0.8023504273504274\n",
      "\n",
      ".....................\n",
      "\n",
      "total elapsed time: 0:00:47.138266\n",
      "epoch: 15\n",
      "y_pred:  tensor([ 4.3069,  0.5290, -0.7773,  1.4685], device='cuda:0')\n",
      "y:  tensor(0, device='cuda:0')\n",
      "train loss: 0.003400856392558719, val loss: 0.004275375386126912\n",
      "lr: 0.01\n",
      "accuracy_score train score: 0.8599616529304029, validation score: 0.8145699786324786\n",
      "\n",
      ".....................\n",
      "\n",
      "total elapsed time: 0:00:59.005668\n",
      "epoch: 19\n",
      "y_pred:  tensor([-0.0423, -0.6421, -1.6851,  2.3885], device='cuda:0')\n",
      "y:  tensor(3, device='cuda:0')\n",
      "train loss: 0.0032025923173799563, val loss: 0.004407131065351841\n",
      "lr: 0.01\n",
      "accuracy_score train score: 0.8673162774725275, validation score: 0.8167067307692307\n",
      "\n",
      "........final........\n",
      "\n",
      "total learning time: 0:00:59.267781\n",
      "test loss: 0.004382040411329422\n",
      "accuracy_score test metric: 0.8153044871794872\n"
     ]
    },
    {
     "data": {
      "image/png": "[encoded data removed]",
      "text/plain": [
       "<Figure size 640x480 with 1 Axes>"
      ]
     },
     "metadata": {},
     "output_type": "display_data"
    }
   ],
   "source": [
    "#example cosmosis sklearn classification dataset wrapper (SKDS) with sklearn metrics (Metrics) and \n",
    "#custom model (FFNet)\n",
    "model_param = {'in_channels': 256, \n",
    "               'hidden': 128, \n",
    "               'out_channels': 4,\n",
    "               'model_name': 'funnel'}\n",
    "\n",
    "ds_param = {'train_param': {'input_dict': {'X': ['X'],\n",
    "                                           'y': ['y']},\n",
    "                            'features_dtype': 'float32',\n",
    "                            'targets_dtype': 'int64',\n",
    "                            'transforms': {'y': [SqueezeN()],\n",
    "                                           'X': []},\n",
    "                            'dataset': 'make_classification',\n",
    "                            'sk_param': {'n_samples': 100000,\n",
    "                                         'n_features': 300,\n",
    "                                         'n_informative': 200,\n",
    "                                         'n_redundant': 5,\n",
    "                                         'n_repeated': 5,\n",
    "                                         'n_clusters_per_class': 5,\n",
    "                                         'flip_y': 0.05,\n",
    "                                         'class_sep': 0.05,\n",
    "                                         'n_classes': 4}}}\n",
    "                                     \n",
    "metrics_param = {'report_interval': 10,\n",
    "                 'log_plot': True,\n",
    "                 'metric_name': 'accuracy_score', #sklearn\n",
    "                 'metric_param': {}}\n",
    "\n",
    "opt_param = {'lr': 0.01}\n",
    "\n",
    "crit_param = {}\n",
    "\n",
    "sample_param = {'set_seed': 88,\n",
    "                 'splits': (.7,.15)}\n",
    "\n",
    "sched_param = {'factor': .5,\n",
    "               'patience': 2,\n",
    "               'cooldown': 1}\n",
    "\n",
    "learm = Learn([SKDS], \n",
    "              FFNet, \n",
    "              Sampler=Selector,\n",
    "              Metrics=Metrics,\n",
    "              Optimizer=Adam, \n",
    "              Scheduler=ReduceLROnPlateau, \n",
    "              Criterion=CrossEntropyLoss,\n",
    "              model_param=model_param, ds_param=ds_param, \n",
    "              sample_param=sample_param, opt_param=opt_param, \n",
    "              sched_param=sched_param, crit_param=crit_param,\n",
    "              metrics_param=metrics_param,\n",
    "              adapt=(300,256,.2), batch_size=128, epochs=20, \n",
    "              save_model='demo_model', compile_model=True)\n"
   ]
  },
  {
   "cell_type": "code",
   "execution_count": 6,
   "metadata": {
    "collapsed": true,
    "jupyter": {
     "outputs_hidden": true,
     "source_hidden": true
    }
   },
   "outputs": [
    {
     "name": "stdout",
     "output_type": "stream",
     "text": [
      "creating scikit learn make_classification dataset...\n",
      "CDataset created...\n",
      "FFNet model loaded...\n",
      "applying _init_weights...\n",
      "FFNet model loaded...\n",
      "running model on gpu...\n",
      "compiling model...\n",
      "\n",
      ".....................\n",
      "\n",
      "total elapsed time: 0:00:11.398460\n",
      "epoch: 1\n",
      "y_pred:  tensor([1.0504, 0.9347, 0.5965, 0.7852], device='cuda:0')\n",
      "y:  tensor(3, device='cuda:0')\n",
      "train loss: 0.010850968402247507, val loss: 0.010739849124135625\n",
      "lr: 0.01\n",
      "multiclass_accuracy train score: 0.27295100688934326, validation score: 0.2891292870044708\n",
      "\n",
      "........final........\n",
      "\n",
      "total learning time: 0:00:11.663427\n",
      "test loss: 0.010750142292270804\n",
      "multiclass_accuracy test metric: 0.2920673191547394\n"
     ]
    },
    {
     "data": {
      "image/png": "[encoded data removed]",
      "text/plain": [
       "<Figure size 640x480 with 1 Axes>"
      ]
     },
     "metadata": {},
     "output_type": "display_data"
    }
   ],
   "source": [
    "#example using on GPU torcheval metrics\n",
    "\n",
    "model_param = {'in_channels': 256, \n",
    "               'hidden': 128, \n",
    "               'out_channels': 4,\n",
    "               'model_name': 'funnel'}\n",
    "\n",
    "ds_param = {'train_param': {'input_dict': {'X': ['X'],\n",
    "                                           'y': ['y']},\n",
    "                            'features_dtype': 'float32',\n",
    "                            'targets_dtype': 'int64',\n",
    "                            'transforms': {'y': [SqueezeN()],\n",
    "                                           'X': []},\n",
    "                            'dataset': 'make_classification',\n",
    "                            'sk_param': {'n_samples': 100000,\n",
    "                                         'n_features': 300,\n",
    "                                         'n_informative': 200,\n",
    "                                         'n_redundant': 5,\n",
    "                                         'n_repeated': 5,\n",
    "                                         'n_clusters_per_class': 5,\n",
    "                                         'flip_y': 0.05,\n",
    "                                         'class_sep': 0.05,\n",
    "                                         'n_classes': 4}}}\n",
    "                                     \n",
    "metrics_param = {'report_interval': 10,\n",
    "                 'log_plot': True,\n",
    "                 'metric_name': 'multiclass_accuracy', #torcheval\n",
    "                 'metric_param': {'num_classes': 4}}\n",
    "\n",
    "opt_param = {'lr': 0.01}\n",
    "\n",
    "crit_param = {}\n",
    "\n",
    "sample_param = {'set_seed': 88,\n",
    "                 'splits': (.7,.15)}\n",
    "\n",
    "sched_param = {'factor': .5,\n",
    "               'patience': 2,\n",
    "               'cooldown': 1}\n",
    "\n",
    "learn = Learn([SKDS], \n",
    "              FFNet, \n",
    "              Sampler=Selector,\n",
    "              Metrics=Metrics,\n",
    "              Optimizer=Adam, \n",
    "              Scheduler=ReduceLROnPlateau, \n",
    "              Criterion=CrossEntropyLoss,\n",
    "              model_param=model_param, ds_param=ds_param, \n",
    "              sample_param=sample_param, opt_param=opt_param, \n",
    "              sched_param=sched_param, crit_param=crit_param,\n",
    "              metrics_param=metrics_param,\n",
    "              adapt=(300,256,.2), batch_size=128, epochs=2, \n",
    "              save_model='demo_model', compile_model=True)\n"
   ]
  },
  {
   "cell_type": "code",
   "execution_count": null,
   "metadata": {
    "jupyter": {
     "source_hidden": true
    },
    "scrolled": true,
    "tags": []
   },
   "outputs": [],
   "source": [
    "#example inference with cosmosis sklearn classification dataset wrapper (SKDS) and custom model (FFNet)\n",
    "\n",
    "model_param = {'in_channels': 256, \n",
    "               'hidden': 128, \n",
    "               'out_channels': 4, \n",
    "               'model_name': 'funnel'}\n",
    "\n",
    "ds_param = {'train_param': {'input_dict': {'X': ['X'],\n",
    "                                           'y': ['y']},\n",
    "                            'features_dtype': 'float32',\n",
    "                            'targets_dtype': 'int64',\n",
    "                            'dataset': 'make_classification',\n",
    "                            'sk_param': {'n_samples': 10000,\n",
    "                                         'n_features': 300,\n",
    "                                         'n_informative': 200,\n",
    "                                         'n_clusters_per_class': 3,\n",
    "                                         'flip_y': 0.05,\n",
    "                                         'class_sep': 0.1,\n",
    "                                         'n_classes': 4}}}\n",
    "                                     \n",
    "learn = Learn([SKDS], \n",
    "              FFNet, \n",
    "              Sampler=Selector,\n",
    "              Metrics=Metrics,\n",
    "              Optimizer=Adam, \n",
    "              Scheduler=ReduceLROnPlateau, \n",
    "              Criterion=None,\n",
    "              model_param=model_param, ds_param=ds_param, \n",
    "              batch_size=128, epochs=2, load_model='demo_model.pth')\n"
   ]
  },
  {
   "cell_type": "code",
   "execution_count": null,
   "metadata": {
    "jupyter": {
     "source_hidden": true
    },
    "tags": []
   },
   "outputs": [],
   "source": [
    "#example cosmosis torchvision image dataset wrapper (TVDS) with transforms and \n",
    "#torchvision model wrapper (tv_model)\n",
    "model_param = {'model_name': 'resnet18',\n",
    "               'in_channels': 3,\n",
    "               'tv_param': {'num_classes': 10}}\n",
    "\n",
    "ds_param={'train_param': {'dataset': 'CIFAR10',\n",
    "                          'tv_param': {'root': './data/',\n",
    "                                       'train': True,\n",
    "                                       'download': True,\n",
    "                                       'transform': transforms.Compose([\n",
    "                                                           transforms.RandomRotation(10),\n",
    "                                                           transforms.Resize(64),\n",
    "                                                           transforms.ToTensor()]),\n",
    "                                       'target_transform': None,\n",
    "                                       'download': True}},\n",
    "           'test_param': {'dataset': 'CIFAR10',\n",
    "                          'tv_param': {'root': './data/',\n",
    "                                       'train': False,\n",
    "                                       'download': True,\n",
    "                                       'transform': transforms.Compose([\n",
    "                                                         transforms.Resize(64),\n",
    "                                                         transforms.ToTensor()]),\n",
    "                                       'target_transform': None,\n",
    "                                       'download': True}}}\n",
    "\n",
    "metrics_param = {'report_interval': 30, \n",
    "                 'metric_name': 'roc_auc_score', \n",
    "                 'metric_param': {'average': 'macro',\n",
    "                                  'multi_class': 'ovr'}}\n",
    "\n",
    "opt_param = {'lr': 0.01}\n",
    "\n",
    "crit_param = {'reduction': 'sum'}\n",
    "\n",
    "sample_param = {'set_seed': 88,\n",
    "                'splits': (.8,),\n",
    "                'subset': .1}\n",
    "\n",
    "sched_param = {'factor': .5,\n",
    "               'patience': 1,\n",
    "               'cooldown': 1}\n",
    "\n",
    "learn = Learn([TVDS,TVDS], \n",
    "              tv_model, \n",
    "              Selector, \n",
    "              Optimizer=Adam, Scheduler=ReduceLROnPlateau, Criterion=CrossEntropyLoss, \n",
    "              model_param=model_param, ds_param=ds_param, sample_param=sample_param, \n",
    "              opt_param=opt_param, sched_param=sched_param, crit_param=crit_param,\n",
    "              metrics_param=metrics_param, \n",
    "              batch_size=16, epochs=10)"
   ]
  },
  {
   "cell_type": "code",
   "execution_count": null,
   "metadata": {
    "jupyter": {
     "source_hidden": true
    },
    "tags": []
   },
   "outputs": [],
   "source": [
    "#example cosmosis torchvision dataset wrapper (TVDS) with transforms and \n",
    "#torchvision model wrapper (tv_model)\n",
    "model_param = {'model_name': 'resnext50_32x4d',\n",
    "               'in_channels': 3,\n",
    "               'tv_param': {'num_classes': 10}}\n",
    "\n",
    "ds_param={'train_param': {'dataset': 'CIFAR10',\n",
    "                          'tv_param': {'root': './data/',\n",
    "                                       'train': True,\n",
    "                                       'transform': transforms.Compose([\n",
    "                                                    transforms.RandomRotation(10),\n",
    "                                                    transforms.Resize(256),\n",
    "                                                    transforms.ToTensor()]),\n",
    "                                       'target_transform': None}},\n",
    "           'test_param': {'dataset': 'CIFAR10',\n",
    "                          'tv_param': {'root': './data/',\n",
    "                                       'train': False,\n",
    "                                       'transform': transforms.Compose([\n",
    "                                                    transforms.Resize(256),\n",
    "                                                    transforms.ToTensor()]),\n",
    "                                       'target_transform': None}}}\n",
    "\n",
    "metrics_param = {'report_interval': 60, \n",
    "                 'metric_name': 'roc_auc_score', \n",
    "                 'metric_param': {'average': 'macro',\n",
    "                                  'multi_class': 'ovr'}}\n",
    "\n",
    "opt_param = {'lr': 0.01}\n",
    "\n",
    "crit_param = {'reduction': 'sum'}\n",
    "\n",
    "sample_param = {'set_seed': 88,\n",
    "                'splits': (.8,),\n",
    "                'subset': .1}\n",
    "\n",
    "sched_param = {'factor': .5,\n",
    "               'patience': 2,\n",
    "               'cooldown': 1}\n",
    "\n",
    "l = Learn([TVDS,TVDS], \n",
    "          tv_model, \n",
    "          Selector, \n",
    "          Optimizer=Adam, \n",
    "          Scheduler=ReduceLROnPlateau, \n",
    "          Criterion=CrossEntropyLoss, \n",
    "          model_param=model_param, ds_param=ds_param, \n",
    "          sample_param=sample_param, opt_param=opt_param, \n",
    "          sched_param=sched_param, crit_param=crit_param,\n",
    "          metrics_param=metrics_param,\n",
    "          batch_size=16, epochs=10)"
   ]
  },
  {
   "cell_type": "code",
   "execution_count": null,
   "metadata": {},
   "outputs": [],
   "source": []
  }
 ],
 "metadata": {
  "kernelspec": {
   "display_name": "Python 3 (ipykernel)",
   "language": "python",
   "name": "python3"
  },
  "language_info": {
   "codemirror_mode": {
    "name": "ipython",
    "version": 3
   },
   "file_extension": ".py",
   "mimetype": "text/x-python",
   "name": "python",
   "nbconvert_exporter": "python",
   "pygments_lexer": "ipython3",
   "version": "3.11.5"
  }
 },
 "nbformat": 4,
 "nbformat_minor": 4
}
