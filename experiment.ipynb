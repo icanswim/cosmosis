{
 "cells": [
  {
   "cell_type": "code",
   "execution_count": 1,
   "metadata": {},
   "outputs": [],
   "source": [
    "from model import FFNet, tv_model\n",
    "from learning import Learn, Selector\n",
    "from dataset import SKDS, TVDS\n",
    "\n",
    "from torch.optim import Adam\n",
    "from torch.nn import MSELoss\n",
    "from torch.optim.lr_scheduler import ReduceLROnPlateau\n",
    "from torchvision import transforms\n"
   ]
  },
  {
   "cell_type": "code",
   "execution_count": null,
   "metadata": {},
   "outputs": [],
   "source": [
    "model_params = {'D_in': 128, \n",
    "                'H': 512, \n",
    "                'D_out': 1, \n",
    "                'model_name': 'funnel'}\n",
    "\n",
    "ds_params = {'make': 'make_regression',\n",
    "             'sk_params': {'n_samples': 10000,\n",
    "                           'n_features': 128,\n",
    "                           'transform': transforms.Compose(\n",
    "                                               [transforms.Resize(224),\n",
    "                                                transforms.ToTensor()])}}\n",
    "\n",
    "opt_params = {'lr': 0.01}\n",
    "crit_params = {'reduction': 'sum'}\n",
    "sample_params = {'set_seed': 88,\n",
    "                 'splits': (.1,.8)}\n",
    "sched_params = {'factor': .1,\n",
    "                'patience': 2}\n",
    "\n",
    "\n",
    "l = Learn(SKDS, FFNet, Selector, Optimizer=Adam, Scheduler=ReduceLROnPlateau, Criterion=MSELoss,\n",
    "          model_params=model_params, ds_params=ds_params, sample_params=sample_params,\n",
    "          opt_params=opt_params, sched_params=sched_params, crit_params=crit_params,\n",
    "          adapt=False, load_model=False, load_embed=False, save_model=False,\n",
    "          batch_size=256, epochs=10)"
   ]
  },
  {
   "cell_type": "code",
   "execution_count": null,
   "metadata": {},
   "outputs": [],
   "source": [
    "model_params = {'D_in': 784, \n",
    "                'H': 1024, \n",
    "                'D_out': 10, \n",
    "                'model_name': 'funnel'}\n",
    "\n",
    "ds_params={'embed': None,\n",
    "           'train_params': {'dataset': 'MNIST',\n",
    "                            'tv_params':{'root': './data/',\n",
    "                                         'train': True,\n",
    "                                         'download': True,\n",
    "                                         'transform': transforms.Compose(\n",
    "                                                           [transforms.Resize(224),\n",
    "                                                            transforms.ToTensor()]),\n",
    "                                         'target_transform': None}\n",
    "                            \n",
    "            'test_params': {'dataset': 'MNIST',\n",
    "                            'tv_params':{'root': './data/',\n",
    "                                         'train': False,\n",
    "                                         'download': True,\n",
    "                                         'transform': transforms.Compose(\n",
    "                                                           [transforms.Resize(224),\n",
    "                                                            transforms.ToTensor()]),\n",
    "                                         'target_transform': None}\n",
    "        \n",
    "\n",
    "opt_params = {'lr': 0.01}\n",
    "crit_params = {'reduction': 'sum'}\n",
    "sample_params = {'set_seed': 88,\n",
    "                 'splits': (.1,.8)}\n",
    "sched_params = {'factor': .1,\n",
    "                'patience': 2}\n",
    "\n",
    "l = Learn(TVDS, FFNet, Selector, Optimizer=Adam, Scheduler=ReduceLROnPlateau, Criterion=MSELoss, \n",
    "          model_params=model_params, ds_params=ds_params, sample_params=sample_params,\n",
    "          opt_params=opt_params, sched_params=sched_params, crit_params=crit_params,\n",
    "          adapt=False, load_model=False, load_embed=False, save_model=False,\n",
    "          batch_size=256, epochs=10)"
   ]
  },
  {
   "cell_type": "code",
   "execution_count": null,
   "metadata": {},
   "outputs": [],
   "source": [
    "model_params = {'model_name': 'resnet18',\n",
    "                'D_in': 28,\n",
    "                'D_out': 10,\n",
    "                'tv_params': {}}\n",
    "\n",
    "ds_params={'dataset': 'MNIST',\n",
    "           'tv_params': {'root': './data/',\n",
    "                         'train': True,\n",
    "                         'download': True,\n",
    "                         'transform': True,\n",
    "                         'target_transform': None}}\n",
    "           \n",
    "opt_params = {'lr': 0.01}\n",
    "crit_params = {'reduction': 'sum'}\n",
    "sample_params = {'set_seed': 88,\n",
    "                 'splits': (.1,.8)}\n",
    "sched_params = {'factor': .1,\n",
    "                'patience': 10}\n",
    "\n",
    "l = Learn(TVDS, tv_model, Selector, Optimizer=Adam, Scheduler=ReduceLROnPlateau, Criterion=MSELoss, \n",
    "          model_params=model_params, ds_params=ds_params, sample_params=sample_params,\n",
    "          opt_params=opt_params, sched_params=sched_params, crit_params=crit_params,\n",
    "          adapt=False, load_model=False, load_embed=False, save_model=False,\n",
    "          batch_size=16, epochs=10)"
   ]
  },
  {
   "cell_type": "code",
   "execution_count": null,
   "metadata": {},
   "outputs": [],
   "source": []
  },
  {
   "cell_type": "code",
   "execution_count": 11,
   "metadata": {},
   "outputs": [],
   "source": [
    "ds_params={'dataset': 'MNIST',\n",
    "           'embed': None,\n",
    "           'tv_params': {'root': './data/',\n",
    "                         'train': True,\n",
    "                         'download': True,\n",
    "                         'transform': transforms.Compose(\n",
    "                                           [transforms.Resize(8),\n",
    "                                            transforms.ToTensor()]),\n",
    "                         'target_transform': None}}\n",
    "           \n",
    "tvds = TVDS(**ds_params)"
   ]
  },
  {
   "cell_type": "code",
   "execution_count": 12,
   "metadata": {},
   "outputs": [
    {
     "data": {
      "text/plain": [
       "(tensor([[[0.0000, 0.0000, 0.0000, 0.0000, 0.0275, 0.0275, 0.0000, 0.0000],\n",
       "          [0.0000, 0.0000, 0.0000, 0.0902, 0.5412, 0.4824, 0.0392, 0.0000],\n",
       "          [0.0000, 0.0000, 0.0863, 0.5922, 0.7294, 0.6078, 0.2314, 0.0000],\n",
       "          [0.0000, 0.0275, 0.4471, 0.4078, 0.1020, 0.3176, 0.4392, 0.0000],\n",
       "          [0.0000, 0.1451, 0.5176, 0.0353, 0.0157, 0.3725, 0.3451, 0.0000],\n",
       "          [0.0000, 0.1765, 0.5176, 0.1922, 0.4000, 0.3490, 0.0431, 0.0000],\n",
       "          [0.0000, 0.0902, 0.5882, 0.5922, 0.2706, 0.0314, 0.0000, 0.0000],\n",
       "          [0.0000, 0.0000, 0.0392, 0.0431, 0.0000, 0.0000, 0.0000, 0.0000]]]),\n",
       " 0,\n",
       " [])"
      ]
     },
     "execution_count": 12,
     "metadata": {},
     "output_type": "execute_result"
    }
   ],
   "source": [
    "tvds[1]"
   ]
  },
  {
   "cell_type": "code",
   "execution_count": null,
   "metadata": {},
   "outputs": [],
   "source": [
    "tvds[2][0].shape"
   ]
  },
  {
   "cell_type": "code",
   "execution_count": null,
   "metadata": {},
   "outputs": [],
   "source": [
    "model_params = {'model_name': 'resnet18',\n",
    "                'D_in': 224,\n",
    "                'D_out': 10,\n",
    "                'tv_params': {}}\n",
    "\n",
    "tvmodel = tv_model(**model_params)"
   ]
  },
  {
   "cell_type": "code",
   "execution_count": null,
   "metadata": {},
   "outputs": [],
   "source": [
    "dir(tvmodel)"
   ]
  },
  {
   "cell_type": "code",
   "execution_count": null,
   "metadata": {},
   "outputs": [],
   "source": [
    "type(tvmodel)"
   ]
  },
  {
   "cell_type": "code",
   "execution_count": null,
   "metadata": {},
   "outputs": [],
   "source": [
    "isinstance(tvmodel, torchvision.models.resnet.ResNet)"
   ]
  },
  {
   "cell_type": "code",
   "execution_count": null,
   "metadata": {},
   "outputs": [],
   "source": []
  },
  {
   "cell_type": "code",
   "execution_count": null,
   "metadata": {},
   "outputs": [],
   "source": [
    "list(tvmodel.named_modules())"
   ]
  },
  {
   "cell_type": "code",
   "execution_count": null,
   "metadata": {},
   "outputs": [],
   "source": [
    "a = {'b': 1, 'c': 2, 'd': {'e': 10, 'f': 20}}\n",
    "\n",
    "def myfunc(b=None, d=None, **kwargs):\n",
    "    print('b: ', b)\n",
    "    \n",
    "    def f(e=None, **kwargs):\n",
    "        print('e :', e)\n",
    "    \n",
    "    f(**d)\n",
    "    \n",
    "myfunc(**a)\n",
    "    "
   ]
  },
  {
   "cell_type": "code",
   "execution_count": null,
   "metadata": {},
   "outputs": [],
   "source": []
  },
  {
   "cell_type": "code",
   "execution_count": null,
   "metadata": {},
   "outputs": [],
   "source": [
    "def A():\n",
    "    b = [1,2,3,4,5]\n",
    "    c = [4,5,6]\n",
    "\n",
    "    for i in range(len(b)):\n",
    "        try: yield b[i], c[i]\n",
    "        except: yield b[i]"
   ]
  },
  {
   "cell_type": "code",
   "execution_count": null,
   "metadata": {},
   "outputs": [],
   "source": [
    "a = A()"
   ]
  },
  {
   "cell_type": "code",
   "execution_count": null,
   "metadata": {},
   "outputs": [],
   "source": [
    "out = next(a)"
   ]
  },
  {
   "cell_type": "code",
   "execution_count": null,
   "metadata": {},
   "outputs": [],
   "source": [
    "print(out)"
   ]
  },
  {
   "cell_type": "code",
   "execution_count": null,
   "metadata": {},
   "outputs": [],
   "source": []
  }
 ],
 "metadata": {
  "kernelspec": {
   "display_name": "Python 3",
   "language": "python",
   "name": "python3"
  },
  "language_info": {
   "codemirror_mode": {
    "name": "ipython",
    "version": 3
   },
   "file_extension": ".py",
   "mimetype": "text/x-python",
   "name": "python",
   "nbconvert_exporter": "python",
   "pygments_lexer": "ipython3",
   "version": "3.7.9"
  }
 },
 "nbformat": 4,
 "nbformat_minor": 4
}
