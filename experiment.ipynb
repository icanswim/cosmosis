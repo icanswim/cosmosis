{
 "cells": [
  {
   "cell_type": "code",
   "execution_count": null,
   "metadata": {},
   "outputs": [],
   "source": [
    "## This is a series of examples using the icanswim/cosmosis data science and machine learning repo"
   ]
  },
  {
   "cell_type": "code",
   "execution_count": 1,
   "metadata": {},
   "outputs": [],
   "source": [
    "from model import FFNet, tv_model\n",
    "from learning import Learn, Selector, Metrics\n",
    "from dataset import CDataset, SKDS, TVDS\n",
    "from dataset import ImageDatasetStats, AsTensor, Squeeze, DType\n",
    "\n",
    "from torch.optim import Adam\n",
    "from torch.nn import MSELoss, CrossEntropyLoss\n",
    "from torch.optim.lr_scheduler import ReduceLROnPlateau\n",
    "from torchvision import transforms"
   ]
  },
  {
   "cell_type": "code",
   "execution_count": 2,
   "metadata": {},
   "outputs": [
    {
     "name": "stdout",
     "output_type": "stream",
     "text": [
      "# packages in environment at /home/operat0r/miniconda3/envs/cosmo:\n",
      "#\n",
      "# Name                    Version                   Build  Channel\n",
      "_libgcc_mutex             0.1                        main  \n",
      "_openmp_mutex             5.1                       1_gnu  \n",
      "anyio                     3.7.0              pyhd8ed1ab_1    conda-forge\n",
      "appdirs                   1.4.4              pyh9f0ad1d_0    conda-forge\n",
      "argon2-cffi               21.3.0             pyhd8ed1ab_0    conda-forge\n",
      "argon2-cffi-bindings      21.2.0          py311h5eee18b_0  \n",
      "asttokens                 2.2.1              pyhd8ed1ab_0    conda-forge\n",
      "async-lru                 2.0.2              pyhd8ed1ab_0    conda-forge\n",
      "attrs                     23.1.0             pyh71513ae_1    conda-forge\n",
      "babel                     2.12.1             pyhd8ed1ab_1    conda-forge\n",
      "backcall                  0.2.0              pyh9f0ad1d_0    conda-forge\n",
      "backports                 1.0                pyhd8ed1ab_3    conda-forge\n",
      "backports.functools_lru_cache 1.6.5              pyhd8ed1ab_0    conda-forge\n",
      "beautifulsoup4            4.12.2             pyha770c72_0    conda-forge\n",
      "blas                      1.0                         mkl  \n",
      "bleach                    6.0.0              pyhd8ed1ab_0    conda-forge\n",
      "bottleneck                1.3.5           py311hbed6279_0  \n",
      "brotli                    1.0.9                h166bdaf_7    conda-forge\n",
      "brotli-bin                1.0.9                h166bdaf_7    conda-forge\n",
      "brotlipy                  0.7.0           py311h5eee18b_1002  \n",
      "bzip2                     1.0.8                h7b6447c_0  \n",
      "c-ares                    1.19.0               h5eee18b_0  \n",
      "ca-certificates           2023.5.7             hbcca054_0    conda-forge\n",
      "certifi                   2023.5.7           pyhd8ed1ab_0    conda-forge\n",
      "cffi                      1.15.1          py311h5eee18b_3  \n",
      "charset-normalizer        2.0.4              pyhd3eb1b0_0  \n",
      "contourpy                 1.0.5           py311hdb19cb5_0  \n",
      "cryptography              39.0.1          py311h9ce1e76_2  \n",
      "cuda-cudart               11.8.89                       0    nvidia\n",
      "cuda-cupti                11.8.87                       0    nvidia\n",
      "cuda-libraries            11.8.0                        0    nvidia\n",
      "cuda-nvrtc                11.8.89                       0    nvidia\n",
      "cuda-nvtx                 11.8.86                       0    nvidia\n",
      "cuda-runtime              11.8.0                        0    nvidia\n",
      "curl                      7.88.1               h5eee18b_1  \n",
      "cycler                    0.11.0             pyhd8ed1ab_0    conda-forge\n",
      "dbus                      1.13.18              hb2f20db_0  \n",
      "debugpy                   1.5.1           py311h6a678d5_0  \n",
      "decorator                 5.1.1              pyhd8ed1ab_0    conda-forge\n",
      "defusedxml                0.7.1              pyhd8ed1ab_0    conda-forge\n",
      "entrypoints               0.4                pyhd8ed1ab_0    conda-forge\n",
      "exceptiongroup            1.1.1              pyhd8ed1ab_0    conda-forge\n",
      "executing                 1.2.0              pyhd8ed1ab_0    conda-forge\n",
      "expat                     2.4.9                h6a678d5_0  \n",
      "ffmpeg                    4.3                  hf484d3e_0    pytorch\n",
      "filelock                  3.9.0           py311h06a4308_0  \n",
      "flit-core                 3.9.0              pyhd8ed1ab_0    conda-forge\n",
      "fontconfig                2.14.1               hef1e5e3_0  \n",
      "fonttools                 4.25.0             pyhd3eb1b0_0  \n",
      "freetype                  2.12.1               h4a9f257_0  \n",
      "gettext                   0.21.0               hf68c758_0  \n",
      "giflib                    5.2.1                h5eee18b_3  \n",
      "git                       2.40.1          pl5340h36fbf9e_1  \n",
      "glib                      2.69.1               he621ea3_2  \n",
      "gmp                       6.2.1                h295c915_3  \n",
      "gmpy2                     2.1.2           py311hc9b5ff0_0  \n",
      "gnutls                    3.6.15               he1e5248_0  \n",
      "gst-plugins-base          1.14.1               h6a678d5_1  \n",
      "gstreamer                 1.14.1               h5eee18b_1  \n",
      "h5py                      3.7.0           py311h021c08c_0  \n",
      "hdf5                      1.10.6               h3ffc7dd_1  \n",
      "icu                       58.2              hf484d3e_1000    conda-forge\n",
      "idna                      3.4             py311h06a4308_0  \n",
      "importlib-metadata        6.7.0              pyha770c72_0    conda-forge\n",
      "importlib_metadata        6.7.0                hd8ed1ab_0    conda-forge\n",
      "importlib_resources       5.12.0             pyhd8ed1ab_0    conda-forge\n",
      "intel-openmp              2023.1.0         hdb19cb5_46305  \n",
      "ipykernel                 6.15.0             pyh210e3f2_0    conda-forge\n",
      "ipython                   8.14.0             pyh41d4057_0    conda-forge\n",
      "jedi                      0.18.2             pyhd8ed1ab_0    conda-forge\n",
      "jinja2                    3.1.2           py311h06a4308_0  \n",
      "joblib                    1.2.0              pyhd8ed1ab_0    conda-forge\n",
      "jpeg                      9e                   h5eee18b_1  \n",
      "json5                     0.9.5              pyh9f0ad1d_0    conda-forge\n",
      "jsonschema                4.17.3             pyhd8ed1ab_0    conda-forge\n",
      "jupyter-lsp               2.2.0              pyhd8ed1ab_0    conda-forge\n",
      "jupyter_client            8.3.0              pyhd8ed1ab_0    conda-forge\n",
      "jupyter_core              4.12.0          py311h38be061_0    conda-forge\n",
      "jupyter_events            0.6.3              pyhd8ed1ab_0    conda-forge\n",
      "jupyter_server            2.6.0              pyhd8ed1ab_0    conda-forge\n",
      "jupyter_server_terminals  0.4.4              pyhd8ed1ab_1    conda-forge\n",
      "jupyterlab                4.0.2              pyhd8ed1ab_0    conda-forge\n",
      "jupyterlab_pygments       0.2.2              pyhd8ed1ab_0    conda-forge\n",
      "jupyterlab_server         2.23.0             pyhd8ed1ab_0    conda-forge\n",
      "kiwisolver                1.4.4           py311h6a678d5_0  \n",
      "krb5                      1.20.1               h143b758_1  \n",
      "lame                      3.100                h7b6447c_0  \n",
      "lcms2                     2.12                 h3be6417_0  \n",
      "ld_impl_linux-64          2.38                 h1181459_1  \n",
      "lerc                      3.0                  h295c915_0  \n",
      "libbrotlicommon           1.0.9                h166bdaf_7    conda-forge\n",
      "libbrotlidec              1.0.9                h166bdaf_7    conda-forge\n",
      "libbrotlienc              1.0.9                h166bdaf_7    conda-forge\n",
      "libclang                  10.0.1          default_hb85057a_2  \n",
      "libcublas                 11.11.3.6                     0    nvidia\n",
      "libcufft                  10.9.0.58                     0    nvidia\n",
      "libcufile                 1.6.1.9                       0    nvidia\n",
      "libcurand                 10.3.2.106                    0    nvidia\n",
      "libcurl                   7.88.1               h251f7ec_1  \n",
      "libcusolver               11.4.1.48                     0    nvidia\n",
      "libcusparse               11.7.5.86                     0    nvidia\n",
      "libdeflate                1.17                 h5eee18b_0  \n",
      "libedit                   3.1.20221030         h5eee18b_0  \n",
      "libev                     4.33                 h516909a_1    conda-forge\n",
      "libevent                  2.1.12               hdbd6064_1  \n",
      "libffi                    3.4.4                h6a678d5_0  \n",
      "libgcc-ng                 11.2.0               h1234567_1  \n",
      "libgfortran-ng            13.1.0               h69a702a_0    conda-forge\n",
      "libgfortran5              13.1.0               h15d22d2_0    conda-forge\n",
      "libgomp                   11.2.0               h1234567_1  \n",
      "libiconv                  1.16                 h7f8727e_2  \n",
      "libidn2                   2.3.4                h5eee18b_0  \n",
      "libllvm10                 10.0.1               he513fc3_3    conda-forge\n",
      "libnghttp2                1.52.0               h2d74bed_1  \n",
      "libnpp                    11.8.0.86                     0    nvidia\n",
      "libnsl                    2.0.0                h7f98852_0    conda-forge\n",
      "libnvjpeg                 11.9.0.86                     0    nvidia\n",
      "libpng                    1.6.39               h5eee18b_0  \n",
      "libpq                     12.15                hdbd6064_1  \n",
      "libsodium                 1.0.18               h36c2ea0_1    conda-forge\n",
      "libssh2                   1.10.0               hdbd6064_2  \n",
      "libstdcxx-ng              11.2.0               h1234567_1  \n",
      "libtasn1                  4.19.0               h5eee18b_0  \n",
      "libtiff                   4.5.0                h6a678d5_2  \n",
      "libunistring              0.9.10               h27cfd23_0  \n",
      "libuuid                   1.41.5               h5eee18b_0  \n",
      "libwebp                   1.2.4                h11a3e52_1  \n",
      "libwebp-base              1.2.4                h5eee18b_1  \n",
      "libxcb                    1.15                 h7f8727e_0  \n",
      "libxkbcommon              1.0.1                hfa300c1_0  \n",
      "libxml2                   2.9.14               h74e7548_0  \n",
      "libxslt                   1.1.35               h4e12654_0  \n",
      "lz4-c                     1.9.4                h6a678d5_0  \n",
      "markupsafe                2.1.1           py311h5eee18b_0  \n",
      "matplotlib                3.7.1           py311h38be061_0    conda-forge\n",
      "matplotlib-base           3.7.1           py311ha02d727_1  \n",
      "matplotlib-inline         0.1.6              pyhd8ed1ab_0    conda-forge\n",
      "mistune                   3.0.0              pyhd8ed1ab_0    conda-forge\n",
      "mkl                       2023.1.0         h6d00ec8_46342  \n",
      "mkl-service               2.4.0           py311h5eee18b_1  \n",
      "mkl_fft                   1.3.6           py311ha02d727_1  \n",
      "mkl_random                1.2.2           py311ha02d727_1  \n",
      "mpc                       1.1.0                h10f8cd9_1  \n",
      "mpfr                      4.0.2                hb69a4c5_1  \n",
      "mpmath                    1.2.1           py311h06a4308_0  \n",
      "munkres                   1.1.4              pyh9f0ad1d_0    conda-forge\n",
      "nbclient                  0.8.0              pyhd8ed1ab_0    conda-forge\n",
      "nbconvert-core            7.6.0              pyhd8ed1ab_0    conda-forge\n",
      "nbformat                  5.9.0              pyhd8ed1ab_0    conda-forge\n",
      "ncurses                   6.4                  h6a678d5_0  \n",
      "nest-asyncio              1.5.6              pyhd8ed1ab_0    conda-forge\n",
      "nettle                    3.7.3                hbbd107a_1  \n",
      "networkx                  2.8.4           py311h06a4308_1  \n",
      "notebook-shim             0.2.3              pyhd8ed1ab_0    conda-forge\n",
      "nspr                      4.35                 h6a678d5_0  \n",
      "nss                       3.89.1               h6a678d5_0  \n",
      "numexpr                   2.8.4           py311h65dcdc2_1  \n",
      "numpy                     1.25.0          py311h08b1b3b_0  \n",
      "numpy-base                1.25.0          py311hf175353_0  \n",
      "openh264                  2.1.1                h4ff587b_0  \n",
      "openssl                   3.0.9                h7f8727e_0  \n",
      "overrides                 7.3.1              pyhd8ed1ab_0    conda-forge\n",
      "packaging                 23.1               pyhd8ed1ab_0    conda-forge\n",
      "pandas                    1.5.3           py311hba01205_0  \n",
      "pandocfilters             1.5.0              pyhd8ed1ab_0    conda-forge\n",
      "parso                     0.8.3              pyhd8ed1ab_0    conda-forge\n",
      "pcre                      8.45                 h9c3ff4c_0    conda-forge\n",
      "pcre2                     10.42                hebb0a14_0  \n",
      "perl                      5.32.1          2_h7f98852_perl5    conda-forge\n",
      "pexpect                   4.8.0              pyh1a96a4e_2    conda-forge\n",
      "pickleshare               0.7.5                   py_1003    conda-forge\n",
      "pillow                    9.4.0           py311h6a678d5_0  \n",
      "pip                       23.1.2          py311h06a4308_0  \n",
      "pkgutil-resolve-name      1.3.10             pyhd8ed1ab_0    conda-forge\n",
      "ply                       3.11                       py_1    conda-forge\n",
      "pooch                     1.6.0              pyhd8ed1ab_0    conda-forge\n",
      "prometheus_client         0.17.0             pyhd8ed1ab_0    conda-forge\n",
      "prompt-toolkit            3.0.38             pyha770c72_0    conda-forge\n",
      "prompt_toolkit            3.0.38               hd8ed1ab_0    conda-forge\n",
      "psutil                    5.9.0           py311h5eee18b_0  \n",
      "ptyprocess                0.7.0              pyhd3deb0d_0    conda-forge\n",
      "pure_eval                 0.2.2              pyhd8ed1ab_0    conda-forge\n",
      "pycparser                 2.21               pyhd3eb1b0_0  \n",
      "pygments                  2.15.1             pyhd8ed1ab_0    conda-forge\n",
      "pyopenssl                 23.0.0          py311h06a4308_0  \n",
      "pyparsing                 3.1.0              pyhd8ed1ab_0    conda-forge\n",
      "pyqt                      5.15.7          py311h6a678d5_0  \n",
      "pyqt5-sip                 12.11.0         py311h6a678d5_0  \n",
      "pyrsistent                0.18.0          py311h5eee18b_0  \n",
      "pysocks                   1.7.1           py311h06a4308_0  \n",
      "python                    3.11.3               h955ad1f_1  \n",
      "python-dateutil           2.8.2              pyhd8ed1ab_0    conda-forge\n",
      "python-fastjsonschema     2.17.1             pyhd8ed1ab_0    conda-forge\n",
      "python-json-logger        2.0.7              pyhd8ed1ab_0    conda-forge\n",
      "python_abi                3.11                    2_cp311    conda-forge\n",
      "pytorch                   2.0.1           py3.11_cuda11.8_cudnn8.7.0_0    pytorch\n",
      "pytorch-cuda              11.8                 h7e8668a_5    pytorch\n",
      "pytorch-mutex             1.0                        cuda    pytorch\n",
      "pytz                      2023.3             pyhd8ed1ab_0    conda-forge\n",
      "pyyaml                    6.0             py311h5eee18b_1  \n",
      "pyzmq                     25.1.0          py311h6a678d5_0  \n",
      "qt-main                   5.15.2               h327a75a_7  \n",
      "qt-webengine              5.15.9               hd2b0992_4  \n",
      "qtwebkit                  5.212                h4eab89a_4  \n",
      "readline                  8.2                  h5eee18b_0  \n",
      "requests                  2.29.0          py311h06a4308_0  \n",
      "rfc3339-validator         0.1.4              pyhd8ed1ab_0    conda-forge\n",
      "rfc3986-validator         0.1.1              pyh9f0ad1d_0    conda-forge\n",
      "scikit-learn              1.2.2           py311h6a678d5_1  \n",
      "scipy                     1.10.1          py311h08b1b3b_1  \n",
      "send2trash                1.8.2              pyh41d4057_0    conda-forge\n",
      "setuptools                67.8.0          py311h06a4308_0  \n",
      "sip                       6.6.2           py311h6a678d5_0  \n",
      "six                       1.16.0             pyh6c4a22f_0    conda-forge\n",
      "sniffio                   1.3.0              pyhd8ed1ab_0    conda-forge\n",
      "soupsieve                 2.3.2.post1        pyhd8ed1ab_0    conda-forge\n",
      "sqlite                    3.41.2               h5eee18b_0  \n",
      "stack_data                0.6.2              pyhd8ed1ab_0    conda-forge\n",
      "sympy                     1.11.1          py311h06a4308_0  \n",
      "tbb                       2021.8.0             hdb19cb5_0  \n",
      "terminado                 0.17.1             pyh41d4057_0    conda-forge\n",
      "threadpoolctl             3.1.0              pyh8a188c0_0    conda-forge\n",
      "tinycss2                  1.2.1              pyhd8ed1ab_0    conda-forge\n",
      "tk                        8.6.12               h1ccaba5_0  \n",
      "toml                      0.10.2             pyhd8ed1ab_0    conda-forge\n",
      "tomli                     2.0.1              pyhd8ed1ab_0    conda-forge\n",
      "torchaudio                2.0.2               py311_cu118    pytorch\n",
      "torchtriton               2.0.0                     py311    pytorch\n",
      "torchvision               0.15.2              py311_cu118    pytorch\n",
      "tornado                   6.2             py311h5eee18b_0  \n",
      "traitlets                 5.9.0              pyhd8ed1ab_0    conda-forge\n",
      "typing_extensions         4.6.3           py311h06a4308_0  \n",
      "typing_utils              0.1.0              pyhd8ed1ab_0    conda-forge\n",
      "tzdata                    2023c                h04d1e81_0  \n",
      "urllib3                   1.26.16         py311h06a4308_0  \n",
      "wcwidth                   0.2.6              pyhd8ed1ab_0    conda-forge\n",
      "webencodings              0.5.1                      py_1    conda-forge\n",
      "websocket-client          1.6.1              pyhd8ed1ab_0    conda-forge\n",
      "wheel                     0.38.4          py311h06a4308_0  \n",
      "xz                        5.4.2                h5eee18b_0  \n",
      "yaml                      0.2.5                h7f98852_2    conda-forge\n",
      "zeromq                    4.3.4                h9c3ff4c_1    conda-forge\n",
      "zipp                      3.15.0             pyhd8ed1ab_0    conda-forge\n",
      "zlib                      1.2.13               h5eee18b_0  \n",
      "zstd                      1.5.5                hc292b87_0  \n"
     ]
    }
   ],
   "source": [
    "!conda list"
   ]
  },
  {
   "cell_type": "code",
   "execution_count": 3,
   "metadata": {
    "tags": []
   },
   "outputs": [
    {
     "name": "stdout",
     "output_type": "stream",
     "text": [
      "bang\n",
      "CDataset created...\n"
     ]
    },
    {
     "data": {
      "text/plain": [
       "{'model_input': {'X1': tensor([0.2030, 0.3200, 0.2000, 0.2000, 0.2000, 0.2000], dtype=torch.float64),\n",
       "  'X2': tensor([0.3200, 0.2000, 0.2000, 0.2000, 0.2000], dtype=torch.float64),\n",
       "  'embed': [array([3, 1, 2])]},\n",
       " 'criterion_input': {'target': tensor([2.0100], dtype=torch.float64),\n",
       "  'embed': [array([4, 1, 4, 0, 0])]}}"
      ]
     },
     "execution_count": 3,
     "metadata": {},
     "output_type": "execute_result"
    }
   ],
   "source": [
    "#example cosmosis dataset (CDataset)\n",
    "import numpy as np\n",
    "\n",
    "class ExampleDataset(CDataset):\n",
    "\n",
    "    def load_data(self, boom='bust'):\n",
    "        \n",
    "        datadic = {1: {'feature_1': np.asarray([.04]),\n",
    "                       'feature_2': np.asarray([.02]),\n",
    "                       'feature_3': np.asarray(['z1']),\n",
    "                       'feature_4': np.asarray(['c','c','d']),\n",
    "                       'feature_5': np.asarray([1.1])},\n",
    "                   2: {'feature_1': np.asarray([.03]),\n",
    "                       'feature_2': np.asarray([.01]),\n",
    "                       'feature_3': np.asarray(['x1','z1','y1']),\n",
    "                       'feature_4': np.asarray(['d','a','d']),\n",
    "                       'feature_5': np.asarray([1.2])}}\n",
    "        \n",
    "        self.embed_lookup = {'feature_4': {'a': 1,'b': 2,'c': 3,'d': 4, '0': 0},\n",
    "                             'feature_3': {'z1': 1, 'y1': 2, 'x1': 3, '0': 0}}\n",
    "        \n",
    "        print(boom)\n",
    "        return datadic\n",
    "    \n",
    "class ExampleTransform():\n",
    "    def __call__(self, arr):\n",
    "        return np.add(arr, 2)\n",
    "    \n",
    "class ExampleTransformTwo():\n",
    "    def __call__(self, arr):\n",
    "        return np.multiply(arr, .1)\n",
    "    \n",
    "ds_params = {'train_params': {'input_dict': {'model_input': {'X1': ['feature_1','feature_5'],\n",
    "                                                             'X2': ['feature_5'],\n",
    "                                                             'embed': ['feature_3']},\n",
    "                                             'criterion_input': {'target': ['feature_2'],\n",
    "                                                                 'embed': ['feature_4']}},\n",
    "                              'transform': [ExampleTransform(), ExampleTransformTwo()],\n",
    "                              'target_transform': [ExampleTransform()],\n",
    "                              'pad': (5,),\n",
    "                              'pad_feats': ['feature_5','feature_4'],\n",
    "                              'boom': 'bang'}}\n",
    "    \n",
    "d = ExampleDataset(**ds_params['train_params'])\n",
    "d[2]"
   ]
  },
  {
   "cell_type": "code",
   "execution_count": 4,
   "metadata": {
    "tags": []
   },
   "outputs": [
    {
     "name": "stdout",
     "output_type": "stream",
     "text": [
      "creating scikit learn make_regression dataset...\n",
      "CDataset created...\n"
     ]
    },
    {
     "data": {
      "text/plain": [
       "{'model_input': {'features': tensor([ 0.7002,  1.9024, -0.6041, -0.6575, -0.8559])},\n",
       " 'criterion_input': {'target': tensor([-82.5316])}}"
      ]
     },
     "execution_count": 4,
     "metadata": {},
     "output_type": "execute_result"
    }
   ],
   "source": [
    "#example cosmosis sklearn regression dataset wrapper SKDS\n",
    "ds_params = {'train_params': {'input_dict': {'model_input': {'features': ['X']},\n",
    "                                             'criterion_input': {'target': ['y']}},\n",
    "                              'dataset': 'make_regression',\n",
    "                              'sk_params': {'n_samples': 100,\n",
    "                                            'n_features': 5},\n",
    "                              'features_dtype': 'float32',\n",
    "                              'targets_dtype': 'float32'}}\n",
    "\n",
    "sk = SKDS(**ds_params['train_params'])\n",
    "\n",
    "sk[1]"
   ]
  },
  {
   "cell_type": "code",
   "execution_count": 5,
   "metadata": {
    "tags": []
   },
   "outputs": [
    {
     "name": "stdout",
     "output_type": "stream",
     "text": [
      "creating scikit learn make_classification dataset...\n",
      "CDataset created...\n"
     ]
    },
    {
     "data": {
      "text/plain": [
       "{'model_input': {'features': tensor([ 0.0357, -0.1977,  1.0946, -1.7579, -1.5415,  0.3230, -0.2600, -0.5740,\n",
       "          -0.8194, -0.2443])},\n",
       " 'criterion_input': {'target': tensor([0])}}"
      ]
     },
     "execution_count": 5,
     "metadata": {},
     "output_type": "execute_result"
    }
   ],
   "source": [
    "#example cosmosis sklearn classification dataset wrapper (SKDS)\n",
    "ds_params = {'train_params': {'input_dict': {'model_input': {'features': ['X']},\n",
    "                                             'criterion_input': {'target': ['y']}},\n",
    "                              'dataset': 'make_classification',\n",
    "                              'features_dtype': 'float32',\n",
    "                              'targets_dtype': 'int64',\n",
    "                              'sk_params': {'n_samples': 100,\n",
    "                                            'n_features': 10,\n",
    "                                            'n_informative': 8,\n",
    "                                            'n_clusters_per_class': 2,\n",
    "                                            'flip_y': 0.05,\n",
    "                                            'class_sep': 0.01,\n",
    "                                            'n_classes': 4}}}\n",
    "\n",
    "sk = SKDS(**ds_params['train_params'])\n",
    "\n",
    "sk[1]"
   ]
  },
  {
   "cell_type": "code",
   "execution_count": 6,
   "metadata": {
    "tags": []
   },
   "outputs": [
    {
     "name": "stdout",
     "output_type": "stream",
     "text": [
      "creating torch vision MNIST dataset...\n",
      "CDataset created...\n"
     ]
    },
    {
     "data": {
      "text/plain": [
       "{'model_input': {'image': <PIL.Image.Image image mode=L size=224x224>},\n",
       " 'criterion_input': {'target': 0}}"
      ]
     },
     "execution_count": 6,
     "metadata": {},
     "output_type": "execute_result"
    }
   ],
   "source": [
    "#example cosmosis torchvision image dataset wrapper (TVDS)\n",
    "ds_params={'dataset': 'MNIST',\n",
    "           'input_dict': {'model_input': {'features': ['images'],},\n",
    "                          'criterion_input': {'target': ['labels']}},\n",
    "           'tv_params': {'root': './data/',\n",
    "                         'train': True,\n",
    "                         'download': True,\n",
    "                         'transform': transforms.Compose([\n",
    "                                           transforms.Resize(224)]),\n",
    "                         'target_transform': None}}\n",
    "\n",
    "tvds = TVDS(**ds_params)\n",
    "tvds[1]"
   ]
  },
  {
   "cell_type": "code",
   "execution_count": 7,
   "metadata": {
    "tags": []
   },
   "outputs": [
    {
     "name": "stdout",
     "output_type": "stream",
     "text": [
      "creating torch vision MNIST dataset...\n",
      "CDataset created...\n",
      "images to process: 60000\n",
      "images processed: 10000\n",
      "images processed: 20000\n",
      "images processed: 30000\n",
      "images processed: 40000\n",
      "images processed: 50000\n",
      "images processed: 60000\n",
      "mean: [33.33091590401786], stddev: [73.70246726596685]\n",
      "mean:  [33.33091590401786]\n",
      "stddev:  [73.70246726596685]\n"
     ]
    }
   ],
   "source": [
    "#example cosmosis torchvision image dataset wrapper (TVDS) with transforms and PIL stats\n",
    "ds_params={'dataset': 'MNIST',\n",
    "           'tv_params': {'root': './data/',\n",
    "                         'train': True,\n",
    "                         'download': True,\n",
    "                         'transform': transforms.Compose([\n",
    "                                           transforms.Resize(224)]),\n",
    "                         'target_transform': None}}\n",
    "\n",
    "tvds = TVDS(**ds_params)\n",
    "ids = ImageDatasetStats(tvds)\n",
    "\n",
    "print('mean: ', ids.stats.mean)\n",
    "print('stddev: ', ids.stats.stddev)\n",
    "\n",
    "#mean: 33.3/255 = .13\n",
    "#stddev: 73.7/255 = .29"
   ]
  },
  {
   "cell_type": "code",
   "execution_count": 8,
   "metadata": {
    "tags": []
   },
   "outputs": [
    {
     "name": "stdout",
     "output_type": "stream",
     "text": [
      "creating scikit learn make_regression dataset...\n",
      "CDataset created...\n",
      "FFNet model loaded...\n",
      "CModel loaded...\n",
      "running model on gpu...\n",
      "learning time: 0:00:00.929232\n",
      "epoch: 0, lr: 0.01\n",
      "train loss: 478718.5578703704, val loss: 332175.53125\n",
      "learning time: 0:00:07.218244\n",
      "epoch: 10, lr: 0.01\n",
      "train loss: 8937.776082356771, val loss: 10182.82333096591\n",
      "test loss: 5798.65889115767\n",
      "learning time: 0:00:11.652378\n"
     ]
    },
    {
     "data": {
      "image/png": "[encoded data removed]",
      "text/plain": [
       "<Figure size 640x480 with 1 Axes>"
      ]
     },
     "metadata": {},
     "output_type": "display_data"
    }
   ],
   "source": [
    "#example cosmosis sklearn regression dataset wrapper (SKDS) with sklearn metrics (Metrics) and \n",
    "#custom model (FFNet)\n",
    "model_params = {'in_channels': 256, \n",
    "                'hidden': 512, \n",
    "                'out_channels': 1, \n",
    "                'model_name': 'funnel'}\n",
    "\n",
    "ds_params = {'train_params': {'input_dict': {'model_input': {'X': ['X']},\n",
    "                                             'criterion_input': {'target': ['y']}},\n",
    "                              'features_dtype': 'float32',\n",
    "                              'targets_dtype': 'float32',\n",
    "                              'dataset': 'make_regression',\n",
    "                              'as_tensor': True,\n",
    "                              'transform': [],\n",
    "                              'sk_params': {'n_samples':20000,\n",
    "                                            'n_features': 256,\n",
    "                                            'n_informative': 200}}}\n",
    "             \n",
    "metrics_params = {'report_interval': 10,\n",
    "                  'log_plot': True}                         \n",
    "             \n",
    "opt_params = {'lr': 0.01}\n",
    "\n",
    "crit_params = {'reduction': 'sum'}\n",
    "\n",
    "sample_params = {'set_seed': 88,\n",
    "                 'splits': (.7,.15)}\n",
    "\n",
    "sched_params = {'factor': .5,\n",
    "                'patience': 2,\n",
    "                'cooldown': 2}\n",
    "\n",
    "l = Learn([SKDS], \n",
    "          FFNet,\n",
    "          Metrics=Metrics,\n",
    "          Sampler=Selector, \n",
    "          Optimizer=Adam, \n",
    "          Scheduler=ReduceLROnPlateau, \n",
    "          Criterion=MSELoss,\n",
    "          model_params=model_params, ds_params=ds_params, sample_params=sample_params,\n",
    "          opt_params=opt_params, sched_params=sched_params, crit_params=crit_params,\n",
    "          metrics_params=metrics_params, \n",
    "          batch_size=256, epochs=20, gpu=True)"
   ]
  },
  {
   "cell_type": "code",
   "execution_count": 9,
   "metadata": {
    "tags": []
   },
   "outputs": [
    {
     "name": "stdout",
     "output_type": "stream",
     "text": [
      "creating scikit learn make_classification dataset...\n",
      "CDataset created...\n",
      "FFNet model loaded...\n",
      "CModel loaded...\n",
      "running model on gpu...\n",
      "learning time: 0:00:03.377085\n",
      "epoch: 0, lr: 0.01\n",
      "train loss: 0.010560732916502398, val loss: 0.00997624110080238\n",
      "sklearn train metric: 0.5905028606499075, sklearn validation metric: 0.6657184454188712\n",
      "learning time: 0:00:16.468024\n",
      "epoch: 4, lr: 0.01\n",
      "train loss: 0.005767910716963092, val loss: 0.005714423222164823\n",
      "sklearn train metric: 0.8992589541023934, sklearn validation metric: 0.9072585747309483\n",
      "learning time: 0:00:29.551877\n",
      "epoch: 8, lr: 0.01\n",
      "train loss: 0.0036179178442137363, val loss: 0.004062819722482664\n",
      "sklearn train metric: 0.9572755134525998, sklearn validation metric: 0.949041185201873\n",
      "test loss: 0.003917686613356201\n",
      "learning time: 0:00:33.262384\n",
      "sklearn test metric: \n",
      "0.9517689156403553 \n",
      "\n"
     ]
    },
    {
     "data": {
      "image/png": "[encoded data removed]",
      "text/plain": [
       "<Figure size 640x480 with 1 Axes>"
      ]
     },
     "metadata": {},
     "output_type": "display_data"
    }
   ],
   "source": [
    "#example cosmosis sklearn classification dataset wrapper (SKDS) with sklearn metrics (Metrics) and \n",
    "#custom model (FFNet)\n",
    "model_params = {'in_channels': 256, \n",
    "                'hidden': 128, \n",
    "                'out_channels': 4, \n",
    "                'model_name': 'funnel'}\n",
    "\n",
    "ds_params = {'train_params': {'input_dict': {'model_input': {'X': ['X']},\n",
    "                                             'criterion_input': {'target': ['y']}},\n",
    "                              'features_dtype': 'float32',\n",
    "                              'targets_dtype': 'int64',\n",
    "                              'dataset': 'make_classification',\n",
    "                              'sk_params': {'n_samples': 100000,\n",
    "                                            'n_features': 300,\n",
    "                                            'n_informative': 200,\n",
    "                                            'n_clusters_per_class': 3,\n",
    "                                            'flip_y': 0.05,\n",
    "                                            'class_sep': 0.1,\n",
    "                                            'n_classes': 4}}}\n",
    "                                     \n",
    "metrics_params = {'report_interval': 10,\n",
    "                  'log_plot': True,\n",
    "                  'sk_metric_name': 'roc_auc_score',\n",
    "                  'sk_params': {'average': 'macro',\n",
    "                                'multi_class': 'ovr'}}\n",
    "\n",
    "opt_params = {'lr': 0.01}\n",
    "\n",
    "crit_params = {}\n",
    "\n",
    "sample_params = {'set_seed': 88,\n",
    "                 'splits': (.7,.15)}\n",
    "\n",
    "sched_params = {'factor': .5,\n",
    "                'patience': 5,\n",
    "                'cooldown': 5}\n",
    "\n",
    "l = Learn([SKDS], \n",
    "          FFNet, \n",
    "          Sampler=Selector,\n",
    "          Metrics=Metrics,\n",
    "          Optimizer=Adam, \n",
    "          Scheduler=ReduceLROnPlateau, \n",
    "          Criterion=CrossEntropyLoss,\n",
    "          model_params=model_params, ds_params=ds_params, \n",
    "          sample_params=sample_params, opt_params=opt_params, \n",
    "          sched_params=sched_params, crit_params=crit_params,\n",
    "          metrics_params=metrics_params,\n",
    "          adapt=(300,256,.2), batch_size=128, epochs=10, squeeze_y=True, save_model=True)"
   ]
  },
  {
   "cell_type": "code",
   "execution_count": 10,
   "metadata": {
    "tags": []
   },
   "outputs": [
    {
     "name": "stdout",
     "output_type": "stream",
     "text": [
      "creating scikit learn make_classification dataset...\n",
      "CDataset created...\n",
      "FFNet model loaded...\n",
      "CModel loaded...\n",
      "model loaded from pickle...\n",
      "running model on gpu...\n",
      "inference 2023-06-26 17:47:35.200396 complete and saved to csv...\n"
     ]
    }
   ],
   "source": [
    "#example inference with cosmosis sklearn classification dataset wrapper (SKDS) and custom model (FFNet)\n",
    "model_params = {'in_channels': 256, \n",
    "                'hidden': 128, \n",
    "                'out_channels': 4, \n",
    "                'model_name': 'funnel'}\n",
    "\n",
    "ds_params = {'train_params': {'input_dict': {'model_input': {'X': ['X']},\n",
    "                                             'criterion_input': {'target': ['y']}},\n",
    "                              'features_dtype': 'float32',\n",
    "                              'targets_dtype': 'int64',\n",
    "                              'dataset': 'make_classification',\n",
    "                              'sk_params': {'n_samples': 10000,\n",
    "                                            'n_features': 300,\n",
    "                                            'n_informative': 200,\n",
    "                                            'n_clusters_per_class': 3,\n",
    "                                            'flip_y': 0.05,\n",
    "                                            'class_sep': 0.1,\n",
    "                                            'n_classes': 4}}}\n",
    "                                     \n",
    "metrics_params = {'report_interval': 10, \n",
    "                  'sk_metric_name': 'roc_auc_score',\n",
    "                  'sk_params': {'average': 'macro',\n",
    "                                'multi_class': 'ovr'}}\n",
    "\n",
    "opt_params = {'lr': 0.01}\n",
    "\n",
    "sample_params = {'set_seed': 88,\n",
    "                 'splits': (.7,.15)}\n",
    "\n",
    "sched_params = {'factor': .5,\n",
    "                'patience': 5,\n",
    "                'cooldown': 5}\n",
    "\n",
    "l = Learn([SKDS], \n",
    "          FFNet, \n",
    "          Sampler=Selector,\n",
    "          Metrics=Metrics,\n",
    "          Optimizer=Adam, \n",
    "          Scheduler=ReduceLROnPlateau, \n",
    "          Criterion=None,\n",
    "          model_params=model_params, ds_params=ds_params, \n",
    "          sample_params=sample_params, opt_params=opt_params, \n",
    "          sched_params=sched_params, crit_params=crit_params,\n",
    "          metrics_params=metrics_params,\n",
    "          batch_size=128, epochs=1, squeeze_y=True, load_model='20221025_1522.pth')"
   ]
  },
  {
   "cell_type": "code",
   "execution_count": 11,
   "metadata": {
    "tags": []
   },
   "outputs": [
    {
     "name": "stdout",
     "output_type": "stream",
     "text": [
      "creating torch vision CIFAR10 dataset...\n",
      "Downloading https://www.cs.toronto.edu/~kriz/cifar-10-python.tar.gz to ./data/cifar-10-python.tar.gz\n"
     ]
    },
    {
     "name": "stderr",
     "output_type": "stream",
     "text": [
      "100.0%\n"
     ]
    },
    {
     "name": "stdout",
     "output_type": "stream",
     "text": [
      "Extracting ./data/cifar-10-python.tar.gz to ./data/\n",
      "CDataset created...\n",
      "creating torch vision CIFAR10 dataset...\n",
      "Files already downloaded and verified\n",
      "CDataset created...\n",
      "torchvision model resnet18 loaded...\n",
      "running model on gpu...\n",
      "learning time: 0:00:03.839073\n",
      "epoch: 0, lr: 0.01\n",
      "train loss: 2.3508197960853576, val loss: 2.020352094404159\n",
      "sklearn train metric: 0.644005813913993, sklearn validation metric: 0.7338023392751374\n",
      "learning time: 0:00:14.366563\n",
      "epoch: 3, lr: 0.01\n",
      "train loss: 1.7356478629112244, val loss: 1.7076490752158626\n",
      "sklearn train metric: 0.8121175063734812, sklearn validation metric: 0.8292701497673061\n",
      "test loss: 1.7046886262893677\n",
      "learning time: 0:00:17.152995\n",
      "sklearn test metric: \n",
      "0.8291873777777778 \n",
      "\n"
     ]
    },
    {
     "data": {
      "image/png": "[encoded data removed]",
      "text/plain": [
       "<Figure size 640x480 with 1 Axes>"
      ]
     },
     "metadata": {},
     "output_type": "display_data"
    }
   ],
   "source": [
    "#example cosmosis torchvision image dataset wrapper(TVDS),transforms (transforms) and \n",
    "#torchvision model wrapper (tv_model)\n",
    "model_params = {'model_name': 'resnet18',\n",
    "                'in_channels': 3,\n",
    "                'tv_params': {'num_classes': 10}}\n",
    "\n",
    "ds_params={'train_params': {'dataset': 'CIFAR10',\n",
    "                            'tv_params': {'root': './data/',\n",
    "                                          'train': True,\n",
    "                                          'download': True,\n",
    "                                          'transform': transforms.Compose([\n",
    "                                                           transforms.RandomRotation(10),\n",
    "                                                           transforms.Resize(64),\n",
    "                                                           transforms.ToTensor()]),\n",
    "                                          'target_transform': None,\n",
    "                                          'download': True}},\n",
    "           'test_params': {'dataset': 'CIFAR10',\n",
    "                           'tv_params': {'root': './data/',\n",
    "                                         'train': False,\n",
    "                                         'download': True,\n",
    "                                         'transform': transforms.Compose([\n",
    "                                                         transforms.Resize(64),\n",
    "                                                         transforms.ToTensor()]),\n",
    "                                         'target_transform': None,\n",
    "                                         'download': True}}}\n",
    "\n",
    "metrics_params = {'report_interval': 10, \n",
    "                  'sk_metric_name': 'roc_auc_score', \n",
    "                  'sk_params': {'average': 'macro',\n",
    "                                'multi_class': 'ovr'}}\n",
    "\n",
    "opt_params = {'lr': 0.01}\n",
    "\n",
    "crit_params = {'reduction': 'sum'}\n",
    "\n",
    "sample_params = {'set_seed': 88,\n",
    "                 'splits': (.8,),\n",
    "                 'subset': .1}\n",
    "\n",
    "sched_params = {'factor': .5,\n",
    "                'patience': 1,\n",
    "                'cooldown': 1}\n",
    "\n",
    "l = Learn([TVDS,TVDS], \n",
    "          tv_model, \n",
    "          Selector, \n",
    "          Optimizer=Adam, Scheduler=ReduceLROnPlateau, Criterion=CrossEntropyLoss, \n",
    "          model_params=model_params, ds_params=ds_params, sample_params=sample_params, \n",
    "          opt_params=opt_params, sched_params=sched_params, crit_params=crit_params,\n",
    "          metrics_params=metrics_params, \n",
    "          batch_size=16, epochs=4)"
   ]
  },
  {
   "cell_type": "code",
   "execution_count": 12,
   "metadata": {
    "tags": []
   },
   "outputs": [
    {
     "name": "stdout",
     "output_type": "stream",
     "text": [
      "creating torch vision CIFAR10 dataset...\n",
      "CDataset created...\n",
      "creating torch vision CIFAR10 dataset...\n",
      "CDataset created...\n",
      "torchvision model resnext50_32x4d loaded...\n",
      "running model on gpu...\n",
      "learning time: 0:00:56.386367\n",
      "epoch: 0, lr: 0.01\n",
      "train loss: 2.629980366230011, val loss: 2.0721995811308584\n",
      "sklearn train metric: 0.6083320848160254, sklearn validation metric: 0.7137081707843159\n",
      "learning time: 0:01:52.950744\n",
      "epoch: 1, lr: 0.01\n",
      "train loss: 2.026457649230957, val loss: 1.968403447058893\n",
      "sklearn train metric: 0.7194642596717384, sklearn validation metric: 0.7701359421185627\n",
      "learning time: 0:02:49.704985\n",
      "epoch: 2, lr: 0.01\n",
      "train loss: 1.9639420490264892, val loss: 1.8962080882441612\n",
      "sklearn train metric: 0.7444315343505035, sklearn validation metric: 0.779323303558955\n",
      "learning time: 0:03:46.529711\n",
      "epoch: 3, lr: 0.01\n",
      "train loss: 1.9033802599906922, val loss: 1.9163780346993478\n",
      "sklearn train metric: 0.764038206814184, sklearn validation metric: 0.777929043903381\n",
      "test loss: 1.8940234897613526\n",
      "learning time: 0:04:26.991438\n",
      "sklearn test metric: \n",
      "0.7831917666666667 \n",
      "\n"
     ]
    },
    {
     "data": {
      "image/png": "[encoded data removed]",
      "text/plain": [
       "<Figure size 640x480 with 1 Axes>"
      ]
     },
     "metadata": {},
     "output_type": "display_data"
    }
   ],
   "source": [
    "#example cosmosis torchvision dataset wrapper (TVDS) and torchvision model wrapper (tv_model)\n",
    "model_params = {'model_name': 'resnext50_32x4d',\n",
    "                'in_channels': 3,\n",
    "                'tv_params': {'num_classes': 10}}\n",
    "\n",
    "ds_params={'train_params': {'dataset': 'CIFAR10',\n",
    "                            'tv_params': {'root': './data/',\n",
    "                                          'train': True,\n",
    "                                          'transform': transforms.Compose([\n",
    "                                                       transforms.RandomRotation(10),\n",
    "                                                       transforms.Resize(256),\n",
    "                                                       transforms.ToTensor()]),\n",
    "                                          'target_transform': None}},\n",
    "           'test_params': {'dataset': 'CIFAR10',\n",
    "                           'tv_params': {'root': './data/',\n",
    "                                         'train': False,\n",
    "                                         'transform': transforms.Compose([\n",
    "                                                      transforms.Resize(256),\n",
    "                                                      transforms.ToTensor()]),\n",
    "                                         'target_transform': None}}}\n",
    "\n",
    "metrics_params = {'report_interval': 10, \n",
    "                  'sk_metric_name': 'roc_auc_score', \n",
    "                  'sk_params': {'average': 'macro',\n",
    "                                'multi_class': 'ovr'}}\n",
    "\n",
    "opt_params = {'lr': 0.01}\n",
    "\n",
    "crit_params = {'reduction': 'sum'}\n",
    "\n",
    "sample_params = {'set_seed': 88,\n",
    "                 'splits': (.8,),\n",
    "                 'subset': .1}\n",
    "\n",
    "sched_params = {'factor': .5,\n",
    "                'patience': 2,\n",
    "                'cooldown': 2}\n",
    "\n",
    "l = Learn([TVDS,TVDS], \n",
    "          tv_model, \n",
    "          Selector, \n",
    "          Optimizer=Adam, \n",
    "          Scheduler=ReduceLROnPlateau, \n",
    "          Criterion=CrossEntropyLoss, \n",
    "          model_params=model_params, ds_params=ds_params, \n",
    "          sample_params=sample_params, opt_params=opt_params, \n",
    "          sched_params=sched_params, crit_params=crit_params,\n",
    "          metrics_params=metrics_params,\n",
    "          batch_size=16, epochs=4)"
   ]
  },
  {
   "cell_type": "code",
   "execution_count": null,
   "metadata": {},
   "outputs": [],
   "source": []
  },
  {
   "cell_type": "code",
   "execution_count": null,
   "metadata": {},
   "outputs": [],
   "source": []
  }
 ],
 "metadata": {
  "kernelspec": {
   "display_name": "Python 3 (ipykernel)",
   "language": "python",
   "name": "python3"
  },
  "language_info": {
   "codemirror_mode": {
    "name": "ipython",
    "version": 3
   },
   "file_extension": ".py",
   "mimetype": "text/x-python",
   "name": "python",
   "nbconvert_exporter": "python",
   "pygments_lexer": "ipython3",
   "version": "3.11.3"
  }
 },
 "nbformat": 4,
 "nbformat_minor": 4
}
