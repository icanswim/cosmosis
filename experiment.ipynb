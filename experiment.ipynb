{
 "cells": [
  {
   "cell_type": "code",
   "execution_count": 1,
   "metadata": {},
   "outputs": [],
   "source": [
    "from model import FFNet, tv_model\n",
    "from learning import Learn, Selector\n",
    "from dataset import SKDS, TVDS\n",
    "\n",
    "from torch.optim import Adam\n",
    "from torch.nn import MSELoss, CrossEntropyLoss\n",
    "from torch.optim.lr_scheduler import ReduceLROnPlateau\n",
    "from torchvision import transforms\n"
   ]
  },
  {
   "cell_type": "code",
   "execution_count": null,
   "metadata": {},
   "outputs": [],
   "source": [
    "model_params = {'D_in': 28*28, \n",
    "                'H': 1024, \n",
    "                'D_out': 1, \n",
    "                'model_name': 'funnel'}\n",
    "\n",
    "ds_params = {'make': 'make_regression',\n",
    "             'sk_params': {'n_samples': 10000,\n",
    "                           'n_features': 128,\n",
    "                           'transform': transforms.Compose(\n",
    "                                               [transforms.Resize(224),\n",
    "                                                transforms.ToTensor()])}}\n",
    "\n",
    "opt_params = {'lr': 0.01}\n",
    "crit_params = {'reduction': 'sum'}\n",
    "sample_params = {'set_seed': 88,\n",
    "                 'splits': (.1,.8)}\n",
    "sched_params = {'factor': .1,\n",
    "                'patience': 2}\n",
    "\n",
    "\n",
    "l = Learn(SKDS, FFNet, Selector, Optimizer=Adam, Scheduler=ReduceLROnPlateau, Criterion=MSELoss,\n",
    "          model_params=model_params, ds_params=ds_params, sample_params=sample_params,\n",
    "          opt_params=opt_params, sched_params=sched_params, crit_params=crit_params,\n",
    "          adapt=False, load_model=False, load_embed=False, save_model=False,\n",
    "          batch_size=256, epochs=10)"
   ]
  },
  {
   "cell_type": "code",
   "execution_count": null,
   "metadata": {},
   "outputs": [],
   "source": [
    "model_params = {'model_name': 'resnet18',\n",
    "                'in_channels': 1,\n",
    "                'tv_params': {'num_classes': 10}}\n",
    "\n",
    "model_params = {'D_in': 28*28, \n",
    "                'H': 1024, \n",
    "                'D_out': 1, \n",
    "                'model_name': 'funnel'}\n",
    "\n",
    "ds_params = {'make': 'make_regression',\n",
    "             'sk_params': {'n_samples': 10000,\n",
    "                           'n_features': 128,\n",
    "                           'transform': transforms.Compose(\n",
    "                                               [transforms.Resize(224),\n",
    "                                                transforms.ToTensor()])}}\n",
    "ds_params={'embed': None,\n",
    "           'train_params': {'dataset': 'MNIST',\n",
    "                         'tv_params': {'root': './data/',\n",
    "                                       'train': True,\n",
    "                                       'download': True,\n",
    "                                       'transform': transforms.Compose([\n",
    "                                           transforms.ToTensor(),\n",
    "                                           transforms.Normalize((0.1307,),(0.3081,))]),\n",
    "                                       'target_transform': None}},\n",
    "           'test_params': {'dataset': 'MNIST',\n",
    "                         'tv_params': {'root': './data/',\n",
    "                                       'train': False,\n",
    "                                       'download': True,\n",
    "                                       'transform': transforms.Compose([\n",
    "                                           transforms.ToTensor(),\n",
    "                                           transforms.Normalize((0.1307,),(0.3081,))]),\n",
    "                                       'target_transform': None}}}"
   ]
  },
  {
   "cell_type": "code",
   "execution_count": 2,
   "metadata": {},
   "outputs": [
    {
     "name": "stdout",
     "output_type": "stream",
     "text": [
      "epoch: 0 of 30, train loss: 0.3497215534515559, val loss: 0.20886896664033766, lr: 0.01\n",
      "epoch: 3 of 30, train loss: 0.08712726556521685, val loss: 0.14718117305765982, lr: 0.01\n",
      "epoch: 6 of 30, train loss: 0.049757661188350004, val loss: 0.10587467042648274, lr: 0.01\n",
      "epoch: 9 of 30, train loss: 0.04495642249681613, val loss: 0.1288133628423447, lr: 0.01\n",
      "epoch: 12 of 30, train loss: 0.01318712902279013, val loss: 0.10540882931293352, lr: 0.005\n",
      "epoch: 15 of 30, train loss: 0.011584523789081, val loss: 0.10314059421501082, lr: 0.005\n",
      "epoch: 18 of 30, train loss: 0.014205686952844063, val loss: 0.12147950368892887, lr: 0.0025\n",
      "epoch: 21 of 30, train loss: 0.004639517179199894, val loss: 0.1063846501207951, lr: 0.0025\n",
      "epoch: 24 of 30, train loss: 0.00289030659703051, val loss: 0.10665372867547178, lr: 0.00125\n",
      "epoch: 27 of 30, train loss: 0.0018453595124139639, val loss: 0.10193888488752038, lr: 0.000625\n",
      "test loss: 0.13599334702663873\n",
      "y_pred:\n",
      "tensor([[ 8.2710e-01,  2.0193e+01, -7.1701e-02, -1.7277e+00, -6.4645e+00,\n",
      "          3.9159e-01, -2.6105e+00,  1.4734e+00, -2.7896e+00, -1.2796e+00],\n",
      "        [-8.0542e-01, -2.4171e+00,  1.2049e+01, -7.6334e-01, -1.2805e+00,\n",
      "         -2.1906e+00, -1.4581e+00, -1.0548e+00, -8.4080e-01, -1.8445e+00],\n",
      "        [-1.9101e+00, -4.1099e+00, -4.6659e+00,  2.1324e+01, -2.5410e+00,\n",
      "         -7.2596e-01, -5.5054e+00, -1.4506e+00,  2.9654e+00, -2.8220e+00],\n",
      "        [-3.4842e+00, -1.6838e+00, -3.7185e+00, -2.6023e+00,  1.5163e+01,\n",
      "         -1.6259e+00,  8.5493e-01, -6.5808e-03, -4.4767e-01, -1.0472e+00],\n",
      "        [-2.4743e-02, -1.5298e+00, -4.4262e+00, -1.6771e+00, -3.6644e+00,\n",
      "          1.3842e+01, -3.1964e+00, -2.6442e+00,  7.9098e-01, -1.1704e+00],\n",
      "        [ 2.0551e+00, -2.8001e+00, -1.5716e+00, -3.9188e+00, -3.7766e+00,\n",
      "         -1.6553e+00,  1.9690e+01, -2.0346e+00,  9.8197e-01, -3.5395e+00],\n",
      "        [-4.0684e+00, -2.4535e+00, -9.8025e-01, -1.0034e+00, -2.6466e-01,\n",
      "         -6.1501e+00, -9.4751e+00,  1.9925e+01, -6.4052e+00,  2.0733e+00],\n",
      "        [-4.2618e+00,  1.1190e+00,  3.2340e-01, -1.5449e+00, -3.4888e+00,\n",
      "         -4.2662e+00, -7.3204e+00, -1.4974e+00,  1.8163e+01,  3.1628e+00],\n",
      "        [-3.3406e-01, -3.9188e+00, -1.8086e+00, -2.4389e+00,  2.2798e+00,\n",
      "         -4.1028e+00, -6.2755e+00, -3.9399e-01, -4.1429e+00,  1.4951e+01],\n",
      "        [ 2.2932e+01, -1.6055e+00, -5.6239e+00, -1.1370e+00, -7.6753e+00,\n",
      "         -1.7153e+00,  7.2543e-01, -3.4555e+00,  5.0145e-01, -1.8008e+00]],\n",
      "       device='cuda:0')\n",
      " y:\n",
      "tensor([1, 2, 3, 4, 5, 6, 7, 8, 9, 0], device='cuda:0')\n"
     ]
    },
    {
     "data": {
      "image/png": "[encoded data removed]",
      "text/plain": [
       "<Figure size 432x288 with 1 Axes>"
      ]
     },
     "metadata": {
      "needs_background": "light"
     },
     "output_type": "display_data"
    },
    {
     "name": "stdout",
     "output_type": "stream",
     "text": [
      "learning time: 0:01:31.480976\n"
     ]
    }
   ],
   "source": [
    "model_params = {'D_in': 28*28, \n",
    "                'H': 1024, \n",
    "                'D_out': 10, \n",
    "                'model_name': 'funnel'}\n",
    "\n",
    "ds_params={'embed': None,\n",
    "           'train_params': {'dataset': 'MNIST',\n",
    "                         'tv_params': {'root': './data/',\n",
    "                                       'train': True,\n",
    "                                       'download': True,\n",
    "                                       'transform': transforms.Compose([\n",
    "                                           transforms.ToTensor(),\n",
    "                                           transforms.Normalize((0.1307,),(0.3081,))]),\n",
    "                                       'target_transform': None}},\n",
    "           'test_params': {'dataset': 'MNIST',\n",
    "                         'tv_params': {'root': './data/',\n",
    "                                       'train': False,\n",
    "                                       'download': True,\n",
    "                                       'transform': transforms.Compose([\n",
    "                                           transforms.ToTensor(),\n",
    "                                           transforms.Normalize((0.1307,),(0.3081,))]),\n",
    "                                       'target_transform': None}}}\n",
    "        \n",
    "\n",
    "opt_params = {'lr': 0.01}\n",
    "crit_params = {'reduction': 'sum'}\n",
    "sample_params = {'set_seed': 88,\n",
    "                 'splits': (.8,.2)}\n",
    "sched_params = {'factor': .5,\n",
    "                'patience': 3}\n",
    "\n",
    "l = Learn([TVDS,TVDS], FFNet, Selector, \n",
    "          Optimizer=Adam, Scheduler=ReduceLROnPlateau, Criterion=CrossEntropyLoss, \n",
    "          model_params=model_params, ds_params=ds_params, sample_params=sample_params,\n",
    "          opt_params=opt_params, sched_params=sched_params, crit_params=crit_params,\n",
    "          adapt=False, load_model=False, load_embed=False, save_model=False,\n",
    "          batch_size=256, epochs=30)"
   ]
  },
  {
   "cell_type": "code",
   "execution_count": null,
   "metadata": {},
   "outputs": [],
   "source": [
    "model_params = {'D_in': 28*28, \n",
    "                'H': 1024, \n",
    "                'D_out': 1, \n",
    "                'model_name': 'funnel'}\n",
    "\n",
    "ds_params={'embed': None,\n",
    "           'ds_params': {'dataset': 'MNIST',\n",
    "                         'tv_params': {'root': './data/',\n",
    "                                       'train': True,\n",
    "                                       'download': True,\n",
    "                                       'transform': transforms.Compose([\n",
    "                                           transforms.ToTensor(),\n",
    "                                           transforms.Normalize((0.1307,),(0.3081,))]),\n",
    "                                       'target_transform': None}}}\n",
    "                         \n",
    "opt_params = {'lr': 0.01}\n",
    "crit_params = {'reduction': 'sum'}\n",
    "sample_params = {'set_seed': 88,\n",
    "                 'splits': (.7,.15)}\n",
    "sched_params = {'factor': .1,\n",
    "                'patience': 3}\n",
    "\n",
    "l = Learn([TVDS], FFNet, Selector, \n",
    "          Optimizer=Adam, Scheduler=ReduceLROnPlateau, Criterion=MSELoss, \n",
    "          model_params=model_params, ds_params=ds_params, sample_params=sample_params,\n",
    "          opt_params=opt_params, sched_params=sched_params, crit_params=crit_params,\n",
    "          adapt=False, load_model=False, load_embed=False, save_model=False,\n",
    "          batch_size=128, epochs=30)"
   ]
  },
  {
   "cell_type": "code",
   "execution_count": null,
   "metadata": {},
   "outputs": [],
   "source": []
  },
  {
   "cell_type": "code",
   "execution_count": null,
   "metadata": {},
   "outputs": [],
   "source": [
    "ds_params={'dataset': 'MNIST',\n",
    "           'embed': None,\n",
    "           'tv_params': {'root': './data/',\n",
    "                         'train': True,\n",
    "                         'download': True,\n",
    "                         'transform': transforms.Compose(\n",
    "                                           [transforms.ToTensor()]),\n",
    "                         'target_transform': None}}\n",
    "           \n",
    "tvds = TVDS(**ds_params)"
   ]
  },
  {
   "cell_type": "code",
   "execution_count": null,
   "metadata": {},
   "outputs": [],
   "source": [
    "tvds[1][0].shape"
   ]
  },
  {
   "cell_type": "code",
   "execution_count": null,
   "metadata": {},
   "outputs": [],
   "source": [
    "tvds[2][0].shape"
   ]
  },
  {
   "cell_type": "code",
   "execution_count": null,
   "metadata": {},
   "outputs": [],
   "source": []
  }
 ],
 "metadata": {
  "kernelspec": {
   "display_name": "Python 3",
   "language": "python",
   "name": "python3"
  },
  "language_info": {
   "codemirror_mode": {
    "name": "ipython",
    "version": 3
   },
   "file_extension": ".py",
   "mimetype": "text/x-python",
   "name": "python",
   "nbconvert_exporter": "python",
   "pygments_lexer": "ipython3",
   "version": "3.7.9"
  }
 },
 "nbformat": 4,
 "nbformat_minor": 4
}
