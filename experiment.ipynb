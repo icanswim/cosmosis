{
 "cells": [
  {
   "cell_type": "code",
   "execution_count": 1,
   "metadata": {},
   "outputs": [],
   "source": [
    "from model import FFNet\n",
    "from learning import Learn, Selector\n",
    "from dataset import Dummy\n",
    "\n",
    "from torch.optim import Adam\n",
    "from torch.nn import MSELoss"
   ]
  },
  {
   "cell_type": "code",
   "execution_count": 2,
   "metadata": {},
   "outputs": [
    {
     "name": "stdout",
     "output_type": "stream",
     "text": [
      "<class 'dataset.Dummy'> dataset created...\n",
      "epoch: 0 of 10, train loss: 33377278.19354839, val loss: 33372750.666666668\n",
      "epoch: 1 of 10, train loss: 33041221.548387095, val loss: 32665188.666666668\n",
      "epoch: 2 of 10, train loss: 32061445.80645161, val loss: 31178777.333333332\n",
      "epoch: 3 of 10, train loss: 29907315.35483871, val loss: 30623482.0\n",
      "epoch: 4 of 10, train loss: 27141845.032258064, val loss: 25358430.666666668\n",
      "epoch: 5 of 10, train loss: 23687830.64516129, val loss: 20259012.666666668\n",
      "epoch: 6 of 10, train loss: 19653202.0, val loss: 18289588.666666668\n",
      "epoch: 7 of 10, train loss: 16335318.903225806, val loss: 15083839.666666666\n",
      "epoch: 8 of 10, train loss: 13859924.935483871, val loss: 12812293.666666666\n",
      "epoch: 9 of 10, train loss: 12007200.322580645, val loss: 11648361.333333334\n",
      "test loss: 11677565.666666666\n",
      "y_pred:\n",
      "tensor([[3054.8804],\n",
      "        [5334.5928],\n",
      "        [ 267.3373],\n",
      "        [ 511.2944],\n",
      "        [ 768.1214],\n",
      "        [4253.5493],\n",
      "        [4640.4985],\n",
      "        [ 594.7439],\n",
      "        [4178.4761],\n",
      "        [ 659.6677]], device='cuda:0')\n",
      " y:\n",
      "tensor([[1564.],\n",
      "        [2044.],\n",
      "        [2235.],\n",
      "        [2320.],\n",
      "        [6264.],\n",
      "        [1890.],\n",
      "        [1207.],\n",
      "        [9252.],\n",
      "        [6976.],\n",
      "        [ 384.]], device='cuda:0')\n"
     ]
    },
    {
     "data": {
      "image/png": "[encoded data removed]",
      "text/plain": [
       "<Figure size 432x288 with 1 Axes>"
      ]
     },
     "metadata": {
      "needs_background": "light"
     },
     "output_type": "display_data"
    },
    {
     "name": "stdout",
     "output_type": "stream",
     "text": [
      "learning time: 0:00:09.185339\n"
     ]
    },
    {
     "data": {
      "text/plain": [
       "<learning.Learn at 0x7f9dbdc878d0>"
      ]
     },
     "execution_count": 2,
     "metadata": {},
     "output_type": "execute_result"
    }
   ],
   "source": [
    "opt_params = {'lr': 0.001}\n",
    "model_params = {'D_in': 512, \n",
    "                'H': 1024, \n",
    "                'D_out': 1, \n",
    "                'model_name': 'funnel'}\n",
    "ds_params = {'n': 10000,\n",
    "             'm': 512}\n",
    "crit_params = {'reduction': 'sum'}\n",
    "sample_params = {'set_seed': 88}\n",
    "\n",
    "Learn(Dummy, FFNet, Selector, Optimizer=Adam, Criterion=MSELoss, \n",
    "      model_params=model_params, ds_params=ds_params, opt_params=opt_params,\n",
    "      crit_params=crit_params, sample_params=sample_params,\n",
    "      save_model=False, load_model=False, load_embed=False, adapt=False,\n",
    "      batch_size=256, epochs=10)"
   ]
  },
  {
   "cell_type": "code",
   "execution_count": null,
   "metadata": {},
   "outputs": [],
   "source": [
    "d = Dummy()\n"
   ]
  },
  {
   "cell_type": "code",
   "execution_count": null,
   "metadata": {},
   "outputs": [],
   "source": [
    "x_cat, x_con, y = d[1]"
   ]
  },
  {
   "cell_type": "code",
   "execution_count": null,
   "metadata": {},
   "outputs": [],
   "source": [
    "print(x_cat.shape, x_cat.dtype)\n",
    "print(x_cat)\n",
    "print(y.shape, y.dtype)\n",
    "print(y)"
   ]
  },
  {
   "cell_type": "code",
   "execution_count": null,
   "metadata": {},
   "outputs": [],
   "source": []
  }
 ],
 "metadata": {
  "kernelspec": {
   "display_name": "Python 3",
   "language": "python",
   "name": "python3"
  },
  "language_info": {
   "codemirror_mode": {
    "name": "ipython",
    "version": 3
   },
   "file_extension": ".py",
   "mimetype": "text/x-python",
   "name": "python",
   "nbconvert_exporter": "python",
   "pygments_lexer": "ipython3",
   "version": "3.7.9"
  }
 },
 "nbformat": 4,
 "nbformat_minor": 4
}
