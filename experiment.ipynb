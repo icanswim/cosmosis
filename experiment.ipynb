{
 "cells": [
  {
   "cell_type": "code",
   "execution_count": 1,
   "metadata": {},
   "outputs": [],
   "source": [
    "from model import FFNet, tv_model, ResBam\n",
    "from learning import Learn, Selector, Metrics\n",
    "from dataset import SKDS, TVDS, CDataset, ImageDatasetStats, AsTensor, Squeeze, DType\n",
    "\n",
    "from torch.optim import Adam\n",
    "from torch.nn import MSELoss, CrossEntropyLoss\n",
    "from torch.optim.lr_scheduler import ReduceLROnPlateau\n",
    "from torchvision import transforms\n"
   ]
  },
  {
   "cell_type": "code",
   "execution_count": 2,
   "metadata": {},
   "outputs": [
    {
     "name": "stdout",
     "output_type": "stream",
     "text": [
      "bang\n",
      "CDataset created...\n"
     ]
    },
    {
     "data": {
      "text/plain": [
       "(array([10.03, 10.04]), array([3]), array([0.8]))"
      ]
     },
     "execution_count": 2,
     "metadata": {},
     "output_type": "execute_result"
    }
   ],
   "source": [
    "import numpy as np\n",
    "\n",
    "class DummyDataset(CDataset):\n",
    "    def load_data(self, boom='bust'):\n",
    "        \"\"\"datadic with keys X, target, embeds (with or without 'features')\"\"\"\n",
    "        datadic = {1: {'X': {'all': np.asarray([.01,.02]),\n",
    "                             'feature_a': np.asarray([.01]),\n",
    "                             'feature_b': np.asarray([.02])},\n",
    "                       'embeds': {'feature_c': 'a',\n",
    "                                  'feature_d': 'b'},\n",
    "                       'targets': {'feature_e': np.asarray([.3]),\n",
    "                                   'feature_f': np.asarray([.4])}},\n",
    "                   2: {'X': {'all': np.asarray([.03,.04]),\n",
    "                             'feature_a': np.asarray([.03]),\n",
    "                             'feature_b': np.asarray([.04])},\n",
    "                       'embeds': {'feature_c': 'c',\n",
    "                                  'feature_d': 'd'},\n",
    "                       'targets': {'feature_e': np.asarray([.7]),\n",
    "                                   'feature_f': np.asarray([.8])}}}\n",
    "        print(boom)\n",
    "        return datadic\n",
    "    \n",
    "class DummyTransform():\n",
    "    def __call__(self, arr):\n",
    "        return np.add(arr, 10)\n",
    "    \n",
    "ds_params = {'train_params': {'features': ['all'],\n",
    "                              'embeds': ['feature_c'],\n",
    "                              'targets': ['feature_f'],\n",
    "                              'embed_lookup': {'a': 1, 'b': 2, 'c': 3, 'd': 4},\n",
    "                              'transform': DummyTransform(),\n",
    "                              'target_transform': False,\n",
    "                              'boom': 'bang'}}\n",
    "    \n",
    "d = DummyDataset(**ds_params['train_params'])\n",
    "d[2]"
   ]
  },
  {
   "cell_type": "code",
   "execution_count": 3,
   "metadata": {},
   "outputs": [
    {
     "name": "stdout",
     "output_type": "stream",
     "text": [
      "CDataset created...\n",
      "SKDS make_regression created...\n"
     ]
    },
    {
     "data": {
      "text/plain": [
       "(array([-0.13873787, -1.6053834 , -1.0470335 , -1.9683658 ,  1.6255466 ],\n",
       "       dtype=float32),\n",
       " [],\n",
       " array([-102.09545], dtype=float32))"
      ]
     },
     "execution_count": 3,
     "metadata": {},
     "output_type": "execute_result"
    }
   ],
   "source": [
    "ds_params = {'train_params': {'make': 'make_regression',\n",
    "                              'sk_params': {'n_samples': 100,\n",
    "                                            'n_features': 5},\n",
    "                              'features_dtype': 'float32',\n",
    "                              'targets_dtype': 'float32'}}\n",
    "\n",
    "sk = SKDS(**ds_params['train_params'])\n",
    "\n",
    "sk[1]"
   ]
  },
  {
   "cell_type": "code",
   "execution_count": 4,
   "metadata": {},
   "outputs": [
    {
     "name": "stdout",
     "output_type": "stream",
     "text": [
      "CDataset created...\n",
      "SKDS make_classification created...\n"
     ]
    },
    {
     "data": {
      "text/plain": [
       "(array([ 1.4567806 ,  2.2511747 ,  0.89418924,  2.0568264 , -0.11372357,\n",
       "         0.79943997,  1.6271449 ,  0.70029455, -0.21601924, -0.12370378],\n",
       "       dtype=float32),\n",
       " [],\n",
       " array([1]))"
      ]
     },
     "execution_count": 4,
     "metadata": {},
     "output_type": "execute_result"
    }
   ],
   "source": [
    "ds_params = {'train_params': {'make': 'make_classification',\n",
    "                              'features_dtype': 'float32',\n",
    "                              'targets_dtype': 'int64',\n",
    "                              'sk_params': {'n_samples': 100,\n",
    "                                            'n_features': 10,\n",
    "                                            'n_informative': 8,\n",
    "                                            'n_clusters_per_class': 2,\n",
    "                                            'flip_y': 0.05,\n",
    "                                            'class_sep': 0.01,\n",
    "                                            'n_classes': 4}}}\n",
    "\n",
    "sk = SKDS(**ds_params['train_params'])\n",
    "\n",
    "sk[1]"
   ]
  },
  {
   "cell_type": "code",
   "execution_count": 5,
   "metadata": {},
   "outputs": [
    {
     "name": "stdout",
     "output_type": "stream",
     "text": [
      "CDataset created...\n",
      "TVDS created...\n"
     ]
    },
    {
     "data": {
      "text/plain": [
       "(<PIL.Image.Image image mode=L size=224x224 at 0x7FCA29396A90>, [], 0)"
      ]
     },
     "execution_count": 5,
     "metadata": {},
     "output_type": "execute_result"
    }
   ],
   "source": [
    "ds_params={'dataset': 'MNIST',\n",
    "           'tv_params': {'root': './data/',\n",
    "                         'train': True,\n",
    "                         'download': True,\n",
    "                         'transform': transforms.Compose([\n",
    "                                           transforms.Resize(224)]),\n",
    "                         'target_transform': None}}\n",
    "\n",
    "tvds = TVDS(**ds_params)\n",
    "tvds[1]"
   ]
  },
  {
   "cell_type": "code",
   "execution_count": null,
   "metadata": {},
   "outputs": [],
   "source": [
    "ds_params={'dataset': 'MNIST',\n",
    "           'tv_params': {'root': './data/',\n",
    "                         'train': True,\n",
    "                         'download': True,\n",
    "                         'transform': transforms.Compose([\n",
    "                                           transforms.Resize(224)]),\n",
    "                         'target_transform': None}}\n",
    "\n",
    "tvds = TVDS(**ds_params)\n",
    "ids = ImageDatasetStats(tvds)\n",
    "\n",
    "print('mean: ', ids.stats.mean)\n",
    "print('stddev: ', ids.stats.stddev)\n",
    "\n",
    "#mean: 33.3/255 = .13\n",
    "#stddev: 73.7/255 = .29"
   ]
  },
  {
   "cell_type": "code",
   "execution_count": 6,
   "metadata": {},
   "outputs": [
    {
     "name": "stdout",
     "output_type": "stream",
     "text": [
      "CDataset created...\n",
      "SKDS make_regression created...\n",
      "CModel loaded...\n",
      "FFNet model loaded...\n",
      "learning time: 0:00:02.064883\n",
      "epoch: 0, lr: 0.01\n",
      "train loss: 685788.8055555555, val loss: 646536.2\n",
      "sklearn train metric: 0, sklearn validation metric: 0\n",
      "learning time: 0:00:07.542236\n",
      "epoch: 10, lr: 0.01\n",
      "train loss: 14174.714879918982, val loss: 10771.8625\n",
      "sklearn train metric: 0, sklearn validation metric: 0\n",
      "test loss: 9765.2560546875\n",
      "learning time: 0:00:12.629021\n",
      "sklearn test metric: \n",
      "0 \n",
      "\n"
     ]
    },
    {
     "data": {
      "image/png": "[encoded data removed]",
      "text/plain": [
       "<Figure size 432x288 with 1 Axes>"
      ]
     },
     "metadata": {
      "needs_background": "light"
     },
     "output_type": "display_data"
    }
   ],
   "source": [
    "model_params = {'D_in': 256, \n",
    "                'H': 512, \n",
    "                'D_out': 1, \n",
    "                'model_name': 'funnel'}\n",
    "\n",
    "ds_params = {'train_params': {'features_dtype': 'float32',\n",
    "                              'targets_dtype': 'float32',\n",
    "                              'make': 'make_regression',\n",
    "                              'sk_params': {'n_samples': 10000,\n",
    "                                            'n_features': 256,\n",
    "                                            'n_informative': 200}}}\n",
    "             \n",
    "metrics_params = {'report_interval': 10}                         \n",
    "             \n",
    "opt_params = {'lr': 0.01}\n",
    "\n",
    "crit_params = {'reduction': 'sum'}\n",
    "\n",
    "sample_params = {'set_seed': 88,\n",
    "                 'splits': (.7,.15)}\n",
    "\n",
    "sched_params = {'factor': .5,\n",
    "                'patience': 2,\n",
    "                'cooldown': 2}\n",
    "\n",
    "l = Learn([SKDS], \n",
    "          FFNet,\n",
    "          Metrics=Metrics,\n",
    "          Sampler=Selector, \n",
    "          Optimizer=Adam, \n",
    "          Scheduler=ReduceLROnPlateau, \n",
    "          Criterion=MSELoss,\n",
    "          model_params=model_params, ds_params=ds_params, sample_params=sample_params,\n",
    "          opt_params=opt_params, sched_params=sched_params, crit_params=crit_params,\n",
    "          metrics_params=metrics_params,\n",
    "          adapt=False, load_model=False, load_embed=False, save_model=False,\n",
    "          batch_size=256, epochs=20)"
   ]
  },
  {
   "cell_type": "code",
   "execution_count": 7,
   "metadata": {},
   "outputs": [
    {
     "name": "stdout",
     "output_type": "stream",
     "text": [
      "CDataset created...\n",
      "SKDS make_classification created...\n",
      "CModel loaded...\n",
      "FFNet model loaded...\n",
      "learning time: 0:00:00.809998\n",
      "epoch: 0, lr: 0.01\n",
      "train loss: 1.4235556390550401, val loss: 1.3951208916577427\n",
      "sklearn train metric: 0.5032220785578876, sklearn validation metric: 0.4980096467952986\n",
      "learning time: 0:00:08.750048\n",
      "epoch: 10, lr: 0.01\n",
      "train loss: 0.18404887285497454, val loss: 1.1615527163852344\n",
      "sklearn train metric: 0.9928450531944661, sklearn validation metric: 0.8880850428036955\n",
      "test loss: 1.1860290223901921\n",
      "learning time: 0:00:16.224224\n",
      "sklearn test metric: \n",
      "0.9203696592699004 \n",
      "\n"
     ]
    },
    {
     "data": {
      "image/png": "[encoded data removed]",
      "text/plain": [
       "<Figure size 432x288 with 1 Axes>"
      ]
     },
     "metadata": {
      "needs_background": "light"
     },
     "output_type": "display_data"
    }
   ],
   "source": [
    "model_params = {'D_in': 256, \n",
    "                'H': 192, \n",
    "                'D_out': 4, \n",
    "                'model_name': 'funnel'}\n",
    "\n",
    "ds_params = {'train_params': {'features_dtype': 'float32',\n",
    "                              'targets_dtype': 'int64',\n",
    "                              'make': 'make_classification',\n",
    "                              'sk_params': {'n_samples': 10000,\n",
    "                                            'n_features': 256,\n",
    "                                            'n_informative': 200,\n",
    "                                            'n_clusters_per_class': 3,\n",
    "                                            'flip_y': 0.05,\n",
    "                                            'class_sep': 0.1,\n",
    "                                            'n_classes': 4}}}\n",
    "                                     \n",
    "metrics_params = {'report_interval': 10, \n",
    "                  'sk_metric_name': 'roc_auc_score', \n",
    "                  'sk_params': {'average': 'macro',\n",
    "                                'multi_class': 'ovr'}}\n",
    "\n",
    "opt_params = {'lr': 0.01}\n",
    "\n",
    "crit_params = {'reduction': 'sum'}\n",
    "\n",
    "sample_params = {'set_seed': 88,\n",
    "                 'splits': (.7,.15)}\n",
    "\n",
    "sched_params = {'factor': .5,\n",
    "                'patience': 5,\n",
    "                'cooldown': 5}\n",
    "\n",
    "l = Learn([SKDS], \n",
    "          FFNet, \n",
    "          Sampler=Selector,\n",
    "          Metrics=Metrics,\n",
    "          Optimizer=Adam, \n",
    "          Scheduler=ReduceLROnPlateau, \n",
    "          Criterion=CrossEntropyLoss,\n",
    "          model_params=model_params, ds_params=ds_params, \n",
    "          sample_params=sample_params, opt_params=opt_params, \n",
    "          sched_params=sched_params, crit_params=crit_params,\n",
    "          metrics_params=metrics_params,\n",
    "          adapt=False, load_model=False, load_embed=False, save_model=False,\n",
    "          batch_size=128, epochs=20, squeeze_y=True)"
   ]
  },
  {
   "cell_type": "code",
   "execution_count": 9,
   "metadata": {},
   "outputs": [
    {
     "name": "stdout",
     "output_type": "stream",
     "text": [
      "Files already downloaded and verified\n",
      "CDataset created...\n",
      "TVDS created...\n",
      "Files already downloaded and verified\n",
      "CDataset created...\n",
      "TVDS created...\n",
      "TorchVision model resnet18 loaded...\n",
      "learning time: 0:00:12.377065\n",
      "epoch: 0, lr: 0.01\n",
      "train loss: 2.3511950984001158, val loss: 2.060691868105242\n",
      "sklearn train metric: 0.6247624234818497, sklearn validation metric: 0.709745603396361\n",
      "learning time: 0:00:24.434987\n",
      "epoch: 1, lr: 0.01\n",
      "train loss: 2.0449428544044497, val loss: 2.050067203660165\n",
      "sklearn train metric: 0.7109471026257923, sklearn validation metric: 0.7456030595151033\n",
      "learning time: 0:00:36.687709\n",
      "epoch: 2, lr: 0.01\n",
      "train loss: 1.9384403324127197, val loss: 1.8838942089388448\n",
      "sklearn train metric: 0.7555738764858253, sklearn validation metric: 0.7815877214042775\n",
      "learning time: 0:00:48.868597\n",
      "epoch: 3, lr: 0.01\n",
      "train loss: 1.8546954765319825, val loss: 1.816320953830596\n",
      "sklearn train metric: 0.7807574723913377, sklearn validation metric: 0.802858266412534\n",
      "learning time: 0:01:01.050398\n",
      "epoch: 4, lr: 0.01\n",
      "train loss: 1.769849991798401, val loss: 1.70627579381389\n",
      "sklearn train metric: 0.8025971858422007, sklearn validation metric: 0.8258311405266456\n",
      "learning time: 0:01:13.196682\n",
      "epoch: 5, lr: 0.01\n",
      "train loss: 1.6987812151908874, val loss: 1.6784384192958954\n",
      "sklearn train metric: 0.8217262053381619, sklearn validation metric: 0.8402367092930902\n",
      "learning time: 0:01:25.519186\n",
      "epoch: 6, lr: 0.01\n",
      "train loss: 1.6179150042533874, val loss: 1.57880346717373\n",
      "sklearn train metric: 0.8395977517016526, sklearn validation metric: 0.8589790423617678\n",
      "learning time: 0:01:37.627216\n",
      "epoch: 7, lr: 0.01\n",
      "train loss: 1.5590331201553345, val loss: 1.5644690490538073\n",
      "sklearn train metric: 0.8523203340298972, sklearn validation metric: 0.864686586174462\n",
      "learning time: 0:01:49.753307\n",
      "epoch: 8, lr: 0.01\n",
      "train loss: 1.4753301866054536, val loss: 1.5059760655126264\n",
      "sklearn train metric: 0.8687911424039241, sklearn validation metric: 0.8695468039286398\n",
      "learning time: 0:02:01.894609\n",
      "epoch: 9, lr: 0.01\n",
      "train loss: 1.4207048468589782, val loss: 1.4862234909688272\n",
      "sklearn train metric: 0.8780490997690199, sklearn validation metric: 0.8810868482094604\n",
      "test loss: 1.4874333995819091\n",
      "learning time: 0:02:10.502841\n",
      "sklearn test metric: \n",
      "0.8771783111111111 \n",
      "\n"
     ]
    },
    {
     "data": {
      "image/png": "[encoded data removed]",
      "text/plain": [
       "<Figure size 432x288 with 1 Axes>"
      ]
     },
     "metadata": {
      "needs_background": "light"
     },
     "output_type": "display_data"
    }
   ],
   "source": [
    "model_params = {'model_name': 'resnet18',\n",
    "                'in_channels': 3,\n",
    "                'tv_params': {'num_classes': 10}}\n",
    "\n",
    "ds_params={'train_params': {'dataset': 'CIFAR10',\n",
    "                            'tv_params': {'root': './data/',\n",
    "                                          'train': True,\n",
    "                                          'download': True,\n",
    "                                          'transform': transforms.Compose([\n",
    "                                                           transforms.RandomRotation(10),\n",
    "                                                           transforms.Resize(224),\n",
    "                                                           transforms.ToTensor()]),\n",
    "                                          'target_transform': None,\n",
    "                                          'download': True}},\n",
    "           'test_params': {'dataset': 'CIFAR10',\n",
    "                           'tv_params': {'root': './data/',\n",
    "                                         'train': False,\n",
    "                                         'download': True,\n",
    "                                         'transform': transforms.Compose([\n",
    "                                                         transforms.Resize(224),\n",
    "                                                         transforms.ToTensor()]),\n",
    "                                         'target_transform': None,\n",
    "                                         'download': True}}}\n",
    "\n",
    "metrics_params = {'report_interval': 10, \n",
    "                  'sk_metric_name': 'roc_auc_score', \n",
    "                  'sk_params': {'average': 'macro',\n",
    "                                'multi_class': 'ovr'}}\n",
    "\n",
    "opt_params = {'lr': 0.01}\n",
    "\n",
    "crit_params = {'reduction': 'sum'}\n",
    "\n",
    "sample_params = {'set_seed': 88,\n",
    "                 'splits': (.8,),\n",
    "                 'subset': .1}\n",
    "\n",
    "sched_params = {'factor': .5,\n",
    "                'patience': 1,\n",
    "                'cooldown': 1}\n",
    "\n",
    "l = Learn([TVDS,TVDS], \n",
    "          tv_model, \n",
    "          Selector, \n",
    "          Optimizer=Adam, \n",
    "          Scheduler=ReduceLROnPlateau, \n",
    "          Criterion=CrossEntropyLoss, \n",
    "          model_params=model_params, ds_params=ds_params, \n",
    "          sample_params=sample_params, opt_params=opt_params, \n",
    "          sched_params=sched_params, crit_params=crit_params,\n",
    "          metrics_params=metrics_params,\n",
    "          adapt=False, load_model=False, load_embed=False, save_model=False,\n",
    "          batch_size=16, epochs=10)"
   ]
  },
  {
   "cell_type": "code",
   "execution_count": 10,
   "metadata": {},
   "outputs": [
    {
     "name": "stdout",
     "output_type": "stream",
     "text": [
      "CDataset created...\n",
      "TVDS created...\n",
      "CDataset created...\n",
      "TVDS created...\n",
      "CModel loaded...\n",
      "ResBam model loaded...\n",
      "learning time: 0:00:25.587816\n",
      "epoch: 0, lr: 0.005\n",
      "train loss: 1.9756412439346314, val loss: 1.83490623581794\n",
      "sklearn train metric: 0.7439261678608949, sklearn validation metric: 0.7870527614548173\n",
      "learning time: 0:00:51.031973\n",
      "epoch: 1, lr: 0.005\n",
      "train loss: 1.7940322570800782, val loss: 1.824541445701353\n",
      "sklearn train metric: 0.8004332250371361, sklearn validation metric: 0.7933863419534205\n",
      "learning time: 0:01:16.654497\n",
      "epoch: 2, lr: 0.005\n",
      "train loss: 1.718411997795105, val loss: 1.7314902428657777\n",
      "sklearn train metric: 0.8199744114618301, sklearn validation metric: 0.8158476332464722\n",
      "learning time: 0:01:42.340780\n",
      "epoch: 3, lr: 0.005\n",
      "train loss: 1.6461704835891724, val loss: 1.652748123292\n",
      "sklearn train metric: 0.8361063833964714, sklearn validation metric: 0.8347234925719917\n",
      "learning time: 0:02:08.401900\n",
      "epoch: 4, lr: 0.005\n",
      "train loss: 1.556457486152649, val loss: 1.6093141763441023\n",
      "sklearn train metric: 0.8563641675734199, sklearn validation metric: 0.8436018841821878\n",
      "learning time: 0:02:34.026491\n",
      "epoch: 5, lr: 0.005\n",
      "train loss: 1.51527223777771, val loss: 1.6005735820339573\n",
      "sklearn train metric: 0.8646379915749991, sklearn validation metric: 0.8456345619405801\n",
      "learning time: 0:02:59.814400\n",
      "epoch: 6, lr: 0.005\n",
      "train loss: 1.4508914470672607, val loss: 1.54070205842295\n",
      "sklearn train metric: 0.8762411529783686, sklearn validation metric: 0.8574743178269625\n",
      "learning time: 0:03:25.334940\n",
      "epoch: 7, lr: 0.005\n",
      "train loss: 1.38605264377594, val loss: 1.5371601004754343\n",
      "sklearn train metric: 0.8884054611025606, sklearn validation metric: 0.8612867498842179\n",
      "learning time: 0:03:50.783134\n",
      "epoch: 8, lr: 0.005\n",
      "train loss: 1.3244936690330504, val loss: 1.5147948380439513\n",
      "sklearn train metric: 0.897943628496239, sklearn validation metric: 0.8619993882701442\n",
      "learning time: 0:04:16.188671\n",
      "epoch: 9, lr: 0.005\n",
      "train loss: 1.2818091349601746, val loss: 1.505321975677244\n",
      "sklearn train metric: 0.9049345296545909, sklearn validation metric: 0.8655243190025355\n",
      "test loss: 1.5135126539911978\n",
      "learning time: 0:04:32.868151\n",
      "sklearn test metric: \n",
      "0.864506040179967 \n",
      "\n"
     ]
    },
    {
     "data": {
      "image/png": "[encoded data removed]",
      "text/plain": [
       "<Figure size 432x288 with 1 Axes>"
      ]
     },
     "metadata": {
      "needs_background": "light"
     },
     "output_type": "display_data"
    }
   ],
   "source": [
    "model_params = {'n_classes': 10,\n",
    "                'residual': True,\n",
    "                'in_channels': 3,\n",
    "                'groups': 4,\n",
    "                'bam': True,\n",
    "                'dropout': [.1,.2,.3,.2,.1],\n",
    "                #'act': None\n",
    "               }\n",
    "\n",
    "\n",
    "ds_params={'train_params': {'dataset': 'CIFAR10',\n",
    "                            'tv_params': {'root': './data/',\n",
    "                                          'train': True,\n",
    "                                          'transform': transforms.Compose([\n",
    "                                                       transforms.RandomRotation(10),\n",
    "                                                       transforms.Resize(256),\n",
    "                                                       transforms.ToTensor(),\n",
    "                                                       transforms.Normalize(.13,.29)]),\n",
    "                                          'target_transform': None}},\n",
    "           'test_params': {'dataset': 'CIFAR10',\n",
    "                           'tv_params': {'root': './data/',\n",
    "                                         'train': False,\n",
    "                                         'transform': transforms.Compose([\n",
    "                                                      transforms.Resize(256),\n",
    "                                                      transforms.ToTensor(),\n",
    "                                                      transforms.Normalize(.13,.29)]),\n",
    "                                         'target_transform': None}}}\n",
    "\n",
    "metrics_params = {'report_interval': 10, \n",
    "                  'sk_metric_name': 'roc_auc_score', \n",
    "                  'sk_params': {'average': 'macro',\n",
    "                                'multi_class': 'ovr'}}\n",
    "\n",
    "opt_params = {'lr': 0.005}\n",
    "\n",
    "crit_params = {'reduction': 'sum'}\n",
    "\n",
    "sample_params = {'set_seed': 88,\n",
    "                 'splits': (.8,),\n",
    "                 'subset': .1}\n",
    "\n",
    "sched_params = {'factor': .5,\n",
    "                'patience': 2,\n",
    "                'cooldown': 1}\n",
    "\n",
    "l = Learn([TVDS,TVDS], \n",
    "          ResBam, \n",
    "          Selector, \n",
    "          Optimizer=Adam, \n",
    "          Scheduler=ReduceLROnPlateau, \n",
    "          Criterion=CrossEntropyLoss, \n",
    "          model_params=model_params, ds_params=ds_params, \n",
    "          sample_params=sample_params, opt_params=opt_params, \n",
    "          sched_params=sched_params, crit_params=crit_params,\n",
    "          metrics_params=metrics_params,\n",
    "          adapt=False, load_model=False, load_embed=False, save_model=False,\n",
    "          batch_size=32, epochs=10)"
   ]
  },
  {
   "cell_type": "code",
   "execution_count": 12,
   "metadata": {},
   "outputs": [
    {
     "name": "stdout",
     "output_type": "stream",
     "text": [
      "CDataset created...\n",
      "TVDS created...\n",
      "CDataset created...\n",
      "TVDS created...\n",
      "TorchVision model resnext50_32x4d loaded...\n",
      "learning time: 0:01:01.059607\n",
      "epoch: 0, lr: 0.01\n",
      "train loss: 2.6429989066123962, val loss: 2.151353463049858\n",
      "sklearn train metric: 0.5553856011566757, sklearn validation metric: 0.6833311088475378\n",
      "learning time: 0:02:02.044367\n",
      "epoch: 1, lr: 0.01\n",
      "train loss: 2.1002339596748354, val loss: 2.073781390343943\n",
      "sklearn train metric: 0.6865310961868275, sklearn validation metric: 0.7244263851591536\n",
      "learning time: 0:03:03.607247\n",
      "epoch: 2, lr: 0.01\n",
      "train loss: 2.0038250622749327, val loss: 2.001435681696861\n",
      "sklearn train metric: 0.7301383412233609, sklearn validation metric: 0.7420069466756658\n",
      "learning time: 0:04:05.238711\n",
      "epoch: 3, lr: 0.01\n",
      "train loss: 1.957921489238739, val loss: 1.9798193227860235\n",
      "sklearn train metric: 0.7460431569960464, sklearn validation metric: 0.7594777701457546\n",
      "learning time: 0:05:06.579391\n",
      "epoch: 4, lr: 0.01\n",
      "train loss: 1.8887448148727417, val loss: 1.8276681707751365\n",
      "sklearn train metric: 0.7689540913627062, sklearn validation metric: 0.795711243843417\n",
      "learning time: 0:06:09.072856\n",
      "epoch: 5, lr: 0.01\n",
      "train loss: 1.8461087188720704, val loss: 1.8033427076954995\n",
      "sklearn train metric: 0.782658886369686, sklearn validation metric: 0.8075516255832254\n",
      "learning time: 0:07:12.914139\n",
      "epoch: 6, lr: 0.01\n",
      "train loss: 1.7843518738746642, val loss: 1.7798109112247344\n",
      "sklearn train metric: 0.7973064295546973, sklearn validation metric: 0.8113035355318303\n",
      "learning time: 0:08:16.902749\n",
      "epoch: 7, lr: 0.01\n",
      "train loss: 1.7497387108802795, val loss: 1.6415224267590431\n",
      "sklearn train metric: 0.8081462998322021, sklearn validation metric: 0.8436413284601312\n",
      "learning time: 0:09:21.696545\n",
      "epoch: 8, lr: 0.01\n",
      "train loss: 1.6841190252304077, val loss: 1.6431305619978136\n",
      "sklearn train metric: 0.8237994921262292, sklearn validation metric: 0.8414143531928187\n",
      "learning time: 0:10:25.069978\n",
      "epoch: 9, lr: 0.01\n",
      "train loss: 1.6258898470401764, val loss: 1.5619306487421836\n",
      "sklearn train metric: 0.8381754953402207, sklearn validation metric: 0.8612193835666189\n",
      "test loss: 1.5653756788253783\n",
      "learning time: 0:11:09.194853\n",
      "sklearn test metric: \n",
      "0.8571173333333334 \n",
      "\n"
     ]
    },
    {
     "data": {
      "image/png": "[encoded data removed]",
      "text/plain": [
       "<Figure size 432x288 with 1 Axes>"
      ]
     },
     "metadata": {
      "needs_background": "light"
     },
     "output_type": "display_data"
    }
   ],
   "source": [
    "model_params = {'model_name': 'resnext50_32x4d',\n",
    "                'in_channels': 3,\n",
    "                'tv_params': {'num_classes': 10}}\n",
    "\n",
    "ds_params={'train_params': {'dataset': 'CIFAR10',\n",
    "                            'tv_params': {'root': './data/',\n",
    "                                          'train': True,\n",
    "                                          'transform': transforms.Compose([\n",
    "                                                       transforms.RandomRotation(10),\n",
    "                                                       transforms.Resize(256),\n",
    "                                                       transforms.ToTensor()]),\n",
    "                                          'target_transform': None}},\n",
    "           'test_params': {'dataset': 'CIFAR10',\n",
    "                           'tv_params': {'root': './data/',\n",
    "                                         'train': False,\n",
    "                                         'transform': transforms.Compose([\n",
    "                                                      transforms.Resize(256),\n",
    "                                                      transforms.ToTensor()]),\n",
    "                                         'target_transform': None}}}\n",
    "\n",
    "metrics_params = {'report_interval': 10, \n",
    "                  'sk_metric_name': 'roc_auc_score', \n",
    "                  'sk_params': {'average': 'macro',\n",
    "                                'multi_class': 'ovr'}}\n",
    "\n",
    "opt_params = {'lr': 0.01}\n",
    "\n",
    "crit_params = {'reduction': 'sum'}\n",
    "\n",
    "sample_params = {'set_seed': 88,\n",
    "                 'splits': (.8,),\n",
    "                 'subset': .1}\n",
    "\n",
    "sched_params = {'factor': .5,\n",
    "                'patience': 2,\n",
    "                'cooldown': 2}\n",
    "\n",
    "l = Learn([TVDS,TVDS], \n",
    "          tv_model, \n",
    "          Selector, \n",
    "          Optimizer=Adam, \n",
    "          Scheduler=ReduceLROnPlateau, \n",
    "          Criterion=CrossEntropyLoss, \n",
    "          model_params=model_params, ds_params=ds_params, \n",
    "          sample_params=sample_params, opt_params=opt_params, \n",
    "          sched_params=sched_params, crit_params=crit_params,\n",
    "          metrics_params=metrics_params,\n",
    "          adapt=False, load_model=False, load_embed=False, save_model=False,\n",
    "          batch_size=16, epochs=10)"
   ]
  },
  {
   "cell_type": "code",
   "execution_count": null,
   "metadata": {},
   "outputs": [],
   "source": []
  }
 ],
 "metadata": {
  "kernelspec": {
   "display_name": "Python 3",
   "language": "python",
   "name": "python3"
  },
  "language_info": {
   "codemirror_mode": {
    "name": "ipython",
    "version": 3
   },
   "file_extension": ".py",
   "mimetype": "text/x-python",
   "name": "python",
   "nbconvert_exporter": "python",
   "pygments_lexer": "ipython3",
   "version": "3.7.9"
  }
 },
 "nbformat": 4,
 "nbformat_minor": 4
}
