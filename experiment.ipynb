{
 "cells": [
  {
   "cell_type": "code",
   "execution_count": 1,
   "metadata": {},
   "outputs": [],
   "source": [
    "from model import FFNet\n",
    "from learning import Learn, Selector\n",
    "from dataset import Dummy\n",
    "\n",
    "from torch.optim import Adam\n",
    "from torch.nn import MSELoss"
   ]
  },
  {
   "cell_type": "code",
   "execution_count": 2,
   "metadata": {},
   "outputs": [
    {
     "name": "stdout",
     "output_type": "stream",
     "text": [
      "<class 'dataset.Dummy'> dataset created...\n",
      "epoch: 0 of 10, train loss: 25033.296244959678, val loss: 22346.774088541668\n",
      "epoch: 1 of 10, train loss: 17021.72835811492, val loss: 11240.476888020834\n",
      "epoch: 2 of 10, train loss: 6938.6430821572585, val loss: 2739.3585611979165\n",
      "epoch: 3 of 10, train loss: 1565.052015735257, val loss: 1068.4998982747395\n",
      "epoch: 4 of 10, train loss: 780.7769893523185, val loss: 841.4004923502604\n",
      "epoch: 5 of 10, train loss: 753.2991953203755, val loss: 810.9225667317709\n",
      "epoch: 6 of 10, train loss: 744.0702337449596, val loss: 567.0543619791666\n",
      "epoch: 7 of 10, train loss: 689.0188775831654, val loss: 691.7839965820312\n",
      "epoch: 8 of 10, train loss: 640.6057414393271, val loss: 911.4198608398438\n",
      "epoch: 9 of 10, train loss: 569.5591755528604, val loss: 751.4378255208334\n",
      "test loss: 577.5710245768229\n",
      "y_pred:\n",
      "tensor([[-132.4376],\n",
      "        [   4.8264],\n",
      "        [ -48.9601],\n",
      "        [-168.9644],\n",
      "        [  44.1399],\n",
      "        [-240.1136],\n",
      "        [-260.1850],\n",
      "        [  -6.6817],\n",
      "        [ 206.9003],\n",
      "        [ -80.6054]], device='cuda:0')\n",
      " y:\n",
      "tensor([[-140.3288],\n",
      "        [  11.3867],\n",
      "        [ -34.9597],\n",
      "        [-164.2590],\n",
      "        [  59.6519],\n",
      "        [-273.8853],\n",
      "        [-222.8395],\n",
      "        [  -5.5554],\n",
      "        [ 229.5997],\n",
      "        [ -61.4730]], device='cuda:0')\n"
     ]
    },
    {
     "data": {
      "image/png": "[encoded data removed]",
      "text/plain": [
       "<Figure size 432x288 with 1 Axes>"
      ]
     },
     "metadata": {
      "needs_background": "light"
     },
     "output_type": "display_data"
    },
    {
     "name": "stdout",
     "output_type": "stream",
     "text": [
      "learning time: 0:00:08.566238\n"
     ]
    },
    {
     "data": {
      "text/plain": [
       "<learning.Learn at 0x7feedd474350>"
      ]
     },
     "execution_count": 2,
     "metadata": {},
     "output_type": "execute_result"
    }
   ],
   "source": [
    "opt_params = {'lr': 0.001}\n",
    "model_params = {'D_in': 128, \n",
    "                'H': 512, \n",
    "                'D_out': 1, \n",
    "                'model_name': 'funnel'}\n",
    "ds_params = {'make': 'make_regression',\n",
    "             'make_params': {'n_samples': 10000,\n",
    "                             'n_features': 128}}\n",
    "crit_params = {'reduction': 'sum'}\n",
    "sample_params = {'set_seed': 88}\n",
    "\n",
    "Learn(Dummy, FFNet, Selector, Optimizer=Adam, Criterion=MSELoss, \n",
    "      model_params=model_params, ds_params=ds_params, opt_params=opt_params,\n",
    "      crit_params=crit_params, sample_params=sample_params,\n",
    "      save_model=False, load_model=False, load_embed=False, adapt=False,\n",
    "      batch_size=256, epochs=10)"
   ]
  },
  {
   "cell_type": "code",
   "execution_count": null,
   "metadata": {},
   "outputs": [],
   "source": []
  }
 ],
 "metadata": {
  "kernelspec": {
   "display_name": "Python 3",
   "language": "python",
   "name": "python3"
  },
  "language_info": {
   "codemirror_mode": {
    "name": "ipython",
    "version": 3
   },
   "file_extension": ".py",
   "mimetype": "text/x-python",
   "name": "python",
   "nbconvert_exporter": "python",
   "pygments_lexer": "ipython3",
   "version": "3.7.9"
  }
 },
 "nbformat": 4,
 "nbformat_minor": 4
}
