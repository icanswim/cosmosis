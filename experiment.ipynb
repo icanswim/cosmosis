{
 "cells": [
  {
   "cell_type": "code",
   "execution_count": null,
   "metadata": {},
   "outputs": [],
   "source": [
    "## This is a series of examples using the icanswim/cosmosis data science and machine learning repo"
   ]
  },
  {
   "cell_type": "code",
   "execution_count": 1,
   "metadata": {},
   "outputs": [],
   "source": [
    "from model import FFNet, tv_model\n",
    "from learning import Learn, Selector, Metrics\n",
    "from dataset import SKDS, TVDS, CDataset, ImageDatasetStats, AsTensor, Squeeze, DType\n",
    "\n",
    "from torch.optim import Adam\n",
    "from torch.nn import MSELoss, CrossEntropyLoss\n",
    "from torch.optim.lr_scheduler import ReduceLROnPlateau\n",
    "from torchvision import transforms"
   ]
  },
  {
   "cell_type": "code",
   "execution_count": 2,
   "metadata": {
    "tags": []
   },
   "outputs": [
    {
     "name": "stdout",
     "output_type": "stream",
     "text": [
      "bang\n",
      "CDataset created...\n"
     ]
    },
    {
     "data": {
      "text/plain": [
       "(array([0.203, 0.32 , 0.2  , 0.2  , 0.2  ]),\n",
       " [array([1, 2, 4]), array([4, 0, 0, 0])],\n",
       " array([0.01]))"
      ]
     },
     "execution_count": 2,
     "metadata": {},
     "output_type": "execute_result"
    }
   ],
   "source": [
    "## Example of generic/custom dataset and transforms\n",
    "import numpy as np\n",
    "\n",
    "class DummyDataset(CDataset):\n",
    "\n",
    "    def load_data(self, boom='bust'):\n",
    "        \n",
    "        datadic = {1: {'feature_1': np.asarray([.04]),\n",
    "                       'feature_2': np.asarray([.02]),\n",
    "                       'feature_3': np.asarray(['c']),\n",
    "                       'feature_4': np.asarray(['b','a']),\n",
    "                       'feature_5': np.asarray([1.1])},\n",
    "                   2: {'feature_1': np.asarray([.03]),\n",
    "                       'feature_2': np.asarray([.01]),\n",
    "                       'feature_3': np.asarray(['a','b','d']),\n",
    "                       'feature_4': np.asarray(['d']),\n",
    "                       'feature_5': np.asarray([1.2])}}\n",
    "        \n",
    "        print(boom)\n",
    "        return datadic\n",
    "    \n",
    "class DummyTransform():\n",
    "    def __call__(self, arr):\n",
    "        return np.add(arr, 2)\n",
    "    \n",
    "class DummyTransformTwo():\n",
    "    def __call__(self, arr):\n",
    "        return np.multiply(arr, .1)\n",
    "    \n",
    "ds_params = {'train_params': {'features': ['feature_1','feature_5'],\n",
    "                              'embeds': ['feature_3','feature_4'],\n",
    "                              'targets': ['feature_2'],\n",
    "                              'embed_lookup': {'a': 1, 'b': 2, 'c': 3, 'd': 4, '0': 0},\n",
    "                              'transform': [DummyTransform(), DummyTransformTwo()],\n",
    "                              'target_transform': [],\n",
    "                              'pad': 4,\n",
    "                              'do_not_pad': ['feature_1','feature_2','feature_3'],\n",
    "                              'boom': 'bang'}}\n",
    "    \n",
    "d = DummyDataset(**ds_params['train_params'])\n",
    "d[2]"
   ]
  },
  {
   "cell_type": "code",
   "execution_count": 3,
   "metadata": {
    "tags": []
   },
   "outputs": [
    {
     "name": "stdout",
     "output_type": "stream",
     "text": [
      "CDataset created...\n",
      "SKDS make_regression created...\n"
     ]
    },
    {
     "data": {
      "text/plain": [
       "(array([-0.8135449 ,  0.7010371 , -0.4194758 , -0.41343555,  1.9365    ],\n",
       "       dtype=float32),\n",
       " [],\n",
       " array([58.76622], dtype=float32))"
      ]
     },
     "execution_count": 3,
     "metadata": {},
     "output_type": "execute_result"
    }
   ],
   "source": [
    "## Example of sklearn regression dataset wrapper\n",
    "ds_params = {'train_params': {'features': ['X'],\n",
    "                              'targets': ['y'],\n",
    "                              'make': 'make_regression',\n",
    "                              'sk_params': {'n_samples': 100,\n",
    "                                            'n_features': 5},\n",
    "                              'features_dtype': 'float32',\n",
    "                              'targets_dtype': 'float32'}}\n",
    "\n",
    "sk = SKDS(**ds_params['train_params'])\n",
    "\n",
    "sk[1]"
   ]
  },
  {
   "cell_type": "code",
   "execution_count": 4,
   "metadata": {
    "tags": []
   },
   "outputs": [
    {
     "name": "stdout",
     "output_type": "stream",
     "text": [
      "CDataset created...\n",
      "SKDS make_classification created...\n"
     ]
    },
    {
     "data": {
      "text/plain": [
       "(array([ 0.1404096 , -0.10759404, -1.8037606 , -0.21233381, -0.678941  ,\n",
       "        -2.3716967 , -0.8435834 ,  1.8079827 ,  1.506103  ,  1.5220646 ],\n",
       "       dtype=float32),\n",
       " [],\n",
       " array([0]))"
      ]
     },
     "execution_count": 4,
     "metadata": {},
     "output_type": "execute_result"
    }
   ],
   "source": [
    "## Example of sklearn classification dataset wrapper\n",
    "ds_params = {'train_params': {'features': ['X'],\n",
    "                              'targets': ['y'],\n",
    "                              'make': 'make_classification',\n",
    "                              'features_dtype': 'float32',\n",
    "                              'targets_dtype': 'int64',\n",
    "                              'sk_params': {'n_samples': 100,\n",
    "                                            'n_features': 10,\n",
    "                                            'n_informative': 8,\n",
    "                                            'n_clusters_per_class': 2,\n",
    "                                            'flip_y': 0.05,\n",
    "                                            'class_sep': 0.01,\n",
    "                                            'n_classes': 4}}}\n",
    "\n",
    "sk = SKDS(**ds_params['train_params'])\n",
    "\n",
    "sk[1]"
   ]
  },
  {
   "cell_type": "code",
   "execution_count": 5,
   "metadata": {
    "tags": []
   },
   "outputs": [
    {
     "name": "stdout",
     "output_type": "stream",
     "text": [
      "CDataset created...\n",
      "TVDS created...\n"
     ]
    },
    {
     "data": {
      "text/plain": [
       "(<PIL.Image.Image image mode=L size=224x224 at 0x7FE8C0CF1520>, [], 0)"
      ]
     },
     "execution_count": 5,
     "metadata": {},
     "output_type": "execute_result"
    }
   ],
   "source": [
    "## Example of torchvision wrapper\n",
    "ds_params={'dataset': 'MNIST',\n",
    "           'tv_params': {'root': './data/',\n",
    "                         'train': True,\n",
    "                         'download': True,\n",
    "                         'transform': transforms.Compose([\n",
    "                                           transforms.Resize(224)]),\n",
    "                         'target_transform': None}}\n",
    "\n",
    "tvds = TVDS(**ds_params)\n",
    "tvds[1]"
   ]
  },
  {
   "cell_type": "code",
   "execution_count": null,
   "metadata": {
    "tags": []
   },
   "outputs": [],
   "source": [
    "## Example of torchvision dataset wrapper with PIL transform\n",
    "ds_params={'dataset': 'MNIST',\n",
    "           'tv_params': {'root': './data/',\n",
    "                         'train': True,\n",
    "                         'download': True,\n",
    "                         'transform': transforms.Compose([\n",
    "                                           transforms.Resize(224)]),\n",
    "                         'target_transform': None}}\n",
    "\n",
    "tvds = TVDS(**ds_params)\n",
    "ids = ImageDatasetStats(tvds)\n",
    "\n",
    "print('mean: ', ids.stats.mean)\n",
    "print('stddev: ', ids.stats.stddev)\n",
    "\n",
    "#mean: 33.3/255 = .13\n",
    "#stddev: 73.7/255 = .29"
   ]
  },
  {
   "cell_type": "code",
   "execution_count": 6,
   "metadata": {},
   "outputs": [
    {
     "name": "stdout",
     "output_type": "stream",
     "text": [
      "CDataset created...\n",
      "SKDS make_regression created...\n",
      "FFNet model loaded...\n",
      "CModel loaded...\n",
      "running model on cpu...\n",
      "learning time: 0:00:02.932938\n",
      "epoch: 0, lr: 0.01\n",
      "train loss: 653524.9618055555, val loss: 623250.9875\n",
      "sklearn train metric: 0, sklearn validation metric: 0\n",
      "learning time: 0:00:13.655353\n",
      "epoch: 8, lr: 0.01\n",
      "train loss: 15843.774703414352, val loss: 14256.4306640625\n",
      "sklearn train metric: 0, sklearn validation metric: 0\n",
      "test loss: 14609.406640625\n",
      "learning time: 0:00:15.271369\n",
      "sklearn test metric: \n",
      "0 \n",
      "\n"
     ]
    },
    {
     "data": {
      "image/png": "[encoded data removed]",
      "text/plain": [
       "<Figure size 432x288 with 1 Axes>"
      ]
     },
     "metadata": {
      "needs_background": "light"
     },
     "output_type": "display_data"
    }
   ],
   "source": [
    "## Example sklearn regression dataset wrapper with custom model\n",
    "model_params = {'D_in': 256, \n",
    "                'H': 512, \n",
    "                'D_out': 1, \n",
    "                'model_name': 'funnel',\n",
    "                'embed_params': None}\n",
    "\n",
    "ds_params = {'train_params': {'features': ['X'],\n",
    "                              'targets': ['y'],\n",
    "                              'features_dtype': 'float32',\n",
    "                              'targets_dtype': 'float32',\n",
    "                              'make': 'make_regression',\n",
    "                              'transform': [],\n",
    "                              'sk_params': {'n_samples': 10000,\n",
    "                                            'n_features': 256,\n",
    "                                            'n_informative': 200}}}\n",
    "             \n",
    "metrics_params = {'report_interval': 10}                         \n",
    "             \n",
    "opt_params = {'lr': 0.01}\n",
    "\n",
    "crit_params = {'reduction': 'sum'}\n",
    "\n",
    "sample_params = {'set_seed': 88,\n",
    "                 'splits': (.7,.15)}\n",
    "\n",
    "sched_params = {'factor': .5,\n",
    "                'patience': 2,\n",
    "                'cooldown': 2}\n",
    "\n",
    "l = Learn([SKDS], \n",
    "          FFNet,\n",
    "          Metrics=Metrics,\n",
    "          Sampler=Selector, \n",
    "          Optimizer=Adam, \n",
    "          Scheduler=ReduceLROnPlateau, \n",
    "          Criterion=MSELoss,\n",
    "          model_params=model_params, ds_params=ds_params, sample_params=sample_params,\n",
    "          opt_params=opt_params, sched_params=sched_params, crit_params=crit_params,\n",
    "          metrics_params=metrics_params, \n",
    "          batch_size=256, epochs=10, gpu=False)"
   ]
  },
  {
   "cell_type": "code",
   "execution_count": 8,
   "metadata": {},
   "outputs": [
    {
     "name": "stdout",
     "output_type": "stream",
     "text": [
      "CDataset created...\n",
      "SKDS make_classification created...\n",
      "FFNet model loaded...\n",
      "CModel loaded...\n",
      "running model on gpu...\n",
      "learning time: 0:00:00.821606\n",
      "epoch: 0, lr: 0.01\n",
      "train loss: 1.4169223794230708, val loss: 1.412109830162742\n",
      "sklearn train metric: 0.5105549662696837, sklearn validation metric: 0.5009897144795196\n",
      "test loss: 1.0814110257408835\n",
      "learning time: 0:00:08.704129\n",
      "sklearn test metric: \n",
      "0.8857456929362932 \n",
      "\n"
     ]
    },
    {
     "data": {
      "image/png": "[encoded data removed]",
      "text/plain": [
       "<Figure size 432x288 with 1 Axes>"
      ]
     },
     "metadata": {
      "needs_background": "light"
     },
     "output_type": "display_data"
    }
   ],
   "source": [
    "## Example sklearn classification dataset and metrics wrapper with custom model\n",
    "model_params = {'D_in': 256, \n",
    "                'H': 192, \n",
    "                'D_out': 4, \n",
    "                'model_name': 'funnel',\n",
    "                'embed_params': None}\n",
    "\n",
    "ds_params = {'train_params': {'features': 'X',\n",
    "                              'targets': 'y',\n",
    "                              'features_dtype': 'float32',\n",
    "                              'targets_dtype': 'int64',\n",
    "                              'make': 'make_classification',\n",
    "                              'sk_params': {'n_samples': 10000,\n",
    "                                            'n_features': 256,\n",
    "                                            'n_informative': 200,\n",
    "                                            'n_clusters_per_class': 3,\n",
    "                                            'flip_y': 0.05,\n",
    "                                            'class_sep': 0.1,\n",
    "                                            'n_classes': 4}}}\n",
    "                                     \n",
    "metrics_params = {'report_interval': 10, \n",
    "                  'sk_metric_name': 'roc_auc_score', \n",
    "                  'sk_params': {'average': 'macro',\n",
    "                                'multi_class': 'ovr'}}\n",
    "\n",
    "opt_params = {'lr': 0.01}\n",
    "\n",
    "crit_params = {'reduction': 'sum'}\n",
    "\n",
    "sample_params = {'set_seed': 88,\n",
    "                 'splits': (.7,.15)}\n",
    "\n",
    "sched_params = {'factor': .5,\n",
    "                'patience': 5,\n",
    "                'cooldown': 5}\n",
    "\n",
    "l = Learn([SKDS], \n",
    "          FFNet, \n",
    "          Sampler=Selector,\n",
    "          Metrics=Metrics,\n",
    "          Optimizer=Adam, \n",
    "          Scheduler=ReduceLROnPlateau, \n",
    "          Criterion=CrossEntropyLoss,\n",
    "          model_params=model_params, ds_params=ds_params, \n",
    "          sample_params=sample_params, opt_params=opt_params, \n",
    "          sched_params=sched_params, crit_params=crit_params,\n",
    "          metrics_params=metrics_params,\n",
    "          batch_size=128, epochs=10, squeeze_y=True)"
   ]
  },
  {
   "cell_type": "code",
   "execution_count": 9,
   "metadata": {},
   "outputs": [
    {
     "name": "stdout",
     "output_type": "stream",
     "text": [
      "Files already downloaded and verified\n",
      "CDataset created...\n",
      "TVDS created...\n",
      "Files already downloaded and verified\n",
      "CDataset created...\n",
      "TVDS created...\n",
      "TorchVision model resnet18 loaded...\n",
      "running model on gpu...\n",
      "learning time: 0:00:12.603938\n",
      "epoch: 0, lr: 0.01\n",
      "train loss: 2.3100991263389585, val loss: 2.065327803934774\n",
      "sklearn train metric: 0.6354927825064693, sklearn validation metric: 0.7109637511273627\n",
      "learning time: 0:00:24.793124\n",
      "epoch: 1, lr: 0.01\n",
      "train loss: 2.0202722191810607, val loss: 1.9716532576468684\n",
      "sklearn train metric: 0.7206444459974943, sklearn validation metric: 0.7681938930948344\n",
      "learning time: 0:00:36.979466\n",
      "epoch: 2, lr: 0.01\n",
      "train loss: 1.8841435151100159, val loss: 1.802508856019666\n",
      "sklearn train metric: 0.7715873427908354, sklearn validation metric: 0.8071353205500857\n",
      "learning time: 0:00:49.248535\n",
      "epoch: 3, lr: 0.01\n",
      "train loss: 1.81092453956604, val loss: 1.7469194781395696\n",
      "sklearn train metric: 0.79163365940181, sklearn validation metric: 0.8215485142453518\n",
      "learning time: 0:01:01.482883\n",
      "epoch: 4, lr: 0.01\n",
      "train loss: 1.715848530769348, val loss: 1.708993629101784\n",
      "sklearn train metric: 0.8165602877994502, sklearn validation metric: 0.8296905299441486\n",
      "learning time: 0:01:13.814309\n",
      "epoch: 5, lr: 0.01\n",
      "train loss: 1.6575342993736266, val loss: 1.6897657359800031\n",
      "sklearn train metric: 0.831321626279674, sklearn validation metric: 0.8417241551368135\n",
      "learning time: 0:01:26.238411\n",
      "epoch: 6, lr: 0.01\n",
      "train loss: 1.5888396940231324, val loss: 1.5689423911033138\n",
      "sklearn train metric: 0.8456886590565784, sklearn validation metric: 0.8603186978118472\n",
      "learning time: 0:01:38.459888\n",
      "epoch: 7, lr: 0.01\n",
      "train loss: 1.5253673021793366, val loss: 1.5617931187152863\n",
      "sklearn train metric: 0.8597697930121344, sklearn validation metric: 0.862361810242653\n",
      "learning time: 0:01:50.779392\n",
      "epoch: 8, lr: 0.01\n",
      "train loss: 1.4677472114562988, val loss: 1.5432630575472308\n",
      "sklearn train metric: 0.8700190195122527, sklearn validation metric: 0.8643606737276877\n",
      "learning time: 0:02:03.367517\n",
      "epoch: 9, lr: 0.01\n",
      "train loss: 1.408686151266098, val loss: 1.4472579590735897\n",
      "sklearn train metric: 0.880298791197595, sklearn validation metric: 0.8838080309116346\n",
      "test loss: 1.5071257555007935\n",
      "learning time: 0:02:12.211476\n",
      "sklearn test metric: \n",
      "0.8727654111111111 \n",
      "\n"
     ]
    },
    {
     "data": {
      "image/png": "[encoded data removed]",
      "text/plain": [
       "<Figure size 432x288 with 1 Axes>"
      ]
     },
     "metadata": {
      "needs_background": "light"
     },
     "output_type": "display_data"
    }
   ],
   "source": [
    "## Example torchvision dataset, transforms and model wrapper\n",
    "model_params = {'model_name': 'resnet18',\n",
    "                'in_channels': 3,\n",
    "                'tv_params': {'num_classes': 10},\n",
    "                'embed_params': None}\n",
    "\n",
    "ds_params={'train_params': {'dataset': 'CIFAR10',\n",
    "                            'tv_params': {'root': './data/',\n",
    "                                          'train': True,\n",
    "                                          'download': True,\n",
    "                                          'transform': transforms.Compose([\n",
    "                                                           transforms.RandomRotation(10),\n",
    "                                                           transforms.Resize(224),\n",
    "                                                           transforms.ToTensor()]),\n",
    "                                          'target_transform': None,\n",
    "                                          'download': True}},\n",
    "           'test_params': {'dataset': 'CIFAR10',\n",
    "                           'tv_params': {'root': './data/',\n",
    "                                         'train': False,\n",
    "                                         'download': True,\n",
    "                                         'transform': transforms.Compose([\n",
    "                                                         transforms.Resize(224),\n",
    "                                                         transforms.ToTensor()]),\n",
    "                                         'target_transform': None,\n",
    "                                         'download': True}}}\n",
    "\n",
    "metrics_params = {'report_interval': 10, \n",
    "                  'sk_metric_name': 'roc_auc_score', \n",
    "                  'sk_params': {'average': 'macro',\n",
    "                                'multi_class': 'ovr'}}\n",
    "\n",
    "opt_params = {'lr': 0.01}\n",
    "\n",
    "crit_params = {'reduction': 'sum'}\n",
    "\n",
    "sample_params = {'set_seed': 88,\n",
    "                 'splits': (.8,),\n",
    "                 'subset': .1}\n",
    "\n",
    "sched_params = {'factor': .5,\n",
    "                'patience': 1,\n",
    "                'cooldown': 1}\n",
    "\n",
    "l = Learn([TVDS,TVDS], \n",
    "          tv_model, \n",
    "          Selector, \n",
    "          Optimizer=Adam, Scheduler=ReduceLROnPlateau, Criterion=CrossEntropyLoss, \n",
    "          model_params=model_params, ds_params=ds_params, sample_params=sample_params, \n",
    "          opt_params=opt_params, sched_params=sched_params, crit_params=crit_params,\n",
    "          metrics_params=metrics_params, \n",
    "          batch_size=16, epochs=10)"
   ]
  },
  {
   "cell_type": "code",
   "execution_count": null,
   "metadata": {},
   "outputs": [
    {
     "name": "stdout",
     "output_type": "stream",
     "text": [
      "CDataset created...\n",
      "TVDS created...\n",
      "CDataset created...\n",
      "TVDS created...\n",
      "TorchVision model resnext50_32x4d loaded...\n",
      "running model on gpu...\n",
      "learning time: 0:01:02.498780\n",
      "epoch: 0, lr: 0.01\n",
      "train loss: 2.657156445980072, val loss: 2.1302882125300746\n",
      "sklearn train metric: 0.5546015955334854, sklearn validation metric: 0.6867644739862593\n",
      "learning time: 0:02:05.892752\n",
      "epoch: 1, lr: 0.01\n",
      "train loss: 2.0839722723960876, val loss: 2.008015340374362\n",
      "sklearn train metric: 0.6918476144704379, sklearn validation metric: 0.7504224572336982\n",
      "learning time: 0:03:09.241042\n",
      "epoch: 2, lr: 0.01\n",
      "train loss: 1.9953033900260926, val loss: 1.9468813519324026\n",
      "sklearn train metric: 0.7319606702887708, sklearn validation metric: 0.7618090753471106\n"
     ]
    }
   ],
   "source": [
    "## Example torchvision dataset and model wrapper\n",
    "model_params = {'model_name': 'resnext50_32x4d',\n",
    "                'in_channels': 3,\n",
    "                'tv_params': {'num_classes': 10},\n",
    "                'embed_params': None}\n",
    "\n",
    "ds_params={'train_params': {'dataset': 'CIFAR10',\n",
    "                            'tv_params': {'root': './data/',\n",
    "                                          'train': True,\n",
    "                                          'transform': transforms.Compose([\n",
    "                                                       transforms.RandomRotation(10),\n",
    "                                                       transforms.Resize(256),\n",
    "                                                       transforms.ToTensor()]),\n",
    "                                          'target_transform': None}},\n",
    "           'test_params': {'dataset': 'CIFAR10',\n",
    "                           'tv_params': {'root': './data/',\n",
    "                                         'train': False,\n",
    "                                         'transform': transforms.Compose([\n",
    "                                                      transforms.Resize(256),\n",
    "                                                      transforms.ToTensor()]),\n",
    "                                         'target_transform': None}}}\n",
    "\n",
    "metrics_params = {'report_interval': 10, \n",
    "                  'sk_metric_name': 'roc_auc_score', \n",
    "                  'sk_params': {'average': 'macro',\n",
    "                                'multi_class': 'ovr'}}\n",
    "\n",
    "opt_params = {'lr': 0.01}\n",
    "\n",
    "crit_params = {'reduction': 'sum'}\n",
    "\n",
    "sample_params = {'set_seed': 88,\n",
    "                 'splits': (.8,),\n",
    "                 'subset': .1}\n",
    "\n",
    "sched_params = {'factor': .5,\n",
    "                'patience': 2,\n",
    "                'cooldown': 2}\n",
    "\n",
    "l = Learn([TVDS,TVDS], \n",
    "          tv_model, \n",
    "          Selector, \n",
    "          Optimizer=Adam, \n",
    "          Scheduler=ReduceLROnPlateau, \n",
    "          Criterion=CrossEntropyLoss, \n",
    "          model_params=model_params, ds_params=ds_params, \n",
    "          sample_params=sample_params, opt_params=opt_params, \n",
    "          sched_params=sched_params, crit_params=crit_params,\n",
    "          metrics_params=metrics_params,\n",
    "          batch_size=16, epochs=10)"
   ]
  },
  {
   "cell_type": "code",
   "execution_count": null,
   "metadata": {},
   "outputs": [],
   "source": []
  }
 ],
 "metadata": {
  "kernelspec": {
   "display_name": "Python 3",
   "language": "python",
   "name": "python3"
  },
  "language_info": {
   "codemirror_mode": {
    "name": "ipython",
    "version": 3
   },
   "file_extension": ".py",
   "mimetype": "text/x-python",
   "name": "python",
   "nbconvert_exporter": "python",
   "pygments_lexer": "ipython3",
   "version": "3.8.12"
  }
 },
 "nbformat": 4,
 "nbformat_minor": 4
}
