{
 "cells": [
  {
   "cell_type": "code",
   "execution_count": 1,
   "metadata": {},
   "outputs": [],
   "source": [
    "from model import FFNet, tv_model\n",
    "from learning import Learn, Selector\n",
    "from dataset import SKDS, TVDS\n",
    "\n",
    "from torch.optim import Adam\n",
    "from torch.nn import MSELoss\n",
    "from torch.optim.lr_scheduler import ReduceLROnPlateau\n",
    "\n",
    "import torchvision.models"
   ]
  },
  {
   "cell_type": "code",
   "execution_count": 2,
   "metadata": {},
   "outputs": [
    {
     "name": "stdout",
     "output_type": "stream",
     "text": [
      "<class 'dataset.SKDS'> dataset created...\n",
      "epoch: 0 of 10, train loss: 10940.169874621975, val loss: 1225.0346272786458, lr: 0.01\n",
      "epoch: 1 of 10, train loss: 1221.9806262600807, val loss: 1411.9472249348958, lr: 0.01\n",
      "epoch: 2 of 10, train loss: 1100.7872786983366, val loss: 875.6812133789062, lr: 0.01\n",
      "epoch: 3 of 10, train loss: 904.5651579826109, val loss: 1282.8047688802083, lr: 0.01\n",
      "epoch: 4 of 10, train loss: 882.4562456684728, val loss: 1046.3340454101562, lr: 0.01\n",
      "epoch: 5 of 10, train loss: 828.4625815114667, val loss: 770.1886800130209, lr: 0.01\n",
      "epoch: 6 of 10, train loss: 877.7155702652469, val loss: 1014.0968627929688, lr: 0.01\n",
      "epoch: 7 of 10, train loss: 769.4588770712576, val loss: 780.9700113932291, lr: 0.01\n",
      "epoch: 8 of 10, train loss: 897.7370310137348, val loss: 592.5671183268229, lr: 0.01\n",
      "epoch: 9 of 10, train loss: 965.8384182837701, val loss: 919.6786295572916, lr: 0.01\n",
      "test loss: 1204.1315104166667\n",
      "y_pred:\n",
      "tensor([[ 230.2299],\n",
      "        [ 193.1046],\n",
      "        [-285.8599],\n",
      "        [-224.8563],\n",
      "        [ 272.6936],\n",
      "        [  48.3210],\n",
      "        [-226.0093],\n",
      "        [-121.4230],\n",
      "        [  71.1682],\n",
      "        [ -52.8131]], device='cuda:0')\n",
      " y:\n",
      "tensor([[ 191.0074],\n",
      "        [ 154.1987],\n",
      "        [-261.2058],\n",
      "        [-274.8254],\n",
      "        [ 289.5362],\n",
      "        [  38.0430],\n",
      "        [-231.0281],\n",
      "        [-153.1709],\n",
      "        [  68.4510],\n",
      "        [ -45.1008]], device='cuda:0')\n"
     ]
    },
    {
     "data": {
      "image/png": "[encoded data removed]",
      "text/plain": [
       "<Figure size 432x288 with 1 Axes>"
      ]
     },
     "metadata": {
      "needs_background": "light"
     },
     "output_type": "display_data"
    },
    {
     "name": "stdout",
     "output_type": "stream",
     "text": [
      "learning time: 0:00:07.710880\n"
     ]
    }
   ],
   "source": [
    "model_params = {'D_in': 128, \n",
    "                'H': 512, \n",
    "                'D_out': 1, \n",
    "                'model_name': 'funnel'}\n",
    "\n",
    "ds_params = {'make': 'make_regression',\n",
    "             'sk_params': {'n_samples': 10000,\n",
    "                           'n_features': 128}}\n",
    "\n",
    "opt_params = {'lr': 0.01}\n",
    "crit_params = {'reduction': 'sum'}\n",
    "sample_params = {'set_seed': 88,\n",
    "                 'splits': (.1,.8)}\n",
    "sched_params = {'factor': .1,\n",
    "                'patience': 2}\n",
    "\n",
    "l = Learn(SKDS, FFNet, Selector, Optimizer=Adam, Scheduler=ReduceLROnPlateau, Criterion=MSELoss, \n",
    "          model_params=model_params, ds_params=ds_params, sample_params=sample_params,\n",
    "          opt_params=opt_params, sched_params=sched_params, crit_params=crit_params,\n",
    "          adapt=False, load_model=False, load_embed=False, save_model=False,\n",
    "          batch_size=256, epochs=10)"
   ]
  },
  {
   "cell_type": "code",
   "execution_count": null,
   "metadata": {},
   "outputs": [],
   "source": [
    "model_params = {'model_name': 'resnet18',\n",
    "                'D_in': 28,\n",
    "                'D_out': 10,\n",
    "                'tv_params': {}}\n",
    "\n",
    "ds_params={'dataset': 'MNIST',\n",
    "           'tv_params': {'root': './data/',\n",
    "                         'train': True,\n",
    "                         'download': True,\n",
    "                         'transform': True,\n",
    "                         'target_transform': None}}\n",
    "           \n",
    "opt_params = {'lr': 0.01}\n",
    "crit_params = {'reduction': 'sum'}\n",
    "sample_params = {'set_seed': 88,\n",
    "                 'splits': (.1,.8)}\n",
    "sched_params = {'factor': .1,\n",
    "                'patience': 10}\n",
    "\n",
    "l = Learn(TVDS, tv_model, Selector, Optimizer=Adam, Scheduler=ReduceLROnPlateau, Criterion=MSELoss, \n",
    "          model_params=model_params, ds_params=ds_params, sample_params=sample_params,\n",
    "          opt_params=opt_params, sched_params=sched_params, crit_params=crit_params,\n",
    "          adapt=False, load_model=False, load_embed=False, save_model=False,\n",
    "          batch_size=16, epochs=10)"
   ]
  },
  {
   "cell_type": "code",
   "execution_count": null,
   "metadata": {},
   "outputs": [],
   "source": [
    "ds_params={'dataset': 'MNIST',\n",
    "           'tv_params': {'root': './data/',\n",
    "                         'train': True,\n",
    "                         'download': True,\n",
    "                         'transform': True,\n",
    "                         'target_transform': None}}\n",
    "\n",
    "tvds = TVDS(**ds_params)"
   ]
  },
  {
   "cell_type": "code",
   "execution_count": null,
   "metadata": {},
   "outputs": [],
   "source": [
    "tvds[1]"
   ]
  },
  {
   "cell_type": "code",
   "execution_count": null,
   "metadata": {},
   "outputs": [],
   "source": [
    "tvds[2][0].shape"
   ]
  },
  {
   "cell_type": "code",
   "execution_count": null,
   "metadata": {},
   "outputs": [],
   "source": [
    "model_params = {'model_name': 'resnet18',\n",
    "                'D_in': 224,\n",
    "                'D_out': 10,\n",
    "                'tv_params': {}}\n",
    "\n",
    "tvmodel = tv_model(**model_params)"
   ]
  },
  {
   "cell_type": "code",
   "execution_count": null,
   "metadata": {},
   "outputs": [],
   "source": [
    "dir(tvmodel)"
   ]
  },
  {
   "cell_type": "code",
   "execution_count": null,
   "metadata": {},
   "outputs": [],
   "source": [
    "type(tvmodel)"
   ]
  },
  {
   "cell_type": "code",
   "execution_count": null,
   "metadata": {},
   "outputs": [],
   "source": [
    "isinstance(tvmodel, torchvision.models.resnet.ResNet)"
   ]
  },
  {
   "cell_type": "code",
   "execution_count": null,
   "metadata": {},
   "outputs": [],
   "source": []
  },
  {
   "cell_type": "code",
   "execution_count": null,
   "metadata": {},
   "outputs": [],
   "source": [
    "list(tvmodel.named_modules())"
   ]
  },
  {
   "cell_type": "code",
   "execution_count": null,
   "metadata": {},
   "outputs": [],
   "source": [
    "a = {'b': 1, 'c': 2, 'd': {'e': 10, 'f': 20}}\n",
    "\n",
    "def myfunc(b=None, d=None, **kwargs):\n",
    "    print('b: ', b)\n",
    "    \n",
    "    def f(e=None, **kwargs):\n",
    "        print('e :', e)\n",
    "    \n",
    "    f(**d)\n",
    "    \n",
    "myfunc(**a)\n",
    "    "
   ]
  },
  {
   "cell_type": "code",
   "execution_count": null,
   "metadata": {},
   "outputs": [],
   "source": []
  },
  {
   "cell_type": "code",
   "execution_count": null,
   "metadata": {},
   "outputs": [],
   "source": [
    "def A():\n",
    "    b = [1,2,3,4,5]\n",
    "    c = [4,5,6]\n",
    "\n",
    "    for i in range(len(b)):\n",
    "        try: yield b[i], c[i]\n",
    "        except: yield b[i]"
   ]
  },
  {
   "cell_type": "code",
   "execution_count": null,
   "metadata": {},
   "outputs": [],
   "source": [
    "a = A()"
   ]
  },
  {
   "cell_type": "code",
   "execution_count": null,
   "metadata": {},
   "outputs": [],
   "source": [
    "out = next(a)"
   ]
  },
  {
   "cell_type": "code",
   "execution_count": null,
   "metadata": {},
   "outputs": [],
   "source": [
    "print(out)"
   ]
  },
  {
   "cell_type": "code",
   "execution_count": null,
   "metadata": {},
   "outputs": [],
   "source": []
  }
 ],
 "metadata": {
  "kernelspec": {
   "display_name": "Python 3",
   "language": "python",
   "name": "python3"
  },
  "language_info": {
   "codemirror_mode": {
    "name": "ipython",
    "version": 3
   },
   "file_extension": ".py",
   "mimetype": "text/x-python",
   "name": "python",
   "nbconvert_exporter": "python",
   "pygments_lexer": "ipython3",
   "version": "3.7.9"
  }
 },
 "nbformat": 4,
 "nbformat_minor": 4
}
