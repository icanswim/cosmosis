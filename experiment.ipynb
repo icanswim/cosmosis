{
 "cells": [
  {
   "cell_type": "code",
   "execution_count": 1,
   "metadata": {},
   "outputs": [],
   "source": [
    "from model import FFNet, tv_model, ResBam\n",
    "from learning import Learn, Selector, Metrics\n",
    "from dataset import SKDS, TVDS, CDataset, ImageDatasetStats, AsTensor, Squeeze, DType\n",
    "\n",
    "from torch.optim import Adam\n",
    "from torch.nn import MSELoss, CrossEntropyLoss\n",
    "from torch.optim.lr_scheduler import ReduceLROnPlateau\n",
    "from torchvision import transforms\n"
   ]
  },
  {
   "cell_type": "code",
   "execution_count": 2,
   "metadata": {},
   "outputs": [
    {
     "name": "stdout",
     "output_type": "stream",
     "text": [
      "bang\n",
      "CDataset created...\n"
     ]
    },
    {
     "data": {
      "text/plain": [
       "(array([0.203, 0.32 , 0.2  , 0.2  , 0.2  ]),\n",
       " [array([1, 2, 4]), array([4, 0, 0, 0])],\n",
       " array([0.01]))"
      ]
     },
     "execution_count": 2,
     "metadata": {},
     "output_type": "execute_result"
    }
   ],
   "source": [
    "import numpy as np\n",
    "\n",
    "class DummyDataset(CDataset):\n",
    "\n",
    "    def load_data(self, boom='bust'):\n",
    "        \n",
    "        datadic = {1: {'feature_1': np.asarray([.04]),\n",
    "                       'feature_2': np.asarray([.02]),\n",
    "                       'feature_3': np.asarray(['c']),\n",
    "                       'feature_4': np.asarray(['b','a']),\n",
    "                       'feature_5': np.asarray([1.1])},\n",
    "                   2: {'feature_1': np.asarray([.03]),\n",
    "                       'feature_2': np.asarray([.01]),\n",
    "                       'feature_3': np.asarray(['a','b','d']),\n",
    "                       'feature_4': np.asarray(['d']),\n",
    "                       'feature_5': np.asarray([1.2])}}\n",
    "        \n",
    "        print(boom)\n",
    "        return datadic\n",
    "    \n",
    "class DummyTransform():\n",
    "    def __call__(self, arr):\n",
    "        return np.add(arr, 2)\n",
    "    \n",
    "class DummyTransformTwo():\n",
    "    def __call__(self, arr):\n",
    "        return np.multiply(arr, .1)\n",
    "    \n",
    "ds_params = {'train_params': {'features': ['feature_1','feature_5'],\n",
    "                              'embeds': ['feature_3','feature_4'],\n",
    "                              'targets': ['feature_2'],\n",
    "                              'embed_lookup': {'a': 1, 'b': 2, 'c': 3, 'd': 4, '0': 0},\n",
    "                              'transform': [DummyTransform(), DummyTransformTwo()],\n",
    "                              'target_transform': [],\n",
    "                              'pad': 4,\n",
    "                              'do_not_pad': ['feature_1','feature_2','feature_3'],\n",
    "                              'boom': 'bang'}}\n",
    "    \n",
    "d = DummyDataset(**ds_params['train_params'])\n",
    "d[2]"
   ]
  },
  {
   "cell_type": "code",
   "execution_count": 3,
   "metadata": {},
   "outputs": [
    {
     "name": "stdout",
     "output_type": "stream",
     "text": [
      "CDataset created...\n",
      "SKDS make_regression created...\n"
     ]
    },
    {
     "data": {
      "text/plain": [
       "(array([ 1.3188843 , -0.05984987, -0.31567004,  0.2062731 ,  1.6596413 ],\n",
       "       dtype=float32),\n",
       " [],\n",
       " array([225.08366], dtype=float32))"
      ]
     },
     "execution_count": 3,
     "metadata": {},
     "output_type": "execute_result"
    }
   ],
   "source": [
    "ds_params = {'train_params': {'features': ['X'],\n",
    "                              'targets': ['y'],\n",
    "                              'make': 'make_regression',\n",
    "                              'sk_params': {'n_samples': 100,\n",
    "                                            'n_features': 5},\n",
    "                              'features_dtype': 'float32',\n",
    "                              'targets_dtype': 'float32'}}\n",
    "\n",
    "sk = SKDS(**ds_params['train_params'])\n",
    "\n",
    "sk[1]"
   ]
  },
  {
   "cell_type": "code",
   "execution_count": 4,
   "metadata": {},
   "outputs": [
    {
     "name": "stdout",
     "output_type": "stream",
     "text": [
      "CDataset created...\n",
      "SKDS make_classification created...\n"
     ]
    },
    {
     "data": {
      "text/plain": [
       "(array([-0.09812572,  2.971543  ,  0.27769428, -0.6241195 ,  1.0741006 ,\n",
       "         1.5537623 ,  0.461469  , -0.9421139 , -0.02570075, -1.571612  ],\n",
       "       dtype=float32),\n",
       " [],\n",
       " array([1]))"
      ]
     },
     "execution_count": 4,
     "metadata": {},
     "output_type": "execute_result"
    }
   ],
   "source": [
    "ds_params = {'train_params': {'features': ['X'],\n",
    "                              'targets': ['y'],\n",
    "                              'make': 'make_classification',\n",
    "                              'features_dtype': 'float32',\n",
    "                              'targets_dtype': 'int64',\n",
    "                              'sk_params': {'n_samples': 100,\n",
    "                                            'n_features': 10,\n",
    "                                            'n_informative': 8,\n",
    "                                            'n_clusters_per_class': 2,\n",
    "                                            'flip_y': 0.05,\n",
    "                                            'class_sep': 0.01,\n",
    "                                            'n_classes': 4}}}\n",
    "\n",
    "sk = SKDS(**ds_params['train_params'])\n",
    "\n",
    "sk[1]"
   ]
  },
  {
   "cell_type": "code",
   "execution_count": 5,
   "metadata": {},
   "outputs": [
    {
     "name": "stdout",
     "output_type": "stream",
     "text": [
      "CDataset created...\n",
      "TVDS created...\n"
     ]
    },
    {
     "data": {
      "text/plain": [
       "(<PIL.Image.Image image mode=L size=224x224 at 0x7F791829FAF0>, [], 0)"
      ]
     },
     "execution_count": 5,
     "metadata": {},
     "output_type": "execute_result"
    }
   ],
   "source": [
    "ds_params={'dataset': 'MNIST',\n",
    "           'tv_params': {'root': './data/',\n",
    "                         'train': True,\n",
    "                         'download': True,\n",
    "                         'transform': transforms.Compose([\n",
    "                                           transforms.Resize(224)]),\n",
    "                         'target_transform': None}}\n",
    "\n",
    "tvds = TVDS(**ds_params)\n",
    "tvds[1]"
   ]
  },
  {
   "cell_type": "code",
   "execution_count": 6,
   "metadata": {},
   "outputs": [
    {
     "name": "stdout",
     "output_type": "stream",
     "text": [
      "CDataset created...\n",
      "TVDS created...\n",
      "images to process: 60000\n",
      "images processed: 10000\n",
      "images processed: 20000\n",
      "images processed: 30000\n",
      "images processed: 40000\n",
      "images processed: 50000\n",
      "images processed: 60000\n",
      "mean: [33.33091590401786], stddev: [73.70246726596685]\n",
      "mean:  [33.33091590401786]\n",
      "stddev:  [73.70246726596685]\n"
     ]
    }
   ],
   "source": [
    "ds_params={'dataset': 'MNIST',\n",
    "           'tv_params': {'root': './data/',\n",
    "                         'train': True,\n",
    "                         'download': True,\n",
    "                         'transform': transforms.Compose([\n",
    "                                           transforms.Resize(224)]),\n",
    "                         'target_transform': None}}\n",
    "\n",
    "tvds = TVDS(**ds_params)\n",
    "ids = ImageDatasetStats(tvds)\n",
    "\n",
    "print('mean: ', ids.stats.mean)\n",
    "print('stddev: ', ids.stats.stddev)\n",
    "\n",
    "#mean: 33.3/255 = .13\n",
    "#stddev: 73.7/255 = .29"
   ]
  },
  {
   "cell_type": "code",
   "execution_count": 7,
   "metadata": {},
   "outputs": [
    {
     "name": "stdout",
     "output_type": "stream",
     "text": [
      "CDataset created...\n",
      "SKDS make_regression created...\n",
      "CModel loaded...\n",
      "FFNet model loaded...\n",
      "learning time: 0:00:03.559037\n",
      "epoch: 0, lr: 0.01\n",
      "train loss: 597344.8657407408, val loss: 541470.08125\n",
      "sklearn train metric: 0, sklearn validation metric: 0\n",
      "test loss: 15073.615234375\n",
      "learning time: 0:00:08.509559\n",
      "sklearn test metric: \n",
      "0 \n",
      "\n"
     ]
    },
    {
     "data": {
      "image/png": "[encoded data removed]",
      "text/plain": [
       "<Figure size 432x288 with 1 Axes>"
      ]
     },
     "metadata": {
      "needs_background": "light"
     },
     "output_type": "display_data"
    }
   ],
   "source": [
    "model_params = {'D_in': 256, \n",
    "                'H': 512, \n",
    "                'D_out': 1, \n",
    "                'model_name': 'funnel',\n",
    "                'embed_params': []}\n",
    "\n",
    "ds_params = {'train_params': {'features': ['X'],\n",
    "                              'targets': ['y'],\n",
    "                              'features_dtype': 'float32',\n",
    "                              'targets_dtype': 'float32',\n",
    "                              'make': 'make_regression',\n",
    "                              'transform': [],\n",
    "                              'sk_params': {'n_samples': 10000,\n",
    "                                            'n_features': 256,\n",
    "                                            'n_informative': 200}}}\n",
    "             \n",
    "metrics_params = {'report_interval': 10}                         \n",
    "             \n",
    "opt_params = {'lr': 0.01}\n",
    "\n",
    "crit_params = {'reduction': 'sum'}\n",
    "\n",
    "sample_params = {'set_seed': 88,\n",
    "                 'splits': (.7,.15)}\n",
    "\n",
    "sched_params = {'factor': .5,\n",
    "                'patience': 2,\n",
    "                'cooldown': 2}\n",
    "\n",
    "l = Learn([SKDS], \n",
    "          FFNet,\n",
    "          Metrics=Metrics,\n",
    "          Sampler=Selector, \n",
    "          Optimizer=Adam, \n",
    "          Scheduler=ReduceLROnPlateau, \n",
    "          Criterion=MSELoss,\n",
    "          model_params=model_params, ds_params=ds_params, sample_params=sample_params,\n",
    "          opt_params=opt_params, sched_params=sched_params, crit_params=crit_params,\n",
    "          metrics_params=metrics_params,\n",
    "          adapt=False, load_model=False, load_embed=False, save_model=False,\n",
    "          batch_size=256, epochs=10)"
   ]
  },
  {
   "cell_type": "code",
   "execution_count": 8,
   "metadata": {},
   "outputs": [
    {
     "name": "stdout",
     "output_type": "stream",
     "text": [
      "CDataset created...\n",
      "SKDS make_classification created...\n",
      "CModel loaded...\n",
      "FFNet model loaded...\n",
      "learning time: 0:00:00.792791\n",
      "epoch: 0, lr: 0.01\n",
      "train loss: 1.4216081941569294, val loss: 1.3969964655962857\n",
      "sklearn train metric: 0.5087804934126765, sklearn validation metric: 0.5082238212267739\n",
      "test loss: 1.0773692510344766\n",
      "learning time: 0:00:07.958411\n",
      "sklearn test metric: \n",
      "0.8850282352610128 \n",
      "\n"
     ]
    },
    {
     "data": {
      "image/png": "[encoded data removed]",
      "text/plain": [
       "<Figure size 432x288 with 1 Axes>"
      ]
     },
     "metadata": {
      "needs_background": "light"
     },
     "output_type": "display_data"
    }
   ],
   "source": [
    "model_params = {'D_in': 256, \n",
    "                'H': 192, \n",
    "                'D_out': 4, \n",
    "                'model_name': 'funnel'}\n",
    "\n",
    "ds_params = {'train_params': {'features': 'X',\n",
    "                              'targets': 'y',\n",
    "                              'features_dtype': 'float32',\n",
    "                              'targets_dtype': 'int64',\n",
    "                              'make': 'make_classification',\n",
    "                              'sk_params': {'n_samples': 10000,\n",
    "                                            'n_features': 256,\n",
    "                                            'n_informative': 200,\n",
    "                                            'n_clusters_per_class': 3,\n",
    "                                            'flip_y': 0.05,\n",
    "                                            'class_sep': 0.1,\n",
    "                                            'n_classes': 4}}}\n",
    "                                     \n",
    "metrics_params = {'report_interval': 10, \n",
    "                  'sk_metric_name': 'roc_auc_score', \n",
    "                  'sk_params': {'average': 'macro',\n",
    "                                'multi_class': 'ovr'}}\n",
    "\n",
    "opt_params = {'lr': 0.01}\n",
    "\n",
    "crit_params = {'reduction': 'sum'}\n",
    "\n",
    "sample_params = {'set_seed': 88,\n",
    "                 'splits': (.7,.15)}\n",
    "\n",
    "sched_params = {'factor': .5,\n",
    "                'patience': 5,\n",
    "                'cooldown': 5}\n",
    "\n",
    "l = Learn([SKDS], \n",
    "          FFNet, \n",
    "          Sampler=Selector,\n",
    "          Metrics=Metrics,\n",
    "          Optimizer=Adam, \n",
    "          Scheduler=ReduceLROnPlateau, \n",
    "          Criterion=CrossEntropyLoss,\n",
    "          model_params=model_params, ds_params=ds_params, \n",
    "          sample_params=sample_params, opt_params=opt_params, \n",
    "          sched_params=sched_params, crit_params=crit_params,\n",
    "          metrics_params=metrics_params,\n",
    "          adapt=False, load_model=False, load_embed=False, save_model=False,\n",
    "          batch_size=128, epochs=10, squeeze_y=True)"
   ]
  },
  {
   "cell_type": "code",
   "execution_count": 9,
   "metadata": {},
   "outputs": [
    {
     "name": "stdout",
     "output_type": "stream",
     "text": [
      "Files already downloaded and verified\n",
      "CDataset created...\n",
      "TVDS created...\n",
      "Files already downloaded and verified\n",
      "CDataset created...\n",
      "TVDS created...\n",
      "TorchVision model resnet18 loaded...\n",
      "learning time: 0:00:12.436874\n",
      "epoch: 0, lr: 0.01\n",
      "train loss: 2.3591842317581175, val loss: 2.096433437639667\n",
      "sklearn train metric: 0.6184422407419261, sklearn validation metric: 0.7007678971246918\n",
      "learning time: 0:00:24.717295\n",
      "epoch: 1, lr: 0.01\n",
      "train loss: 2.017604751586914, val loss: 1.9903559703980722\n",
      "sklearn train metric: 0.7218364014009733, sklearn validation metric: 0.7564293337933595\n",
      "learning time: 0:00:36.966071\n",
      "epoch: 2, lr: 0.01\n",
      "train loss: 1.8964007425308227, val loss: 1.893438962198073\n",
      "sklearn train metric: 0.7680806072374476, sklearn validation metric: 0.782603440673185\n",
      "learning time: 0:00:49.239440\n",
      "epoch: 3, lr: 0.01\n",
      "train loss: 1.8278044028282165, val loss: 1.8030896206055917\n",
      "sklearn train metric: 0.7884598751795366, sklearn validation metric: 0.8087355468810662\n",
      "learning time: 0:01:01.903735\n",
      "epoch: 4, lr: 0.01\n",
      "train loss: 1.7466881070137024, val loss: 1.6809173380174944\n",
      "sklearn train metric: 0.8070862955413413, sklearn validation metric: 0.8298902704739961\n",
      "learning time: 0:01:15.101379\n",
      "epoch: 5, lr: 0.01\n",
      "train loss: 1.6820993208885193, val loss: 1.667248910473239\n",
      "sklearn train metric: 0.8258900221218817, sklearn validation metric: 0.8430373445703901\n",
      "learning time: 0:01:28.082635\n",
      "epoch: 6, lr: 0.01\n",
      "train loss: 1.6148491506576539, val loss: 1.5746112677358812\n",
      "sklearn train metric: 0.8400078493826019, sklearn validation metric: 0.8593868354832255\n",
      "learning time: 0:01:40.932572\n",
      "epoch: 7, lr: 0.01\n",
      "train loss: 1.545146399497986, val loss: 1.576918479896361\n",
      "sklearn train metric: 0.8556882534244048, sklearn validation metric: 0.8618938326835501\n",
      "learning time: 0:01:53.663145\n",
      "epoch: 8, lr: 0.005\n",
      "train loss: 1.4741631984710692, val loss: 1.6098617709452105\n",
      "sklearn train metric: 0.8691346929567555, sklearn validation metric: 0.8565477059086962\n",
      "learning time: 0:02:06.642550\n",
      "epoch: 9, lr: 0.005\n",
      "train loss: 1.3486071391105652, val loss: 1.391358140014833\n",
      "sklearn train metric: 0.8911186594024703, sklearn validation metric: 0.8856898981252685\n",
      "test loss: 1.4045604859352112\n",
      "learning time: 0:02:16.057327\n",
      "sklearn test metric: \n",
      "0.8850107777777778 \n",
      "\n"
     ]
    },
    {
     "data": {
      "image/png": "[encoded data removed]",
      "text/plain": [
       "<Figure size 432x288 with 1 Axes>"
      ]
     },
     "metadata": {
      "needs_background": "light"
     },
     "output_type": "display_data"
    }
   ],
   "source": [
    "model_params = {'model_name': 'resnet18',\n",
    "                'in_channels': 3,\n",
    "                'tv_params': {'num_classes': 10}}\n",
    "\n",
    "ds_params={'train_params': {'dataset': 'CIFAR10',\n",
    "                            'tv_params': {'root': './data/',\n",
    "                                          'train': True,\n",
    "                                          'download': True,\n",
    "                                          'transform': transforms.Compose([\n",
    "                                                           transforms.RandomRotation(10),\n",
    "                                                           transforms.Resize(224),\n",
    "                                                           transforms.ToTensor()]),\n",
    "                                          'target_transform': None,\n",
    "                                          'download': True}},\n",
    "           'test_params': {'dataset': 'CIFAR10',\n",
    "                           'tv_params': {'root': './data/',\n",
    "                                         'train': False,\n",
    "                                         'download': True,\n",
    "                                         'transform': transforms.Compose([\n",
    "                                                         transforms.Resize(224),\n",
    "                                                         transforms.ToTensor()]),\n",
    "                                         'target_transform': None,\n",
    "                                         'download': True}}}\n",
    "\n",
    "metrics_params = {'report_interval': 10, \n",
    "                  'sk_metric_name': 'roc_auc_score', \n",
    "                  'sk_params': {'average': 'macro',\n",
    "                                'multi_class': 'ovr'}}\n",
    "\n",
    "opt_params = {'lr': 0.01}\n",
    "\n",
    "crit_params = {'reduction': 'sum'}\n",
    "\n",
    "sample_params = {'set_seed': 88,\n",
    "                 'splits': (.8,),\n",
    "                 'subset': .1}\n",
    "\n",
    "sched_params = {'factor': .5,\n",
    "                'patience': 1,\n",
    "                'cooldown': 1}\n",
    "\n",
    "l = Learn([TVDS,TVDS], \n",
    "          tv_model, \n",
    "          Selector, \n",
    "          Optimizer=Adam, \n",
    "          Scheduler=ReduceLROnPlateau, \n",
    "          Criterion=CrossEntropyLoss, \n",
    "          model_params=model_params, ds_params=ds_params, \n",
    "          sample_params=sample_params, opt_params=opt_params, \n",
    "          sched_params=sched_params, crit_params=crit_params,\n",
    "          metrics_params=metrics_params,\n",
    "          adapt=False, load_model=False, load_embed=False, save_model=False,\n",
    "          batch_size=16, epochs=10)"
   ]
  },
  {
   "cell_type": "code",
   "execution_count": 10,
   "metadata": {},
   "outputs": [
    {
     "name": "stdout",
     "output_type": "stream",
     "text": [
      "CDataset created...\n",
      "TVDS created...\n",
      "CDataset created...\n",
      "TVDS created...\n",
      "CModel loaded...\n",
      "ResBam model loaded...\n",
      "learning time: 0:00:27.713058\n",
      "epoch: 0, lr: 0.005\n",
      "train loss: 2.019452880859375, val loss: 1.8794472755924347\n",
      "sklearn train metric: 0.7264127510802206, sklearn validation metric: 0.7753745648340418\n",
      "learning time: 0:00:54.030375\n",
      "epoch: 1, lr: 0.005\n",
      "train loss: 1.8489169635772704, val loss: 1.841276195741469\n",
      "sklearn train metric: 0.7849171320359296, sklearn validation metric: 0.7869942300226642\n",
      "learning time: 0:01:20.326338\n",
      "epoch: 2, lr: 0.005\n",
      "train loss: 1.7681580295562744, val loss: 1.8437020663292176\n",
      "sklearn train metric: 0.8067794162932748, sklearn validation metric: 0.7877888874393811\n",
      "learning time: 0:01:46.269219\n",
      "epoch: 3, lr: 0.005\n",
      "train loss: 1.7097239208221435, val loss: 1.6860790252685547\n",
      "sklearn train metric: 0.8244533990294419, sklearn validation metric: 0.8281230585548915\n",
      "learning time: 0:02:13.444199\n",
      "epoch: 4, lr: 0.005\n",
      "train loss: 1.6279808378219605, val loss: 1.6170952012462\n",
      "sklearn train metric: 0.8420801076148148, sklearn validation metric: 0.8449823545784414\n",
      "learning time: 0:02:40.766071\n",
      "epoch: 5, lr: 0.005\n",
      "train loss: 1.5877751502990722, val loss: 1.6438758873170423\n",
      "sklearn train metric: 0.8504387397977611, sklearn validation metric: 0.8373569839396373\n",
      "learning time: 0:03:07.746298\n",
      "epoch: 6, lr: 0.005\n",
      "train loss: 1.527846549987793, val loss: 1.5666159775949293\n",
      "sklearn train metric: 0.8623503622246085, sklearn validation metric: 0.8537607564702707\n",
      "learning time: 0:03:34.833862\n",
      "epoch: 7, lr: 0.005\n",
      "train loss: 1.4976998167037965, val loss: 1.619709841666683\n",
      "sklearn train metric: 0.8685248184420615, sklearn validation metric: 0.8440665447116956\n",
      "learning time: 0:04:01.788867\n",
      "epoch: 8, lr: 0.005\n",
      "train loss: 1.4163162388801576, val loss: 1.5945382118225098\n",
      "sklearn train metric: 0.8842007724058865, sklearn validation metric: 0.8467731421452565\n",
      "learning time: 0:04:28.968101\n",
      "epoch: 9, lr: 0.005\n",
      "train loss: 1.4032033400535584, val loss: 1.503436892263351\n",
      "sklearn train metric: 0.8852453930864677, sklearn validation metric: 0.867165938470281\n",
      "test loss: 1.5561083581967232\n",
      "learning time: 0:04:46.313281\n",
      "sklearn test metric: \n",
      "0.8565341405114054 \n",
      "\n"
     ]
    },
    {
     "data": {
      "image/png": "[encoded data removed]",
      "text/plain": [
       "<Figure size 432x288 with 1 Axes>"
      ]
     },
     "metadata": {
      "needs_background": "light"
     },
     "output_type": "display_data"
    }
   ],
   "source": [
    "model_params = {'n_classes': 10,\n",
    "                'residual': True,\n",
    "                'in_channels': 3,\n",
    "                'groups': 4,\n",
    "                'bam': True,\n",
    "                'dropout': [.1,.2,.3,.2,.1],\n",
    "                #'act': None\n",
    "               }\n",
    "\n",
    "\n",
    "ds_params={'train_params': {'dataset': 'CIFAR10',\n",
    "                            'tv_params': {'root': './data/',\n",
    "                                          'train': True,\n",
    "                                          'transform': transforms.Compose([\n",
    "                                                       transforms.RandomRotation(10),\n",
    "                                                       transforms.Resize(256),\n",
    "                                                       transforms.ToTensor(),\n",
    "                                                       transforms.Normalize(.13,.29)]),\n",
    "                                          'target_transform': None}},\n",
    "           'test_params': {'dataset': 'CIFAR10',\n",
    "                           'tv_params': {'root': './data/',\n",
    "                                         'train': False,\n",
    "                                         'transform': transforms.Compose([\n",
    "                                                      transforms.Resize(256),\n",
    "                                                      transforms.ToTensor(),\n",
    "                                                      transforms.Normalize(.13,.29)]),\n",
    "                                         'target_transform': None}}}\n",
    "\n",
    "metrics_params = {'report_interval': 10, \n",
    "                  'sk_metric_name': 'roc_auc_score', \n",
    "                  'sk_params': {'average': 'macro',\n",
    "                                'multi_class': 'ovr'}}\n",
    "\n",
    "opt_params = {'lr': 0.005}\n",
    "\n",
    "crit_params = {'reduction': 'sum'}\n",
    "\n",
    "sample_params = {'set_seed': 88,\n",
    "                 'splits': (.8,),\n",
    "                 'subset': .1}\n",
    "\n",
    "sched_params = {'factor': .5,\n",
    "                'patience': 2,\n",
    "                'cooldown': 1}\n",
    "\n",
    "l = Learn([TVDS,TVDS], \n",
    "          ResBam, \n",
    "          Selector, \n",
    "          Optimizer=Adam, \n",
    "          Scheduler=ReduceLROnPlateau, \n",
    "          Criterion=CrossEntropyLoss, \n",
    "          model_params=model_params, ds_params=ds_params, \n",
    "          sample_params=sample_params, opt_params=opt_params, \n",
    "          sched_params=sched_params, crit_params=crit_params,\n",
    "          metrics_params=metrics_params,\n",
    "          adapt=False, load_model=False, load_embed=False, save_model=False,\n",
    "          batch_size=32, epochs=10)"
   ]
  },
  {
   "cell_type": "code",
   "execution_count": 2,
   "metadata": {},
   "outputs": [
    {
     "name": "stdout",
     "output_type": "stream",
     "text": [
      "CDataset created...\n",
      "TVDS created...\n",
      "CDataset created...\n",
      "TVDS created...\n",
      "TorchVision model resnext50_32x4d loaded...\n",
      "learning time: 0:01:07.723272\n",
      "epoch: 0, lr: 0.01\n",
      "train loss: 2.5961422624588013, val loss: 2.0834899448579356\n",
      "sklearn train metric: 0.594323713715709, sklearn validation metric: 0.6919189718332638\n",
      "learning time: 0:02:13.817370\n",
      "epoch: 1, lr: 0.01\n",
      "train loss: 2.059466024398804, val loss: 2.019790272558889\n",
      "sklearn train metric: 0.7033840643871838, sklearn validation metric: 0.7493626129536975\n",
      "learning time: 0:03:16.273141\n",
      "epoch: 2, lr: 0.01\n",
      "train loss: 1.9523016347885132, val loss: 1.9157204551081504\n",
      "sklearn train metric: 0.7468279489193415, sklearn validation metric: 0.770990930184942\n",
      "learning time: 0:04:19.665400\n",
      "epoch: 3, lr: 0.01\n",
      "train loss: 1.8827293014526367, val loss: 1.8378208664155775\n",
      "sklearn train metric: 0.770315132506752, sklearn validation metric: 0.7964932692262691\n",
      "learning time: 0:05:24.024901\n",
      "epoch: 4, lr: 0.01\n",
      "train loss: 1.8073794655799866, val loss: 1.7307956334083312\n",
      "sklearn train metric: 0.7941850379852524, sklearn validation metric: 0.8208894212723331\n",
      "learning time: 0:06:27.370105\n",
      "epoch: 5, lr: 0.01\n",
      "train loss: 1.7791577820777893, val loss: 1.7423529432665916\n",
      "sklearn train metric: 0.800958764043146, sklearn validation metric: 0.8217312144983454\n",
      "learning time: 0:07:28.627898\n",
      "epoch: 6, lr: 0.01\n",
      "train loss: 1.7276538462638855, val loss: 1.6819323897361755\n",
      "sklearn train metric: 0.8129292799145006, sklearn validation metric: 0.8350120019428455\n",
      "learning time: 0:08:29.877684\n",
      "epoch: 7, lr: 0.01\n",
      "train loss: 1.690481686592102, val loss: 1.6426812141172347\n",
      "sklearn train metric: 0.8234011287310707, sklearn validation metric: 0.8445244019793776\n",
      "learning time: 0:09:30.981689\n",
      "epoch: 8, lr: 0.01\n",
      "train loss: 1.648553530216217, val loss: 1.6214311315167336\n",
      "sklearn train metric: 0.8322645363797679, sklearn validation metric: 0.843121934308771\n",
      "learning time: 0:10:33.125592\n",
      "epoch: 9, lr: 0.01\n",
      "train loss: 1.5916592111587524, val loss: 1.5256752669811249\n",
      "sklearn train metric: 0.8450421238600845, sklearn validation metric: 0.8663373201589805\n",
      "test loss: 1.5480470450401307\n",
      "learning time: 0:11:18.914439\n",
      "sklearn test metric: \n",
      "0.8585385555555556 \n",
      "\n"
     ]
    },
    {
     "data": {
      "image/png": "[encoded data removed]",
      "text/plain": [
       "<Figure size 432x288 with 1 Axes>"
      ]
     },
     "metadata": {
      "needs_background": "light"
     },
     "output_type": "display_data"
    }
   ],
   "source": [
    "model_params = {'model_name': 'resnext50_32x4d',\n",
    "                'in_channels': 3,\n",
    "                'tv_params': {'num_classes': 10}}\n",
    "\n",
    "ds_params={'train_params': {'dataset': 'CIFAR10',\n",
    "                            'tv_params': {'root': './data/',\n",
    "                                          'train': True,\n",
    "                                          'transform': transforms.Compose([\n",
    "                                                       transforms.RandomRotation(10),\n",
    "                                                       transforms.Resize(256),\n",
    "                                                       transforms.ToTensor()]),\n",
    "                                          'target_transform': None}},\n",
    "           'test_params': {'dataset': 'CIFAR10',\n",
    "                           'tv_params': {'root': './data/',\n",
    "                                         'train': False,\n",
    "                                         'transform': transforms.Compose([\n",
    "                                                      transforms.Resize(256),\n",
    "                                                      transforms.ToTensor()]),\n",
    "                                         'target_transform': None}}}\n",
    "\n",
    "metrics_params = {'report_interval': 10, \n",
    "                  'sk_metric_name': 'roc_auc_score', \n",
    "                  'sk_params': {'average': 'macro',\n",
    "                                'multi_class': 'ovr'}}\n",
    "\n",
    "opt_params = {'lr': 0.01}\n",
    "\n",
    "crit_params = {'reduction': 'sum'}\n",
    "\n",
    "sample_params = {'set_seed': 88,\n",
    "                 'splits': (.8,),\n",
    "                 'subset': .1}\n",
    "\n",
    "sched_params = {'factor': .5,\n",
    "                'patience': 2,\n",
    "                'cooldown': 2}\n",
    "\n",
    "l = Learn([TVDS,TVDS], \n",
    "          tv_model, \n",
    "          Selector, \n",
    "          Optimizer=Adam, \n",
    "          Scheduler=ReduceLROnPlateau, \n",
    "          Criterion=CrossEntropyLoss, \n",
    "          model_params=model_params, ds_params=ds_params, \n",
    "          sample_params=sample_params, opt_params=opt_params, \n",
    "          sched_params=sched_params, crit_params=crit_params,\n",
    "          metrics_params=metrics_params,\n",
    "          adapt=False, load_model=False, load_embed=False, save_model=False,\n",
    "          batch_size=16, epochs=10)"
   ]
  },
  {
   "cell_type": "code",
   "execution_count": null,
   "metadata": {},
   "outputs": [],
   "source": []
  }
 ],
 "metadata": {
  "kernelspec": {
   "display_name": "Python 3",
   "language": "python",
   "name": "python3"
  },
  "language_info": {
   "codemirror_mode": {
    "name": "ipython",
    "version": 3
   },
   "file_extension": ".py",
   "mimetype": "text/x-python",
   "name": "python",
   "nbconvert_exporter": "python",
   "pygments_lexer": "ipython3",
   "version": "3.8.12"
  }
 },
 "nbformat": 4,
 "nbformat_minor": 4
}
