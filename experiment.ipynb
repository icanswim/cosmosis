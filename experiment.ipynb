{
 "cells": [
  {
   "cell_type": "code",
   "execution_count": null,
   "metadata": {},
   "outputs": [],
   "source": [
    "## This is a series of examples demonstrating the use of the icanswim/cosmosis repo \n",
    "## for data science and machine learning projects.\n",
    "## This repo is intended to be used as the boiler plate for data science and machine learning projects.\n",
    "## See the icanswim/qchem repo for a demonstration of the use of this (icanswim/cosmosis) repo."
   ]
  },
  {
   "cell_type": "code",
   "execution_count": 1,
   "metadata": {},
   "outputs": [],
   "source": [
    "from model import FFNet, tv_model, IdentityModel, GPT\n",
    "from learning import Learn, Selector, Metrics\n",
    "from dataset import CDataset, SKDS, TVDS, ExampleDataset\n",
    "from dataset import ImageDatasetStats, AsTensor, SqueezeN, DType, Pad1d, EmbedLookup, Reshape\n",
    "\n",
    "from torch.optim import Adam\n",
    "from torch.nn import MSELoss, CrossEntropyLoss\n",
    "from torch.optim.lr_scheduler import ReduceLROnPlateau\n",
    "from torchvision import transforms\n",
    "\n",
    "import numpy as np\n"
   ]
  },
  {
   "cell_type": "code",
   "execution_count": null,
   "metadata": {
    "jupyter": {
     "source_hidden": true
    },
    "scrolled": true
   },
   "outputs": [],
   "source": [
    "#Cosmosis blank parameters\n",
    "\n",
    "lookup_feature_3 = ExampleDataset.embed_lookup['feature_3']\n",
    "ds_param = {'train_param': {'input_dict': {'X': ['feature_1','feature_2'],\n",
    "                                           'feature_3': ['feature_3']},\n",
    "                            'transforms': {'feature_1': [ExampleTransform(10), AsTensor()],\n",
    "                                           'feature_2': [Reshape(-1), AsTensor()],\n",
    "                                           'feature_3': [Pad1d(5), EmbedLookup(lookup_feature_3), AsTensor()]},\n",
    "                            'boom': 'bang'}}\n",
    "\n",
    "model_param = {'some_param': 128,\n",
    "               'X': None,\n",
    "               'y': 'y',\n",
    "               'embed_param': {'feature_3': (voc,vec,padding_idx,trainable),\n",
    "                               'some_param': True,\n",
    "                               'flatten': True}} \n",
    "                                       \n",
    "metrics_param = {'report_interval': 10,\n",
    "                 'log_plot': True,\n",
    "                 'min_lr': .005} #break if learning rate falls below                        \n",
    "             \n",
    "opt_param = {'lr': 0.01}\n",
    "\n",
    "crit_param = {}\n",
    "\n",
    "sample_param = {'set_seed': 88,\n",
    "                'splits': (.7,.15)}\n",
    "\n",
    "sched_param = {'factor': .5, \n",
    "               'patience': 2,\n",
    "               'cooldown': 2}\n",
    "\n",
    "learn = Learn([DS], \n",
    "              Model,\n",
    "              Metrics=Metrics,\n",
    "              Sampler=Selector, \n",
    "              Optimizer=Optimizer, \n",
    "              Scheduler=ReduceLROnPlateau, \n",
    "              Criterion=LossFunction,\n",
    "              model_param=model_param, ds_param=ds_param, sample_param=sample_param,\n",
    "              opt_param=opt_param, sched_param=sched_param, crit_param=crit_param,\n",
    "              metrics_param=metrics_param, \n",
    "              batch_size=12, epochs=1, gpu=True)\n"
   ]
  },
  {
   "cell_type": "code",
   "execution_count": 2,
   "metadata": {
    "collapsed": true,
    "jupyter": {
     "outputs_hidden": true,
     "source_hidden": true
    },
    "tags": []
   },
   "outputs": [
    {
     "name": "stdout",
     "output_type": "stream",
     "text": [
      "bang\n",
      "CDataset created...\n",
      "ed[1]:  {'X2': tensor([10.0400,  0.0200,  0.0300,  0.0400,  0.0500], dtype=torch.float64), 'X3': tensor([0.0200, 0.0300, 0.0400, 0.0500], dtype=torch.float64), 'embed_3': tensor([1, 0, 0, 0, 0]), 'embed_4': tensor([3, 3, 4, 0, 0]), 'target': tensor([1.1000], dtype=torch.float64)}\n",
      "default weight initialization...\n",
      "IdentityModel model loaded...\n",
      "IdentityModel(\n",
      "  (layers): ModuleList(\n",
      "    (0): Identity()\n",
      "  )\n",
      ")\n",
      "embedding_layer:  {'embed_3': Embedding(4, 8, padding_idx=0), 'embed_4': Embedding(5, 8, padding_idx=0)}\n",
      "out:  tensor([10.0400,  0.0200,  0.0300,  0.0400,  0.0500,  0.0200,  0.0300,  0.0400,\n",
      "         0.0500,  0.6195,  0.3683, -0.9590, -0.0136, -0.4120,  1.1516, -0.1930,\n",
      "        -1.9058,  0.0000,  0.0000,  0.0000,  0.0000,  0.0000,  0.0000,  0.0000,\n",
      "         0.0000,  0.0000,  0.0000,  0.0000,  0.0000,  0.0000,  0.0000,  0.0000,\n",
      "         0.0000,  0.0000,  0.0000,  0.0000,  0.0000,  0.0000,  0.0000,  0.0000,\n",
      "         0.0000,  0.0000,  0.0000,  0.0000,  0.0000,  0.0000,  0.0000,  0.0000,\n",
      "         0.0000,  0.8161, -1.0267,  1.8515,  0.6187,  0.8885, -1.5783,  0.0590,\n",
      "        -0.9668,  0.8161, -1.0267,  1.8515,  0.6187,  0.8885, -1.5783,  0.0590,\n",
      "        -0.9668,  1.1422, -1.5596, -0.3878,  1.6069, -0.1920, -0.4693, -1.0542,\n",
      "         0.2670,  0.0000,  0.0000,  0.0000,  0.0000,  0.0000,  0.0000,  0.0000,\n",
      "         0.0000,  0.0000,  0.0000,  0.0000,  0.0000,  0.0000,  0.0000,  0.0000,\n",
      "         0.0000], dtype=torch.float64)\n",
      "out.shape:  torch.Size([89])\n"
     ]
    }
   ],
   "source": [
    "#example cosmosis dataset (CDataset)\n",
    "\n",
    "class ExampleTransform():\n",
    "    def __init__(self, num):\n",
    "        self.num = num\n",
    "        \n",
    "    def __call__(self, arr):\n",
    "        return np.add(arr, self.num)\n",
    "\n",
    "\n",
    "class ExampleDataset(CDataset):\n",
    "    #zero is the lookup for the padding index \n",
    "    embed_lookup = {'feature_4': {'a': 1,'b': 2,'c': 3,'d': 4, '0': 0},\n",
    "                    'feature_3': {'z1': 1, 'y1': 2, 'x1': 3, '0': 0},\n",
    "                    'feature_6': {'e': 1, 'f': 2, 'g': 3, '0': 0}}\n",
    "    \n",
    "    def load_data(self, boom='bust'):\n",
    "        \n",
    "        datadic = {1: {'feature_1': np.asarray([.04]),\n",
    "                       'feature_2': np.asarray([[.02,.03],[.04,.05]]),\n",
    "                       'feature_3': np.asarray(['z1']),\n",
    "                       'feature_4': np.asarray(['c','c','d']),\n",
    "                       'feature_5': np.asarray([1.1]),\n",
    "                       'feature_6': np.asarray(['e','f','g'])},\n",
    "                   2: {'feature_1': np.asarray([.03]),\n",
    "                       'feature_2': np.asarray([[.1,.2],[.3,.4]]),\n",
    "                       'feature_3': np.asarray(['x1','z1','y1']),\n",
    "                       'feature_4': np.asarray(['d','a','d']),\n",
    "                       'feature_5': np.asarray([1.2]),\n",
    "                       'feature_6': np.asarray(['f','f','g'])}}\n",
    "        \n",
    "        print(boom)\n",
    "        return datadic\n",
    "    \n",
    "lookup_feature_3 = ExampleDataset.embed_lookup['feature_3']\n",
    "lookup_feature_4 = ExampleDataset.embed_lookup['feature_4']\n",
    "lookup_feature_6 = ExampleDataset.embed_lookup['feature_6']\n",
    "ds_param = {'train_param': {'input_dict': {\n",
    "                                           'X2': ['feature_1','feature_2'], \n",
    "                                           'X3': ['feature_2'],\n",
    "                                           'embed_3': ['feature_3'],\n",
    "                                           'embed_4': ['feature_4'],\n",
    "                                           'target': ['feature_5'],\n",
    "                                            },\n",
    "                            'transforms': {'feature_1': [ExampleTransform(10), Reshape((-1)), AsTensor()],\n",
    "                                           'feature_2': [Reshape((-1)), AsTensor()],\n",
    "                                           'feature_3': [Pad1d(5), EmbedLookup(lookup_feature_3), AsTensor()],\n",
    "                                           'feature_4': [Pad1d(5), EmbedLookup(lookup_feature_4), AsTensor()],\n",
    "                                           'feature_5': [AsTensor()],\n",
    "                                           'feature_6': [Pad1d(5), EmbedLookup(lookup_feature_6), AsTensor()]},\n",
    "                            'boom': 'bang'}}\n",
    "    \n",
    "ed = ExampleDataset(**ds_param['train_param'])\n",
    "print('ed[1]: ', ed[1])\n",
    "\n",
    "model_param = {'device': 'cpu',\n",
    "               'X': ['X2', 'X3'],\n",
    "               'y': 'target',\n",
    "               'embed_param': {'embed_3': (4,8,0,False),\n",
    "                               'embed_4': (5,8,0,False),\n",
    "                               'flatten': True}\n",
    "              }\n",
    "\n",
    "im = IdentityModel(model_param)\n",
    "print(im)\n",
    "print('embedding_layer: ', im.embedding_layer)\n",
    "\n",
    "out = im(ed[1])\n",
    "print('out: ', out)\n",
    "print('out.shape: ', out.shape) # (1+4+4+5*8+5*8) = 89\n"
   ]
  },
  {
   "cell_type": "code",
   "execution_count": 3,
   "metadata": {
    "collapsed": true,
    "jupyter": {
     "outputs_hidden": true,
     "source_hidden": true
    },
    "tags": []
   },
   "outputs": [
    {
     "name": "stdout",
     "output_type": "stream",
     "text": [
      "creating scikit learn make_regression dataset...\n",
      "CDataset created...\n"
     ]
    },
    {
     "data": {
      "text/plain": [
       "{'model_input': array([ 0.8079025 , -1.1590883 ,  0.28677833,  0.3941077 , -0.2330085 ],\n",
       "       dtype=float32),\n",
       " 'y': array([52.318882], dtype=float32)}"
      ]
     },
     "execution_count": 3,
     "metadata": {},
     "output_type": "execute_result"
    }
   ],
   "source": [
    "#example cosmosis sklearn regression dataset wrapper (SKDS)\n",
    "                            \n",
    "ds_param = {'train_param': {'input_dict': {'model_input': ['X'],\n",
    "                                           'y': ['y']},\n",
    "                            'dataset': 'make_regression',\n",
    "                            'sk_param': {'n_samples': 100,\n",
    "                                         'n_features': 5},\n",
    "                            'features_dtype': 'float32',\n",
    "                            'targets_dtype': 'float32'}}\n",
    "\n",
    "sk = SKDS(**ds_param['train_param'])\n",
    "\n",
    "sk[1]\n"
   ]
  },
  {
   "cell_type": "code",
   "execution_count": 4,
   "metadata": {
    "collapsed": true,
    "jupyter": {
     "outputs_hidden": true,
     "source_hidden": true
    },
    "scrolled": true,
    "tags": []
   },
   "outputs": [
    {
     "name": "stdout",
     "output_type": "stream",
     "text": [
      "creating scikit learn make_classification dataset...\n",
      "CDataset created...\n",
      "{'X': tensor([ 0.2125,  0.9577,  0.8292,  1.4587, -2.9232,  1.5133, -2.9606, -1.7480,\n",
      "        -6.6397,  9.2826, -0.9913,  0.1391, -5.8553, -1.4701, -0.5925, -3.7152,\n",
      "        -0.6961,  1.8623, -0.8232,  0.9121,  0.9071, -2.8342, -1.4038, -0.5846,\n",
      "        -0.8562,  2.1699, -1.6000, -1.2357, -2.7278,  4.0419]), 'y': tensor([0])}\n"
     ]
    }
   ],
   "source": [
    "#example cosmosis sklearn classification dataset wrapper (SKDS)\n",
    "ds_param = {'train_param': {'input_dict': {'X': ['X'],\n",
    "                                           'y': ['y']},\n",
    "                            'features_dtype': 'float32',\n",
    "                            'targets_dtype': 'int64',\n",
    "                            'transforms': {'y': [AsTensor()],\n",
    "                                           'X': [AsTensor()]},\n",
    "                            'dataset': 'make_classification',\n",
    "                            'sk_param': {'n_samples': 1000,\n",
    "                                         'n_features': 30,\n",
    "                                         'n_informative': 20,\n",
    "                                         'n_clusters_per_class': 3,\n",
    "                                         'flip_y': 0.05,\n",
    "                                         'class_sep': 0.1,\n",
    "                                         'n_classes': 4}}}\n",
    "\n",
    "sk = SKDS(**ds_param['train_param'])\n",
    "\n",
    "print(sk[1])\n"
   ]
  },
  {
   "cell_type": "code",
   "execution_count": 5,
   "metadata": {
    "collapsed": true,
    "jupyter": {
     "outputs_hidden": true,
     "source_hidden": true
    },
    "tags": []
   },
   "outputs": [
    {
     "name": "stdout",
     "output_type": "stream",
     "text": [
      "creating torch vision MNIST dataset...\n",
      "CDataset created...\n"
     ]
    },
    {
     "data": {
      "text/plain": [
       "{'image': <PIL.Image.Image image mode=L size=224x224>, 'y': 0}"
      ]
     },
     "execution_count": 5,
     "metadata": {},
     "output_type": "execute_result"
    }
   ],
   "source": [
    "#example cosmosis torchvision image dataset wrapper (TVDS)\n",
    "ds_param = {'train_param': {'input_dict': {'features': ['images'],\n",
    "                                           'y': ['labels']},\n",
    "                            'dataset': 'MNIST',\n",
    "                            'tv_param': {'root': './data/',\n",
    "                                         'train': True,\n",
    "                                         'download': True,\n",
    "                                         'transform': transforms.Compose([transforms.Resize(224)]),\n",
    "                                         'target_transform': None}}}\n",
    "\n",
    "tvds = TVDS(**ds_param['train_param'])\n",
    "tvds[1]\n"
   ]
  },
  {
   "cell_type": "code",
   "execution_count": 6,
   "metadata": {
    "collapsed": true,
    "jupyter": {
     "outputs_hidden": true,
     "source_hidden": true
    },
    "tags": []
   },
   "outputs": [
    {
     "name": "stdout",
     "output_type": "stream",
     "text": [
      "creating torch vision MNIST dataset...\n",
      "CDataset created...\n",
      "images to process: 60000\n",
      "images processed: 10000\n",
      "images processed: 20000\n",
      "images processed: 30000\n",
      "images processed: 40000\n",
      "images processed: 50000\n",
      "images processed: 60000\n",
      "mean: [33.33091590401786], stddev: [73.70246726596685]\n",
      "mean:  [33.33091590401786]\n",
      "stddev:  [73.70246726596685]\n"
     ]
    }
   ],
   "source": [
    "#example cosmosis torchvision image dataset wrapper (TVDS) with transforms and PIL stats\n",
    "ds_param={'dataset': 'MNIST',\n",
    "          'tv_param': {'root': './data/',\n",
    "                       'train': True,\n",
    "                       'download': True,\n",
    "                       'transform': transforms.Compose([transforms.Resize(224)]),\n",
    "                       'target_transform': None}}\n",
    "\n",
    "tvds = TVDS(**ds_param)\n",
    "ids = ImageDatasetStats(tvds)\n",
    "\n",
    "print('mean: ', ids.stats.mean)\n",
    "print('stddev: ', ids.stats.stddev)\n",
    "\n",
    "#mean: 33.3/255 = .13\n",
    "#stddev: 73.7/255 = .29"
   ]
  },
  {
   "cell_type": "code",
   "execution_count": 2,
   "metadata": {
    "collapsed": true,
    "jupyter": {
     "outputs_hidden": true,
     "source_hidden": true
    },
    "scrolled": true,
    "tags": []
   },
   "outputs": [
    {
     "name": "stdout",
     "output_type": "stream",
     "text": [
      "creating scikit learn make_regression dataset...\n",
      "CDataset created...\n",
      "FFNet model loaded...\n",
      "applying _init_weights...\n",
      "FFNet model loaded...\n",
      "number of model parameters:  858369\n",
      "running model on gpu...\n",
      "\n",
      "........final........\n",
      "\n",
      "total learning time: 0:00:09.972695\n",
      "test loss: 15037.648140285326\n"
     ]
    },
    {
     "data": {
      "image/png": "[encoded data removed]",
      "text/plain": [
       "<Figure size 640x480 with 1 Axes>"
      ]
     },
     "metadata": {},
     "output_type": "display_data"
    }
   ],
   "source": [
    "#example cosmosis sklearn regression dataset wrapper (SKDS) with sklearn metrics (Metrics) and \n",
    "#custom model (FFNet) \n",
    "\n",
    "model_param = {'in_channels': 256, \n",
    "                'hidden': 512, \n",
    "                'out_channels': 1, \n",
    "                'model_name': 'funnel',\n",
    "                'act': 'gelu'}\n",
    "\n",
    "ds_param = {'train_param': {'input_dict': {'X': ['X'],\n",
    "                                           'y': ['y']},\n",
    "                            'features_dtype': 'float32',\n",
    "                            'targets_dtype': 'float32',\n",
    "                            'dataset': 'make_regression',\n",
    "                            'sk_param': {'n_samples':20000,\n",
    "                                         'n_features': 256,\n",
    "                                         'n_informative': 200}}}\n",
    "             \n",
    "metrics_param = {'report_interval': 10,\n",
    "                 'log_plot': True,\n",
    "                 'min_lr': .00125} #break if learning rate falls below                        \n",
    "             \n",
    "opt_param = {'lr': 0.01}\n",
    "\n",
    "crit_param = {'reduction': 'sum'}\n",
    "\n",
    "sample_param = {'set_seed': 88,\n",
    "                'splits': (.7,.15)}\n",
    "\n",
    "sched_param = {'factor': .5, \n",
    "               'patience': 3,\n",
    "               'cooldown': 3}\n",
    "\n",
    "learn = Learn([SKDS], \n",
    "              FFNet,\n",
    "              Metrics=Metrics,\n",
    "              Sampler=Selector, \n",
    "              Optimizer=Adam, \n",
    "              Scheduler=ReduceLROnPlateau, \n",
    "              Criterion=MSELoss,\n",
    "              model_param=model_param, ds_param=ds_param, sample_param=sample_param,\n",
    "              opt_param=opt_param, sched_param=sched_param, crit_param=crit_param,\n",
    "              metrics_param=metrics_param, \n",
    "              batch_size=128, epochs=20, gpu=True)\n"
   ]
  },
  {
   "cell_type": "code",
   "execution_count": 3,
   "metadata": {
    "collapsed": true,
    "jupyter": {
     "outputs_hidden": true,
     "source_hidden": true
    },
    "tags": []
   },
   "outputs": [
    {
     "name": "stdout",
     "output_type": "stream",
     "text": [
      "creating scikit learn make_classification dataset...\n",
      "CDataset created...\n",
      "FFNet model loaded...\n",
      "applying _init_weights...\n",
      "FFNet model loaded...\n",
      "number of model parameters:  79620\n",
      "running model on gpu...\n",
      "compiling model...\n",
      "\n",
      ".....................\n",
      "\n",
      "total elapsed time: 0:00:17.976261\n",
      "epoch: 0\n",
      "y_pred:  tensor([0.2876, 0.2176, 0.2714, 0.2993], device='cuda:0')\n",
      "y:  tensor(3, device='cuda:0')\n",
      "train loss: 0.013340235437051607, val loss: 0.010840240913705949\n",
      "lr: 0.01\n",
      "accuracy_score train score: 0.24882669413919414, validation score: 0.2534722222222222\n",
      "\n",
      ".....................\n",
      "\n",
      "total elapsed time: 0:00:29.937421\n",
      "epoch: 4\n",
      "y_pred:  tensor([ 0.0709,  0.3835, -0.2038, -0.2312], device='cuda:0')\n",
      "y:  tensor(3, device='cuda:0')\n",
      "train loss: 0.010319592062752325, val loss: 0.00991965562869341\n",
      "lr: 0.01\n",
      "accuracy_score train score: 0.3458819826007326, validation score: 0.38234508547008544\n",
      "\n",
      ".....................\n",
      "\n",
      "total elapsed time: 0:00:41.547223\n",
      "epoch: 8\n",
      "y_pred:  tensor([-0.0731,  1.8432, -1.6196, -1.9814], device='cuda:0')\n",
      "y:  tensor(0, device='cuda:0')\n",
      "train loss: 0.00795563611358868, val loss: 0.008093227604483692\n",
      "lr: 0.01\n",
      "accuracy_score train score: 0.5185153388278388, validation score: 0.5239049145299145\n",
      "\n",
      ".....................\n",
      "\n",
      "total elapsed time: 0:00:54.279263\n",
      "epoch: 12\n",
      "y_pred:  tensor([-2.1210,  1.5794, -0.2522, -0.4209], device='cuda:0')\n",
      "y:  tensor(3, device='cuda:0')\n",
      "train loss: 0.006387907541749296, val loss: 0.007049637619788066\n",
      "lr: 0.01\n",
      "accuracy_score train score: 0.6242845695970696, validation score: 0.594284188034188\n",
      "\n",
      ".....................\n",
      "\n",
      "total elapsed time: 0:01:06.873676\n",
      "epoch: 16\n",
      "y_pred:  tensor([-2.4740, -3.0192,  1.7646,  1.7624], device='cuda:0')\n",
      "y:  tensor(3, device='cuda:0')\n",
      "train loss: 0.005878216461636699, val loss: 0.006652721474504369\n",
      "lr: 0.01\n",
      "accuracy_score train score: 0.6614583333333334, validation score: 0.6281383547008547\n",
      "\n",
      "........final........\n",
      "\n",
      "total learning time: 0:01:15.351279\n",
      "test loss: 0.006568427456335889\n",
      "accuracy_score test metric: 0.6642628205128205\n"
     ]
    },
    {
     "data": {
      "image/png": "[encoded data removed]",
      "text/plain": [
       "<Figure size 640x480 with 1 Axes>"
      ]
     },
     "metadata": {},
     "output_type": "display_data"
    },
    {
     "name": "stdout",
     "output_type": "stream",
     "text": [
      "model: demo_model saved...\n"
     ]
    }
   ],
   "source": [
    "#example cosmosis sklearn classification dataset wrapper (SKDS) with sklearn metrics (Metrics) and \n",
    "#custom model (FFNet)\n",
    "model_param = {'in_channels': 256, \n",
    "               'hidden': 128, \n",
    "               'out_channels': 4,\n",
    "               'model_name': 'funnel'}\n",
    "\n",
    "ds_param = {'train_param': {'input_dict': {'X': ['X'],\n",
    "                                           'y': ['y']},\n",
    "                            'features_dtype': 'float32',\n",
    "                            'targets_dtype': 'int64',\n",
    "                            'transforms': {'y': [SqueezeN()],\n",
    "                                           'X': []},\n",
    "                            'dataset': 'make_classification',\n",
    "                            'sk_param': {'n_samples': 100000,\n",
    "                                         'n_features': 300,\n",
    "                                         'n_informative': 200,\n",
    "                                         'n_redundant': 5,\n",
    "                                         'n_repeated': 5,\n",
    "                                         'n_clusters_per_class': 5,\n",
    "                                         'flip_y': 0.05,\n",
    "                                         'class_sep': 0.05,\n",
    "                                         'n_classes': 4}}}\n",
    "                                     \n",
    "metrics_param = {'report_interval': 10,\n",
    "                 'log_plot': True,\n",
    "                 'metric_name': 'accuracy_score', #sklearn\n",
    "                 'metric_param': {}}\n",
    "\n",
    "opt_param = {'lr': 0.01}\n",
    "\n",
    "crit_param = {}\n",
    "\n",
    "sample_param = {'set_seed': 88,\n",
    "                 'splits': (.7,.15)}\n",
    "\n",
    "sched_param = {'factor': .5,\n",
    "               'patience': 2,\n",
    "               'cooldown': 1}\n",
    "\n",
    "learm = Learn([SKDS], \n",
    "              FFNet, \n",
    "              Sampler=Selector,\n",
    "              Metrics=Metrics,\n",
    "              Optimizer=Adam, \n",
    "              Scheduler=ReduceLROnPlateau, \n",
    "              Criterion=CrossEntropyLoss,\n",
    "              model_param=model_param, ds_param=ds_param, \n",
    "              sample_param=sample_param, opt_param=opt_param, \n",
    "              sched_param=sched_param, crit_param=crit_param,\n",
    "              metrics_param=metrics_param,\n",
    "              adapt=(300,256,.2), batch_size=128, epochs=20, \n",
    "              save_model='demo_model', compile_model=True)\n"
   ]
  },
  {
   "cell_type": "code",
   "execution_count": 5,
   "metadata": {
    "collapsed": true,
    "jupyter": {
     "outputs_hidden": true,
     "source_hidden": true
    },
    "scrolled": true
   },
   "outputs": [
    {
     "name": "stdout",
     "output_type": "stream",
     "text": [
      "creating scikit learn make_classification dataset...\n",
      "CDataset created...\n",
      "FFNet model loaded...\n",
      "applying _init_weights...\n",
      "FFNet model loaded...\n",
      "number of model parameters:  79620\n",
      "running model on gpu...\n",
      "compiling model...\n",
      "\n",
      ".....................\n",
      "\n",
      "total elapsed time: 0:00:10.926940\n",
      "epoch: 1\n",
      "y_pred:  tensor([ 0.0278, -0.0950, -0.0048,  0.1236], device='cuda:0')\n",
      "y:  tensor(0, device='cuda:0')\n",
      "train loss: 0.010834788072908863, val loss: 0.010838480554839484\n",
      "lr: 0.01\n",
      "multiclass_accuracy train score: 0.2571113705635071, validation score: 0.2566773593425751\n",
      "\n",
      ".....................\n",
      "\n",
      "total elapsed time: 0:00:23.806728\n",
      "epoch: 5\n",
      "y_pred:  tensor([ 0.9599,  1.4868, -1.1302,  0.5866], device='cuda:0')\n",
      "y:  tensor(1, device='cuda:0')\n",
      "train loss: 0.009303300960446561, val loss: 0.008851256551873734\n",
      "lr: 0.01\n",
      "multiclass_accuracy train score: 0.4612952172756195, validation score: 0.5080128312110901\n",
      "\n",
      ".....................\n",
      "\n",
      "total elapsed time: 0:00:36.557559\n",
      "epoch: 9\n",
      "y_pred:  tensor([-0.3706,  2.2980, -1.8842,  1.2005], device='cuda:0')\n",
      "y:  tensor(1, device='cuda:0')\n",
      "train loss: 0.006419944131726419, val loss: 0.006734324794294488\n",
      "lr: 0.01\n",
      "multiclass_accuracy train score: 0.6835222244262695, validation score: 0.6664663553237915\n",
      "\n",
      ".....................\n",
      "\n",
      "total elapsed time: 0:00:49.511756\n",
      "epoch: 13\n",
      "y_pred:  tensor([ 1.2729, -0.2499, -0.7398, -0.6464], device='cuda:0')\n",
      "y:  tensor(0, device='cuda:0')\n",
      "train loss: 0.005208191959078222, val loss: 0.005911185955389952\n",
      "lr: 0.01\n",
      "multiclass_accuracy train score: 0.7641512155532837, validation score: 0.728699266910553\n",
      "\n",
      ".....................\n",
      "\n",
      "total elapsed time: 0:01:01.995015\n",
      "epoch: 17\n",
      "y_pred:  tensor([-1.8898, -0.4698,  0.0441,  1.3086], device='cuda:0')\n",
      "y:  tensor(3, device='cuda:0')\n",
      "train loss: 0.004565491123575267, val loss: 0.005406147862076122\n",
      "lr: 0.01\n",
      "multiclass_accuracy train score: 0.8013249635696411, validation score: 0.7608173489570618\n",
      "\n",
      "........final........\n",
      "\n",
      "total learning time: 0:01:07.936299\n",
      "test loss: 0.005353493621954933\n",
      "multiclass_accuracy test metric: 0.7611511945724487\n"
     ]
    },
    {
     "data": {
      "image/png": "[encoded data removed]",
      "text/plain": [
       "<Figure size 640x480 with 1 Axes>"
      ]
     },
     "metadata": {},
     "output_type": "display_data"
    },
    {
     "name": "stdout",
     "output_type": "stream",
     "text": [
      "model: demo_model saved...\n"
     ]
    }
   ],
   "source": [
    "#example using on GPU torcheval metrics\n",
    "\n",
    "model_param = {'in_channels': 256, \n",
    "               'hidden': 128, \n",
    "               'out_channels': 4,\n",
    "               'model_name': 'funnel'}\n",
    "\n",
    "ds_param = {'train_param': {'input_dict': {'X': ['X'],\n",
    "                                           'y': ['y']},\n",
    "                            'features_dtype': 'float32',\n",
    "                            'targets_dtype': 'int64',\n",
    "                            'transforms': {'y': [SqueezeN()],\n",
    "                                           'X': []},\n",
    "                            'dataset': 'make_classification',\n",
    "                            'sk_param': {'n_samples': 100000,\n",
    "                                         'n_features': 300,\n",
    "                                         'n_informative': 200,\n",
    "                                         'n_redundant': 5,\n",
    "                                         'n_repeated': 5,\n",
    "                                         'n_clusters_per_class': 5,\n",
    "                                         'flip_y': 0.05,\n",
    "                                         'class_sep': 0.05,\n",
    "                                         'n_classes': 4}}}\n",
    "                                     \n",
    "metrics_param = {'report_interval': 10,\n",
    "                 'log_plot': True,\n",
    "                 'metric_name': 'multiclass_accuracy', #torcheval\n",
    "                 'metric_param': {'num_classes': 4}}\n",
    "\n",
    "opt_param = {'lr': 0.01}\n",
    "\n",
    "crit_param = {}\n",
    "\n",
    "sample_param = {'set_seed': 88,\n",
    "                 'splits': (.7,.15)}\n",
    "\n",
    "sched_param = {'factor': .5,\n",
    "               'patience': 2,\n",
    "               'cooldown': 1}\n",
    "\n",
    "learn = Learn([SKDS], \n",
    "              FFNet, \n",
    "              Sampler=Selector,\n",
    "              Metrics=Metrics,\n",
    "              Optimizer=Adam, \n",
    "              Scheduler=ReduceLROnPlateau, \n",
    "              Criterion=CrossEntropyLoss,\n",
    "              model_param=model_param, ds_param=ds_param, \n",
    "              sample_param=sample_param, opt_param=opt_param, \n",
    "              sched_param=sched_param, crit_param=crit_param,\n",
    "              metrics_param=metrics_param,\n",
    "              adapt=(300,256,.2), batch_size=128, epochs=20, \n",
    "              save_model='demo_model', compile_model=True)\n"
   ]
  },
  {
   "cell_type": "code",
   "execution_count": null,
   "metadata": {
    "jupyter": {
     "source_hidden": true
    },
    "scrolled": true,
    "tags": []
   },
   "outputs": [],
   "source": [
    "#example inference with cosmosis sklearn classification dataset wrapper (SKDS) and custom model (FFNet)\n",
    "\n",
    "model_param = {'in_channels': 256, \n",
    "               'hidden': 128, \n",
    "               'out_channels': 4, \n",
    "               'model_name': 'funnel'}\n",
    "\n",
    "ds_param = {'train_param': {'input_dict': {'X': ['X'],\n",
    "                                           'y': ['y']},\n",
    "                            'features_dtype': 'float32',\n",
    "                            'targets_dtype': 'int64',\n",
    "                            'dataset': 'make_classification',\n",
    "                            'sk_param': {'n_samples': 10000,\n",
    "                                         'n_features': 300,\n",
    "                                         'n_informative': 200,\n",
    "                                         'n_clusters_per_class': 3,\n",
    "                                         'flip_y': 0.05,\n",
    "                                         'class_sep': 0.1,\n",
    "                                         'n_classes': 4}}}\n",
    "                                     \n",
    "learn = Learn([SKDS], \n",
    "              FFNet, \n",
    "              Sampler=Selector,\n",
    "              Metrics=Metrics,\n",
    "              Optimizer=Adam, \n",
    "              Scheduler=ReduceLROnPlateau, \n",
    "              Criterion=None,\n",
    "              model_param=model_param, ds_param=ds_param, \n",
    "              batch_size=128, epochs=2, load_model='demo_model.pth')\n"
   ]
  },
  {
   "cell_type": "code",
   "execution_count": null,
   "metadata": {
    "jupyter": {
     "source_hidden": true
    },
    "tags": []
   },
   "outputs": [],
   "source": [
    "#example cosmosis torchvision image dataset wrapper (TVDS) with transforms and \n",
    "#torchvision model wrapper (tv_model)\n",
    "model_param = {'model_name': 'resnet18',\n",
    "               'in_channels': 3,\n",
    "               'tv_param': {'num_classes': 10}}\n",
    "\n",
    "ds_param={'train_param': {'dataset': 'CIFAR10',\n",
    "                          'tv_param': {'root': './data/',\n",
    "                                       'train': True,\n",
    "                                       'download': True,\n",
    "                                       'transform': transforms.Compose([\n",
    "                                                           transforms.RandomRotation(10),\n",
    "                                                           transforms.Resize(64),\n",
    "                                                           transforms.ToTensor()]),\n",
    "                                       'target_transform': None,\n",
    "                                       'download': True}},\n",
    "           'test_param': {'dataset': 'CIFAR10',\n",
    "                          'tv_param': {'root': './data/',\n",
    "                                       'train': False,\n",
    "                                       'download': True,\n",
    "                                       'transform': transforms.Compose([\n",
    "                                                         transforms.Resize(64),\n",
    "                                                         transforms.ToTensor()]),\n",
    "                                       'target_transform': None,\n",
    "                                       'download': True}}}\n",
    "\n",
    "metrics_param = {'report_interval': 30, \n",
    "                 'metric_name': 'roc_auc_score', \n",
    "                 'metric_param': {'average': 'macro',\n",
    "                                  'multi_class': 'ovr'}}\n",
    "\n",
    "opt_param = {'lr': 0.01}\n",
    "\n",
    "crit_param = {'reduction': 'sum'}\n",
    "\n",
    "sample_param = {'set_seed': 88,\n",
    "                'splits': (.8,),\n",
    "                'subset': .1}\n",
    "\n",
    "sched_param = {'factor': .5,\n",
    "               'patience': 1,\n",
    "               'cooldown': 1}\n",
    "\n",
    "learn = Learn([TVDS,TVDS], \n",
    "              tv_model, \n",
    "              Selector, \n",
    "              Optimizer=Adam, Scheduler=ReduceLROnPlateau, Criterion=CrossEntropyLoss, \n",
    "              model_param=model_param, ds_param=ds_param, sample_param=sample_param, \n",
    "              opt_param=opt_param, sched_param=sched_param, crit_param=crit_param,\n",
    "              metrics_param=metrics_param, \n",
    "              batch_size=16, epochs=10)"
   ]
  },
  {
   "cell_type": "code",
   "execution_count": null,
   "metadata": {
    "jupyter": {
     "source_hidden": true
    },
    "tags": []
   },
   "outputs": [],
   "source": [
    "#example cosmosis torchvision dataset wrapper (TVDS) with transforms and \n",
    "#torchvision model wrapper (tv_model)\n",
    "model_param = {'model_name': 'resnext50_32x4d',\n",
    "               'in_channels': 3,\n",
    "               'tv_param': {'num_classes': 10}}\n",
    "\n",
    "ds_param={'train_param': {'dataset': 'CIFAR10',\n",
    "                          'tv_param': {'root': './data/',\n",
    "                                       'train': True,\n",
    "                                       'transform': transforms.Compose([\n",
    "                                                    transforms.RandomRotation(10),\n",
    "                                                    transforms.Resize(256),\n",
    "                                                    transforms.ToTensor()]),\n",
    "                                       'target_transform': None}},\n",
    "           'test_param': {'dataset': 'CIFAR10',\n",
    "                          'tv_param': {'root': './data/',\n",
    "                                       'train': False,\n",
    "                                       'transform': transforms.Compose([\n",
    "                                                    transforms.Resize(256),\n",
    "                                                    transforms.ToTensor()]),\n",
    "                                       'target_transform': None}}}\n",
    "\n",
    "metrics_param = {'report_interval': 60, \n",
    "                 'metric_name': 'roc_auc_score', \n",
    "                 'metric_param': {'average': 'macro',\n",
    "                                  'multi_class': 'ovr'}}\n",
    "\n",
    "opt_param = {'lr': 0.01}\n",
    "\n",
    "crit_param = {'reduction': 'sum'}\n",
    "\n",
    "sample_param = {'set_seed': 88,\n",
    "                'splits': (.8,),\n",
    "                'subset': .1}\n",
    "\n",
    "sched_param = {'factor': .5,\n",
    "               'patience': 2,\n",
    "               'cooldown': 1}\n",
    "\n",
    "l = Learn([TVDS,TVDS], \n",
    "          tv_model, \n",
    "          Selector, \n",
    "          Optimizer=Adam, \n",
    "          Scheduler=ReduceLROnPlateau, \n",
    "          Criterion=CrossEntropyLoss, \n",
    "          model_param=model_param, ds_param=ds_param, \n",
    "          sample_param=sample_param, opt_param=opt_param, \n",
    "          sched_param=sched_param, crit_param=crit_param,\n",
    "          metrics_param=metrics_param,\n",
    "          batch_size=16, epochs=10)"
   ]
  },
  {
   "cell_type": "code",
   "execution_count": null,
   "metadata": {},
   "outputs": [],
   "source": []
  }
 ],
 "metadata": {
  "kernelspec": {
   "display_name": "Python 3 (ipykernel)",
   "language": "python",
   "name": "python3"
  },
  "language_info": {
   "codemirror_mode": {
    "name": "ipython",
    "version": 3
   },
   "file_extension": ".py",
   "mimetype": "text/x-python",
   "name": "python",
   "nbconvert_exporter": "python",
   "pygments_lexer": "ipython3",
   "version": "3.11.5"
  }
 },
 "nbformat": 4,
 "nbformat_minor": 4
}
