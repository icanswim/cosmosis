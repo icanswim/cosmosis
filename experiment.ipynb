{
 "cells": [
  {
   "cell_type": "code",
   "execution_count": 1,
   "metadata": {},
   "outputs": [],
   "source": [
    "from model import FFNet, tv_model, ResBam\n",
    "from learning import Learn, Selector, Metrics\n",
    "from dataset import SKDS, TVDS, CDataset, ImageDatasetStats, AsTensor, Squeeze, DType\n",
    "\n",
    "from torch.optim import Adam\n",
    "from torch.nn import MSELoss, CrossEntropyLoss\n",
    "from torch.optim.lr_scheduler import ReduceLROnPlateau\n",
    "from torchvision import transforms\n"
   ]
  },
  {
   "cell_type": "code",
   "execution_count": 2,
   "metadata": {},
   "outputs": [
    {
     "name": "stdout",
     "output_type": "stream",
     "text": [
      "bang\n",
      "CDataset created...\n"
     ]
    },
    {
     "data": {
      "text/plain": [
       "(array([110.03, 111.2 ]), [array([1, 2, 4]), array([4])], array([0.01]))"
      ]
     },
     "execution_count": 2,
     "metadata": {},
     "output_type": "execute_result"
    }
   ],
   "source": [
    "import numpy as np\n",
    "\n",
    "class DummyDataset(CDataset):\n",
    "\n",
    "    def load_data(self, boom='bust'):\n",
    "        \n",
    "        datadic = {1: {'feature_1': np.asarray([.04]),\n",
    "                       'feature_2': np.asarray([.02]),\n",
    "                       'feature_3': ['c'],\n",
    "                       'feature_4': ['b','a'],\n",
    "                       'feature_5': np.asarray([1.1])},\n",
    "                   2: {'feature_1': np.asarray([.03]),\n",
    "                       'feature_2': np.asarray([.01]),\n",
    "                       'feature_3': ['a','b','d'],\n",
    "                       'feature_4': ['d'],\n",
    "                       'feature_5': np.asarray([1.2])}}\n",
    "        \n",
    "        print(boom)\n",
    "        return datadic\n",
    "    \n",
    "class DummyTransform():\n",
    "    def __call__(self, arr):\n",
    "        return np.add(arr, 10)\n",
    "    \n",
    "class DummyTransformTwo():\n",
    "    def __call__(self, arr):\n",
    "        return np.add(arr, 100)\n",
    "    \n",
    "ds_params = {'train_params': {'features': ['feature_1','feature_5'],\n",
    "                              'embeds': ['feature_3','feature_4'],\n",
    "                              'targets': ['feature_2'],\n",
    "                              'embed_lookup': {'a': 1, 'b': 2, 'c': 3, 'd': 4},\n",
    "                              'transform': [DummyTransform(), DummyTransformTwo()],\n",
    "                              'target_transform': [],\n",
    "                              'boom': 'bang'}}\n",
    "    \n",
    "d = DummyDataset(**ds_params['train_params'])\n",
    "d[2]"
   ]
  },
  {
   "cell_type": "code",
   "execution_count": 3,
   "metadata": {},
   "outputs": [
    {
     "name": "stdout",
     "output_type": "stream",
     "text": [
      "CDataset created...\n",
      "SKDS make_regression created...\n"
     ]
    },
    {
     "data": {
      "text/plain": [
       "(array([ 2.1619952 , -0.6161172 , -0.49439624, -0.45259795, -2.093188  ],\n",
       "       dtype=float32),\n",
       " [],\n",
       " array([93.329475], dtype=float32))"
      ]
     },
     "execution_count": 3,
     "metadata": {},
     "output_type": "execute_result"
    }
   ],
   "source": [
    "ds_params = {'train_params': {'features': ['X'],\n",
    "                              'targets': ['y'],\n",
    "                              'make': 'make_regression',\n",
    "                              'sk_params': {'n_samples': 100,\n",
    "                                            'n_features': 5},\n",
    "                              'features_dtype': 'float32',\n",
    "                              'targets_dtype': 'float32'}}\n",
    "\n",
    "sk = SKDS(**ds_params['train_params'])\n",
    "\n",
    "sk[1]"
   ]
  },
  {
   "cell_type": "code",
   "execution_count": 4,
   "metadata": {},
   "outputs": [
    {
     "name": "stdout",
     "output_type": "stream",
     "text": [
      "CDataset created...\n",
      "SKDS make_classification created...\n"
     ]
    },
    {
     "data": {
      "text/plain": [
       "(array([ 1.7754136 ,  2.5180297 ,  0.70816183,  3.6728504 ,  0.0369401 ,\n",
       "        -1.6337373 , -2.5112936 , -0.4763326 ,  2.2652729 , -1.6029338 ],\n",
       "       dtype=float32),\n",
       " [],\n",
       " array([2]))"
      ]
     },
     "execution_count": 4,
     "metadata": {},
     "output_type": "execute_result"
    }
   ],
   "source": [
    "ds_params = {'train_params': {'features': ['X'],\n",
    "                              'targets': ['y'],\n",
    "                              'make': 'make_classification',\n",
    "                              'features_dtype': 'float32',\n",
    "                              'targets_dtype': 'int64',\n",
    "                              'sk_params': {'n_samples': 100,\n",
    "                                            'n_features': 10,\n",
    "                                            'n_informative': 8,\n",
    "                                            'n_clusters_per_class': 2,\n",
    "                                            'flip_y': 0.05,\n",
    "                                            'class_sep': 0.01,\n",
    "                                            'n_classes': 4}}}\n",
    "\n",
    "sk = SKDS(**ds_params['train_params'])\n",
    "\n",
    "sk[1]"
   ]
  },
  {
   "cell_type": "code",
   "execution_count": 5,
   "metadata": {},
   "outputs": [
    {
     "name": "stdout",
     "output_type": "stream",
     "text": [
      "CDataset created...\n",
      "TVDS created...\n"
     ]
    },
    {
     "data": {
      "text/plain": [
       "(<PIL.Image.Image image mode=L size=224x224 at 0x7F56DD1135D0>, [], 0)"
      ]
     },
     "execution_count": 5,
     "metadata": {},
     "output_type": "execute_result"
    }
   ],
   "source": [
    "ds_params={'dataset': 'MNIST',\n",
    "           'tv_params': {'root': './data/',\n",
    "                         'train': True,\n",
    "                         'download': True,\n",
    "                         'transform': transforms.Compose([\n",
    "                                           transforms.Resize(224)]),\n",
    "                         'target_transform': None}}\n",
    "\n",
    "tvds = TVDS(**ds_params)\n",
    "tvds[1]"
   ]
  },
  {
   "cell_type": "code",
   "execution_count": 6,
   "metadata": {},
   "outputs": [
    {
     "name": "stdout",
     "output_type": "stream",
     "text": [
      "CDataset created...\n",
      "TVDS created...\n",
      "images to process: 60000\n",
      "images processed: 10000\n",
      "images processed: 20000\n",
      "images processed: 30000\n",
      "images processed: 40000\n",
      "images processed: 50000\n",
      "images processed: 60000\n",
      "mean: [33.33091590401786], stddev: [73.70246726596685]\n",
      "mean:  [33.33091590401786]\n",
      "stddev:  [73.70246726596685]\n"
     ]
    }
   ],
   "source": [
    "ds_params={'dataset': 'MNIST',\n",
    "           'tv_params': {'root': './data/',\n",
    "                         'train': True,\n",
    "                         'download': True,\n",
    "                         'transform': transforms.Compose([\n",
    "                                           transforms.Resize(224)]),\n",
    "                         'target_transform': None}}\n",
    "\n",
    "tvds = TVDS(**ds_params)\n",
    "ids = ImageDatasetStats(tvds)\n",
    "\n",
    "print('mean: ', ids.stats.mean)\n",
    "print('stddev: ', ids.stats.stddev)\n",
    "\n",
    "#mean: 33.3/255 = .13\n",
    "#stddev: 73.7/255 = .29"
   ]
  },
  {
   "cell_type": "code",
   "execution_count": 7,
   "metadata": {},
   "outputs": [
    {
     "name": "stdout",
     "output_type": "stream",
     "text": [
      "CDataset created...\n",
      "SKDS make_regression created...\n",
      "CModel loaded...\n",
      "FFNet model loaded...\n",
      "learning time: 0:00:02.040646\n",
      "epoch: 0, lr: 0.01\n",
      "train loss: 637576.4166666666, val loss: 604674.2375\n",
      "sklearn train metric: 0, sklearn validation metric: 0\n",
      "test loss: 14186.9330078125\n",
      "learning time: 0:00:06.523192\n",
      "sklearn test metric: \n",
      "0 \n",
      "\n"
     ]
    },
    {
     "data": {
      "image/png": "[encoded data removed]",
      "text/plain": [
       "<Figure size 432x288 with 1 Axes>"
      ]
     },
     "metadata": {
      "needs_background": "light"
     },
     "output_type": "display_data"
    }
   ],
   "source": [
    "model_params = {'D_in': 256, \n",
    "                'H': 512, \n",
    "                'D_out': 1, \n",
    "                'model_name': 'funnel',\n",
    "                'embed_params': []}\n",
    "\n",
    "ds_params = {'train_params': {'features': ['X'],\n",
    "                              'targets': ['y'],\n",
    "                              'features_dtype': 'float32',\n",
    "                              'targets_dtype': 'float32',\n",
    "                              'make': 'make_regression',\n",
    "                              'transform': [],\n",
    "                              'sk_params': {'n_samples': 10000,\n",
    "                                            'n_features': 256,\n",
    "                                            'n_informative': 200}}}\n",
    "             \n",
    "metrics_params = {'report_interval': 10}                         \n",
    "             \n",
    "opt_params = {'lr': 0.01}\n",
    "\n",
    "crit_params = {'reduction': 'sum'}\n",
    "\n",
    "sample_params = {'set_seed': 88,\n",
    "                 'splits': (.7,.15)}\n",
    "\n",
    "sched_params = {'factor': .5,\n",
    "                'patience': 2,\n",
    "                'cooldown': 2}\n",
    "\n",
    "l = Learn([SKDS], \n",
    "          FFNet,\n",
    "          Metrics=Metrics,\n",
    "          Sampler=Selector, \n",
    "          Optimizer=Adam, \n",
    "          Scheduler=ReduceLROnPlateau, \n",
    "          Criterion=MSELoss,\n",
    "          model_params=model_params, ds_params=ds_params, sample_params=sample_params,\n",
    "          opt_params=opt_params, sched_params=sched_params, crit_params=crit_params,\n",
    "          metrics_params=metrics_params,\n",
    "          adapt=False, load_model=False, load_embed=False, save_model=False,\n",
    "          batch_size=256, epochs=10)"
   ]
  },
  {
   "cell_type": "code",
   "execution_count": 8,
   "metadata": {},
   "outputs": [
    {
     "name": "stdout",
     "output_type": "stream",
     "text": [
      "CDataset created...\n",
      "SKDS make_classification created...\n",
      "CModel loaded...\n",
      "FFNet model loaded...\n",
      "learning time: 0:00:00.749839\n",
      "epoch: 0, lr: 0.01\n",
      "train loss: 1.4209319949150085, val loss: 1.3930737755515359\n",
      "sklearn train metric: 0.498713205521555, sklearn validation metric: 0.5139161666234284\n",
      "test loss: 1.1131537773392417\n",
      "learning time: 0:00:07.456014\n",
      "sklearn test metric: \n",
      "0.8843069508601258 \n",
      "\n"
     ]
    },
    {
     "data": {
      "image/png": "[encoded data removed]",
      "text/plain": [
       "<Figure size 432x288 with 1 Axes>"
      ]
     },
     "metadata": {
      "needs_background": "light"
     },
     "output_type": "display_data"
    }
   ],
   "source": [
    "model_params = {'D_in': 256, \n",
    "                'H': 192, \n",
    "                'D_out': 4, \n",
    "                'model_name': 'funnel'}\n",
    "\n",
    "ds_params = {'train_params': {'features': 'X',\n",
    "                              'targets': 'y',\n",
    "                              'features_dtype': 'float32',\n",
    "                              'targets_dtype': 'int64',\n",
    "                              'make': 'make_classification',\n",
    "                              'sk_params': {'n_samples': 10000,\n",
    "                                            'n_features': 256,\n",
    "                                            'n_informative': 200,\n",
    "                                            'n_clusters_per_class': 3,\n",
    "                                            'flip_y': 0.05,\n",
    "                                            'class_sep': 0.1,\n",
    "                                            'n_classes': 4}}}\n",
    "                                     \n",
    "metrics_params = {'report_interval': 10, \n",
    "                  'sk_metric_name': 'roc_auc_score', \n",
    "                  'sk_params': {'average': 'macro',\n",
    "                                'multi_class': 'ovr'}}\n",
    "\n",
    "opt_params = {'lr': 0.01}\n",
    "\n",
    "crit_params = {'reduction': 'sum'}\n",
    "\n",
    "sample_params = {'set_seed': 88,\n",
    "                 'splits': (.7,.15)}\n",
    "\n",
    "sched_params = {'factor': .5,\n",
    "                'patience': 5,\n",
    "                'cooldown': 5}\n",
    "\n",
    "l = Learn([SKDS], \n",
    "          FFNet, \n",
    "          Sampler=Selector,\n",
    "          Metrics=Metrics,\n",
    "          Optimizer=Adam, \n",
    "          Scheduler=ReduceLROnPlateau, \n",
    "          Criterion=CrossEntropyLoss,\n",
    "          model_params=model_params, ds_params=ds_params, \n",
    "          sample_params=sample_params, opt_params=opt_params, \n",
    "          sched_params=sched_params, crit_params=crit_params,\n",
    "          metrics_params=metrics_params,\n",
    "          adapt=False, load_model=False, load_embed=False, save_model=False,\n",
    "          batch_size=128, epochs=10, squeeze_y=True)"
   ]
  },
  {
   "cell_type": "code",
   "execution_count": 9,
   "metadata": {},
   "outputs": [
    {
     "name": "stdout",
     "output_type": "stream",
     "text": [
      "Files already downloaded and verified\n",
      "CDataset created...\n",
      "TVDS created...\n",
      "Files already downloaded and verified\n",
      "CDataset created...\n",
      "TVDS created...\n",
      "TorchVision model resnet18 loaded...\n",
      "learning time: 0:00:12.486336\n",
      "epoch: 0, lr: 0.01\n",
      "train loss: 2.313428858280182, val loss: 2.053193457664982\n",
      "sklearn train metric: 0.6371713570576077, sklearn validation metric: 0.7161403203728263\n",
      "learning time: 0:00:24.485573\n",
      "epoch: 1, lr: 0.01\n",
      "train loss: 2.0344421076774597, val loss: 2.0143394970124766\n",
      "sklearn train metric: 0.7182047560793171, sklearn validation metric: 0.7519475383244838\n",
      "learning time: 0:00:36.448937\n",
      "epoch: 2, lr: 0.01\n",
      "train loss: 1.9542736983299256, val loss: 1.9589722060388135\n",
      "sklearn train metric: 0.7515981889120228, sklearn validation metric: 0.7631740024584303\n",
      "learning time: 0:00:48.555019\n",
      "epoch: 3, lr: 0.01\n",
      "train loss: 1.881962284564972, val loss: 1.8214989919816293\n",
      "sklearn train metric: 0.7738368318034401, sklearn validation metric: 0.8027296253833164\n",
      "learning time: 0:01:00.787366\n",
      "epoch: 4, lr: 0.01\n",
      "train loss: 1.774861785888672, val loss: 1.67574195900271\n",
      "sklearn train metric: 0.803152066943172, sklearn validation metric: 0.8323336096178524\n",
      "learning time: 0:01:13.175629\n",
      "epoch: 5, lr: 0.01\n",
      "train loss: 1.706805634021759, val loss: 1.6414941491619233\n",
      "sklearn train metric: 0.8200199512982167, sklearn validation metric: 0.8457596983665072\n",
      "learning time: 0:01:25.585251\n",
      "epoch: 6, lr: 0.01\n",
      "train loss: 1.625540696144104, val loss: 1.593690926028836\n",
      "sklearn train metric: 0.838229716655572, sklearn validation metric: 0.8556744212903477\n",
      "learning time: 0:01:37.904873\n",
      "epoch: 7, lr: 0.01\n",
      "train loss: 1.564937152147293, val loss: 1.5607273453666317\n",
      "sklearn train metric: 0.8520104826420901, sklearn validation metric: 0.8606677639548905\n",
      "learning time: 0:01:50.269453\n",
      "epoch: 8, lr: 0.01\n",
      "train loss: 1.4884478013515472, val loss: 1.5142531721822676\n",
      "sklearn train metric: 0.8659393556016433, sklearn validation metric: 0.8675355315017947\n",
      "learning time: 0:02:02.373851\n",
      "epoch: 9, lr: 0.01\n",
      "train loss: 1.4262092034816742, val loss: 1.4456206944680983\n",
      "sklearn train metric: 0.8769097721304652, sklearn validation metric: 0.8852584811710074\n",
      "test loss: 1.4659955245018006\n",
      "learning time: 0:02:11.230096\n",
      "sklearn test metric: \n",
      "0.8796823000000001 \n",
      "\n"
     ]
    },
    {
     "data": {
      "image/png": "[encoded data removed]",
      "text/plain": [
       "<Figure size 432x288 with 1 Axes>"
      ]
     },
     "metadata": {
      "needs_background": "light"
     },
     "output_type": "display_data"
    }
   ],
   "source": [
    "model_params = {'model_name': 'resnet18',\n",
    "                'in_channels': 3,\n",
    "                'tv_params': {'num_classes': 10}}\n",
    "\n",
    "ds_params={'train_params': {'dataset': 'CIFAR10',\n",
    "                            'tv_params': {'root': './data/',\n",
    "                                          'train': True,\n",
    "                                          'download': True,\n",
    "                                          'transform': transforms.Compose([\n",
    "                                                           transforms.RandomRotation(10),\n",
    "                                                           transforms.Resize(224),\n",
    "                                                           transforms.ToTensor()]),\n",
    "                                          'target_transform': None,\n",
    "                                          'download': True}},\n",
    "           'test_params': {'dataset': 'CIFAR10',\n",
    "                           'tv_params': {'root': './data/',\n",
    "                                         'train': False,\n",
    "                                         'download': True,\n",
    "                                         'transform': transforms.Compose([\n",
    "                                                         transforms.Resize(224),\n",
    "                                                         transforms.ToTensor()]),\n",
    "                                         'target_transform': None,\n",
    "                                         'download': True}}}\n",
    "\n",
    "metrics_params = {'report_interval': 10, \n",
    "                  'sk_metric_name': 'roc_auc_score', \n",
    "                  'sk_params': {'average': 'macro',\n",
    "                                'multi_class': 'ovr'}}\n",
    "\n",
    "opt_params = {'lr': 0.01}\n",
    "\n",
    "crit_params = {'reduction': 'sum'}\n",
    "\n",
    "sample_params = {'set_seed': 88,\n",
    "                 'splits': (.8,),\n",
    "                 'subset': .1}\n",
    "\n",
    "sched_params = {'factor': .5,\n",
    "                'patience': 1,\n",
    "                'cooldown': 1}\n",
    "\n",
    "l = Learn([TVDS,TVDS], \n",
    "          tv_model, \n",
    "          Selector, \n",
    "          Optimizer=Adam, \n",
    "          Scheduler=ReduceLROnPlateau, \n",
    "          Criterion=CrossEntropyLoss, \n",
    "          model_params=model_params, ds_params=ds_params, \n",
    "          sample_params=sample_params, opt_params=opt_params, \n",
    "          sched_params=sched_params, crit_params=crit_params,\n",
    "          metrics_params=metrics_params,\n",
    "          adapt=False, load_model=False, load_embed=False, save_model=False,\n",
    "          batch_size=16, epochs=10)"
   ]
  },
  {
   "cell_type": "code",
   "execution_count": 10,
   "metadata": {},
   "outputs": [
    {
     "name": "stdout",
     "output_type": "stream",
     "text": [
      "CDataset created...\n",
      "TVDS created...\n",
      "CDataset created...\n",
      "TVDS created...\n",
      "CModel loaded...\n",
      "ResBam model loaded...\n",
      "learning time: 0:00:25.835735\n",
      "epoch: 0, lr: 0.005\n",
      "train loss: 1.9804944581985473, val loss: 1.8744419890065347\n",
      "sklearn train metric: 0.7444558775570708, sklearn validation metric: 0.7757691061245998\n",
      "learning time: 0:00:51.493331\n",
      "epoch: 1, lr: 0.005\n",
      "train loss: 1.7980906534194947, val loss: 1.7747476139376241\n",
      "sklearn train metric: 0.7987981284346064, sklearn validation metric: 0.8055768626777564\n",
      "learning time: 0:01:16.836403\n",
      "epoch: 2, lr: 0.005\n",
      "train loss: 1.695070725440979, val loss: 1.7503228418288692\n",
      "sklearn train metric: 0.8277039916657886, sklearn validation metric: 0.8141717587428049\n",
      "learning time: 0:01:42.395792\n",
      "epoch: 3, lr: 0.005\n",
      "train loss: 1.6410383672714233, val loss: 1.635841715720392\n",
      "sklearn train metric: 0.8377261839859844, sklearn validation metric: 0.8357008095632139\n",
      "learning time: 0:02:07.908944\n",
      "epoch: 4, lr: 0.005\n",
      "train loss: 1.5647441282272339, val loss: 1.573825970772774\n",
      "sklearn train metric: 0.8550417807214764, sklearn validation metric: 0.8512343099840057\n",
      "learning time: 0:02:33.429558\n",
      "epoch: 5, lr: 0.005\n",
      "train loss: 1.4946583070755004, val loss: 1.5773745159949026\n",
      "sklearn train metric: 0.8686014570934063, sklearn validation metric: 0.8495602178767703\n",
      "learning time: 0:02:59.020727\n",
      "epoch: 6, lr: 0.005\n",
      "train loss: 1.4501730213165283, val loss: 1.5414051663491033\n",
      "sklearn train metric: 0.8764946945340327, sklearn validation metric: 0.8585249790038582\n",
      "learning time: 0:03:24.665918\n",
      "epoch: 7, lr: 0.005\n",
      "train loss: 1.3865160098075866, val loss: 1.4979777413029824\n",
      "sklearn train metric: 0.8876601063731144, sklearn validation metric: 0.8654650187977184\n",
      "learning time: 0:03:50.129054\n",
      "epoch: 8, lr: 0.005\n",
      "train loss: 1.3107870345115662, val loss: 1.5044676411536433\n",
      "sklearn train metric: 0.9000889833240304, sklearn validation metric: 0.8630765979689474\n",
      "learning time: 0:04:15.719588\n",
      "epoch: 9, lr: 0.005\n",
      "train loss: 1.283974214553833, val loss: 1.4513859248930407\n",
      "sklearn train metric: 0.9031745837892012, sklearn validation metric: 0.8720090642940816\n",
      "test loss: 1.5003083331080584\n",
      "learning time: 0:04:32.249782\n",
      "sklearn test metric: \n",
      "0.8662517462373621 \n",
      "\n"
     ]
    },
    {
     "data": {
      "image/png": "[encoded data removed]",
      "text/plain": [
       "<Figure size 432x288 with 1 Axes>"
      ]
     },
     "metadata": {
      "needs_background": "light"
     },
     "output_type": "display_data"
    }
   ],
   "source": [
    "model_params = {'n_classes': 10,\n",
    "                'residual': True,\n",
    "                'in_channels': 3,\n",
    "                'groups': 4,\n",
    "                'bam': True,\n",
    "                'dropout': [.1,.2,.3,.2,.1],\n",
    "                #'act': None\n",
    "               }\n",
    "\n",
    "\n",
    "ds_params={'train_params': {'dataset': 'CIFAR10',\n",
    "                            'tv_params': {'root': './data/',\n",
    "                                          'train': True,\n",
    "                                          'transform': transforms.Compose([\n",
    "                                                       transforms.RandomRotation(10),\n",
    "                                                       transforms.Resize(256),\n",
    "                                                       transforms.ToTensor(),\n",
    "                                                       transforms.Normalize(.13,.29)]),\n",
    "                                          'target_transform': None}},\n",
    "           'test_params': {'dataset': 'CIFAR10',\n",
    "                           'tv_params': {'root': './data/',\n",
    "                                         'train': False,\n",
    "                                         'transform': transforms.Compose([\n",
    "                                                      transforms.Resize(256),\n",
    "                                                      transforms.ToTensor(),\n",
    "                                                      transforms.Normalize(.13,.29)]),\n",
    "                                         'target_transform': None}}}\n",
    "\n",
    "metrics_params = {'report_interval': 10, \n",
    "                  'sk_metric_name': 'roc_auc_score', \n",
    "                  'sk_params': {'average': 'macro',\n",
    "                                'multi_class': 'ovr'}}\n",
    "\n",
    "opt_params = {'lr': 0.005}\n",
    "\n",
    "crit_params = {'reduction': 'sum'}\n",
    "\n",
    "sample_params = {'set_seed': 88,\n",
    "                 'splits': (.8,),\n",
    "                 'subset': .1}\n",
    "\n",
    "sched_params = {'factor': .5,\n",
    "                'patience': 2,\n",
    "                'cooldown': 1}\n",
    "\n",
    "l = Learn([TVDS,TVDS], \n",
    "          ResBam, \n",
    "          Selector, \n",
    "          Optimizer=Adam, \n",
    "          Scheduler=ReduceLROnPlateau, \n",
    "          Criterion=CrossEntropyLoss, \n",
    "          model_params=model_params, ds_params=ds_params, \n",
    "          sample_params=sample_params, opt_params=opt_params, \n",
    "          sched_params=sched_params, crit_params=crit_params,\n",
    "          metrics_params=metrics_params,\n",
    "          adapt=False, load_model=False, load_embed=False, save_model=False,\n",
    "          batch_size=32, epochs=10)"
   ]
  },
  {
   "cell_type": "code",
   "execution_count": 2,
   "metadata": {},
   "outputs": [
    {
     "name": "stdout",
     "output_type": "stream",
     "text": [
      "CDataset created...\n",
      "TVDS created...\n",
      "CDataset created...\n",
      "TVDS created...\n",
      "TorchVision model resnext50_32x4d loaded...\n",
      "learning time: 0:01:02.174489\n",
      "epoch: 0, lr: 0.01\n",
      "train loss: 2.565103487968445, val loss: 2.106171827162466\n",
      "sklearn train metric: 0.6012227877046712, sklearn validation metric: 0.6872157236394809\n",
      "learning time: 0:02:03.225138\n",
      "epoch: 1, lr: 0.01\n",
      "train loss: 2.08062796497345, val loss: 2.064007630271296\n",
      "sklearn train metric: 0.6940804948368049, sklearn validation metric: 0.7251707296638656\n",
      "learning time: 0:03:05.710793\n",
      "epoch: 2, lr: 0.01\n",
      "train loss: 2.005425669670105, val loss: 1.9763669890742148\n",
      "sklearn train metric: 0.7274705091045615, sklearn validation metric: 0.7478963510097674\n",
      "learning time: 0:04:08.000352\n",
      "epoch: 3, lr: 0.01\n",
      "train loss: 1.9612777199745177, val loss: 1.9249129910622873\n",
      "sklearn train metric: 0.7429658128507584, sklearn validation metric: 0.7722083476190558\n",
      "learning time: 0:05:09.650902\n",
      "epoch: 4, lr: 0.01\n",
      "train loss: 1.8640017595291138, val loss: 1.8012888604594814\n",
      "sklearn train metric: 0.7741509656583891, sklearn validation metric: 0.8017550964285686\n",
      "learning time: 0:06:11.315369\n",
      "epoch: 5, lr: 0.01\n",
      "train loss: 1.8191014013290405, val loss: 1.7509296536445618\n",
      "sklearn train metric: 0.7898863096001614, sklearn validation metric: 0.8193146215822497\n",
      "learning time: 0:07:14.538721\n",
      "epoch: 6, lr: 0.01\n",
      "train loss: 1.7241614651679993, val loss: 1.6960921883583069\n",
      "sklearn train metric: 0.8140124866505187, sklearn validation metric: 0.8376046529041373\n",
      "learning time: 0:08:17.086186\n",
      "epoch: 7, lr: 0.01\n",
      "train loss: 1.6899089508056642, val loss: 1.5885311249763734\n",
      "sklearn train metric: 0.8235922543000795, sklearn validation metric: 0.8511751830248757\n",
      "learning time: 0:09:19.239512\n",
      "epoch: 8, lr: 0.01\n",
      "train loss: 1.6110696048736572, val loss: 1.5338148292033904\n",
      "sklearn train metric: 0.8401420801858022, sklearn validation metric: 0.8630988500647738\n",
      "learning time: 0:10:20.999258\n",
      "epoch: 9, lr: 0.01\n",
      "train loss: 1.5603299803733826, val loss: 1.6002499826492802\n",
      "sklearn train metric: 0.8504634811745433, sklearn validation metric: 0.8576797622808874\n",
      "test loss: 1.572805980014801\n",
      "learning time: 0:11:04.131248\n",
      "sklearn test metric: \n",
      "0.8604267999999999 \n",
      "\n"
     ]
    },
    {
     "data": {
      "image/png": "[encoded data removed]",
      "text/plain": [
       "<Figure size 432x288 with 1 Axes>"
      ]
     },
     "metadata": {
      "needs_background": "light"
     },
     "output_type": "display_data"
    }
   ],
   "source": [
    "model_params = {'model_name': 'resnext50_32x4d',\n",
    "                'in_channels': 3,\n",
    "                'tv_params': {'num_classes': 10}}\n",
    "\n",
    "ds_params={'train_params': {'dataset': 'CIFAR10',\n",
    "                            'tv_params': {'root': './data/',\n",
    "                                          'train': True,\n",
    "                                          'transform': transforms.Compose([\n",
    "                                                       transforms.RandomRotation(10),\n",
    "                                                       transforms.Resize(256),\n",
    "                                                       transforms.ToTensor()]),\n",
    "                                          'target_transform': None}},\n",
    "           'test_params': {'dataset': 'CIFAR10',\n",
    "                           'tv_params': {'root': './data/',\n",
    "                                         'train': False,\n",
    "                                         'transform': transforms.Compose([\n",
    "                                                      transforms.Resize(256),\n",
    "                                                      transforms.ToTensor()]),\n",
    "                                         'target_transform': None}}}\n",
    "\n",
    "metrics_params = {'report_interval': 10, \n",
    "                  'sk_metric_name': 'roc_auc_score', \n",
    "                  'sk_params': {'average': 'macro',\n",
    "                                'multi_class': 'ovr'}}\n",
    "\n",
    "opt_params = {'lr': 0.01}\n",
    "\n",
    "crit_params = {'reduction': 'sum'}\n",
    "\n",
    "sample_params = {'set_seed': 88,\n",
    "                 'splits': (.8,),\n",
    "                 'subset': .1}\n",
    "\n",
    "sched_params = {'factor': .5,\n",
    "                'patience': 2,\n",
    "                'cooldown': 2}\n",
    "\n",
    "l = Learn([TVDS,TVDS], \n",
    "          tv_model, \n",
    "          Selector, \n",
    "          Optimizer=Adam, \n",
    "          Scheduler=ReduceLROnPlateau, \n",
    "          Criterion=CrossEntropyLoss, \n",
    "          model_params=model_params, ds_params=ds_params, \n",
    "          sample_params=sample_params, opt_params=opt_params, \n",
    "          sched_params=sched_params, crit_params=crit_params,\n",
    "          metrics_params=metrics_params,\n",
    "          adapt=False, load_model=False, load_embed=False, save_model=False,\n",
    "          batch_size=16, epochs=10)"
   ]
  },
  {
   "cell_type": "code",
   "execution_count": null,
   "metadata": {},
   "outputs": [],
   "source": []
  }
 ],
 "metadata": {
  "kernelspec": {
   "display_name": "Python 3",
   "language": "python",
   "name": "python3"
  },
  "language_info": {
   "codemirror_mode": {
    "name": "ipython",
    "version": 3
   },
   "file_extension": ".py",
   "mimetype": "text/x-python",
   "name": "python",
   "nbconvert_exporter": "python",
   "pygments_lexer": "ipython3",
   "version": "3.7.9"
  }
 },
 "nbformat": 4,
 "nbformat_minor": 4
}
