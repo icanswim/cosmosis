{
 "cells": [
  {
   "cell_type": "code",
   "execution_count": 1,
   "metadata": {},
   "outputs": [],
   "source": [
    "from model import FFNet, tv_model\n",
    "from learning import Learn, Selector, Metrics\n",
    "import dataset\n",
    "from dataset import SKDS, TVDS, CDataset\n",
    "\n",
    "from torch.optim import Adam\n",
    "from torch.nn import MSELoss, CrossEntropyLoss\n",
    "from torch.optim.lr_scheduler import ReduceLROnPlateau\n",
    "from torchvision import transforms\n"
   ]
  },
  {
   "cell_type": "code",
   "execution_count": 2,
   "metadata": {},
   "outputs": [
    {
     "name": "stdout",
     "output_type": "stream",
     "text": [
      "bang\n",
      "CDataset created...\n"
     ]
    },
    {
     "data": {
      "text/plain": [
       "(array([1, 2, 3, 4]), array(100), [tensor(1), tensor(1)])"
      ]
     },
     "execution_count": 2,
     "metadata": {},
     "output_type": "execute_result"
    }
   ],
   "source": [
    "import numpy as np\n",
    "\n",
    "class Dummy(CDataset):\n",
    "    \n",
    "    def load_data(self, boom='bust'):\n",
    "        data = {1: (np.asarray([1,2,3,4]), np.asarray(100), ['apple','dog']),\n",
    "                2: (np.asarray([5,6,7,8]), np.asarray(200), ['orange','cat'])}\n",
    "        print(boom)\n",
    "        return data\n",
    "    \n",
    "ds_params = {'train_params': {'embed': [('fruit',2,8,False,False),\n",
    "                                        ('pet',2,8,False,False)],\n",
    "                              'embed_lookup': {'fruit': {'apple': 1,\n",
    "                                                         'orange': 2},\n",
    "                                               'pet': {'dog': 1,\n",
    "                                                       'cat': 2}},\n",
    "             'boom': 'bang'}}\n",
    "    \n",
    "d = Dummy(**ds_params['train_params'])\n",
    "d[1]           "
   ]
  },
  {
   "cell_type": "code",
   "execution_count": null,
   "metadata": {},
   "outputs": [],
   "source": [
    "ds_params={'embed': [],\n",
    "           'dataset': 'MNIST',\n",
    "           'tv_params': {'root': './data/',\n",
    "                         'train': True,\n",
    "                         'download': True,\n",
    "                         'transform': transforms.Compose([\n",
    "                                           transforms.Resize(224)]),\n",
    "                         'target_transform': None}}\n",
    "\n",
    "tvds = TVDS(**ds_params)\n",
    "ids = dataset.ImageDatasetStats()\n",
    "\n",
    "for i in tvds.ds_idx:\n",
    "    ids(tvds[i][0])\n",
    "    \n",
    "print(ids.stats.mean) #33.3\n",
    "print(ids.stats.stddev) #73.7\n",
    "    "
   ]
  },
  {
   "cell_type": "code",
   "execution_count": null,
   "metadata": {},
   "outputs": [],
   "source": [
    "tvds[tvds.ds_idx[0]][0][0][100]"
   ]
  },
  {
   "cell_type": "code",
   "execution_count": 7,
   "metadata": {},
   "outputs": [
    {
     "name": "stdout",
     "output_type": "stream",
     "text": [
      "SKDS created...\n",
      "CModel loaded...\n",
      "FFNet model loaded...\n",
      "learning time: 0:00:00.651421\n",
      "epoch: 0, lr: 0.01\n",
      "train loss: 393216.50549768517, val loss: 45351.75078125\n",
      "sk_train_log: 0, sk_val_log: 0\n",
      "learning time: 0:00:07.028512\n",
      "epoch: 10, lr: 0.01\n",
      "train loss: 17304.38494646991, val loss: 15975.5412109375\n",
      "sk_train_log: 0, sk_val_log: 0\n",
      "test loss: 13289.41328125\n",
      "learning time: 0:00:12.992643\n",
      "test sklean metric: \n",
      "0 \n",
      "\n"
     ]
    },
    {
     "data": {
      "image/png": "[encoded data removed]",
      "text/plain": [
       "<Figure size 432x288 with 1 Axes>"
      ]
     },
     "metadata": {
      "needs_background": "light"
     },
     "output_type": "display_data"
    }
   ],
   "source": [
    "model_params = {'D_in': 256, \n",
    "                'H': 512, \n",
    "                'D_out': 1, \n",
    "                'model_name': 'funnel'}\n",
    "\n",
    "ds_params = {'train_params': {'embed': [],\n",
    "                              'make': 'make_regression',\n",
    "                              'transform': None,\n",
    "                              'target_transform': None,\n",
    "                              'sk_params': {'n_samples': 10000,\n",
    "                                            'n_features': 256,\n",
    "                                            'n_informative': 200}}}\n",
    "             \n",
    "metrics_params = {'report_interval': 10}                         \n",
    "             \n",
    "opt_params = {'lr': 0.01}\n",
    "\n",
    "crit_params = {'reduction': 'sum'}\n",
    "\n",
    "sample_params = {'set_seed': 88,\n",
    "                 'splits': (.7,.15)}\n",
    "\n",
    "sched_params = {'factor': .5,\n",
    "                'patience': 2,\n",
    "                'cooldown': 2}\n",
    "\n",
    "l = Learn([SKDS], \n",
    "          FFNet,\n",
    "          Metrics=Metrics,\n",
    "          Sampler=Selector, \n",
    "          Optimizer=Adam, \n",
    "          Scheduler=ReduceLROnPlateau, \n",
    "          Criterion=MSELoss,\n",
    "          model_params=model_params, ds_params=ds_params, sample_params=sample_params,\n",
    "          opt_params=opt_params, sched_params=sched_params, crit_params=crit_params,\n",
    "          metrics_params=metrics_params,\n",
    "          adapt=False, load_model=False, load_embed=False, save_model=False,\n",
    "          batch_size=256, epochs=20)"
   ]
  },
  {
   "cell_type": "code",
   "execution_count": 6,
   "metadata": {},
   "outputs": [
    {
     "name": "stdout",
     "output_type": "stream",
     "text": [
      "SKDS created...\n",
      "CModel loaded...\n",
      "FFNet model loaded...\n",
      "learning time: 0:00:02.936619\n",
      "epoch: 0, lr: 0.01\n",
      "train loss: 1.3944505234777709, val loss: 1.3896626151841263\n",
      "sk_train_log: 0.5019330832814533, sk_val_log: 0.5017048259764008\n",
      "learning time: 0:00:14.695064\n",
      "epoch: 4, lr: 0.01\n",
      "train loss: 1.1183546502074915, val loss: 1.1145110068650081\n",
      "sk_train_log: 0.7653184242002614, sk_val_log: 0.7706529916383662\n",
      "learning time: 0:00:26.427866\n",
      "epoch: 8, lr: 0.01\n",
      "train loss: 0.8793491974418417, val loss: 1.022996741122213\n",
      "sk_train_log: 0.8668329298800368, sk_val_log: 0.8262118195853192\n",
      "test loss: 1.0194797783062375\n",
      "learning time: 0:00:29.867193\n",
      "test sklean metric: \n",
      "0.8257741433818878 \n",
      "\n"
     ]
    },
    {
     "data": {
      "image/png": "[encoded data removed]",
      "text/plain": [
       "<Figure size 432x288 with 1 Axes>"
      ]
     },
     "metadata": {
      "needs_background": "light"
     },
     "output_type": "display_data"
    }
   ],
   "source": [
    "model_params = {'D_in': 256, \n",
    "                'H': 192, \n",
    "                'D_out': 4, \n",
    "                'model_name': 'funnel'}\n",
    "\n",
    "ds_params = {'train_params': {'embed': [],\n",
    "                              'make': 'make_classification',\n",
    "                              'transform': transforms.Compose([dataset.AsTensor()]),\n",
    "                              'target_transform': transforms.Compose(\n",
    "                                                      [dataset.DType('int64'),\n",
    "                                                       dataset.AsTensor(),\n",
    "                                                       dataset.Squeeze()]),\n",
    "                              'sk_params': {'n_samples': 100000,\n",
    "                                            'n_features': 256,\n",
    "                                            'n_informative': 50,\n",
    "                                            'n_clusters_per_class': 10,\n",
    "                                            'flip_y': 0.05,\n",
    "                                            'class_sep': 0.01,\n",
    "                                            'n_classes': 4}}}\n",
    "                                     \n",
    "metrics_params = {'report_interval': 10, \n",
    "                  'sk_metric_name': 'roc_auc_score', \n",
    "                  'sk_params': {'average': 'macro',\n",
    "                                'multi_class': 'ovr'}}\n",
    "\n",
    "opt_params = {'lr': 0.01}\n",
    "\n",
    "crit_params = {'reduction': 'sum'}\n",
    "\n",
    "sample_params = {'set_seed': 88,\n",
    "                 'splits': (.7,.15)}\n",
    "\n",
    "sched_params = {'factor': .5,\n",
    "                'patience': 5,\n",
    "                'cooldown': 5}\n",
    "\n",
    "l = Learn([SKDS], \n",
    "          FFNet, \n",
    "          Sampler=Selector,\n",
    "          Metrics=Metrics,\n",
    "          Optimizer=Adam, \n",
    "          Scheduler=ReduceLROnPlateau, \n",
    "          Criterion=CrossEntropyLoss,\n",
    "          model_params=model_params, ds_params=ds_params, \n",
    "          sample_params=sample_params, opt_params=opt_params, \n",
    "          sched_params=sched_params, crit_params=crit_params,\n",
    "          metrics_params=metrics_params,\n",
    "          adapt=False, load_model=False, load_embed=False, save_model=False,\n",
    "          batch_size=256, epochs=10)"
   ]
  },
  {
   "cell_type": "code",
   "execution_count": 8,
   "metadata": {},
   "outputs": [
    {
     "name": "stdout",
     "output_type": "stream",
     "text": [
      "TVDS created...\n",
      "TVDS created...\n",
      "TorchVision model resnet18 loaded...\n",
      "learning time: 0:02:09.327261\n",
      "epoch: 0, lr: 0.01\n",
      "train loss: 0.274230231758828, val loss: 0.07125941069517285\n",
      "sk_train_log: 0.9949304853762833, sk_val_log: 0.999535580466737\n",
      "learning time: 0:04:21.692808\n",
      "epoch: 1, lr: 0.01\n",
      "train loss: 0.07592612649513952, val loss: 0.07747512037074193\n",
      "sk_train_log: 0.9994689232558347, sk_val_log: 0.9996924513498376\n",
      "learning time: 0:06:32.982187\n",
      "epoch: 2, lr: 0.01\n",
      "train loss: 0.05763969525045832, val loss: 0.042100675590646765\n",
      "sk_train_log: 0.9996691291134377, sk_val_log: 0.9998304900295801\n",
      "learning time: 0:08:44.061273\n",
      "epoch: 3, lr: 0.01\n",
      "train loss: 0.04890180014899427, val loss: 0.048897841061193804\n",
      "sk_train_log: 0.9997533227751161, sk_val_log: 0.999737174914207\n",
      "test loss: 0.031623439653359155\n",
      "learning time: 0:08:51.776750\n",
      "test sklean metric: \n",
      "0.9998669178244797 \n",
      "\n"
     ]
    },
    {
     "data": {
      "image/png": "[encoded data removed]",
      "text/plain": [
       "<Figure size 432x288 with 1 Axes>"
      ]
     },
     "metadata": {
      "needs_background": "light"
     },
     "output_type": "display_data"
    }
   ],
   "source": [
    "model_params = {'model_name': 'resnet18',\n",
    "                'in_channels': 1,\n",
    "                'tv_params': {'num_classes': 10}}\n",
    "\n",
    "ds_params={'train_params': {'embed': [],\n",
    "                            'dataset': 'MNIST',\n",
    "                            'tv_params': {'root': './data/',\n",
    "                                          'train': True,\n",
    "                                          'download': True,\n",
    "                                          'transform': transforms.Compose([\n",
    "                                                           transforms.RandomRotation(10),\n",
    "                                                           transforms.Resize(224),\n",
    "                                                           transforms.ToTensor()]),\n",
    "                                          'target_transform': None}},\n",
    "           'test_params': {'embed': [],\n",
    "                           'dataset': 'MNIST',\n",
    "                           'tv_params': {'root': './data/',\n",
    "                                         'train': False,\n",
    "                                         'download': True,\n",
    "                                         'transform': transforms.Compose([\n",
    "                                                         transforms.Resize(224),\n",
    "                                                         transforms.ToTensor()]),\n",
    "                                         'target_transform': None}}}\n",
    "\n",
    "metrics_params = {'report_interval': 10, \n",
    "                  'sk_metric_name': 'roc_auc_score', \n",
    "                  'sk_params': {'average': 'macro',\n",
    "                                'multi_class': 'ovr'}}\n",
    "\n",
    "opt_params = {'lr': 0.01}\n",
    "crit_params = {'reduction': 'sum'}\n",
    "sample_params = {'set_seed': 88,\n",
    "                 'splits': (.8,)}\n",
    "sched_params = {'factor': .5,\n",
    "                'patience': 1,\n",
    "                'cooldown': 1}\n",
    "\n",
    "l = Learn([TVDS,TVDS], \n",
    "          tv_model, \n",
    "          Selector, \n",
    "          Optimizer=Adam, \n",
    "          Scheduler=ReduceLROnPlateau, \n",
    "          Criterion=CrossEntropyLoss, \n",
    "          model_params=model_params, ds_params=ds_params, \n",
    "          sample_params=sample_params, opt_params=opt_params, \n",
    "          sched_params=sched_params, crit_params=crit_params,\n",
    "          metrics_params=metrics_params,\n",
    "          adapt=False, load_model=False, load_embed=False, save_model=False,\n",
    "          batch_size=32, epochs=4)"
   ]
  },
  {
   "cell_type": "code",
   "execution_count": null,
   "metadata": {},
   "outputs": [],
   "source": []
  }
 ],
 "metadata": {
  "kernelspec": {
   "display_name": "Python 3",
   "language": "python",
   "name": "python3"
  },
  "language_info": {
   "codemirror_mode": {
    "name": "ipython",
    "version": 3
   },
   "file_extension": ".py",
   "mimetype": "text/x-python",
   "name": "python",
   "nbconvert_exporter": "python",
   "pygments_lexer": "ipython3",
   "version": "3.7.9"
  }
 },
 "nbformat": 4,
 "nbformat_minor": 4
}
