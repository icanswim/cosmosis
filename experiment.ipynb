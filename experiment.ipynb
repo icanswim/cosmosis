{
 "cells": [
  {
   "cell_type": "code",
   "execution_count": null,
   "metadata": {},
   "outputs": [],
   "source": [
    "## This is a series of examples demonstrating the use of the icanswim/cosmosis repo \n",
    "## for data science and machine learning projects.\n",
    "## This repo is intended to be used as the boiler plate for data science and machine learning projects.\n",
    "## See the icanswim/qchem repo for a demonstration of the use of this (icanswim/cosmosis) repo."
   ]
  },
  {
   "cell_type": "code",
   "execution_count": 1,
   "metadata": {},
   "outputs": [],
   "source": [
    "from model import FFNet, tv_model, IdentityModel, GPT\n",
    "from learning import Learn, Selector, Metrics\n",
    "from dataset import CDataset, SKDS, TVDS, ExampleDataset\n",
    "from dataset import ImageDatasetStats, AsTensor, SqueezeN, DType, Pad1d, EmbedLookup, Reshape\n",
    "\n",
    "from torch.optim import Adam\n",
    "from torch.nn import MSELoss, CrossEntropyLoss\n",
    "from torch.optim.lr_scheduler import ReduceLROnPlateau\n",
    "from torchvision import transforms"
   ]
  },
  {
   "cell_type": "code",
   "execution_count": 3,
   "metadata": {
    "tags": []
   },
   "outputs": [
    {
     "name": "stdout",
     "output_type": "stream",
     "text": [
      "bang\n",
      "CDataset created...\n"
     ]
    },
    {
     "data": {
      "text/plain": [
       "{'model_input': {'X': tensor([10.0400,  0.0200,  0.0300,  0.0400,  0.0500], dtype=torch.float64)},\n",
       " 'embedding_input': {'feature_3': tensor([1, 0, 0, 0, 0]),\n",
       "  'feature_4': tensor([3, 3, 4, 0, 0])},\n",
       " 'criterion_input': {'target': tensor([1.1000], dtype=torch.float64)}}"
      ]
     },
     "execution_count": 3,
     "metadata": {},
     "output_type": "execute_result"
    }
   ],
   "source": [
    "#example cosmosis dataset (CDataset)\n",
    "import numpy as np\n",
    "\n",
    "class ExampleDataset(CDataset):\n",
    "    #zero is the lookup for the padding index\n",
    "    embed_lookup = {'feature_4': {'a': 1,'b': 2,'c': 3,'d': 4, '0': 0},\n",
    "                    'feature_3': {'z1': 1, 'y1': 2, 'x1': 3, '0': 0},\n",
    "                    'feature_6': {'e': 1, 'f': 2, 'g': 3, '0': 0}}\n",
    "    \n",
    "    def load_data(self, boom='bust'):\n",
    "        \n",
    "        datadic = {1: {'feature_1': np.asarray([.04]),\n",
    "                       'feature_2': np.asarray([[.02,.03],[.04,.05]]),\n",
    "                       'feature_3': np.asarray(['z1']),\n",
    "                       'feature_4': np.asarray(['c','c','d']),\n",
    "                       'feature_5': np.asarray([1.1]),\n",
    "                       'feature_6': np.asarray(['e','f','g'])},\n",
    "                   2: {'feature_1': np.asarray([.03]),\n",
    "                       'feature_2': np.asarray([[.1,.2],[.3,.4]]),\n",
    "                       'feature_3': np.asarray(['x1','z1','y1']),\n",
    "                       'feature_4': np.asarray(['d','a','d']),\n",
    "                       'feature_5': np.asarray([1.2]),\n",
    "                       'feature_6': np.asarray(['f','f','g'])}}\n",
    "        \n",
    "        print(boom)\n",
    "        return datadic\n",
    "    \n",
    "class ExampleTransform():\n",
    "    def __init__(self, num):\n",
    "        self.num = num\n",
    "        \n",
    "    def __call__(self, arr):\n",
    "        return np.add(arr, self.num)\n",
    "\n",
    "#'embed_params': {'embed': [('feature_3',4,16,0,True,False),('feature_4',5,16,0,True,False)]}\n",
    "# ds_params = {dataset_manager_keys: {dataset_keys: {learner_keys: {module_keys: dataset_keys))))\n",
    "# ds_params = {'train_params': {'input_dict': {'model_input' {'X': ['feature_1','feature_5']}}}}\n",
    "\n",
    "lookup_feature_3 = ExampleDataset.embed_lookup['feature_3']\n",
    "lookup_feature_4 = ExampleDataset.embed_lookup['feature_4']\n",
    "lookup_feature_6 = ExampleDataset.embed_lookup['feature_6']\n",
    "ds_params = {'train_params': {'input_dict': {'model_input': {'X': ['feature_1','feature_2']},\n",
    "                                             'embedding_input': {'feature_3': ['feature_3'],\n",
    "                                                                 'feature_4': ['feature_4']},\n",
    "                                             'criterion_input': {'target': ['feature_5']}},\n",
    "                              'transforms': {'feature_1': [ExampleTransform(10), AsTensor()],\n",
    "                                             'feature_2': [Reshape(-1), AsTensor()],\n",
    "                                             'feature_3': [Pad1d(5), EmbedLookup(lookup_feature_3), AsTensor()],\n",
    "                                             'feature_4': [Pad1d(5), EmbedLookup(lookup_feature_4), AsTensor()],\n",
    "                                             'feature_5': [AsTensor()],\n",
    "                                             'feature_6': [EmbedLookup(lookup_feature_6), AsTensor()]},\n",
    "                              'boom': 'bang'}}\n",
    "    \n",
    "d = ExampleDataset(**ds_params['train_params'])\n",
    "d[1]"
   ]
  },
  {
   "cell_type": "code",
   "execution_count": 4,
   "metadata": {},
   "outputs": [
    {
     "name": "stdout",
     "output_type": "stream",
     "text": [
      "CModel loaded...\n",
      "IdentityModel(\n",
      "  (layers): ModuleList(\n",
      "    (0): Identity()\n",
      "  )\n",
      ")\n",
      "{'feature_3': Embedding(4, 8, padding_idx=0), 'feature_4': Embedding(5, 8, padding_idx=0)}\n"
     ]
    }
   ],
   "source": [
    "model_params = {'device': 'cpu',\n",
    "                'embed_params': {'embed': [('feature_3',4,8,0,False,True),('feature_4',5,8,0,False,True)]}}\n",
    "m = IdentityModel(model_params)\n",
    "print(m)\n",
    "print(m.embeddings)"
   ]
  },
  {
   "cell_type": "code",
   "execution_count": 5,
   "metadata": {},
   "outputs": [
    {
     "name": "stdout",
     "output_type": "stream",
     "text": [
      "tensor([10.0400,  0.0200,  0.0300,  0.0400,  0.0500,  1.4438,  0.8489, -2.0399,\n",
      "         0.3103, -1.6343, -1.0394, -1.1311, -1.3200,  0.0000,  0.0000,  0.0000,\n",
      "         0.0000,  0.0000,  0.0000,  0.0000,  0.0000,  0.0000,  0.0000,  0.0000,\n",
      "         0.0000,  0.0000,  0.0000,  0.0000,  0.0000,  0.0000,  0.0000,  0.0000,\n",
      "         0.0000,  0.0000,  0.0000,  0.0000,  0.0000,  0.0000,  0.0000,  0.0000,\n",
      "         0.0000,  0.0000,  0.0000,  0.0000,  0.0000,  0.5967, -1.0174, -1.7063,\n",
      "        -1.3047, -0.2403, -0.0388,  0.1125, -0.0921,  0.5967, -1.0174, -1.7063,\n",
      "        -1.3047, -0.2403, -0.0388,  0.1125, -0.0921,  2.4853,  0.2394, -0.2421,\n",
      "        -0.3170,  0.9553, -1.7881, -1.7781, -0.0765,  0.0000,  0.0000,  0.0000,\n",
      "         0.0000,  0.0000,  0.0000,  0.0000,  0.0000,  0.0000,  0.0000,  0.0000,\n",
      "         0.0000,  0.0000,  0.0000,  0.0000,  0.0000], dtype=torch.float64)\n",
      "torch.Size([85])\n"
     ]
    }
   ],
   "source": [
    "y = m(d[1])\n",
    "print(y)\n",
    "print(y.shape)"
   ]
  },
  {
   "cell_type": "code",
   "execution_count": 7,
   "metadata": {},
   "outputs": [
    {
     "name": "stdout",
     "output_type": "stream",
     "text": [
      "bang\n",
      "CDataset created...\n",
      "CModel loaded...\n",
      "GPT(\n",
      "  (layers): ModuleList(\n",
      "    (0): TransformerDecoder(\n",
      "      (layers): ModuleList(\n",
      "        (0-1): 2 x TransformerDecoderLayer(\n",
      "          (self_attn): MultiheadAttention(\n",
      "            (out_proj): NonDynamicallyQuantizableLinear(in_features=16, out_features=16, bias=True)\n",
      "          )\n",
      "          (multihead_attn): MultiheadAttention(\n",
      "            (out_proj): NonDynamicallyQuantizableLinear(in_features=16, out_features=16, bias=True)\n",
      "          )\n",
      "          (linear1): Linear(in_features=16, out_features=2048, bias=True)\n",
      "          (dropout): Dropout(p=0.1, inplace=False)\n",
      "          (linear2): Linear(in_features=2048, out_features=16, bias=True)\n",
      "          (norm1): LayerNorm((16,), eps=1e-05, elementwise_affine=True)\n",
      "          (norm2): LayerNorm((16,), eps=1e-05, elementwise_affine=True)\n",
      "          (norm3): LayerNorm((16,), eps=1e-05, elementwise_affine=True)\n",
      "          (dropout1): Dropout(p=0.1, inplace=False)\n",
      "          (dropout2): Dropout(p=0.1, inplace=False)\n",
      "          (dropout3): Dropout(p=0.1, inplace=False)\n",
      "        )\n",
      "      )\n",
      "    )\n",
      "  )\n",
      ")\n",
      "{'feature_3': Embedding(4, 16, padding_idx=0)}\n",
      "tensor([[-1.0081e+00, -8.1990e-01, -2.0790e+00,  4.1607e-01,  1.0500e+00,\n",
      "          6.7997e-01,  1.1197e+00, -1.7154e-01, -7.0938e-01,  5.6083e-01,\n",
      "          4.2231e-01,  1.0428e+00, -1.8387e+00,  1.2174e+00, -2.5026e-02,\n",
      "          1.4253e-01],\n",
      "        [ 2.5757e-01,  1.1066e+00, -1.5958e-02, -1.6929e-01, -1.5197e+00,\n",
      "          1.6377e+00,  1.1116e+00, -1.2452e+00, -1.4210e+00,  4.6590e-01,\n",
      "         -4.4218e-01, -2.2454e-01, -1.1590e+00,  1.3607e+00,  9.0055e-01,\n",
      "         -6.4372e-01],\n",
      "        [ 2.6472e-01,  1.3939e+00,  6.7391e-02, -1.1680e-03, -7.3251e-01,\n",
      "          1.8258e+00,  9.7385e-01,  3.9806e-01, -1.6861e+00, -1.5948e+00,\n",
      "         -4.1643e-01, -3.7158e-01, -1.2327e+00,  6.5905e-01,  1.0172e+00,\n",
      "         -5.6476e-01],\n",
      "        [ 6.1421e-01,  7.4049e-01, -2.9645e-01,  1.7538e-01, -2.9033e+00,\n",
      "          1.8507e-01,  1.4846e+00, -9.1551e-01, -8.1134e-01,  6.2295e-01,\n",
      "         -3.0134e-01, -8.0144e-01,  2.3944e-03,  7.6321e-01,  8.7857e-01,\n",
      "          5.6241e-01],\n",
      "        [ 9.0474e-02, -1.9174e-01,  6.8970e-01,  6.6786e-02,  8.3633e-01,\n",
      "          2.1665e+00, -1.1764e+00,  8.1678e-01, -8.0048e-01, -1.1656e+00,\n",
      "         -8.4821e-01,  6.1936e-01, -1.0842e+00,  9.2198e-01,  6.3837e-01,\n",
      "         -1.5796e+00],\n",
      "        [ 1.4116e-02,  1.0526e+00,  3.1959e-01, -5.0663e-01, -1.0922e+00,\n",
      "          1.3703e+00,  5.6255e-01,  6.0192e-02, -1.4629e+00,  4.7724e-01,\n",
      "         -1.9256e-01, -3.8501e-01, -1.2446e+00,  1.4462e+00,  1.3495e+00,\n",
      "         -1.7685e+00],\n",
      "        [ 2.3628e-01,  5.2840e-02,  4.7247e-01, -3.1310e-01, -1.1253e+00,\n",
      "          1.5959e+00, -4.5757e-02,  6.9214e-01, -1.5423e+00,  3.6460e-01,\n",
      "         -2.2054e-01,  1.9444e-02, -1.1463e+00,  1.1718e+00,  1.6339e+00,\n",
      "         -1.8461e+00],\n",
      "        [ 4.6506e-01,  1.3261e+00,  4.9564e-01, -4.0193e-01, -9.4172e-01,\n",
      "          1.4916e+00,  6.4899e-01, -1.4605e-01, -1.5384e+00,  2.0792e-01,\n",
      "         -3.0942e-02, -5.8625e-01, -1.0569e+00,  8.9410e-01,  1.1755e+00,\n",
      "         -2.0027e+00],\n",
      "        [-1.2108e+00,  1.3538e+00,  2.9176e-01, -8.3510e-01, -4.5913e-01,\n",
      "          1.6952e+00, -7.5347e-01,  8.5151e-01, -1.0213e+00,  1.3174e+00,\n",
      "          6.4528e-01, -2.5745e-01, -1.0221e+00,  1.1521e+00, -4.3748e-01,\n",
      "         -1.3102e+00],\n",
      "        [-3.7203e-01, -3.5383e-01,  4.6261e-01, -1.1099e+00, -2.3154e-01,\n",
      "          1.7055e+00,  9.0590e-02,  6.3287e-01, -1.1456e+00,  3.4199e-01,\n",
      "         -3.0146e-01,  2.3179e-01, -1.0857e+00,  1.6217e+00,  1.4024e+00,\n",
      "         -1.8894e+00],\n",
      "        [ 2.2123e-02,  1.2054e+00,  2.9125e-01, -5.4615e-01, -6.3942e-01,\n",
      "          2.0072e+00,  6.1886e-01,  3.6659e-01, -1.4946e+00,  4.2202e-01,\n",
      "          3.2084e-01,  5.2094e-02, -1.5938e+00, -2.8092e-01,  1.0007e+00,\n",
      "         -1.7521e+00],\n",
      "        [-2.0884e-01,  1.0656e+00,  8.5098e-01, -5.5276e-01, -5.6277e-01,\n",
      "          1.9817e+00,  2.4714e-01,  9.0688e-01, -1.0778e+00,  5.5053e-01,\n",
      "          5.1522e-02, -2.2049e-01, -1.5934e+00, -2.4830e-01,  7.9036e-01,\n",
      "         -1.9804e+00]], grad_fn=<NativeLayerNormBackward0>)\n",
      "torch.Size([12, 16])\n"
     ]
    }
   ],
   "source": [
    "#example cosmosis dataset (CDataset)\n",
    "\n",
    "#'embed_params': {'embed': [('feature_3',4,16,0,True),('feature_4',5,16,0,True)],\n",
    "#                 'embed2': [('feature_6',4,8,0,True)],\n",
    "#                 'flatten_embed': True}\n",
    "\n",
    "\n",
    "lookup_feature_3 = ExampleDataset.embed_lookup['feature_3']\n",
    "lookup_feature_4 = ExampleDataset.embed_lookup['feature_4']\n",
    "lookup_feature_6 = ExampleDataset.embed_lookup['feature_6']\n",
    "ds_params = {'train_params': {'input_dict': {'model_input': {},\n",
    "                                             'embedding_input': {'feature_3': ['feature_3']},\n",
    "                                             'criterion_input': {'target': ['feature_5']}},\n",
    "                              'transforms': {'feature_3': [Pad1d(12), EmbedLookup(lookup_feature_3), AsTensor()],\n",
    "                                             'feature_5': [AsTensor()]},\n",
    "                              'boom': 'bang'}}\n",
    "    \n",
    "ed = ExampleDataset(**ds_params['train_params'])\n",
    "ed[1]\n",
    "\n",
    "model_params = {'device': 'cpu',\n",
    "                'd_model': 16, # matches embedding dimension\n",
    "                'nhead': 4, \n",
    "                'num_layers': 2,\n",
    "                'dim_feedforward': 128,\n",
    "                'embed_params': {'embed': [('feature_3',4,16,0,True,False)]}} # matches d_model dimension\n",
    "                                 \n",
    "\n",
    "gpt = GPT(model_params)\n",
    "print(gpt)\n",
    "print(gpt.embeddings)\n",
    "y = gpt(ed[1])\n",
    "print(y)\n",
    "print(y.shape)\n"
   ]
  },
  {
   "cell_type": "code",
   "execution_count": 6,
   "metadata": {
    "tags": []
   },
   "outputs": [
    {
     "name": "stdout",
     "output_type": "stream",
     "text": [
      "creating scikit learn make_regression dataset...\n",
      "CDataset created...\n"
     ]
    },
    {
     "data": {
      "text/plain": [
       "{'model_input': {'features': array([-0.18283719, -1.9093667 , -0.403545  ,  0.4101531 ,  0.4615606 ],\n",
       "        dtype=float32)},\n",
       " 'criterion_input': {'target': array([-40.253674], dtype=float32)}}"
      ]
     },
     "execution_count": 6,
     "metadata": {},
     "output_type": "execute_result"
    }
   ],
   "source": [
    "#example cosmosis sklearn regression dataset wrapper (SKDS)\n",
    "ds_params = {'train_params': {'input_dict': {'model_input': {'features': ['X']},\n",
    "                                             'criterion_input': {'target': ['y']}},\n",
    "                              'dataset': 'make_regression',\n",
    "                              'sk_params': {'n_samples': 100,\n",
    "                                            'n_features': 5},\n",
    "                              'features_dtype': 'float32',\n",
    "                              'targets_dtype': 'float32'}}\n",
    "\n",
    "sk = SKDS(**ds_params['train_params'])\n",
    "\n",
    "sk[1]"
   ]
  },
  {
   "cell_type": "code",
   "execution_count": null,
   "metadata": {},
   "outputs": [],
   "source": []
  },
  {
   "cell_type": "code",
   "execution_count": 6,
   "metadata": {
    "tags": []
   },
   "outputs": [
    {
     "name": "stdout",
     "output_type": "stream",
     "text": [
      "creating scikit learn make_classification dataset...\n",
      "CDataset created...\n"
     ]
    },
    {
     "data": {
      "text/plain": [
       "array([2])"
      ]
     },
     "execution_count": 6,
     "metadata": {},
     "output_type": "execute_result"
    }
   ],
   "source": [
    "#example cosmosis sklearn classification dataset wrapper (SKDS)\n",
    "ds_params = {'train_params': {'input_dict': {'model_input': {'X': ['X']},\n",
    "                                             'criterion_input': {'target': ['y']}},\n",
    "                              'features_dtype': 'float32',\n",
    "                              'targets_dtype': 'int64',\n",
    "                              'transforms': {'y': [],\n",
    "                                             'X': [AsTensor()]},\n",
    "                              'dataset': 'make_classification',\n",
    "                              'sk_params': {'n_samples': 1000,\n",
    "                                            'n_features': 30,\n",
    "                                            'n_informative': 20,\n",
    "                                            'n_clusters_per_class': 3,\n",
    "                                            'flip_y': 0.05,\n",
    "                                            'class_sep': 0.1,\n",
    "                                            'n_classes': 4}}}\n",
    "\n",
    "sk = SKDS(**ds_params['train_params'])\n",
    "\n",
    "sk[1]['criterion_input']['target']"
   ]
  },
  {
   "cell_type": "code",
   "execution_count": 5,
   "metadata": {
    "tags": []
   },
   "outputs": [
    {
     "name": "stdout",
     "output_type": "stream",
     "text": [
      "creating torch vision MNIST dataset...\n",
      "CDataset created...\n"
     ]
    },
    {
     "data": {
      "text/plain": [
       "{'model_input': {'image': <PIL.Image.Image image mode=L size=224x224>},\n",
       " 'criterion_input': {'target': 0}}"
      ]
     },
     "execution_count": 5,
     "metadata": {},
     "output_type": "execute_result"
    }
   ],
   "source": [
    "#example cosmosis torchvision image dataset wrapper (TVDS)\n",
    "ds_params={'dataset': 'MNIST',\n",
    "           'input_dict': {'model_input': {'features': ['images'],},\n",
    "                          'criterion_input': {'target': ['labels']}},\n",
    "           'tv_params': {'root': './data/',\n",
    "                         'train': True,\n",
    "                         'download': True,\n",
    "                         'transform': transforms.Compose([\n",
    "                                           transforms.Resize(224)]),\n",
    "                         'target_transform': None}}\n",
    "\n",
    "tvds = TVDS(**ds_params)\n",
    "tvds[1]"
   ]
  },
  {
   "cell_type": "code",
   "execution_count": 6,
   "metadata": {
    "tags": []
   },
   "outputs": [
    {
     "name": "stdout",
     "output_type": "stream",
     "text": [
      "creating torch vision MNIST dataset...\n",
      "CDataset created...\n",
      "images to process: 60000\n",
      "images processed: 10000\n",
      "images processed: 20000\n",
      "images processed: 30000\n",
      "images processed: 40000\n",
      "images processed: 50000\n",
      "images processed: 60000\n",
      "mean: [33.33091590401786], stddev: [73.70246726596685]\n",
      "mean:  [33.33091590401786]\n",
      "stddev:  [73.70246726596685]\n"
     ]
    }
   ],
   "source": [
    "#example cosmosis torchvision image dataset wrapper (TVDS) with transforms and PIL stats\n",
    "ds_params={'dataset': 'MNIST',\n",
    "           'tv_params': {'root': './data/',\n",
    "                         'train': True,\n",
    "                         'download': True,\n",
    "                         'transform': transforms.Compose([\n",
    "                                           transforms.Resize(224)]),\n",
    "                         'target_transform': None}}\n",
    "\n",
    "tvds = TVDS(**ds_params)\n",
    "ids = ImageDatasetStats(tvds)\n",
    "\n",
    "print('mean: ', ids.stats.mean)\n",
    "print('stddev: ', ids.stats.stddev)\n",
    "\n",
    "#mean: 33.3/255 = .13\n",
    "#stddev: 73.7/255 = .29"
   ]
  },
  {
   "cell_type": "code",
   "execution_count": 3,
   "metadata": {
    "tags": []
   },
   "outputs": [
    {
     "name": "stdout",
     "output_type": "stream",
     "text": [
      "creating scikit learn make_regression dataset...\n",
      "CDataset created...\n",
      "FFNet model loaded...\n",
      "CModel loaded...\n",
      "running model on gpu...\n",
      "learning time: 0:00:01.056730\n",
      "epoch: 0, lr: 0.01\n",
      "train loss: 545636.6221064815, val loss: 387520.0028409091\n",
      "learning time: 0:00:06.860692\n",
      "epoch: 10, lr: 0.01\n",
      "train loss: 9957.25109411169, val loss: 6740.813432173295\n",
      "learning time: 0:00:11.418071\n",
      "epoch: 18, lr: 0.0025\n",
      "train loss: 9898.928833007812, val loss: 7151.990900213068\n",
      "early stopping!  learning rate is below the set minimum...\n",
      "test loss: 9821.76571377841\n",
      "learning time: 0:00:11.603111\n"
     ]
    },
    {
     "data": {
      "image/png": "[encoded data removed]",
      "text/plain": [
       "<Figure size 640x480 with 1 Axes>"
      ]
     },
     "metadata": {},
     "output_type": "display_data"
    }
   ],
   "source": [
    "#example cosmosis sklearn regression dataset wrapper (SKDS) with sklearn metrics (Metrics) and \n",
    "#custom model (FFNet)\n",
    "model_params = {'in_channels': 256, \n",
    "                'hidden': 512, \n",
    "                'out_channels': 1, \n",
    "                'model_name': 'funnel'}\n",
    "\n",
    "ds_params = {'train_params': {'input_dict': {'model_input': {'X': ['X']},\n",
    "                                             'criterion_input': {'target': ['y']}},\n",
    "                              'features_dtype': 'float32',\n",
    "                              'targets_dtype': 'float32',\n",
    "                              'dataset': 'make_regression',\n",
    "                              'sk_params': {'n_samples':20000,\n",
    "                                            'n_features': 256,\n",
    "                                            'n_informative': 200}}}\n",
    "             \n",
    "metrics_params = {'report_interval': 10,\n",
    "                  'log_plot': True,\n",
    "                  'min_lr': .005} #break if learning rate falls below                        \n",
    "             \n",
    "opt_params = {'lr': 0.01}\n",
    "\n",
    "crit_params = {'reduction': 'sum'}\n",
    "\n",
    "sample_params = {'set_seed': 88,\n",
    "                 'splits': (.7,.15)}\n",
    "\n",
    "sched_params = {'factor': .5, \n",
    "                'patience': 2,\n",
    "                'cooldown': 2}\n",
    "\n",
    "l = Learn([SKDS], \n",
    "          FFNet,\n",
    "          Metrics=Metrics,\n",
    "          Sampler=Selector, \n",
    "          Optimizer=Adam, \n",
    "          Scheduler=ReduceLROnPlateau, \n",
    "          Criterion=MSELoss,\n",
    "          model_params=model_params, ds_params=ds_params, sample_params=sample_params,\n",
    "          opt_params=opt_params, sched_params=sched_params, crit_params=crit_params,\n",
    "          metrics_params=metrics_params, \n",
    "          batch_size=256, epochs=40, gpu=True)"
   ]
  },
  {
   "cell_type": "code",
   "execution_count": 8,
   "metadata": {
    "tags": []
   },
   "outputs": [
    {
     "name": "stdout",
     "output_type": "stream",
     "text": [
      "creating scikit learn make_classification dataset...\n",
      "CDataset created...\n",
      "FFNet model loaded...\n",
      "CModel loaded...\n",
      "running model on gpu...\n",
      "learning time: 0:00:04.064586\n",
      "epoch: 0, lr: 0.01\n",
      "train loss: 0.010652886867359445, val loss: 0.010471147739798086\n",
      "sklearn train metric: 0.5708200360849429, sklearn validation metric: 0.6093094567383296\n",
      "learning time: 0:00:24.740527\n",
      "epoch: 5, lr: 0.01\n",
      "train loss: 0.009521036333789973, val loss: 0.009638075366552569\n",
      "sklearn train metric: 0.7342490293831634, sklearn validation metric: 0.7241203623471957\n",
      "learning time: 0:00:43.578432\n",
      "epoch: 10, lr: 0.01\n",
      "train loss: 0.008651175411697819, val loss: 0.008907659504658137\n",
      "sklearn train metric: 0.8169910867188441, sklearn validation metric: 0.7925809450802559\n",
      "learning time: 0:01:04.487510\n",
      "epoch: 15, lr: 0.01\n",
      "train loss: 0.008278318971647939, val loss: 0.008576344742447648\n",
      "sklearn train metric: 0.8480534789222101, sklearn validation metric: 0.8209933567484783\n",
      "test loss: 0.008440470223466301\n",
      "learning time: 0:01:20.797035\n",
      "sklearn test metric: \n",
      "0.8314782262639118 \n",
      "\n"
     ]
    },
    {
     "data": {
      "image/png": "[encoded data removed]",
      "text/plain": [
       "<Figure size 640x480 with 1 Axes>"
      ]
     },
     "metadata": {},
     "output_type": "display_data"
    }
   ],
   "source": [
    "#example cosmosis sklearn classification dataset wrapper (SKDS) with sklearn metrics (Metrics) and \n",
    "#custom model (FFNet)\n",
    "model_params = {'in_channels': 256, \n",
    "                'hidden': 128, \n",
    "                'out_channels': 4,\n",
    "                'softmax': 'softmax',\n",
    "                'model_name': 'funnel'}\n",
    "\n",
    "ds_params = {'train_params': {'input_dict': {'model_input': {'X': ['X']},\n",
    "                                             'criterion_input': {'target': ['y']}},\n",
    "                              'features_dtype': 'float32',\n",
    "                              'targets_dtype': 'int64',\n",
    "                              'transforms': {'y': [SqueezeN()],\n",
    "                                             'X': []},\n",
    "                              'dataset': 'make_classification',\n",
    "                              'sk_params': {'n_samples': 100000,\n",
    "                                            'n_features': 300,\n",
    "                                            'n_informative': 200,\n",
    "                                            'n_redundant': 5,\n",
    "                                            'n_repeated': 5,\n",
    "                                            'n_clusters_per_class': 5,\n",
    "                                            'flip_y': 0.05,\n",
    "                                            'class_sep': 0.05,\n",
    "                                            'n_classes': 4}}}\n",
    "                                     \n",
    "metrics_params = {'report_interval': 20,\n",
    "                  'log_plot': False,\n",
    "                  'sk_metric_name': 'roc_auc_score',\n",
    "                  'sk_params': {'average': 'macro',\n",
    "                                'multi_class': 'ovr'}}\n",
    "\n",
    "opt_params = {'lr': 0.01}\n",
    "\n",
    "crit_params = {}\n",
    "\n",
    "sample_params = {'set_seed': 88,\n",
    "                 'splits': (.7,.15)}\n",
    "\n",
    "sched_params = {'factor': .5,\n",
    "                'patience': 2,\n",
    "                'cooldown': 1}\n",
    "\n",
    "l = Learn([SKDS], \n",
    "          FFNet, \n",
    "          Sampler=Selector,\n",
    "          Metrics=Metrics,\n",
    "          Optimizer=Adam, \n",
    "          Scheduler=ReduceLROnPlateau, \n",
    "          Criterion=CrossEntropyLoss,\n",
    "          model_params=model_params, ds_params=ds_params, \n",
    "          sample_params=sample_params, opt_params=opt_params, \n",
    "          sched_params=sched_params, crit_params=crit_params,\n",
    "          metrics_params=metrics_params,\n",
    "          adapt=(300,256,.2), \n",
    "          squeeze_y_pred=False, batch_size=128, epochs=20, \n",
    "          save_model='demo_model')"
   ]
  },
  {
   "cell_type": "code",
   "execution_count": 9,
   "metadata": {
    "tags": []
   },
   "outputs": [
    {
     "name": "stdout",
     "output_type": "stream",
     "text": [
      "creating scikit learn make_classification dataset...\n",
      "CDataset created...\n",
      "FFNet model loaded...\n",
      "CModel loaded...\n",
      "model loaded from pickle...\n",
      "running model on gpu...\n",
      "inference 2024-01-30 09:59:18.959869 complete and saved to csv...\n"
     ]
    }
   ],
   "source": [
    "#example inference with cosmosis sklearn classification dataset wrapper (SKDS) and custom model (FFNet)\n",
    "model_params = {'in_channels': 256, \n",
    "                'hidden': 128, \n",
    "                'out_channels': 4, \n",
    "                'model_name': 'funnel'}\n",
    "\n",
    "ds_params = {'train_params': {'input_dict': {'model_input': {'X': ['X']},\n",
    "                                             'criterion_input': {'target': ['y']}},\n",
    "                              'features_dtype': 'float32',\n",
    "                              'targets_dtype': 'int64',\n",
    "                              'dataset': 'make_classification',\n",
    "                              'sk_params': {'n_samples': 10000,\n",
    "                                            'n_features': 300,\n",
    "                                            'n_informative': 200,\n",
    "                                            'n_clusters_per_class': 3,\n",
    "                                            'flip_y': 0.05,\n",
    "                                            'class_sep': 0.1,\n",
    "                                            'n_classes': 4}}}\n",
    "                                     \n",
    "\n",
    "metrics_params = {}\n",
    "opt_params = {}\n",
    "sample_params = {}\n",
    "sched_params = {}\n",
    "\n",
    "l = Learn([SKDS], \n",
    "          FFNet, \n",
    "          Sampler=Selector,\n",
    "          Metrics=Metrics,\n",
    "          Optimizer=Adam, \n",
    "          Scheduler=ReduceLROnPlateau, \n",
    "          Criterion=None,\n",
    "          model_params=model_params, ds_params=ds_params, \n",
    "          sample_params=sample_params, opt_params=opt_params, \n",
    "          sched_params=sched_params, crit_params=crit_params,\n",
    "          metrics_params=metrics_params,\n",
    "          batch_size=128, epochs=1, load_model='demo_model.pth')"
   ]
  },
  {
   "cell_type": "code",
   "execution_count": 10,
   "metadata": {
    "tags": []
   },
   "outputs": [
    {
     "name": "stdout",
     "output_type": "stream",
     "text": [
      "creating torch vision CIFAR10 dataset...\n",
      "Downloading https://www.cs.toronto.edu/~kriz/cifar-10-python.tar.gz to ./data/cifar-10-python.tar.gz\n"
     ]
    },
    {
     "name": "stderr",
     "output_type": "stream",
     "text": [
      "100.0%\n"
     ]
    },
    {
     "name": "stdout",
     "output_type": "stream",
     "text": [
      "Extracting ./data/cifar-10-python.tar.gz to ./data/\n",
      "CDataset created...\n",
      "creating torch vision CIFAR10 dataset...\n",
      "Files already downloaded and verified\n",
      "CDataset created...\n",
      "torchvision model resnet18 loaded...\n",
      "running model on gpu...\n",
      "learning time: 0:00:04.738559\n",
      "epoch: 0, lr: 0.01\n",
      "train loss: 2.311521966934204, val loss: 1.9930767320817517\n",
      "sklearn train metric: 0.6471858728271811, sklearn validation metric: 0.7425938382662041\n",
      "learning time: 0:00:17.059567\n",
      "epoch: 3, lr: 0.01\n",
      "train loss: 1.702039137840271, val loss: 1.710098672297693\n",
      "sklearn train metric: 0.8221158152875127, sklearn validation metric: 0.8298716193539803\n",
      "learning time: 0:00:29.831797\n",
      "epoch: 6, lr: 0.01\n",
      "train loss: 1.4666910207271575, val loss: 1.4823509983478054\n",
      "sklearn train metric: 0.8692649425362153, sklearn validation metric: 0.8689450360899584\n",
      "learning time: 0:00:42.616418\n",
      "epoch: 9, lr: 0.01\n",
      "train loss: 1.278647863149643, val loss: 1.427007910705382\n",
      "sklearn train metric: 0.90150134955471, sklearn validation metric: 0.8871799954716068\n",
      "test loss: 1.4704114758491516\n",
      "learning time: 0:00:45.812563\n",
      "sklearn test metric: \n",
      "0.8792971611111111 \n",
      "\n"
     ]
    },
    {
     "data": {
      "image/png": "[encoded data removed]",
      "text/plain": [
       "<Figure size 640x480 with 1 Axes>"
      ]
     },
     "metadata": {},
     "output_type": "display_data"
    }
   ],
   "source": [
    "#example cosmosis torchvision image dataset wrapper (TVDS) with transforms and \n",
    "#torchvision model wrapper (tv_model)\n",
    "model_params = {'model_name': 'resnet18',\n",
    "                'in_channels': 3,\n",
    "                'tv_params': {'num_classes': 10}}\n",
    "\n",
    "ds_params={'train_params': {'dataset': 'CIFAR10',\n",
    "                            'tv_params': {'root': './data/',\n",
    "                                          'train': True,\n",
    "                                          'download': True,\n",
    "                                          'transform': transforms.Compose([\n",
    "                                                           transforms.RandomRotation(10),\n",
    "                                                           transforms.Resize(64),\n",
    "                                                           transforms.ToTensor()]),\n",
    "                                          'target_transform': None,\n",
    "                                          'download': True}},\n",
    "           'test_params': {'dataset': 'CIFAR10',\n",
    "                           'tv_params': {'root': './data/',\n",
    "                                         'train': False,\n",
    "                                         'download': True,\n",
    "                                         'transform': transforms.Compose([\n",
    "                                                         transforms.Resize(64),\n",
    "                                                         transforms.ToTensor()]),\n",
    "                                         'target_transform': None,\n",
    "                                         'download': True}}}\n",
    "\n",
    "metrics_params = {'report_interval': 10, \n",
    "                  'sk_metric_name': 'roc_auc_score', \n",
    "                  'sk_params': {'average': 'macro',\n",
    "                                'multi_class': 'ovr'}}\n",
    "\n",
    "opt_params = {'lr': 0.01}\n",
    "\n",
    "crit_params = {'reduction': 'sum'}\n",
    "\n",
    "sample_params = {'set_seed': 88,\n",
    "                 'splits': (.8,),\n",
    "                 'subset': .1}\n",
    "\n",
    "sched_params = {'factor': .5,\n",
    "                'patience': 1,\n",
    "                'cooldown': 1}\n",
    "\n",
    "l = Learn([TVDS,TVDS], \n",
    "          tv_model, \n",
    "          Selector, \n",
    "          Optimizer=Adam, Scheduler=ReduceLROnPlateau, Criterion=CrossEntropyLoss, \n",
    "          model_params=model_params, ds_params=ds_params, sample_params=sample_params, \n",
    "          opt_params=opt_params, sched_params=sched_params, crit_params=crit_params,\n",
    "          metrics_params=metrics_params, \n",
    "          batch_size=16, epochs=10)"
   ]
  },
  {
   "cell_type": "code",
   "execution_count": 2,
   "metadata": {
    "tags": []
   },
   "outputs": [
    {
     "name": "stdout",
     "output_type": "stream",
     "text": [
      "creating torch vision CIFAR10 dataset...\n",
      "CDataset created...\n",
      "creating torch vision CIFAR10 dataset...\n",
      "CDataset created...\n",
      "torchvision model resnext50_32x4d loaded...\n",
      "running model on gpu...\n",
      "learning time: 0:00:56.040228\n",
      "epoch: 0, lr: 0.01\n",
      "train loss: 2.633864553928375, val loss: 2.1059755163808025\n",
      "sklearn train metric: 0.5545010105221794, sklearn validation metric: 0.6861537506554425\n",
      "learning time: 0:01:51.703332\n",
      "epoch: 1, lr: 0.01\n",
      "train loss: 2.0997875771522523, val loss: 2.0373207599886003\n",
      "sklearn train metric: 0.686515385134714, sklearn validation metric: 0.7292397250301292\n",
      "learning time: 0:02:47.610665\n",
      "epoch: 2, lr: 0.01\n",
      "train loss: 1.9969928140640258, val loss: 1.893813217839887\n",
      "sklearn train metric: 0.732374651691321, sklearn validation metric: 0.7725967229657129\n",
      "learning time: 0:03:43.715679\n",
      "epoch: 3, lr: 0.01\n",
      "train loss: 1.9165824122428894, val loss: 1.8645907525093324\n",
      "sklearn train metric: 0.7587980764476405, sklearn validation metric: 0.7886757057433087\n",
      "learning time: 0:04:40.344105\n",
      "epoch: 4, lr: 0.01\n",
      "train loss: 1.8454835996627807, val loss: 1.756668015833824\n",
      "sklearn train metric: 0.7815848057311797, sklearn validation metric: 0.819494737984353\n",
      "learning time: 0:05:36.696071\n",
      "epoch: 5, lr: 0.01\n",
      "train loss: 1.8198711361885072, val loss: 1.7637225927845124\n",
      "sklearn train metric: 0.7891659007058937, sklearn validation metric: 0.8160442289163008\n",
      "learning time: 0:06:32.905811\n",
      "epoch: 6, lr: 0.01\n",
      "train loss: 1.760915467262268, val loss: 1.7033349371725512\n",
      "sklearn train metric: 0.8073440878196472, sklearn validation metric: 0.8314579660783498\n",
      "learning time: 0:07:29.093012\n",
      "epoch: 7, lr: 0.01\n",
      "train loss: 1.7378529472351074, val loss: 1.6668287534867563\n",
      "sklearn train metric: 0.8122226383863502, sklearn validation metric: 0.8392835811758058\n",
      "learning time: 0:08:25.713576\n",
      "epoch: 8, lr: 0.01\n",
      "train loss: 1.700879819393158, val loss: 1.6352933087656576\n",
      "sklearn train metric: 0.8203198562725197, sklearn validation metric: 0.841521964921173\n",
      "learning time: 0:09:22.905647\n",
      "epoch: 9, lr: 0.01\n",
      "train loss: 1.638195658683777, val loss: 1.6083177828019666\n",
      "sklearn train metric: 0.8343650243159786, sklearn validation metric: 0.8509639560175165\n",
      "test loss: 1.629129189300537\n",
      "learning time: 0:10:03.295851\n",
      "sklearn test metric: \n",
      "0.8420154111111111 \n",
      "\n"
     ]
    },
    {
     "data": {
      "image/png": "[encoded data removed]",
      "text/plain": [
       "<Figure size 640x480 with 1 Axes>"
      ]
     },
     "metadata": {},
     "output_type": "display_data"
    }
   ],
   "source": [
    "#example cosmosis torchvision dataset wrapper (TVDS) with transforms and \n",
    "#torchvision model wrapper (tv_model)\n",
    "model_params = {'model_name': 'resnext50_32x4d',\n",
    "                'in_channels': 3,\n",
    "                'tv_params': {'num_classes': 10}}\n",
    "\n",
    "ds_params={'train_params': {'dataset': 'CIFAR10',\n",
    "                            'tv_params': {'root': './data/',\n",
    "                                          'train': True,\n",
    "                                          'transform': transforms.Compose([\n",
    "                                                       transforms.RandomRotation(10),\n",
    "                                                       transforms.Resize(256),\n",
    "                                                       transforms.ToTensor()]),\n",
    "                                          'target_transform': None}},\n",
    "           'test_params': {'dataset': 'CIFAR10',\n",
    "                           'tv_params': {'root': './data/',\n",
    "                                         'train': False,\n",
    "                                         'transform': transforms.Compose([\n",
    "                                                      transforms.Resize(256),\n",
    "                                                      transforms.ToTensor()]),\n",
    "                                         'target_transform': None}}}\n",
    "\n",
    "metrics_params = {'report_interval': 30, \n",
    "                  'sk_metric_name': 'roc_auc_score', \n",
    "                  'sk_params': {'average': 'macro',\n",
    "                                'multi_class': 'ovr'}}\n",
    "\n",
    "opt_params = {'lr': 0.01}\n",
    "\n",
    "crit_params = {'reduction': 'sum'}\n",
    "\n",
    "sample_params = {'set_seed': 88,\n",
    "                 'splits': (.8,),\n",
    "                 'subset': .1}\n",
    "\n",
    "sched_params = {'factor': .5,\n",
    "                'patience': 2,\n",
    "                'cooldown': 2}\n",
    "\n",
    "l = Learn([TVDS,TVDS], \n",
    "          tv_model, \n",
    "          Selector, \n",
    "          Optimizer=Adam, \n",
    "          Scheduler=ReduceLROnPlateau, \n",
    "          Criterion=CrossEntropyLoss, \n",
    "          model_params=model_params, ds_params=ds_params, \n",
    "          sample_params=sample_params, opt_params=opt_params, \n",
    "          sched_params=sched_params, crit_params=crit_params,\n",
    "          metrics_params=metrics_params,\n",
    "          batch_size=16, epochs=10)"
   ]
  },
  {
   "cell_type": "code",
   "execution_count": null,
   "metadata": {},
   "outputs": [],
   "source": []
  }
 ],
 "metadata": {
  "kernelspec": {
   "display_name": "Python 3 (ipykernel)",
   "language": "python",
   "name": "python3"
  },
  "language_info": {
   "codemirror_mode": {
    "name": "ipython",
    "version": 3
   },
   "file_extension": ".py",
   "mimetype": "text/x-python",
   "name": "python",
   "nbconvert_exporter": "python",
   "pygments_lexer": "ipython3",
   "version": "3.11.5"
  }
 },
 "nbformat": 4,
 "nbformat_minor": 4
}
