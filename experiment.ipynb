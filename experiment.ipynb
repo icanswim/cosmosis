{
 "cells": [
  {
   "cell_type": "code",
   "execution_count": 1,
   "metadata": {},
   "outputs": [],
   "source": [
    "from model import FFNet, tv_model\n",
    "from learning import Learn, Selector\n",
    "from dataset import SKDS, TVDS, CDataset\n",
    "\n",
    "from torch.optim import Adam\n",
    "from torch.nn import MSELoss, CrossEntropyLoss\n",
    "from torch.optim.lr_scheduler import ReduceLROnPlateau\n",
    "from torchvision import transforms\n"
   ]
  },
  {
   "cell_type": "code",
   "execution_count": null,
   "metadata": {},
   "outputs": [],
   "source": [
    "import numpy as np\n",
    "\n",
    "class Dummy(CDataset):\n",
    "    \n",
    "    def load_data(self, boom='bust'):\n",
    "        data = {1: (np.asarray(10), np.asarray(100), ['apples','dogs']),\n",
    "                2: (np.asarray(20), np.asarray(200), ['oranges','cats'])}\n",
    "        print(boom)\n",
    "        return data\n",
    "    \n",
    "ds_params = {'embeds': [('fruits',2,8,False,False),('pets',2,8,False,False)],\n",
    "             'embeds_lookup': {'fruit': {'apple': 1,\n",
    "                                          'orange': 2},\n",
    "                               'pet': {'dog': 1,\n",
    "                                        'cat': 2}},\n",
    "             'boom': 'bang'}\n",
    "    \n",
    "d = Dummy(**ds_params)\n",
    "d[1]\n",
    "               "
   ]
  },
  {
   "cell_type": "code",
   "execution_count": 3,
   "metadata": {},
   "outputs": [
    {
     "name": "stdout",
     "output_type": "stream",
     "text": [
      "SKDS created...\n",
      "epoch: 0 of 100, train loss: 11141.53524215133, val loss: 1424.300732421875, lr: 0.01\n",
      "epoch: 10 of 100, train loss: 730.050306532118, val loss: 1193.8682739257813, lr: 0.01\n",
      "epoch: 20 of 100, train loss: 821.7130771213108, val loss: 989.6058227539063, lr: 0.0025\n",
      "epoch: 30 of 100, train loss: 550.1616663049768, val loss: 471.5270202636719, lr: 0.00125\n",
      "epoch: 40 of 100, train loss: 572.1510778356482, val loss: 446.19895629882814, lr: 0.000625\n",
      "epoch: 50 of 100, train loss: 503.0620343243634, val loss: 636.5560791015625, lr: 0.0003125\n",
      "epoch: 60 of 100, train loss: 517.3523390028212, val loss: 446.15562744140624, lr: 7.8125e-05\n",
      "epoch: 70 of 100, train loss: 609.1479062680845, val loss: 464.63359985351565, lr: 1.953125e-05\n",
      "epoch: 80 of 100, train loss: 564.47331294307, val loss: 444.14585571289064, lr: 9.765625e-06\n",
      "epoch: 90 of 100, train loss: 581.927235921224, val loss: 528.5395233154297, lr: 4.8828125e-06\n",
      "test loss: 627.2702433268229\n",
      "y_pred:\n",
      "tensor([[ -47.6430],\n",
      "        [-151.9827],\n",
      "        [ -79.5714],\n",
      "        [ 273.8914],\n",
      "        [ 227.2686],\n",
      "        [ -79.0650],\n",
      "        [  26.6135],\n",
      "        [ -50.8207],\n",
      "        [-154.3039],\n",
      "        [-181.9020]], device='cuda:0')\n",
      " y:\n",
      "tensor([[ -77.6082],\n",
      "        [-154.5134],\n",
      "        [ -96.8963],\n",
      "        [ 271.7759],\n",
      "        [ 215.5391],\n",
      "        [ -98.2658],\n",
      "        [  24.2272],\n",
      "        [ -60.7660],\n",
      "        [-170.9657],\n",
      "        [-170.3409]], device='cuda:0')\n"
     ]
    },
    {
     "data": {
      "image/png": "[encoded data removed]",
      "text/plain": [
       "<Figure size 432x288 with 1 Axes>"
      ]
     },
     "metadata": {
      "needs_background": "light"
     },
     "output_type": "display_data"
    },
    {
     "name": "stdout",
     "output_type": "stream",
     "text": [
      "learning time: 0:00:55.085595\n"
     ]
    }
   ],
   "source": [
    "model_params = {'D_in': 128, \n",
    "                'H': 512, \n",
    "                'D_out': 1, \n",
    "                'model_name': 'funnel'}\n",
    "\n",
    "ds_params = {'ds_params': {'embed': [],\n",
    "                           'make': 'make_regression',\n",
    "                           'transform': None,\n",
    "                           'target_transform': None,\n",
    "                           'sk_params': {'n_samples': 10000,\n",
    "                                         'n_features': 128}}}\n",
    "             \n",
    "opt_params = {'lr': 0.01}\n",
    "crit_params = {'reduction': 'sum'}\n",
    "sample_params = {'set_seed': 88,\n",
    "                 'splits': (.7,.15)}\n",
    "sched_params = {'factor': .5,\n",
    "                'patience': 5}\n",
    "\n",
    "\n",
    "l = Learn([SKDS], FFNet, Selector, Optimizer=Adam, Scheduler=ReduceLROnPlateau, Criterion=MSELoss,\n",
    "          model_params=model_params, ds_params=ds_params, sample_params=sample_params,\n",
    "          opt_params=opt_params, sched_params=sched_params, crit_params=crit_params,\n",
    "          adapt=False, load_model=False, load_embed=False, save_model=False,\n",
    "          batch_size=256, epochs=100)"
   ]
  },
  {
   "cell_type": "code",
   "execution_count": null,
   "metadata": {},
   "outputs": [],
   "source": [
    "model_params = {'model_name': 'resnet18',\n",
    "                'in_channels': 1,\n",
    "                'tv_params': {'num_classes': 10}}\n",
    "\n",
    "ds_params={'train_params': {'embed': [],\n",
    "                            'dataset': 'MNIST',\n",
    "                            'tv_params': {'root': './data/',\n",
    "                                          'train': True,\n",
    "                                          'download': True,\n",
    "                                          'transform': transforms.Compose([\n",
    "                                                           transforms.Resize(224),\n",
    "                                                           transforms.ToTensor()]),\n",
    "                                          'target_transform': None}},\n",
    "           'test_params': {'embed': [],\n",
    "                           'dataset': 'MNIST',\n",
    "                           'tv_params': {'root': './data/',\n",
    "                                         'train': False,\n",
    "                                         'download': True,\n",
    "                                         'transform': transforms.Compose([\n",
    "                                                         transforms.Resize(224),\n",
    "                                                         transforms.ToTensor()]),\n",
    "                                         'target_transform': None}}}\n",
    "        \n",
    "opt_params = {'lr': 0.01}\n",
    "crit_params = {'reduction': 'sum'}\n",
    "sample_params = {'set_seed': 88,\n",
    "                 'splits': (.8,.2)}\n",
    "sched_params = {'factor': .5,\n",
    "                'patience': 1}\n",
    "\n",
    "l = Learn([TVDS,TVDS], tv_model, Selector, \n",
    "          Optimizer=Adam, Scheduler=ReduceLROnPlateau, Criterion=CrossEntropyLoss, \n",
    "          model_params=model_params, ds_params=ds_params, sample_params=sample_params,\n",
    "          opt_params=opt_params, sched_params=sched_params, crit_params=crit_params,\n",
    "          adapt=False, load_model=False, load_embed=False, save_model=False,\n",
    "          batch_size=64, epochs=10)"
   ]
  },
  {
   "cell_type": "code",
   "execution_count": null,
   "metadata": {},
   "outputs": [],
   "source": [
    " "
   ]
  },
  {
   "cell_type": "code",
   "execution_count": null,
   "metadata": {},
   "outputs": [],
   "source": [
    "d[2]"
   ]
  },
  {
   "cell_type": "code",
   "execution_count": null,
   "metadata": {},
   "outputs": [],
   "source": []
  }
 ],
 "metadata": {
  "kernelspec": {
   "display_name": "Python 3",
   "language": "python",
   "name": "python3"
  },
  "language_info": {
   "codemirror_mode": {
    "name": "ipython",
    "version": 3
   },
   "file_extension": ".py",
   "mimetype": "text/x-python",
   "name": "python",
   "nbconvert_exporter": "python",
   "pygments_lexer": "ipython3",
   "version": "3.7.9"
  }
 },
 "nbformat": 4,
 "nbformat_minor": 4
}
