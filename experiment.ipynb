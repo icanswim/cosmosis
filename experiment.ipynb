{
 "cells": [
  {
   "cell_type": "code",
   "execution_count": null,
   "metadata": {},
   "outputs": [],
   "source": [
    "## This is a series of examples using the icanswim/cosmosis data science and machine learning repo"
   ]
  },
  {
   "cell_type": "code",
   "execution_count": 1,
   "metadata": {},
   "outputs": [],
   "source": [
    "from model import FFNet, tv_model\n",
    "from learning import Learn, Selector, Metrics\n",
    "from dataset import CDataset, SKDS, TVDS\n",
    "from dataset import ImageDatasetStats, AsTensor, Squeeze, DType\n",
    "\n",
    "from torch.optim import Adam\n",
    "from torch.nn import MSELoss, CrossEntropyLoss\n",
    "from torch.optim.lr_scheduler import ReduceLROnPlateau\n",
    "from torchvision import transforms"
   ]
  },
  {
   "cell_type": "code",
   "execution_count": 2,
   "metadata": {
    "tags": []
   },
   "outputs": [
    {
     "name": "stdout",
     "output_type": "stream",
     "text": [
      "bang\n",
      "CDataset created...\n"
     ]
    },
    {
     "data": {
      "text/plain": [
       "{'model_input': {'X1': tensor([0.2030, 0.3200, 0.2000, 0.2000, 0.2000, 0.2000], dtype=torch.float64),\n",
       "  'X2': tensor([0.3200, 0.2000, 0.2000, 0.2000, 0.2000], dtype=torch.float64),\n",
       "  'embed_idx': [array([3, 1, 2])]},\n",
       " 'criterion_input': {'y': tensor([0.0100], dtype=torch.float64),\n",
       "  'embed_idx': [array([4, 1, 4, 0, 0])]}}"
      ]
     },
     "execution_count": 2,
     "metadata": {},
     "output_type": "execute_result"
    }
   ],
   "source": [
    "## Example of generic/custom dataset and transforms\n",
    "import numpy as np\n",
    "\n",
    "class DummyDataset(CDataset):\n",
    "\n",
    "    def load_data(self, boom='bust'):\n",
    "        \n",
    "        datadic = {1: {'feature_1': np.asarray([.04]),\n",
    "                       'feature_2': np.asarray([.02]),\n",
    "                       'feature_3': np.asarray(['z1']),\n",
    "                       'feature_4': np.asarray(['c','c','d']),\n",
    "                       'feature_5': np.asarray([1.1])},\n",
    "                   2: {'feature_1': np.asarray([.03]),\n",
    "                       'feature_2': np.asarray([.01]),\n",
    "                       'feature_3': np.asarray(['x1','z1','y1']),\n",
    "                       'feature_4': np.asarray(['d','a','d']),\n",
    "                       'feature_5': np.asarray([1.2])}}\n",
    "        \n",
    "        self.embed_lookup = {'feature_4': {'a': 1,'b': 2,'c': 3,'d': 4, '0': 0},\n",
    "                             'feature_3': {'z1': 1, 'y1': 2, 'x1': 3, '0': 0}}\n",
    "        \n",
    "        print(boom)\n",
    "        return datadic\n",
    "    \n",
    "class DummyTransform():\n",
    "    def __call__(self, arr):\n",
    "        return np.add(arr, 2)\n",
    "    \n",
    "class DummyTransformTwo():\n",
    "    def __call__(self, arr):\n",
    "        return np.multiply(arr, .1)\n",
    "    \n",
    "ds_params = {'train_params': {'input_dict': {'model_input': {'X1': ['feature_1','feature_5'],\n",
    "                                                              'X2': ['feature_5'],\n",
    "                                                              'embed': ['feature_3']},\n",
    "                                             'criterion_input': {'y': ['feature_2'],\n",
    "                                                                  'embed': ['feature_4']}},\n",
    "                              'transform': [DummyTransform(), DummyTransformTwo()],\n",
    "                              'target_transform': [],\n",
    "                              'pad': (5,),\n",
    "                              'pad_feats': ['feature_5','feature_4'],\n",
    "                              'boom': 'bang'}}\n",
    "    \n",
    "d = DummyDataset(**ds_params['train_params'])\n",
    "d[2]"
   ]
  },
  {
   "cell_type": "code",
   "execution_count": 3,
   "metadata": {
    "tags": []
   },
   "outputs": [
    {
     "name": "stdout",
     "output_type": "stream",
     "text": [
      "creating scikit learn make_regression dataset...\n",
      "CDataset created...\n"
     ]
    },
    {
     "data": {
      "text/plain": [
       "{'model_input': {'features': tensor([ 0.6844, -0.1503, -0.9150,  0.4929, -0.3593])},\n",
       " 'criterion_input': {'targets': tensor([-7.8136])}}"
      ]
     },
     "execution_count": 3,
     "metadata": {},
     "output_type": "execute_result"
    }
   ],
   "source": [
    "## Example of sklearn regression dataset wrapper\n",
    "ds_params = {'train_params': {'input_dict': {'model_input': {'features': ['X']},\n",
    "                                             'criterion_input': {'targets': ['y']}},\n",
    "                              'dataset': 'make_regression',\n",
    "                              'sk_params': {'n_samples': 100,\n",
    "                                            'n_features': 5},\n",
    "                              'features_dtype': 'float32',\n",
    "                              'targets_dtype': 'float32'}}\n",
    "\n",
    "sk = SKDS(**ds_params['train_params'])\n",
    "\n",
    "sk[1]"
   ]
  },
  {
   "cell_type": "code",
   "execution_count": 4,
   "metadata": {
    "tags": []
   },
   "outputs": [
    {
     "name": "stdout",
     "output_type": "stream",
     "text": [
      "creating scikit learn make_classification dataset...\n",
      "CDataset created...\n"
     ]
    },
    {
     "data": {
      "text/plain": [
       "{'model_input': {'features': tensor([ 0.1468,  1.2831,  1.1696,  0.9298, -3.5138,  3.9206, -0.9383,  1.2230,\n",
       "          -2.4050, -2.1525])},\n",
       " 'criterion_input': {'targets': tensor([3])}}"
      ]
     },
     "execution_count": 4,
     "metadata": {},
     "output_type": "execute_result"
    }
   ],
   "source": [
    "## Example of sklearn classification dataset wrapper\n",
    "ds_params = {'train_params': {'input_dict': {'model_input': {'features': ['X']},\n",
    "                                             'criterion_input': {'targets': ['y']}},\n",
    "                              'dataset': 'make_classification',\n",
    "                              'features_dtype': 'float32',\n",
    "                              'targets_dtype': 'int64',\n",
    "                              'sk_params': {'n_samples': 100,\n",
    "                                            'n_features': 10,\n",
    "                                            'n_informative': 8,\n",
    "                                            'n_clusters_per_class': 2,\n",
    "                                            'flip_y': 0.05,\n",
    "                                            'class_sep': 0.01,\n",
    "                                            'n_classes': 4}}}\n",
    "\n",
    "sk = SKDS(**ds_params['train_params'])\n",
    "\n",
    "sk[1]"
   ]
  },
  {
   "cell_type": "code",
   "execution_count": 5,
   "metadata": {
    "tags": []
   },
   "outputs": [
    {
     "name": "stdout",
     "output_type": "stream",
     "text": [
      "creating torch vision MNIST dataset...\n",
      "CDataset created...\n"
     ]
    },
    {
     "data": {
      "text/plain": [
       "{'model_input': {'image': <PIL.Image.Image image mode=L size=224x224 at 0x7F38634C13D0>},\n",
       " 'criterion_input': {'target': 0}}"
      ]
     },
     "execution_count": 5,
     "metadata": {},
     "output_type": "execute_result"
    }
   ],
   "source": [
    "## Example of torchvision wrapper\n",
    "ds_params={'dataset': 'MNIST',\n",
    "           'input_dict': {'model_input': {'features': ['images'],},\n",
    "                          'criterion_input': {'targets': ['labels']}},\n",
    "           'tv_params': {'root': './data/',\n",
    "                         'train': True,\n",
    "                         'download': True,\n",
    "                         'transform': transforms.Compose([\n",
    "                                           transforms.Resize(224)]),\n",
    "                         'target_transform': None}}\n",
    "\n",
    "tvds = TVDS(**ds_params)\n",
    "tvds[1]"
   ]
  },
  {
   "cell_type": "code",
   "execution_count": 6,
   "metadata": {
    "tags": []
   },
   "outputs": [
    {
     "name": "stdout",
     "output_type": "stream",
     "text": [
      "creating torch vision MNIST dataset...\n",
      "CDataset created...\n",
      "images to process: 60000\n",
      "images processed: 10000\n",
      "images processed: 20000\n",
      "images processed: 30000\n",
      "images processed: 40000\n",
      "images processed: 50000\n",
      "images processed: 60000\n",
      "mean: [33.33091590401786], stddev: [73.70246726596685]\n",
      "mean:  [33.33091590401786]\n",
      "stddev:  [73.70246726596685]\n"
     ]
    }
   ],
   "source": [
    "## Example of torchvision dataset wrapper with PIL transform\n",
    "ds_params={'dataset': 'MNIST',\n",
    "           'tv_params': {'root': './data/',\n",
    "                         'train': True,\n",
    "                         'download': True,\n",
    "                         'transform': transforms.Compose([\n",
    "                                           transforms.Resize(224)]),\n",
    "                         'target_transform': None}}\n",
    "\n",
    "tvds = TVDS(**ds_params)\n",
    "ids = ImageDatasetStats(tvds)\n",
    "\n",
    "print('mean: ', ids.stats.mean)\n",
    "print('stddev: ', ids.stats.stddev)\n",
    "\n",
    "#mean: 33.3/255 = .13\n",
    "#stddev: 73.7/255 = .29"
   ]
  },
  {
   "cell_type": "code",
   "execution_count": 7,
   "metadata": {
    "tags": []
   },
   "outputs": [
    {
     "name": "stdout",
     "output_type": "stream",
     "text": [
      "creating scikit learn make_regression dataset...\n",
      "CDataset created...\n",
      "FFNet model loaded...\n",
      "CModel loaded...\n",
      "running model on gpu...\n",
      "learning time: 0:00:03.925580\n",
      "epoch: 0, lr: 0.01\n",
      "train loss: 577970.7453703703, val loss: 443071.84375\n",
      "test loss: 11108.639825994318\n",
      "learning time: 0:00:10.234196\n"
     ]
    },
    {
     "data": {
      "image/png": "[encoded data removed]",
      "text/plain": [
       "<Figure size 432x288 with 1 Axes>"
      ]
     },
     "metadata": {
      "needs_background": "light"
     },
     "output_type": "display_data"
    }
   ],
   "source": [
    "## Example sklearn regression dataset wrapper with custom model\n",
    "model_params = {'D_in': 256, \n",
    "                'H': 512, \n",
    "                'D_out': 1, \n",
    "                'model_name': 'funnel'}\n",
    "\n",
    "ds_params = {'train_params': {'input_dict': {'model_input': {'X': ['X']},\n",
    "                                             'criterion_input': {'target': ['y']}},\n",
    "                              'features_dtype': 'float32',\n",
    "                              'targets_dtype': 'float32',\n",
    "                              'dataset': 'make_regression',\n",
    "                              'as_tensor': True,\n",
    "                              'transform': [],\n",
    "                              'sk_params': {'n_samples':20000,\n",
    "                                            'n_features': 256,\n",
    "                                            'n_informative': 200}}}\n",
    "             \n",
    "metrics_params = {'report_interval': 10,\n",
    "                  'log_plot': True}                         \n",
    "             \n",
    "opt_params = {'lr': 0.01}\n",
    "\n",
    "crit_params = {'reduction': 'sum'}\n",
    "\n",
    "sample_params = {'set_seed': 88,\n",
    "                 'splits': (.7,.15)}\n",
    "\n",
    "sched_params = {'factor': .5,\n",
    "                'patience': 2,\n",
    "                'cooldown': 2}\n",
    "\n",
    "l = Learn([SKDS], \n",
    "          FFNet,\n",
    "          Metrics=Metrics,\n",
    "          Sampler=Selector, \n",
    "          Optimizer=Adam, \n",
    "          Scheduler=ReduceLROnPlateau, \n",
    "          Criterion=MSELoss,\n",
    "          model_params=model_params, ds_params=ds_params, sample_params=sample_params,\n",
    "          opt_params=opt_params, sched_params=sched_params, crit_params=crit_params,\n",
    "          metrics_params=metrics_params, \n",
    "          batch_size=256, epochs=10, gpu=True)"
   ]
  },
  {
   "cell_type": "code",
   "execution_count": 8,
   "metadata": {
    "tags": []
   },
   "outputs": [
    {
     "name": "stdout",
     "output_type": "stream",
     "text": [
      "creating scikit learn make_classification dataset...\n",
      "CDataset created...\n",
      "FFNet model loaded...\n",
      "CModel loaded...\n",
      "running model on gpu...\n",
      "learning time: 0:00:04.762340\n",
      "epoch: 0, lr: 0.01\n",
      "train loss: 1.3574653988356118, val loss: 1.2681345460761306\n",
      "sklearn train metric: 0.5764565971255542, sklearn validation metric: 0.6622121421445267\n",
      "learning time: 0:00:18.681136\n",
      "epoch: 3, lr: 0.01\n",
      "train loss: 0.9295786030781574, val loss: 0.8882152489107898\n",
      "sklearn train metric: 0.8417563786938905, sklearn validation metric: 0.8572022054997149\n",
      "learning time: 0:00:32.458571\n",
      "epoch: 6, lr: 0.01\n",
      "train loss: 0.6061724433095463, val loss: 0.6137579223539076\n",
      "sklearn train metric: 0.9338878974522538, sklearn validation metric: 0.9326128440427645\n",
      "learning time: 0:00:46.078867\n",
      "epoch: 9, lr: 0.01\n",
      "train loss: 0.4614054461593156, val loss: 0.5064350779239948\n",
      "sklearn train metric: 0.9580229864800559, sklearn validation metric: 0.9510238982178397\n",
      "test loss: 0.5195235760293455\n",
      "learning time: 0:00:46.677528\n",
      "sklearn test metric: \n",
      "0.9485243063104791 \n",
      "\n"
     ]
    },
    {
     "data": {
      "image/png": "[encoded data removed]",
      "text/plain": [
       "<Figure size 432x288 with 1 Axes>"
      ]
     },
     "metadata": {
      "needs_background": "light"
     },
     "output_type": "display_data"
    }
   ],
   "source": [
    "## Example sklearn classification dataset and metrics wrapper with custom model\n",
    "model_params = {'D_in': 256, \n",
    "                'H': 128, \n",
    "                'D_out': 4, \n",
    "                'model_name': 'funnel'}\n",
    "\n",
    "ds_params = {'train_params': {'input_dict': {'model_input': {'X': ['X']},\n",
    "                                             'criterion_input': {'target': ['y']}},\n",
    "                              'features_dtype': 'float32',\n",
    "                              'targets_dtype': 'int64',\n",
    "                              'dataset': 'make_classification',\n",
    "                              'sk_params': {'n_samples': 100000,\n",
    "                                            'n_features': 300,\n",
    "                                            'n_informative': 200,\n",
    "                                            'n_clusters_per_class': 3,\n",
    "                                            'flip_y': 0.05,\n",
    "                                            'class_sep': 0.1,\n",
    "                                            'n_classes': 4}}}\n",
    "                                     \n",
    "metrics_params = {'report_interval': 10, \n",
    "                  'sk_metric_name': 'roc_auc_score',\n",
    "                  'sk_params': {'average': 'macro',\n",
    "                                'multi_class': 'ovr'}}\n",
    "\n",
    "opt_params = {'lr': 0.01}\n",
    "\n",
    "crit_params = {'reduction': 'sum'}\n",
    "\n",
    "sample_params = {'set_seed': 88,\n",
    "                 'splits': (.7,.15)}\n",
    "\n",
    "sched_params = {'factor': .5,\n",
    "                'patience': 5,\n",
    "                'cooldown': 5}\n",
    "\n",
    "l = Learn([SKDS], \n",
    "          FFNet, \n",
    "          Sampler=Selector,\n",
    "          Metrics=Metrics,\n",
    "          Optimizer=Adam, \n",
    "          Scheduler=ReduceLROnPlateau, \n",
    "          Criterion=CrossEntropyLoss,\n",
    "          model_params=model_params, ds_params=ds_params, \n",
    "          sample_params=sample_params, opt_params=opt_params, \n",
    "          sched_params=sched_params, crit_params=crit_params,\n",
    "          metrics_params=metrics_params,\n",
    "          adapt=(300,256,.2), batch_size=128, epochs=10, squeeze_y=True, save_model=True)"
   ]
  },
  {
   "cell_type": "code",
   "execution_count": 9,
   "metadata": {
    "tags": []
   },
   "outputs": [
    {
     "name": "stdout",
     "output_type": "stream",
     "text": [
      "creating scikit learn make_classification dataset...\n",
      "CDataset created...\n",
      "FFNet model loaded...\n",
      "CModel loaded...\n",
      "model loaded from pickle...\n",
      "running model on gpu...\n",
      "inference 2023-01-02 12:05:01.261422 complete and saved to csv...\n"
     ]
    }
   ],
   "source": [
    "## Example inference with a sklearn classification dataset and metrics wrapper with custom model\n",
    "model_params = {'D_in': 256, \n",
    "                'H': 128, \n",
    "                'D_out': 4, \n",
    "                'model_name': 'funnel'}\n",
    "\n",
    "ds_params = {'train_params': {'input_dict': {'model_input': {'X': ['X']},\n",
    "                                             'criterion_input': {'target': ['y']}},\n",
    "                              'features_dtype': 'float32',\n",
    "                              'targets_dtype': 'int64',\n",
    "                              'dataset': 'make_classification',\n",
    "                              'sk_params': {'n_samples': 10000,\n",
    "                                            'n_features': 300,\n",
    "                                            'n_informative': 200,\n",
    "                                            'n_clusters_per_class': 3,\n",
    "                                            'flip_y': 0.05,\n",
    "                                            'class_sep': 0.1,\n",
    "                                            'n_classes': 4}}}\n",
    "                                     \n",
    "metrics_params = {'report_interval': 10, \n",
    "                  'sk_metric_name': 'roc_auc_score',\n",
    "                  'sk_params': {'average': 'macro',\n",
    "                                'multi_class': 'ovr'}}\n",
    "\n",
    "opt_params = {'lr': 0.01}\n",
    "\n",
    "sample_params = {'set_seed': 88,\n",
    "                 'splits': (.7,.15)}\n",
    "\n",
    "sched_params = {'factor': .5,\n",
    "                'patience': 5,\n",
    "                'cooldown': 5}\n",
    "\n",
    "l = Learn([SKDS], \n",
    "          FFNet, \n",
    "          Sampler=Selector,\n",
    "          Metrics=Metrics,\n",
    "          Optimizer=Adam, \n",
    "          Scheduler=ReduceLROnPlateau, \n",
    "          Criterion=None,\n",
    "          model_params=model_params, ds_params=ds_params, \n",
    "          sample_params=sample_params, opt_params=opt_params, \n",
    "          sched_params=sched_params, crit_params=crit_params,\n",
    "          metrics_params=metrics_params,\n",
    "          batch_size=128, epochs=1, squeeze_y=True, load_model='20221025_1522.pth')"
   ]
  },
  {
   "cell_type": "code",
   "execution_count": 10,
   "metadata": {
    "tags": []
   },
   "outputs": [
    {
     "name": "stdout",
     "output_type": "stream",
     "text": [
      "creating torch vision CIFAR10 dataset...\n",
      "Files already downloaded and verified\n",
      "CDataset created...\n",
      "creating torch vision CIFAR10 dataset...\n",
      "Files already downloaded and verified\n",
      "CDataset created...\n",
      "torchvision model resnet18 loaded...\n",
      "running model on gpu...\n",
      "learning time: 0:00:04.779028\n",
      "epoch: 0, lr: 0.01\n",
      "train loss: 2.3454533081054687, val loss: 2.1249060053979196\n",
      "sklearn train metric: 0.6296907140623308, sklearn validation metric: 0.6891907263608299\n",
      "learning time: 0:00:18.735909\n",
      "epoch: 3, lr: 0.01\n",
      "train loss: 1.7497009563446044, val loss: 1.7615493785950445\n",
      "sklearn train metric: 0.8097269925758915, sklearn validation metric: 0.8177552188740647\n",
      "test loss: 1.7300860485076903\n",
      "learning time: 0:00:22.269043\n",
      "sklearn test metric: \n",
      "0.8233212999999999 \n",
      "\n"
     ]
    },
    {
     "data": {
      "image/png": "[encoded data removed]",
      "text/plain": [
       "<Figure size 432x288 with 1 Axes>"
      ]
     },
     "metadata": {
      "needs_background": "light"
     },
     "output_type": "display_data"
    }
   ],
   "source": [
    "## Example torchvision dataset, transforms and model wrapper\n",
    "model_params = {'model_name': 'resnet18',\n",
    "                'in_channels': 3,\n",
    "                'tv_params': {'num_classes': 10}}\n",
    "\n",
    "ds_params={'train_params': {'dataset': 'CIFAR10',\n",
    "                            'tv_params': {'root': './data/',\n",
    "                                          'train': True,\n",
    "                                          'download': True,\n",
    "                                          'transform': transforms.Compose([\n",
    "                                                           transforms.RandomRotation(10),\n",
    "                                                           transforms.Resize(64),\n",
    "                                                           transforms.ToTensor()]),\n",
    "                                          'target_transform': None,\n",
    "                                          'download': True}},\n",
    "           'test_params': {'dataset': 'CIFAR10',\n",
    "                           'tv_params': {'root': './data/',\n",
    "                                         'train': False,\n",
    "                                         'download': True,\n",
    "                                         'transform': transforms.Compose([\n",
    "                                                         transforms.Resize(64),\n",
    "                                                         transforms.ToTensor()]),\n",
    "                                         'target_transform': None,\n",
    "                                         'download': True}}}\n",
    "\n",
    "metrics_params = {'report_interval': 10, \n",
    "                  'sk_metric_name': 'roc_auc_score', \n",
    "                  'sk_params': {'average': 'macro',\n",
    "                                'multi_class': 'ovr'}}\n",
    "\n",
    "opt_params = {'lr': 0.01}\n",
    "\n",
    "crit_params = {'reduction': 'sum'}\n",
    "\n",
    "sample_params = {'set_seed': 88,\n",
    "                 'splits': (.8,),\n",
    "                 'subset': .1}\n",
    "\n",
    "sched_params = {'factor': .5,\n",
    "                'patience': 1,\n",
    "                'cooldown': 1}\n",
    "\n",
    "l = Learn([TVDS,TVDS], \n",
    "          tv_model, \n",
    "          Selector, \n",
    "          Optimizer=Adam, Scheduler=ReduceLROnPlateau, Criterion=CrossEntropyLoss, \n",
    "          model_params=model_params, ds_params=ds_params, sample_params=sample_params, \n",
    "          opt_params=opt_params, sched_params=sched_params, crit_params=crit_params,\n",
    "          metrics_params=metrics_params, \n",
    "          batch_size=16, epochs=4)"
   ]
  },
  {
   "cell_type": "code",
   "execution_count": 11,
   "metadata": {
    "tags": []
   },
   "outputs": [
    {
     "name": "stdout",
     "output_type": "stream",
     "text": [
      "creating torch vision CIFAR10 dataset...\n",
      "CDataset created...\n",
      "creating torch vision CIFAR10 dataset...\n",
      "CDataset created...\n",
      "torchvision model resnext50_32x4d loaded...\n",
      "running model on gpu...\n",
      "learning time: 0:01:00.830652\n",
      "epoch: 0, lr: 0.01\n",
      "train loss: 2.5340976309776306, val loss: 2.0542794946701295\n",
      "sklearn train metric: 0.609855251883072, sklearn validation metric: 0.7176990033168222\n",
      "learning time: 0:02:01.500102\n",
      "epoch: 1, lr: 0.01\n",
      "train loss: 2.0166653261184693, val loss: 2.009525820132225\n",
      "sklearn train metric: 0.7219330721216022, sklearn validation metric: 0.7463199474301756\n",
      "learning time: 0:03:02.716990\n",
      "epoch: 2, lr: 0.01\n",
      "train loss: 1.94260737657547, val loss: 1.8658255838578748\n",
      "sklearn train metric: 0.7467620047087443, sklearn validation metric: 0.7788859549263771\n",
      "learning time: 0:04:05.096256\n",
      "epoch: 3, lr: 0.01\n",
      "train loss: 1.8589821915626525, val loss: 1.8549565211419137\n",
      "sklearn train metric: 0.7711935364706711, sklearn validation metric: 0.7867825592865566\n",
      "test loss: 1.8499524459838868\n",
      "learning time: 0:04:48.830826\n",
      "sklearn test metric: \n",
      "0.7900055888888888 \n",
      "\n"
     ]
    },
    {
     "data": {
      "image/png": "[encoded data removed]",
      "text/plain": [
       "<Figure size 432x288 with 1 Axes>"
      ]
     },
     "metadata": {
      "needs_background": "light"
     },
     "output_type": "display_data"
    }
   ],
   "source": [
    "## Example torchvision dataset and model wrapper\n",
    "model_params = {'model_name': 'resnext50_32x4d',\n",
    "                'in_channels': 3,\n",
    "                'tv_params': {'num_classes': 10}}\n",
    "\n",
    "ds_params={'train_params': {'dataset': 'CIFAR10',\n",
    "                            'tv_params': {'root': './data/',\n",
    "                                          'train': True,\n",
    "                                          'transform': transforms.Compose([\n",
    "                                                       transforms.RandomRotation(10),\n",
    "                                                       transforms.Resize(256),\n",
    "                                                       transforms.ToTensor()]),\n",
    "                                          'target_transform': None}},\n",
    "           'test_params': {'dataset': 'CIFAR10',\n",
    "                           'tv_params': {'root': './data/',\n",
    "                                         'train': False,\n",
    "                                         'transform': transforms.Compose([\n",
    "                                                      transforms.Resize(256),\n",
    "                                                      transforms.ToTensor()]),\n",
    "                                         'target_transform': None}}}\n",
    "\n",
    "metrics_params = {'report_interval': 10, \n",
    "                  'sk_metric_name': 'roc_auc_score', \n",
    "                  'sk_params': {'average': 'macro',\n",
    "                                'multi_class': 'ovr'}}\n",
    "\n",
    "opt_params = {'lr': 0.01}\n",
    "\n",
    "crit_params = {'reduction': 'sum'}\n",
    "\n",
    "sample_params = {'set_seed': 88,\n",
    "                 'splits': (.8,),\n",
    "                 'subset': .1}\n",
    "\n",
    "sched_params = {'factor': .5,\n",
    "                'patience': 2,\n",
    "                'cooldown': 2}\n",
    "\n",
    "l = Learn([TVDS,TVDS], \n",
    "          tv_model, \n",
    "          Selector, \n",
    "          Optimizer=Adam, \n",
    "          Scheduler=ReduceLROnPlateau, \n",
    "          Criterion=CrossEntropyLoss, \n",
    "          model_params=model_params, ds_params=ds_params, \n",
    "          sample_params=sample_params, opt_params=opt_params, \n",
    "          sched_params=sched_params, crit_params=crit_params,\n",
    "          metrics_params=metrics_params,\n",
    "          batch_size=16, epochs=4)"
   ]
  },
  {
   "cell_type": "code",
   "execution_count": null,
   "metadata": {},
   "outputs": [],
   "source": []
  }
 ],
 "metadata": {
  "kernelspec": {
   "display_name": "Python 3",
   "language": "python",
   "name": "python3"
  },
  "language_info": {
   "codemirror_mode": {
    "name": "ipython",
    "version": 3
   },
   "file_extension": ".py",
   "mimetype": "text/x-python",
   "name": "python",
   "nbconvert_exporter": "python",
   "pygments_lexer": "ipython3",
   "version": "3.8.12"
  }
 },
 "nbformat": 4,
 "nbformat_minor": 4
}
